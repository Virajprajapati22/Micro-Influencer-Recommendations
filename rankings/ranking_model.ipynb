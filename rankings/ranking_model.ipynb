{
 "cells": [
  {
   "cell_type": "code",
   "execution_count": null,
   "metadata": {},
   "outputs": [],
   "source": [
    "import tensorflow as tf\n",
    "import keras\n",
    "from keras import Sequential\n",
    "from keras.layers import Dense\n",
    "from embeddings.extracted_features_files import accounts_representations, extract_visual_features, extract_textual_features\n",
    "from keras.initializers import RandomUniform\n",
    "import calculate_competence_score\n",
    "import numpy as np\n",
    "import os\n",
    "import pandas as pd\n",
    "import cv2"
   ]
  },
  {
   "cell_type": "code",
   "execution_count": null,
   "metadata": {},
   "outputs": [],
   "source": [
    "def calculate_accounts_data(textual_data_path, visual_data_path, account_list_path):\n",
    "    account_data = pd.read_csv(account_list_path)\n",
    "    account_list = account_data['influencers']\n",
    "    account_concept = {}\n",
    "    account_engagement = {}\n",
    "    \n",
    "    # Calculating engagement of accounts\n",
    "    for idx, account in account_data.iterrows():\n",
    "        account_engagement[account['influencer']] = calculate_competence_score.calculate_engagement_score(account['likes'], account['comments'], account['followers'])\n",
    "    \n",
    "    # Deriving concepts of the account\n",
    "    for account in account_list:\n",
    "        with open(textual_data_path + '/' + account, 'r') as text:\n",
    "            text_embeddings = extract_textual_features.extract_textual_features(text)\n",
    "        img = cv2.imread(visual_data_path + '/' + account,mode='RGB')\n",
    "        image_embeddings = extract_visual_features.extract_and_flatten_features(img)\n",
    "        account_concept[account] = accounts_representations.multimodal_social_account_embedding(text_embeddings, image_embeddings)\n",
    "    \n",
    "    \n",
    "    return pd.DataFrame(account_concept, account_engagement)"
   ]
  },
  {
   "cell_type": "code",
   "execution_count": null,
   "metadata": {},
   "outputs": [],
   "source": [
    "# Calculating engagement and concept of brands\n",
    "brands_list_file = 'BRANDS_DATA_CSV'\n",
    "brands_text_path = 'BRANDS_TEXT_DATA'\n",
    "brands_image_path = 'BRANDS_IMAGE_DATA'\n",
    "\n",
    "brands_data = calculate_accounts_data(brands_text_path, brands_image_path, brands_list_file)"
   ]
  },
  {
   "cell_type": "code",
   "execution_count": null,
   "metadata": {},
   "outputs": [],
   "source": [
    "# Calculating engagement and concept of influencers\n",
    "inf_list_file = 'INF_DATA_CSV'\n",
    "inf_text_path = 'INF_TEXT_DATA'\n",
    "inf_image_path = 'INF_IMAGE_DATA'\n",
    "\n",
    "inf_data = calculate_accounts_data(inf_text_path, inf_image_path, inf_list_file)"
   ]
  },
  {
   "cell_type": "code",
   "execution_count": null,
   "metadata": {},
   "outputs": [],
   "source": [
    "# Calculating similarity between brands and influencers\n",
    "inf_brand_similarity = {}\n",
    "for _, inf in inf_data.iterrows():\n",
    "    for __, brand in brands_data.iterrows():\n",
    "        inf_brand_similarity[inf['influencer']] = np.dot(inf[0:], brand[0:])"
   ]
  },
  {
   "cell_type": "code",
   "execution_count": null,
   "metadata": {},
   "outputs": [],
   "source": [
    "# Influencer with most similar brands\n",
    "k = 3\n",
    "\n",
    "sorted_inf_brands = sorted(inf_brand_similarity.items(), key=lambda x: x[1], reverse=True)\n",
    "k_highest_brands = [item[0] for item in inf_brand_similarity[:k]]\n",
    "k_highest_brands"
   ]
  },
  {
   "cell_type": "code",
   "execution_count": null,
   "metadata": {},
   "outputs": [],
   "source": [
    "# Calculating competence score\n",
    "inf_competence_score = {}\n",
    "for _, row in inf_brand_similarity:\n",
    "    inf_competence_score[row['influencer']] = calculate_competence_score(\n",
    "        row['engagement_score'],\n",
    "        row['similarity_score']\n",
    "    )"
   ]
  },
  {
   "cell_type": "code",
   "execution_count": null,
   "metadata": {},
   "outputs": [],
   "source": [
    "def create_listnet_model(input_shape, num_nodes):\n",
    "    \"\"\"\n",
    "    Create a ListNet neural network model using keras.\n",
    "\n",
    "    Parameters:\n",
    "        input_shape: Tuple. Shape of the input features.\n",
    "        num_nodes: Int. Number of nodes in the hidden layers.\n",
    "\n",
    "    Returns:\n",
    "        model: ListNet neural network model.\n",
    "    \"\"\"\n",
    "\n",
    "    model = Sequential([\n",
    "        Dense(num_nodes, activation=\"leaky_relu\", input_shape=input_shape, kernel_initializer=RandomUniform(minval=-0.1, maxval=0.1)),\n",
    "        Dense(num_nodes, activation=\"leaky_relu\", kernel_initializer=RandomUniform(minval=-0.1, maxval=0.1)),\n",
    "        Dense(num_nodes, activation=\"leaky_relu\", kernel_initializer=RandomUniform(minval=-0.1, maxval=0.1)),\n",
    "        Dense(1, activation=\"softmax\", kernel_initializer=RandomUniform(minval=-0.1, maxval=0.1)) # output layer\n",
    "    ])\n",
    "\n",
    "    return model"
   ]
  },
  {
   "cell_type": "code",
   "execution_count": null,
   "metadata": {},
   "outputs": [],
   "source": [
    "# Ranking influencers\n",
    "inf_rank = {}\n",
    "model = create_listnet_model(inf_brand_similarity.shape[-1], 10)\n",
    "for _, row in inf_brand_similarity.iterrows():\n",
    "    inf_rank[row['influencer']] = model.fit(row)\n",
    "inf_rank"
   ]
  }
 ],
 "metadata": {
  "kernelspec": {
   "display_name": "Python 3",
   "language": "python",
   "name": "python3"
  },
  "language_info": {
   "codemirror_mode": {
    "name": "ipython",
    "version": 3
   },
   "file_extension": ".py",
   "mimetype": "text/x-python",
   "name": "python",
   "nbconvert_exporter": "python",
   "pygments_lexer": "ipython3",
   "version": "3.11.5"
  }
 },
 "nbformat": 4,
 "nbformat_minor": 2
}
