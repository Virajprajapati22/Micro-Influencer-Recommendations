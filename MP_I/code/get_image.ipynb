{
 "cells": [
  {
   "cell_type": "code",
   "execution_count": 1,
   "metadata": {},
   "outputs": [],
   "source": [
    "import pandas as pd\n",
    "import json\n",
    "import requests"
   ]
  },
  {
   "cell_type": "code",
   "execution_count": 2,
   "metadata": {},
   "outputs": [],
   "source": [
    "influencer_list = None\n",
    "\n",
    "with open('/Users/viru/Documents/MP_I/data/category-brand-influencer-list.json', '+r') as json_file:\n",
    "    influencer_list = json.load(json_file)"
   ]
  },
  {
   "cell_type": "code",
   "execution_count": 3,
   "metadata": {},
   "outputs": [],
   "source": [
    "image_folders_path = '/Users/viru/Documents/MP_I/data/image_url_folders'"
   ]
  },
  {
   "cell_type": "code",
   "execution_count": 5,
   "metadata": {},
   "outputs": [],
   "source": [
    "from selenium import webdriver\n",
    "from selenium.webdriver.chrome.options import Options\n",
    "from selenium.webdriver.common.by import By\n",
    "import requests\n",
    "import os\n",
    "import time\n",
    "\n",
    "def scrape_images_from_instagram(urls, img_to_save):\n",
    "\n",
    "    user_agent=\"Mozilla/5.0 (Macintosh; Intel Mac OS X 10_15_7) AppleWebKit/537.36 (KHTML, like Gecko) Chrome/120.0.0.0 Safari/537.36\"\n",
    "\n",
    "    options = Options()\n",
    "    # options.add_experimental_option(\"detach\", True)\n",
    "    options.headless = True\n",
    "    options.add_argument(f'user-agent={user_agent}')\n",
    "    options.add_argument(\"--window-size=1920,1080\")\n",
    "    options.add_argument('--ignore-certificate-errors')\n",
    "    options.add_argument('--allow-running-insecure-content')\n",
    "    options.add_argument(\"--disable-extensions\")\n",
    "    options.add_argument(\"--proxy-server='direct://'\")\n",
    "    options.add_argument(\"--proxy-bypass-list=*\")\n",
    "    options.add_argument(\"--start-maximized\")\n",
    "    options.add_argument('--disable-gpu')\n",
    "    options.add_argument('--disable-dev-shm-usage')\n",
    "    options.add_argument('--no-sandbox')\n",
    "    options.add_argument(\"--headless\")\n",
    "\n",
    "    driver = webdriver.Chrome(options=options)\n",
    "\n",
    "    for url in urls:\n",
    "        # Navigate to the webpage containing the image\n",
    "        driver.get(url)\n",
    "\n",
    "        time.sleep(5)\n",
    "        try:\n",
    "            # Locate the HTML element that corresponds to the image you want to download\n",
    "            div_element = driver.find_element(By.CLASS_NAME, '_aagv')\n",
    "            image_element = div_element.find_element(By.TAG_NAME, 'img')\n",
    "\n",
    "            image_url = image_element.get_attribute(\"src\")\n",
    "\n",
    "            # Use requests to download the image\n",
    "            response = requests.get(image_url)\n",
    "            if response.status_code == 200:\n",
    "                # Construct the full file path\n",
    "                filename = os.path.join(img_to_save, f\"image_{urls.index(url)}.jpg\")  # Use a unique filename\n",
    "                with open(filename, \"wb\") as f:\n",
    "                    f.write(response.content)\n",
    "                print(f\"Image downloaded successfully and saved as {filename}\")\n",
    "            else:\n",
    "                print(\"Failed to download image\")\n",
    "        except Exception as e:\n",
    "            print(f\"Skipping image: {urls.index(url)}\")\n",
    "    driver.quit()"
   ]
  },
  {
   "cell_type": "code",
   "execution_count": 9,
   "metadata": {},
   "outputs": [],
   "source": [
    "import instaloader\n",
    "from instaloader import Profile\n",
    "import os\n",
    "\n",
    "def scrape_instagram_post(username, path_to_save):\n",
    "    # Create an instance of Instaloader\n",
    "    L = instaloader.Instaloader(download_videos=False, download_video_thumbnails=False)\n",
    "\n",
    "    L.login('_viraj12_', 'Abc@9510470074')\n",
    "\n",
    "    # Load the profile\n",
    "    profile = Profile.from_username(L.context, username)\n",
    "\n",
    "    # Counter for the number of posts downloaded\n",
    "    count = 0\n",
    "    max_posts = 70\n",
    "\n",
    "    # Iterate through posts in the profile\n",
    "    for post in profile.get_posts():\n",
    "        if count >= max_posts:\n",
    "            break\n",
    "        if post.is_video:\n",
    "            continue\n",
    "        try:\n",
    "            L.download_post(post, target=username)\n",
    "            count += 1\n",
    "        except Exception as e:\n",
    "            print(f\"Error in downloading post: {e}\")\n",
    "\n",
    "    print(f\"Downloaded {count} images from {username}'s profile.\")\n"
   ]
  },
  {
   "cell_type": "code",
   "execution_count": 11,
   "metadata": {},
   "outputs": [
    {
     "name": "stdout",
     "output_type": "stream",
     "text": [
      "Category: automobile\n",
      "Brand: skodaindia\n",
      "Influencer: madhura__balaji.xlsx\n",
      "madhura__balaji/2024-04-06_05-07-38_UTC.jpg [Uir - Long Lost Love 🎵❤️  Lis…] json \n",
      "madhura__balaji/2024-03-18_06-03-40_UTC.jpg [Art is how we decorate space!…] json \n",
      "madhura__balaji/2024-02-18_18-24-10_UTC_1.jpg madhura__balaji/2024-02-18_18-24-10_UTC_2.jpg madhura__balaji/2024-02-18_18-24-10_UTC_3.jpg madhura__balaji/2024-02-18_18-24-10_UTC_4.jpg madhura__balaji/2024-02-18_18-24-10_UTC_5.jpg madhura__balaji/2024-02-18_18-24-10_UTC_6.jpg madhura__balaji/2024-02-18_18-24-10_UTC_7.jpg madhura__balaji/2024-02-18_18-24-10_UTC_8.jpg madhura__balaji/2024-02-18_18-24-10_UTC_9.jpg madhura__balaji/2024-02-18_18-24-10_UTC_10.jpg [🧡🩷💚] json \n",
      "madhura__balaji/2023-12-15_14-47-11_UTC_1.jpg madhura__balaji/2023-12-15_14-47-11_UTC_2.jpg madhura__balaji/2023-12-15_14-47-11_UTC_3.jpg madhura__balaji/2023-12-15_14-47-11_UTC_4.jpg madhura__balaji/2023-12-15_14-47-11_UTC_5.jpg madhura__balaji/2023-12-15_14-47-11_UTC_6.jpg madhura__balaji/2023-12-15_14-47-11_UTC_7.jpg madhura__balaji/2023-12-15_14-47-11_UTC_8.jpg madhura__balaji/2023-12-15_14-47-11_UTC_9.jpg madhura__balaji/2023-12-15_14-47-11_UTC_10.jpg [Took some great pictures by t…] json \n",
      "madhura__balaji/2023-01-10_12-31-43_UTC_1.jpg madhura__balaji/2023-01-10_12-31-43_UTC_2.jpg madhura__balaji/2023-01-10_12-31-43_UTC_3.jpg [@madhura__balaji will be at t…] json \n",
      "madhura__balaji/2022-08-25_16-13-35_UTC_1.jpg madhura__balaji/2022-08-25_16-13-35_UTC_2.jpg madhura__balaji/2022-08-25_16-13-35_UTC_3.jpg madhura__balaji/2022-08-25_16-13-35_UTC_4.jpg madhura__balaji/2022-08-25_16-13-35_UTC_5.jpg madhura__balaji/2022-08-25_16-13-35_UTC_6.jpg madhura__balaji/2022-08-25_16-13-35_UTC_7.jpg madhura__balaji/2022-08-25_16-13-35_UTC_8.jpg [Some pictures from my perform…] json \n",
      "madhura__balaji/2022-05-14_02-41-00_UTC.jpg [Thank you 💚🤍] json \n",
      "Downloaded 7 images from madhura__balaji's profile.\n",
      "Influencer: globalncap.xlsx\n",
      "globalncap/2024-04-23_16-30-15_UTC.jpg [“We know that NCAPs empower c…] json \n",
      "globalncap/2024-04-23_13-09-50_UTC.jpg [David Ward, President of the …] json \n",
      "globalncap/2024-04-23_10-31-40_UTC.jpg [“G20 countries account for 56…] json \n",
      "globalncap/2024-04-23_10-05-19_UTC.jpg [“Mobileye’s vision is to save…] json \n",
      "globalncap/2024-04-23_09-19-47_UTC.jpg [“I stand before a room filled…] json \n",
      "globalncap/2024-04-23_09-04-57_UTC.jpg [“Over the next days, particip…] json \n",
      "globalncap/2024-04-23_08-42-18_UTC.jpg [“Global challenges can only b…] json \n",
      "globalncap/2024-04-23_06-13-21_UTC_1.jpg globalncap/2024-04-23_06-13-21_UTC_2.jpg globalncap/2024-04-23_06-13-21_UTC_3.jpg globalncap/2024-04-23_06-13-21_UTC_4.jpg [On the opening of #NCAP24, Gl…] json \n",
      "globalncap/2024-04-09_12-31-59_UTC.jpg [Delighted to welcome @sidpata…] json \n",
      "globalncap/2024-04-04_12-12-51_UTC_1.jpg globalncap/2024-04-04_12-12-51_UTC_2.jpg globalncap/2024-04-04_12-12-51_UTC_3.jpg [Later this month #NCAP24 will…] json \n",
      "globalncap/2024-03-27_12-15-03_UTC.jpg [We are delighted to welcome @…] json \n",
      "globalncap/2024-03-21_09-10-38_UTC.jpg [@stellantis_official zeroes o…] json \n",
      "globalncap/2024-03-20_14-13-49_UTC_1.jpg globalncap/2024-03-20_14-13-49_UTC_2.jpg globalncap/2024-03-20_14-13-49_UTC_3.jpg globalncap/2024-03-20_14-13-49_UTC_4.jpg globalncap/2024-03-20_14-13-49_UTC_5.jpg globalncap/2024-03-20_14-13-49_UTC_6.jpg [Next month, #NCAP24 will brin…] json \n",
      "globalncap/2024-03-08_14-05-16_UTC_1.jpg globalncap/2024-03-08_14-05-16_UTC_2.jpg globalncap/2024-03-08_14-05-16_UTC_3.jpg globalncap/2024-03-08_14-05-16_UTC_4.jpg globalncap/2024-03-08_14-05-16_UTC_5.jpg globalncap/2024-03-08_14-05-16_UTC_6.jpg [On #InternationalWomensDay we…] json \n",
      "globalncap/2024-02-14_09-08-54_UTC.jpg [@tatamotorscars does it again…] json \n",
      "globalncap/2024-02-13_12-34-01_UTC.jpg [#NCAP24 is an opportunity to …] json \n",
      "globalncap/2024-02-05_13-04-38_UTC.jpg [#NCAP24 brings together the N…] json \n",
      "globalncap/2024-01-26_13-42-11_UTC.jpg [Register for #NCAP24: Global …] json \n",
      "globalncap/2024-01-23_12-13-52_UTC.jpg [Strong partnership is fundame…] json \n",
      "globalncap/2023-10-17_09-34-39_UTC_1.jpg globalncap/2023-10-17_09-34-39_UTC_2.jpg [The @tatamotorscars Safari an…] json \n"
     ]
    },
    {
     "name": "stderr",
     "output_type": "stream",
     "text": [
      "JSON Query to api/v1/media/3205263530034446539/info/: HTTP error code 403. [retrying; skip with ^C]\n",
      "JSON Query to api/v1/media/3205263530034446539/info/: HTTP error code 403. [retrying; skip with ^C]\n",
      "Unable to fetch high quality image version of <Post Cx7YjLHN8DL>: JSON Query to api/v1/media/3205263530034446539/info/: HTTP error code 403.\n"
     ]
    },
    {
     "name": "stdout",
     "output_type": "stream",
     "text": [
      "globalncap/2023-10-03_07-13-29_UTC.jpg [@hyundaiindia Verna joins Ind…] json \n"
     ]
    },
    {
     "name": "stderr",
     "output_type": "stream",
     "text": [
      "JSON Query to api/v1/media/3073508505696905946/info/: HTTP error code 403. [retrying; skip with ^C]\n",
      "JSON Query to api/v1/media/3073508505696905946/info/: HTTP error code 403. [retrying; skip with ^C]\n",
      "Unable to fetch high quality image version of <Post CqnS7OoNKra>: JSON Query to api/v1/media/3073508505696905946/info/: HTTP error code 403.\n"
     ]
    },
    {
     "name": "stdout",
     "output_type": "stream",
     "text": [
      "globalncap/2023-04-04_12-19-47_UTC_1.jpg "
     ]
    },
    {
     "name": "stderr",
     "output_type": "stream",
     "text": [
      "JSON Query to api/v1/media/3073508505696905946/info/: HTTP error code 403. [retrying; skip with ^C]\n",
      "JSON Query to api/v1/media/3073508505696905946/info/: HTTP error code 403. [retrying; skip with ^C]\n",
      "Unable to fetch high quality image version of <Post CqnS7OoNKra>: JSON Query to api/v1/media/3073508505696905946/info/: HTTP error code 403.\n"
     ]
    },
    {
     "name": "stdout",
     "output_type": "stream",
     "text": [
      "globalncap/2023-04-04_12-19-47_UTC_2.jpg "
     ]
    },
    {
     "name": "stderr",
     "output_type": "stream",
     "text": [
      "JSON Query to api/v1/media/3073508505696905946/info/: HTTP error code 403. [retrying; skip with ^C]\n",
      "JSON Query to api/v1/media/3073508505696905946/info/: HTTP error code 403. [retrying; skip with ^C]\n",
      "Unable to fetch high quality image version of <Post CqnS7OoNKra>: JSON Query to api/v1/media/3073508505696905946/info/: HTTP error code 403.\n"
     ]
    },
    {
     "name": "stdout",
     "output_type": "stream",
     "text": [
      "globalncap/2023-04-04_12-19-47_UTC_3.jpg "
     ]
    },
    {
     "name": "stderr",
     "output_type": "stream",
     "text": [
      "JSON Query to api/v1/media/3073508505696905946/info/: HTTP error code 403. [retrying; skip with ^C]\n",
      "JSON Query to api/v1/media/3073508505696905946/info/: HTTP error code 403. [retrying; skip with ^C]\n"
     ]
    },
    {
     "name": "stdout",
     "output_type": "stream",
     "text": [
      "globalncap/2023-04-04_12-19-47_UTC_4.jpg "
     ]
    },
    {
     "name": "stderr",
     "output_type": "stream",
     "text": [
      "Unable to fetch high quality image version of <Post CqnS7OoNKra>: JSON Query to api/v1/media/3073508505696905946/info/: HTTP error code 403.\n"
     ]
    },
    {
     "name": "stdout",
     "output_type": "stream",
     "text": [
      "[Alejandro Furas, Secretary Ge…] json \n"
     ]
    },
    {
     "name": "stderr",
     "output_type": "stream",
     "text": [
      "JSON Query to api/v1/media/2991634427235685520/info/: HTTP error code 403. [retrying; skip with ^C]\n",
      "JSON Query to api/v1/media/2991634427235685520/info/: HTTP error code 403. [retrying; skip with ^C]\n",
      "Unable to fetch high quality image version of <Post CmEa6lFNlSQ>: JSON Query to api/v1/media/2991634427235685520/info/: HTTP error code 403.\n"
     ]
    },
    {
     "name": "stdout",
     "output_type": "stream",
     "text": [
      "globalncap/2022-12-12_13-10-36_UTC_1.jpg "
     ]
    },
    {
     "name": "stderr",
     "output_type": "stream",
     "text": [
      "JSON Query to api/v1/media/2991634427235685520/info/: HTTP error code 403. [retrying; skip with ^C]\n",
      "JSON Query to api/v1/media/2991634427235685520/info/: HTTP error code 403. [retrying; skip with ^C]\n",
      "Unable to fetch high quality image version of <Post CmEa6lFNlSQ>: JSON Query to api/v1/media/2991634427235685520/info/: HTTP error code 403.\n"
     ]
    },
    {
     "name": "stdout",
     "output_type": "stream",
     "text": [
      "globalncap/2022-12-12_13-10-36_UTC_2.jpg "
     ]
    },
    {
     "name": "stderr",
     "output_type": "stream",
     "text": [
      "JSON Query to api/v1/media/2991634427235685520/info/: HTTP error code 403. [retrying; skip with ^C]\n",
      "JSON Query to api/v1/media/2991634427235685520/info/: HTTP error code 403. [retrying; skip with ^C]\n",
      "Unable to fetch high quality image version of <Post CmEa6lFNlSQ>: JSON Query to api/v1/media/2991634427235685520/info/: HTTP error code 403.\n"
     ]
    },
    {
     "name": "stdout",
     "output_type": "stream",
     "text": [
      "globalncap/2022-12-12_13-10-36_UTC_3.jpg "
     ]
    },
    {
     "name": "stderr",
     "output_type": "stream",
     "text": [
      "JSON Query to api/v1/media/2991634427235685520/info/: HTTP error code 403. [retrying; skip with ^C]\n",
      "JSON Query to api/v1/media/2991634427235685520/info/: HTTP error code 403. [retrying; skip with ^C]\n",
      "Unable to fetch high quality image version of <Post CmEa6lFNlSQ>: JSON Query to api/v1/media/2991634427235685520/info/: HTTP error code 403.\n"
     ]
    },
    {
     "name": "stdout",
     "output_type": "stream",
     "text": [
      "globalncap/2022-12-12_13-10-36_UTC_4.jpg [Mahindra scores a welcome fiv…] json \n"
     ]
    },
    {
     "name": "stderr",
     "output_type": "stream",
     "text": [
      "JSON Query to api/v1/media/2948798607541944539/info/: HTTP error code 403. [retrying; skip with ^C]\n",
      "JSON Query to api/v1/media/2948798607541944539/info/: HTTP error code 403. [retrying; skip with ^C]\n"
     ]
    },
    {
     "name": "stdout",
     "output_type": "stream",
     "text": [
      "globalncap/2022-10-14_10-43-28_UTC_1.jpg "
     ]
    },
    {
     "name": "stderr",
     "output_type": "stream",
     "text": [
      "Unable to fetch high quality image version of <Post CjsPLXMtEDb>: JSON Query to api/v1/media/2948798607541944539/info/: HTTP error code 403.\n",
      "JSON Query to api/v1/media/2948798607541944539/info/: HTTP error code 403. [retrying; skip with ^C]\n",
      "JSON Query to api/v1/media/2948798607541944539/info/: HTTP error code 403. [retrying; skip with ^C]\n",
      "Unable to fetch high quality image version of <Post CjsPLXMtEDb>: JSON Query to api/v1/media/2948798607541944539/info/: HTTP error code 403.\n"
     ]
    },
    {
     "name": "stdout",
     "output_type": "stream",
     "text": [
      "globalncap/2022-10-14_10-43-28_UTC_2.jpg [Alejandro Furas, Secretary Ge…] json \n",
      "[On the eve of the #UNGA high …] json \n"
     ]
    },
    {
     "name": "stderr",
     "output_type": "stream",
     "text": [
      "JSON Query to api/v1/media/2814740099759366066/info/: HTTP error code 403. [retrying; skip with ^C]\n",
      "JSON Query to api/v1/media/2814740099759366066/info/: HTTP error code 403. [retrying; skip with ^C]\n"
     ]
    },
    {
     "name": "stdout",
     "output_type": "stream",
     "text": [
      "globalncap/2022-04-12_11-33-09_UTC_1.jpg "
     ]
    },
    {
     "name": "stderr",
     "output_type": "stream",
     "text": [
      "Unable to fetch high quality image version of <Post CcP9zUlNF-y>: JSON Query to api/v1/media/2814740099759366066/info/: HTTP error code 403.\n",
      "JSON Query to api/v1/media/2814740099759366066/info/: HTTP error code 403. [retrying; skip with ^C]\n",
      "JSON Query to api/v1/media/2814740099759366066/info/: HTTP error code 403. [retrying; skip with ^C]\n",
      "Unable to fetch high quality image version of <Post CcP9zUlNF-y>: JSON Query to api/v1/media/2814740099759366066/info/: HTTP error code 403.\n"
     ]
    },
    {
     "name": "stdout",
     "output_type": "stream",
     "text": [
      "globalncap/2022-04-12_11-33-09_UTC_2.jpg "
     ]
    },
    {
     "name": "stderr",
     "output_type": "stream",
     "text": [
      "JSON Query to api/v1/media/2814740099759366066/info/: HTTP error code 403. [retrying; skip with ^C]\n",
      "JSON Query to api/v1/media/2814740099759366066/info/: HTTP error code 403. [retrying; skip with ^C]\n",
      "Unable to fetch high quality image version of <Post CcP9zUlNF-y>: JSON Query to api/v1/media/2814740099759366066/info/: HTTP error code 403.\n"
     ]
    },
    {
     "name": "stdout",
     "output_type": "stream",
     "text": [
      "globalncap/2022-04-12_11-33-09_UTC_3.jpg [Global NCAP launches the seco…] json \n"
     ]
    },
    {
     "name": "stderr",
     "output_type": "stream",
     "text": [
      "JSON Query to api/v1/media/2774156125493300181/info/: HTTP error code 403. [retrying; skip with ^C]\n",
      "JSON Query to api/v1/media/2774156125493300181/info/: HTTP error code 403. [retrying; skip with ^C]\n",
      "Unable to fetch high quality image version of <Post CZ_yExLgIvV>: JSON Query to api/v1/media/2774156125493300181/info/: HTTP error code 403.\n"
     ]
    },
    {
     "name": "stdout",
     "output_type": "stream",
     "text": [
      "globalncap/2022-02-15_11-40-02_UTC_2.jpg [The Honda City (4th Gen) achi…] json \n"
     ]
    },
    {
     "name": "stderr",
     "output_type": "stream",
     "text": [
      "JSON Query to api/v1/media/2774140347771634869/info/: HTTP error code 403. [retrying; skip with ^C]\n",
      "JSON Query to api/v1/media/2774140347771634869/info/: HTTP error code 403. [retrying; skip with ^C]\n",
      "Unable to fetch high quality image version of <Post CZ_ufLCAcS1>: JSON Query to api/v1/media/2774140347771634869/info/: HTTP error code 403.\n"
     ]
    },
    {
     "name": "stdout",
     "output_type": "stream",
     "text": [
      "globalncap/2022-02-15_11-08-41_UTC_2.jpg [The Honda Jazz achieved four …] json \n"
     ]
    },
    {
     "name": "stderr",
     "output_type": "stream",
     "text": [
      "JSON Query to api/v1/media/2774103699679711771/info/: HTTP error code 403. [retrying; skip with ^C]\n",
      "JSON Query to api/v1/media/2774103699679711771/info/: HTTP error code 403. [retrying; skip with ^C]\n",
      "Unable to fetch high quality image version of <Post CZ_mJ31gZIb>: JSON Query to api/v1/media/2774103699679711771/info/: HTTP error code 403.\n"
     ]
    },
    {
     "name": "stdout",
     "output_type": "stream",
     "text": [
      "globalncap/2022-02-15_09-55-52_UTC_2.jpg [The Renault Kiger, which shar…] json \n"
     ]
    },
    {
     "name": "stderr",
     "output_type": "stream",
     "text": [
      "JSON Query to api/v1/media/2774084195570664561/info/: HTTP error code 403. [retrying; skip with ^C]\n",
      "JSON Query to api/v1/media/2774084195570664561/info/: HTTP error code 403. [retrying; skip with ^C]\n",
      "Unable to fetch high quality image version of <Post CZ_huDOA8Rx>: JSON Query to api/v1/media/2774084195570664561/info/: HTTP error code 403.\n"
     ]
    },
    {
     "name": "stdout",
     "output_type": "stream",
     "text": [
      "globalncap/2022-02-15_09-17-07_UTC_2.jpg [The Nissan Magnite scored fou…] json \n"
     ]
    },
    {
     "name": "stderr",
     "output_type": "stream",
     "text": [
      "JSON Query to api/v1/media/2724952399141997843/info/: HTTP error code 403. [retrying; skip with ^C]\n",
      "JSON Query to api/v1/media/2724952399141997843/info/: HTTP error code 403. [retrying; skip with ^C]\n"
     ]
    },
    {
     "name": "stdout",
     "output_type": "stream",
     "text": [
      "globalncap/2021-12-09_14-21-01_UTC_1.jpg "
     ]
    },
    {
     "name": "stderr",
     "output_type": "stream",
     "text": [
      "Unable to fetch high quality image version of <Post CXQ-cUEtQ0T>: JSON Query to api/v1/media/2724952399141997843/info/: HTTP error code 403.\n",
      "JSON Query to api/v1/media/2724952399141997843/info/: HTTP error code 403. [retrying; skip with ^C]\n",
      "JSON Query to api/v1/media/2724952399141997843/info/: HTTP error code 403. [retrying; skip with ^C]\n",
      "Unable to fetch high quality image version of <Post CXQ-cUEtQ0T>: JSON Query to api/v1/media/2724952399141997843/info/: HTTP error code 403.\n"
     ]
    },
    {
     "name": "stdout",
     "output_type": "stream",
     "text": [
      "globalncap/2021-12-09_14-21-01_UTC_2.jpg [Latest #SaferCarsForAfrica cr…] json \n"
     ]
    },
    {
     "name": "stderr",
     "output_type": "stream",
     "text": [
      "JSON Query to api/v1/media/2703850082997962803/info/: HTTP error code 403. [retrying; skip with ^C]\n",
      "JSON Query to api/v1/media/2703850082997962803/info/: HTTP error code 403. [retrying; skip with ^C]\n",
      "Unable to fetch high quality image version of <Post CWGAVMrAQgz>: JSON Query to api/v1/media/2703850082997962803/info/: HTTP error code 403.\n"
     ]
    },
    {
     "name": "stdout",
     "output_type": "stream",
     "text": [
      "globalncap/2021-11-10_11-34-29_UTC.jpg [Alejandro Furas, SecGen of @G…] json \n"
     ]
    },
    {
     "name": "stderr",
     "output_type": "stream",
     "text": [
      "JSON Query to api/v1/media/2684207109511497200/info/: HTTP error code 403. [retrying; skip with ^C]\n",
      "JSON Query to api/v1/media/2684207109511497200/info/: HTTP error code 403. [retrying; skip with ^C]\n"
     ]
    },
    {
     "name": "stdout",
     "output_type": "stream",
     "text": [
      "globalncap/2021-10-14_09-07-24_UTC.jpg "
     ]
    },
    {
     "name": "stderr",
     "output_type": "stream",
     "text": [
      "Unable to fetch high quality image version of <Post CVAOCUCAsXw>: JSON Query to api/v1/media/2684207109511497200/info/: HTTP error code 403.\n"
     ]
    },
    {
     "name": "stdout",
     "output_type": "stream",
     "text": [
      "[“We are obviously delighted w…] json \n"
     ]
    },
    {
     "name": "stderr",
     "output_type": "stream",
     "text": [
      "JSON Query to api/v1/media/2652252968971212199/info/: HTTP error code 403. [retrying; skip with ^C]\n",
      "JSON Query to api/v1/media/2652252968971212199/info/: HTTP error code 403. [retrying; skip with ^C]\n",
      "Unable to fetch high quality image version of <Post CTOsgXmARWn>: JSON Query to api/v1/media/2652252968971212199/info/: HTTP error code 403.\n"
     ]
    },
    {
     "name": "stdout",
     "output_type": "stream",
     "text": [
      "globalncap/2021-08-31_07-00-13_UTC.jpg [“It is deeply satisfying to s…] json \n"
     ]
    },
    {
     "name": "stderr",
     "output_type": "stream",
     "text": [
      "JSON Query to api/v1/media/2586379172326766952/info/: HTTP error code 403. [retrying; skip with ^C]\n",
      "JSON Query to api/v1/media/2586379172326766952/info/: HTTP error code 403. [retrying; skip with ^C]\n"
     ]
    },
    {
     "name": "stdout",
     "output_type": "stream",
     "text": [
      "globalncap/2021-06-01_09-40-45_UTC.jpg "
     ]
    },
    {
     "name": "stderr",
     "output_type": "stream",
     "text": [
      "Unable to fetch high quality image version of <Post CPkqidtAXlo>: JSON Query to api/v1/media/2586379172326766952/info/: HTTP error code 403.\n"
     ]
    },
    {
     "name": "stdout",
     "output_type": "stream",
     "text": [
      "[#Renault’s new compact crosso…] json \n"
     ]
    },
    {
     "name": "stderr",
     "output_type": "stream",
     "text": [
      "JSON Query to api/v1/media/2581419902019781759/info/: HTTP error code 403. [retrying; skip with ^C]\n",
      "JSON Query to api/v1/media/2581419902019781759/info/: HTTP error code 403. [retrying; skip with ^C]\n",
      "Unable to fetch high quality image version of <Post CPTC7lUA0R_>: JSON Query to api/v1/media/2581419902019781759/info/: HTTP error code 403.\n"
     ]
    },
    {
     "name": "stdout",
     "output_type": "stream",
     "text": [
      "globalncap/2021-05-25_13-27-34_UTC.jpg [Max Mosley 1940-2021. Road sa…] json \n"
     ]
    },
    {
     "name": "stderr",
     "output_type": "stream",
     "text": [
      "JSON Query to api/v1/media/2496575875273789149/info/: HTTP error code 403. [retrying; skip with ^C]\n",
      "JSON Query to api/v1/media/2496575875273789149/info/: HTTP error code 403. [retrying; skip with ^C]\n",
      "Unable to fetch high quality image version of <Post CKlnof4gQ7d>: JSON Query to api/v1/media/2496575875273789149/info/: HTTP error code 403.\n"
     ]
    },
    {
     "name": "stdout",
     "output_type": "stream",
     "text": [
      "globalncap/2021-01-28_11-57-38_UTC.jpg [“We are delighted to see the …] json \n"
     ]
    },
    {
     "name": "stderr",
     "output_type": "stream",
     "text": [
      "JSON Query to api/v1/media/2456041771822606838/info/: HTTP error code 403. [retrying; skip with ^C]\n",
      "JSON Query to api/v1/media/2456041771822606838/info/: HTTP error code 403. [retrying; skip with ^C]\n",
      "Unable to fetch high quality image version of <Post CIVnPqTAen2>: JSON Query to api/v1/media/2456041771822606838/info/: HTTP error code 403.\n"
     ]
    },
    {
     "name": "stdout",
     "output_type": "stream",
     "text": [
      "globalncap/2020-12-03_13-43-36_UTC_1.jpg "
     ]
    },
    {
     "name": "stderr",
     "output_type": "stream",
     "text": [
      "JSON Query to api/v1/media/2456041771822606838/info/: HTTP error code 403. [retrying; skip with ^C]\n",
      "JSON Query to api/v1/media/2456041771822606838/info/: HTTP error code 403. [retrying; skip with ^C]\n",
      "Unable to fetch high quality image version of <Post CIVnPqTAen2>: JSON Query to api/v1/media/2456041771822606838/info/: HTTP error code 403.\n"
     ]
    },
    {
     "name": "stdout",
     "output_type": "stream",
     "text": [
      "globalncap/2020-12-03_13-43-36_UTC_2.jpg "
     ]
    },
    {
     "name": "stderr",
     "output_type": "stream",
     "text": [
      "JSON Query to api/v1/media/2456041771822606838/info/: HTTP error code 403. [retrying; skip with ^C]\n",
      "JSON Query to api/v1/media/2456041771822606838/info/: HTTP error code 403. [retrying; skip with ^C]\n",
      "Unable to fetch high quality image version of <Post CIVnPqTAen2>: JSON Query to api/v1/media/2456041771822606838/info/: HTTP error code 403.\n"
     ]
    },
    {
     "name": "stdout",
     "output_type": "stream",
     "text": [
      "globalncap/2020-12-03_13-43-36_UTC_3.jpg [Global NCAP and AA South Afri…] json \n"
     ]
    },
    {
     "name": "stderr",
     "output_type": "stream",
     "text": [
      "JSON Query to api/v1/media/2450198261374490692/info/: HTTP error code 403. [retrying; skip with ^C]\n",
      "JSON Query to api/v1/media/2450198261374490692/info/: HTTP error code 403. [retrying; skip with ^C]\n"
     ]
    },
    {
     "name": "stdout",
     "output_type": "stream",
     "text": [
      "globalncap/2020-11-25_12-13-35_UTC.jpg "
     ]
    },
    {
     "name": "stderr",
     "output_type": "stream",
     "text": [
      "Unable to fetch high quality image version of <Post CIA2lZGgZhE>: JSON Query to api/v1/media/2450198261374490692/info/: HTTP error code 403.\n"
     ]
    },
    {
     "name": "stdout",
     "output_type": "stream",
     "text": [
      "[Another good result for @mahi…] json \n"
     ]
    },
    {
     "name": "stderr",
     "output_type": "stream",
     "text": [
      "JSON Query to api/v1/media/2440092952740229253/info/: HTTP error code 403. [retrying; skip with ^C]\n",
      "JSON Query to api/v1/media/2440092952740229253/info/: HTTP error code 403. [retrying; skip with ^C]\n",
      "Unable to fetch high quality image version of <Post CHc85zDA_CF>: JSON Query to api/v1/media/2440092952740229253/info/: HTTP error code 403.\n"
     ]
    },
    {
     "name": "stdout",
     "output_type": "stream",
     "text": [
      "globalncap/2020-11-11_13-36-09_UTC_1.jpg "
     ]
    },
    {
     "name": "stderr",
     "output_type": "stream",
     "text": [
      "JSON Query to api/v1/media/2440092952740229253/info/: HTTP error code 403. [retrying; skip with ^C]\n",
      "JSON Query to api/v1/media/2440092952740229253/info/: HTTP error code 403. [retrying; skip with ^C]\n",
      "Unable to fetch high quality image version of <Post CHc85zDA_CF>: JSON Query to api/v1/media/2440092952740229253/info/: HTTP error code 403.\n"
     ]
    },
    {
     "name": "stdout",
     "output_type": "stream",
     "text": [
      "globalncap/2020-11-11_13-36-09_UTC_2.jpg "
     ]
    },
    {
     "name": "stderr",
     "output_type": "stream",
     "text": [
      "JSON Query to api/v1/media/2440092952740229253/info/: HTTP error code 403. [retrying; skip with ^C]\n",
      "JSON Query to api/v1/media/2440092952740229253/info/: HTTP error code 403. [retrying; skip with ^C]\n",
      "Unable to fetch high quality image version of <Post CHc85zDA_CF>: JSON Query to api/v1/media/2440092952740229253/info/: HTTP error code 403.\n"
     ]
    },
    {
     "name": "stdout",
     "output_type": "stream",
     "text": [
      "globalncap/2020-11-11_13-36-09_UTC_3.jpg [The range of today's #SaferCa…] json \n"
     ]
    },
    {
     "name": "stderr",
     "output_type": "stream",
     "text": [
      "JSON Query to api/v1/media/2430674262693070782/info/: HTTP error code 403. [retrying; skip with ^C]\n",
      "JSON Query to api/v1/media/2430674262693070782/info/: HTTP error code 403. [retrying; skip with ^C]\n",
      "Unable to fetch high quality image version of <Post CG7fV0YgUe->: JSON Query to api/v1/media/2430674262693070782/info/: HTTP error code 403.\n"
     ]
    },
    {
     "name": "stdout",
     "output_type": "stream",
     "text": [
      "globalncap/2020-10-29_13-42-53_UTC_1.jpg "
     ]
    },
    {
     "name": "stderr",
     "output_type": "stream",
     "text": [
      "JSON Query to api/v1/media/2430674262693070782/info/: HTTP error code 403. [retrying; skip with ^C]\n",
      "JSON Query to api/v1/media/2430674262693070782/info/: HTTP error code 403. [retrying; skip with ^C]\n",
      "Unable to fetch high quality image version of <Post CG7fV0YgUe->: JSON Query to api/v1/media/2430674262693070782/info/: HTTP error code 403.\n"
     ]
    },
    {
     "name": "stdout",
     "output_type": "stream",
     "text": [
      "globalncap/2020-10-29_13-42-53_UTC_2.jpg [Our latest #SaferCarsforIndia…] json \n"
     ]
    },
    {
     "name": "stderr",
     "output_type": "stream",
     "text": [
      "JSON Query to api/v1/media/2429222970149850284/info/: HTTP error code 403. [retrying; skip with ^C]\n",
      "JSON Query to api/v1/media/2429222970149850284/info/: HTTP error code 403. [retrying; skip with ^C]\n",
      "Unable to fetch high quality image version of <Post CG2VWu4AEys>: JSON Query to api/v1/media/2429222970149850284/info/: HTTP error code 403.\n"
     ]
    },
    {
     "name": "stdout",
     "output_type": "stream",
     "text": [
      "globalncap/2020-10-27_13-39-26_UTC_1.jpg "
     ]
    },
    {
     "name": "stderr",
     "output_type": "stream",
     "text": [
      "JSON Query to api/v1/media/2429222970149850284/info/: HTTP error code 403. [retrying; skip with ^C]\n",
      "JSON Query to api/v1/media/2429222970149850284/info/: HTTP error code 403. [retrying; skip with ^C]\n",
      "Unable to fetch high quality image version of <Post CG2VWu4AEys>: JSON Query to api/v1/media/2429222970149850284/info/: HTTP error code 403.\n"
     ]
    },
    {
     "name": "stdout",
     "output_type": "stream",
     "text": [
      "globalncap/2020-10-27_13-39-26_UTC_2.jpg "
     ]
    },
    {
     "name": "stderr",
     "output_type": "stream",
     "text": [
      "JSON Query to api/v1/media/2429222970149850284/info/: HTTP error code 403. [retrying; skip with ^C]\n",
      "JSON Query to api/v1/media/2429222970149850284/info/: HTTP error code 403. [retrying; skip with ^C]\n",
      "Unable to fetch high quality image version of <Post CG2VWu4AEys>: JSON Query to api/v1/media/2429222970149850284/info/: HTTP error code 403.\n"
     ]
    },
    {
     "name": "stdout",
     "output_type": "stream",
     "text": [
      "globalncap/2020-10-27_13-39-26_UTC_3.jpg [According to the @who Global …] json \n"
     ]
    },
    {
     "name": "stderr",
     "output_type": "stream",
     "text": [
      "JSON Query to api/v1/media/2425565704020406547/info/: HTTP error code 403. [retrying; skip with ^C]\n",
      "JSON Query to api/v1/media/2425565704020406547/info/: HTTP error code 403. [retrying; skip with ^C]\n"
     ]
    },
    {
     "name": "stdout",
     "output_type": "stream",
     "text": [
      "globalncap/2020-10-22_12-33-06_UTC.jpg "
     ]
    },
    {
     "name": "stderr",
     "output_type": "stream",
     "text": [
      "Unable to fetch high quality image version of <Post CGpVygXgbET>: JSON Query to api/v1/media/2425565704020406547/info/: HTTP error code 403.\n"
     ]
    },
    {
     "name": "stdout",
     "output_type": "stream",
     "text": [
      "[The #SaferCarsForIndia campai…] json \n"
     ]
    },
    {
     "name": "stderr",
     "output_type": "stream",
     "text": [
      "JSON Query to api/v1/media/2424116234145706906/info/: HTTP error code 403. [retrying; skip with ^C]\n",
      "JSON Query to api/v1/media/2424116234145706906/info/: HTTP error code 403. [retrying; skip with ^C]\n",
      "Unable to fetch high quality image version of <Post CGkMN8WgzOa>: JSON Query to api/v1/media/2424116234145706906/info/: HTTP error code 403.\n"
     ]
    },
    {
     "name": "stdout",
     "output_type": "stream",
     "text": [
      "globalncap/2020-10-20_12-33-15_UTC_1.jpg "
     ]
    },
    {
     "name": "stderr",
     "output_type": "stream",
     "text": [
      "JSON Query to api/v1/media/2424116234145706906/info/: HTTP error code 403. [retrying; skip with ^C]\n",
      "JSON Query to api/v1/media/2424116234145706906/info/: HTTP error code 403. [retrying; skip with ^C]\n",
      "Unable to fetch high quality image version of <Post CGkMN8WgzOa>: JSON Query to api/v1/media/2424116234145706906/info/: HTTP error code 403.\n"
     ]
    },
    {
     "name": "stdout",
     "output_type": "stream",
     "text": [
      "globalncap/2020-10-20_12-33-15_UTC_2.jpg "
     ]
    },
    {
     "name": "stderr",
     "output_type": "stream",
     "text": [
      "JSON Query to api/v1/media/2424116234145706906/info/: HTTP error code 403. [retrying; skip with ^C]\n",
      "JSON Query to api/v1/media/2424116234145706906/info/: HTTP error code 403. [retrying; skip with ^C]\n",
      "Unable to fetch high quality image version of <Post CGkMN8WgzOa>: JSON Query to api/v1/media/2424116234145706906/info/: HTTP error code 403.\n"
     ]
    },
    {
     "name": "stdout",
     "output_type": "stream",
     "text": [
      "globalncap/2020-10-20_12-33-15_UTC_3.jpg "
     ]
    },
    {
     "name": "stderr",
     "output_type": "stream",
     "text": [
      "JSON Query to api/v1/media/2424116234145706906/info/: HTTP error code 403. [retrying; skip with ^C]\n",
      "JSON Query to api/v1/media/2424116234145706906/info/: HTTP error code 403. [retrying; skip with ^C]\n",
      "Unable to fetch high quality image version of <Post CGkMN8WgzOa>: JSON Query to api/v1/media/2424116234145706906/info/: HTTP error code 403.\n"
     ]
    },
    {
     "name": "stdout",
     "output_type": "stream",
     "text": [
      "globalncap/2020-10-20_12-33-15_UTC_4.jpg "
     ]
    },
    {
     "name": "stderr",
     "output_type": "stream",
     "text": [
      "JSON Query to api/v1/media/2424116234145706906/info/: HTTP error code 403. [retrying; skip with ^C]\n",
      "JSON Query to api/v1/media/2424116234145706906/info/: HTTP error code 403. [retrying; skip with ^C]\n",
      "Unable to fetch high quality image version of <Post CGkMN8WgzOa>: JSON Query to api/v1/media/2424116234145706906/info/: HTTP error code 403.\n"
     ]
    },
    {
     "name": "stdout",
     "output_type": "stream",
     "text": [
      "globalncap/2020-10-20_12-33-15_UTC_5.jpg [Proud partner of @latinncap, …] json \n"
     ]
    },
    {
     "name": "stderr",
     "output_type": "stream",
     "text": [
      "JSON Query to api/v1/media/2420507999740274086/info/: HTTP error code 403. [retrying; skip with ^C]\n",
      "JSON Query to api/v1/media/2420507999740274086/info/: HTTP error code 403. [retrying; skip with ^C]\n"
     ]
    },
    {
     "name": "stdout",
     "output_type": "stream",
     "text": [
      "globalncap/2020-10-15_13-04-20_UTC_1.jpg "
     ]
    },
    {
     "name": "stderr",
     "output_type": "stream",
     "text": [
      "Unable to fetch high quality image version of <Post CGXXzOMgqWm>: JSON Query to api/v1/media/2420507999740274086/info/: HTTP error code 403.\n",
      "JSON Query to api/v1/media/2420507999740274086/info/: HTTP error code 403. [retrying; skip with ^C]\n",
      "JSON Query to api/v1/media/2420507999740274086/info/: HTTP error code 403. [retrying; skip with ^C]\n",
      "Unable to fetch high quality image version of <Post CGXXzOMgqWm>: JSON Query to api/v1/media/2420507999740274086/info/: HTTP error code 403.\n"
     ]
    },
    {
     "name": "stdout",
     "output_type": "stream",
     "text": [
      "globalncap/2020-10-15_13-04-20_UTC_2.jpg "
     ]
    },
    {
     "name": "stderr",
     "output_type": "stream",
     "text": [
      "JSON Query to api/v1/media/2420507999740274086/info/: HTTP error code 403. [retrying; skip with ^C]\n",
      "JSON Query to api/v1/media/2420507999740274086/info/: HTTP error code 403. [retrying; skip with ^C]\n",
      "Unable to fetch high quality image version of <Post CGXXzOMgqWm>: JSON Query to api/v1/media/2420507999740274086/info/: HTTP error code 403.\n"
     ]
    },
    {
     "name": "stdout",
     "output_type": "stream",
     "text": [
      "globalncap/2020-10-15_13-04-20_UTC_3.jpg [Improving vehicle safety is a…] json \n"
     ]
    },
    {
     "name": "stderr",
     "output_type": "stream",
     "text": [
      "JSON Query to api/v1/media/2408965342073243101/info/: HTTP error code 403. [retrying; skip with ^C]\n",
      "JSON Query to api/v1/media/2408965342073243101/info/: HTTP error code 403. [retrying; skip with ^C]\n",
      "Unable to fetch high quality image version of <Post CFuXTcigMXd>: JSON Query to api/v1/media/2408965342073243101/info/: HTTP error code 403.\n"
     ]
    },
    {
     "name": "stdout",
     "output_type": "stream",
     "text": [
      "globalncap/2020-09-29_14-51-08_UTC.jpg [The rapid evolution in vehicl…] json \n"
     ]
    },
    {
     "name": "stderr",
     "output_type": "stream",
     "text": [
      "JSON Query to api/v1/media/2388606416890919172/info/: HTTP error code 403. [retrying; skip with ^C]\n",
      "JSON Query to api/v1/media/2388606416890919172/info/: HTTP error code 403. [retrying; skip with ^C]\n",
      "Unable to fetch high quality image version of <Post CEmCOF7AHkE>: JSON Query to api/v1/media/2388606416890919172/info/: HTTP error code 403.\n"
     ]
    },
    {
     "name": "stdout",
     "output_type": "stream",
     "text": [
      "globalncap/2020-09-01_12-41-35_UTC.jpg [As part of our #SaferCarsForI…] json \n"
     ]
    },
    {
     "name": "stderr",
     "output_type": "stream",
     "text": [
      "JSON Query to api/v1/media/2382795564678054512/info/: HTTP error code 403. [retrying; skip with ^C]\n",
      "JSON Query to api/v1/media/2382795564678054512/info/: HTTP error code 403. [retrying; skip with ^C]\n",
      "Unable to fetch high quality image version of <Post CERY_EFAwJw>: JSON Query to api/v1/media/2382795564678054512/info/: HTTP error code 403.\n"
     ]
    },
    {
     "name": "stdout",
     "output_type": "stream",
     "text": [
      "globalncap/2020-08-24_12-16-28_UTC_1.jpg "
     ]
    },
    {
     "name": "stderr",
     "output_type": "stream",
     "text": [
      "JSON Query to api/v1/media/2382795564678054512/info/: HTTP error code 403. [retrying; skip with ^C]\n",
      "JSON Query to api/v1/media/2382795564678054512/info/: HTTP error code 403. [retrying; skip with ^C]\n",
      "Unable to fetch high quality image version of <Post CERY_EFAwJw>: JSON Query to api/v1/media/2382795564678054512/info/: HTTP error code 403.\n"
     ]
    },
    {
     "name": "stdout",
     "output_type": "stream",
     "text": [
      "globalncap/2020-08-24_12-16-28_UTC_2.jpg "
     ]
    },
    {
     "name": "stderr",
     "output_type": "stream",
     "text": [
      "JSON Query to api/v1/media/2382795564678054512/info/: HTTP error code 401. [retrying; skip with ^C]\n",
      "JSON Query to api/v1/media/2382795564678054512/info/: HTTP error code 401. [retrying; skip with ^C]\n",
      "Unable to fetch high quality image version of <Post CERY_EFAwJw>: JSON Query to api/v1/media/2382795564678054512/info/: HTTP error code 401.\n"
     ]
    },
    {
     "name": "stdout",
     "output_type": "stream",
     "text": [
      "globalncap/2020-08-24_12-16-28_UTC_3.jpg "
     ]
    },
    {
     "name": "stderr",
     "output_type": "stream",
     "text": [
      "JSON Query to api/v1/media/2382795564678054512/info/: HTTP error code 401. [retrying; skip with ^C]\n",
      "JSON Query to api/v1/media/2382795564678054512/info/: HTTP error code 401. [retrying; skip with ^C]\n",
      "Unable to fetch high quality image version of <Post CERY_EFAwJw>: JSON Query to api/v1/media/2382795564678054512/info/: HTTP error code 401.\n"
     ]
    },
    {
     "name": "stdout",
     "output_type": "stream",
     "text": [
      "globalncap/2020-08-24_12-16-28_UTC_4.jpg [Improving vehicle safety is a…] json \n"
     ]
    },
    {
     "name": "stderr",
     "output_type": "stream",
     "text": [
      "JSON Query to api/v1/media/2377732001080855401/info/: HTTP error code 401. [retrying; skip with ^C]\n",
      "JSON Query to api/v1/media/2377732001080855401/info/: HTTP error code 401. [retrying; skip with ^C]\n",
      "Unable to fetch high quality image version of <Post CD_Zqg_gMtp>: JSON Query to api/v1/media/2377732001080855401/info/: HTTP error code 401.\n"
     ]
    },
    {
     "name": "stdout",
     "output_type": "stream",
     "text": [
      "globalncap/2020-08-17_12-36-04_UTC_1.jpg "
     ]
    },
    {
     "name": "stderr",
     "output_type": "stream",
     "text": [
      "JSON Query to api/v1/media/2377732001080855401/info/: HTTP error code 401. [retrying; skip with ^C]\n",
      "JSON Query to api/v1/media/2377732001080855401/info/: HTTP error code 401. [retrying; skip with ^C]\n",
      "Unable to fetch high quality image version of <Post CD_Zqg_gMtp>: JSON Query to api/v1/media/2377732001080855401/info/: HTTP error code 401.\n"
     ]
    },
    {
     "name": "stdout",
     "output_type": "stream",
     "text": [
      "globalncap/2020-08-17_12-36-04_UTC_2.jpg "
     ]
    },
    {
     "name": "stderr",
     "output_type": "stream",
     "text": [
      "JSON Query to api/v1/media/2377732001080855401/info/: HTTP error code 401. [retrying; skip with ^C]\n",
      "JSON Query to api/v1/media/2377732001080855401/info/: HTTP error code 401. [retrying; skip with ^C]\n",
      "Unable to fetch high quality image version of <Post CD_Zqg_gMtp>: JSON Query to api/v1/media/2377732001080855401/info/: HTTP error code 401.\n"
     ]
    },
    {
     "name": "stdout",
     "output_type": "stream",
     "text": [
      "globalncap/2020-08-17_12-36-04_UTC_3.jpg [From a technology perspective…] json \n"
     ]
    },
    {
     "name": "stderr",
     "output_type": "stream",
     "text": [
      "JSON Query to api/v1/media/2372675622586703727/info/: HTTP error code 401. [retrying; skip with ^C]\n",
      "JSON Query to api/v1/media/2372675622586703727/info/: HTTP error code 401. [retrying; skip with ^C]\n"
     ]
    },
    {
     "name": "stdout",
     "output_type": "stream",
     "text": [
      "globalncap/2020-08-10_13-09-57_UTC_1.jpg "
     ]
    },
    {
     "name": "stderr",
     "output_type": "stream",
     "text": [
      "Unable to fetch high quality image version of <Post CDtb-hjgl9v>: JSON Query to api/v1/media/2372675622586703727/info/: HTTP error code 401.\n",
      "JSON Query to api/v1/media/2372675622586703727/info/: HTTP error code 401. [retrying; skip with ^C]\n",
      "JSON Query to api/v1/media/2372675622586703727/info/: HTTP error code 401. [retrying; skip with ^C]\n",
      "Unable to fetch high quality image version of <Post CDtb-hjgl9v>: JSON Query to api/v1/media/2372675622586703727/info/: HTTP error code 401.\n"
     ]
    },
    {
     "name": "stdout",
     "output_type": "stream",
     "text": [
      "globalncap/2020-08-10_13-09-57_UTC_2.jpg "
     ]
    },
    {
     "name": "stderr",
     "output_type": "stream",
     "text": [
      "JSON Query to api/v1/media/2372675622586703727/info/: HTTP error code 401. [retrying; skip with ^C]\n",
      "JSON Query to api/v1/media/2372675622586703727/info/: HTTP error code 401. [retrying; skip with ^C]\n",
      "Unable to fetch high quality image version of <Post CDtb-hjgl9v>: JSON Query to api/v1/media/2372675622586703727/info/: HTTP error code 401.\n"
     ]
    },
    {
     "name": "stdout",
     "output_type": "stream",
     "text": [
      "globalncap/2020-08-10_13-09-57_UTC_3.jpg "
     ]
    },
    {
     "name": "stderr",
     "output_type": "stream",
     "text": [
      "JSON Query to api/v1/media/2372675622586703727/info/: HTTP error code 401. [retrying; skip with ^C]\n"
     ]
    },
    {
     "name": "stdout",
     "output_type": "stream",
     "text": [
      "\n",
      "Too many queries in the last time. Need to wait 22 minutes, until 10:43.\n"
     ]
    },
    {
     "name": "stderr",
     "output_type": "stream",
     "text": [
      "JSON Query to api/v1/media/2372675622586703727/info/: HTTP error code 401. [retrying; skip with ^C]\n",
      "Unable to fetch high quality image version of <Post CDtb-hjgl9v>: JSON Query to api/v1/media/2372675622586703727/info/: HTTP error code 401.\n"
     ]
    },
    {
     "name": "stdout",
     "output_type": "stream",
     "text": [
      "globalncap/2020-08-10_13-09-57_UTC_4.jpg [2019 was a historic year for …] json \n",
      "[#ThrowBackThursday In 2017 wi…] json \n"
     ]
    },
    {
     "name": "stderr",
     "output_type": "stream",
     "text": [
      "JSON Query to api/v1/media/2362513028089482166/info/: HTTP error code 403. [retrying; skip with ^C]\n",
      "JSON Query to api/v1/media/2362513028089482166/info/: HTTP error code 403. [retrying; skip with ^C]\n",
      "Unable to fetch high quality image version of <Post CDJVRT4gYu2>: JSON Query to api/v1/media/2362513028089482166/info/: HTTP error code 403.\n"
     ]
    },
    {
     "name": "stdout",
     "output_type": "stream",
     "text": [
      "globalncap/2020-07-27_12-38-41_UTC_1.jpg "
     ]
    },
    {
     "name": "stderr",
     "output_type": "stream",
     "text": [
      "JSON Query to api/v1/media/2362513028089482166/info/: HTTP error code 403. [retrying; skip with ^C]\n",
      "JSON Query to api/v1/media/2362513028089482166/info/: HTTP error code 403. [retrying; skip with ^C]\n",
      "Unable to fetch high quality image version of <Post CDJVRT4gYu2>: JSON Query to api/v1/media/2362513028089482166/info/: HTTP error code 403.\n"
     ]
    },
    {
     "name": "stdout",
     "output_type": "stream",
     "text": [
      "globalncap/2020-07-27_12-38-41_UTC_2.jpg "
     ]
    },
    {
     "name": "stderr",
     "output_type": "stream",
     "text": [
      "JSON Query to api/v1/media/2362513028089482166/info/: HTTP error code 403. [retrying; skip with ^C]\n",
      "JSON Query to api/v1/media/2362513028089482166/info/: HTTP error code 403. [retrying; skip with ^C]\n",
      "Unable to fetch high quality image version of <Post CDJVRT4gYu2>: JSON Query to api/v1/media/2362513028089482166/info/: HTTP error code 403.\n"
     ]
    },
    {
     "name": "stdout",
     "output_type": "stream",
     "text": [
      "globalncap/2020-07-27_12-38-41_UTC_3.jpg "
     ]
    },
    {
     "name": "stderr",
     "output_type": "stream",
     "text": [
      "JSON Query to api/v1/media/2362513028089482166/info/: HTTP error code 403. [retrying; skip with ^C]\n",
      "JSON Query to api/v1/media/2362513028089482166/info/: HTTP error code 403. [retrying; skip with ^C]\n",
      "Unable to fetch high quality image version of <Post CDJVRT4gYu2>: JSON Query to api/v1/media/2362513028089482166/info/: HTTP error code 403.\n"
     ]
    },
    {
     "name": "stdout",
     "output_type": "stream",
     "text": [
      "globalncap/2020-07-27_12-38-41_UTC_4.jpg [A survey by @aasouthafrica fo…] json \n"
     ]
    },
    {
     "name": "stderr",
     "output_type": "stream",
     "text": [
      "JSON Query to api/v1/media/2359621883915258810/info/: HTTP error code 403. [retrying; skip with ^C]\n",
      "JSON Query to api/v1/media/2359621883915258810/info/: HTTP error code 403. [retrying; skip with ^C]\n",
      "Unable to fetch high quality image version of <Post CC_D5oDAcu6>: JSON Query to api/v1/media/2359621883915258810/info/: HTTP error code 403.\n"
     ]
    },
    {
     "name": "stdout",
     "output_type": "stream",
     "text": [
      "globalncap/2020-07-23_12-54-30_UTC_1.jpg "
     ]
    },
    {
     "name": "stderr",
     "output_type": "stream",
     "text": [
      "JSON Query to api/v1/media/2359621883915258810/info/: HTTP error code 403. [retrying; skip with ^C]\n",
      "JSON Query to api/v1/media/2359621883915258810/info/: HTTP error code 403. [retrying; skip with ^C]\n",
      "Unable to fetch high quality image version of <Post CC_D5oDAcu6>: JSON Query to api/v1/media/2359621883915258810/info/: HTTP error code 403.\n"
     ]
    },
    {
     "name": "stdout",
     "output_type": "stream",
     "text": [
      "globalncap/2020-07-23_12-54-30_UTC_2.jpg "
     ]
    },
    {
     "name": "stderr",
     "output_type": "stream",
     "text": [
      "JSON Query to api/v1/media/2359621883915258810/info/: HTTP error code 403. [retrying; skip with ^C]\n",
      "JSON Query to api/v1/media/2359621883915258810/info/: HTTP error code 403. [retrying; skip with ^C]\n",
      "Unable to fetch high quality image version of <Post CC_D5oDAcu6>: JSON Query to api/v1/media/2359621883915258810/info/: HTTP error code 403.\n"
     ]
    },
    {
     "name": "stdout",
     "output_type": "stream",
     "text": [
      "globalncap/2020-07-23_12-54-30_UTC_3.jpg [#ThrowBackThursday Our #Safer…] json \n",
      "[We've tested twelve models so…] json \n"
     ]
    },
    {
     "name": "stderr",
     "output_type": "stream",
     "text": [
      "JSON Query to api/v1/media/2347300562476739488/info/: HTTP error code 403. [retrying; skip with ^C]\n",
      "JSON Query to api/v1/media/2347300562476739488/info/: HTTP error code 403. [retrying; skip with ^C]\n"
     ]
    },
    {
     "name": "stdout",
     "output_type": "stream",
     "text": [
      "globalncap/2020-07-06_12-54-14_UTC.jpg "
     ]
    },
    {
     "name": "stderr",
     "output_type": "stream",
     "text": [
      "Unable to fetch high quality image version of <Post CCTSWzPgCug>: JSON Query to api/v1/media/2347300562476739488/info/: HTTP error code 403.\n"
     ]
    },
    {
     "name": "stdout",
     "output_type": "stream",
     "text": [
      "[Between 2014 and 2020 Global …] json \n",
      "[With this years five star #Al…] json \n"
     ]
    },
    {
     "name": "stderr",
     "output_type": "stream",
     "text": [
      "JSON Query to api/v1/media/2337150272540950125/info/: HTTP error code 403. [retrying; skip with ^C]\n",
      "JSON Query to api/v1/media/2337150272540950125/info/: HTTP error code 403. [retrying; skip with ^C]\n",
      "Unable to fetch high quality image version of <Post CBvOcpFgr5t>: JSON Query to api/v1/media/2337150272540950125/info/: HTTP error code 403.\n"
     ]
    },
    {
     "name": "stdout",
     "output_type": "stream",
     "text": [
      "globalncap/2020-06-22_12-47-25_UTC_2.jpg [According to the @who Global …] json \n"
     ]
    },
    {
     "name": "stderr",
     "output_type": "stream",
     "text": [
      "JSON Query to api/v1/media/2332067763742553240/info/: HTTP error code 403. [retrying; skip with ^C]\n",
      "JSON Query to api/v1/media/2332067763742553240/info/: HTTP error code 403. [retrying; skip with ^C]\n"
     ]
    },
    {
     "name": "stdout",
     "output_type": "stream",
     "text": [
      "globalncap/2020-06-15_12-29-23_UTC.jpg "
     ]
    },
    {
     "name": "stderr",
     "output_type": "stream",
     "text": [
      "Unable to fetch high quality image version of <Post CBdK0Z6A7SY>: JSON Query to api/v1/media/2332067763742553240/info/: HTTP error code 403.\n"
     ]
    },
    {
     "name": "stdout",
     "output_type": "stream",
     "text": [
      "[Over the past three years @gl…] json \n"
     ]
    },
    {
     "name": "stderr",
     "output_type": "stream",
     "text": [
      "JSON Query to api/v1/media/2179183621485763598/info/: HTTP error code 403. [retrying; skip with ^C]\n"
     ]
    },
    {
     "name": "stdout",
     "output_type": "stream",
     "text": [
      "\n",
      "Too many queries in the last time. Need to wait 18 seconds, until 11:32.\n"
     ]
    },
    {
     "name": "stderr",
     "output_type": "stream",
     "text": [
      "JSON Query to api/v1/media/2179183621485763598/info/: HTTP error code 403. [retrying; skip with ^C]\n"
     ]
    },
    {
     "name": "stdout",
     "output_type": "stream",
     "text": [
      "globalncap/2019-11-17_13-55-53_UTC.jpg "
     ]
    },
    {
     "name": "stderr",
     "output_type": "stream",
     "text": [
      "Unable to fetch high quality image version of <Post B4-A_U7AhwO>: JSON Query to api/v1/media/2179183621485763598/info/: HTTP error code 403.\n"
     ]
    },
    {
     "name": "stdout",
     "output_type": "stream",
     "text": [
      "[On World Day of Remembrance f…] json \n"
     ]
    },
    {
     "name": "stderr",
     "output_type": "stream",
     "text": [
      "JSON Query to api/v1/media/2166835105153273967/info/: HTTP error code 403. [retrying; skip with ^C]\n",
      "JSON Query to api/v1/media/2166835105153273967/info/: HTTP error code 403. [retrying; skip with ^C]\n"
     ]
    },
    {
     "name": "stdout",
     "output_type": "stream",
     "text": [
      "globalncap/2019-10-31_13-01-35_UTC.jpg "
     ]
    },
    {
     "name": "stderr",
     "output_type": "stream",
     "text": [
      "Unable to fetch high quality image version of <Post B4SJQw5gdBv>: JSON Query to api/v1/media/2166835105153273967/info/: HTTP error code 403.\n"
     ]
    },
    {
     "name": "stdout",
     "output_type": "stream",
     "text": [
      "[Today's #SaferCarsForIndia re…] json \n"
     ]
    },
    {
     "name": "stderr",
     "output_type": "stream",
     "text": [
      "JSON Query to api/v1/media/2166792452680433231/info/: HTTP error code 403. [retrying; skip with ^C]\n",
      "JSON Query to api/v1/media/2166792452680433231/info/: HTTP error code 403. [retrying; skip with ^C]\n",
      "Unable to fetch high quality image version of <Post B4R_kFsA75P>: JSON Query to api/v1/media/2166792452680433231/info/: HTTP error code 403.\n"
     ]
    },
    {
     "name": "stdout",
     "output_type": "stream",
     "text": [
      "globalncap/2019-10-31_11-36-50_UTC.jpg [With high probability of life…] json \n"
     ]
    },
    {
     "name": "stderr",
     "output_type": "stream",
     "text": [
      "JSON Query to api/v1/media/2166791996960874174/info/: HTTP error code 403. [retrying; skip with ^C]\n",
      "JSON Query to api/v1/media/2166791996960874174/info/: HTTP error code 403. [retrying; skip with ^C]\n",
      "Unable to fetch high quality image version of <Post B4R_ddRAx6->: JSON Query to api/v1/media/2166791996960874174/info/: HTTP error code 403.\n"
     ]
    },
    {
     "name": "stdout",
     "output_type": "stream",
     "text": [
      "globalncap/2019-10-31_11-35-56_UTC.jpg [The #Hyundai #Santro only ach…] json \n"
     ]
    },
    {
     "name": "stderr",
     "output_type": "stream",
     "text": [
      "JSON Query to api/v1/media/2166791461583134665/info/: HTTP error code 403. [retrying; skip with ^C]\n",
      "JSON Query to api/v1/media/2166791461583134665/info/: HTTP error code 403. [retrying; skip with ^C]\n",
      "Unable to fetch high quality image version of <Post B4R_VqqAx_J>: JSON Query to api/v1/media/2166791461583134665/info/: HTTP error code 403.\n"
     ]
    },
    {
     "name": "stdout",
     "output_type": "stream",
     "text": [
      "globalncap/2019-10-31_11-34-52_UTC.jpg [The #Suzuki #WagonR only offe…] json \n"
     ]
    },
    {
     "name": "stderr",
     "output_type": "stream",
     "text": [
      "JSON Query to api/v1/media/2166790936087174378/info/: HTTP error code 403. [retrying; skip with ^C]\n",
      "JSON Query to api/v1/media/2166790936087174378/info/: HTTP error code 403. [retrying; skip with ^C]\n",
      "Unable to fetch high quality image version of <Post B4R_OBQAxzq>: JSON Query to api/v1/media/2166790936087174378/info/: HTTP error code 403.\n"
     ]
    },
    {
     "name": "stdout",
     "output_type": "stream",
     "text": [
      "globalncap/2019-10-31_11-33-49_UTC.jpg [The #Suzuki #Ertiga achieves …] json \n"
     ]
    },
    {
     "name": "stderr",
     "output_type": "stream",
     "text": [
      "JSON Query to api/v1/media/2054491504436661867/info/: HTTP error code 403. [retrying; skip with ^C]\n",
      "JSON Query to api/v1/media/2054491504436661867/info/: HTTP error code 403. [retrying; skip with ^C]\n",
      "Unable to fetch high quality image version of <Post ByDBSNcAU5r>: JSON Query to api/v1/media/2054491504436661867/info/: HTTP error code 403.\n"
     ]
    },
    {
     "name": "stdout",
     "output_type": "stream",
     "text": [
      "globalncap/2019-05-29_12-54-54_UTC.jpg [Four star progress but poor c…] json \n"
     ]
    },
    {
     "name": "stderr",
     "output_type": "stream",
     "text": [
      "JSON Query to api/v1/media/2054461607781786067/info/: HTTP error code 403. [retrying; skip with ^C]\n",
      "JSON Query to api/v1/media/2054461607781786067/info/: HTTP error code 403. [retrying; skip with ^C]\n",
      "Unable to fetch high quality image version of <Post ByC6fKAguHT>: JSON Query to api/v1/media/2054461607781786067/info/: HTTP error code 403.\n"
     ]
    },
    {
     "name": "stdout",
     "output_type": "stream",
     "text": [
      "globalncap/2019-05-29_11-55-30_UTC_1.jpg "
     ]
    },
    {
     "name": "stderr",
     "output_type": "stream",
     "text": [
      "JSON Query to api/v1/media/2054461607781786067/info/: HTTP error code 403. [retrying; skip with ^C]\n",
      "JSON Query to api/v1/media/2054461607781786067/info/: HTTP error code 403. [retrying; skip with ^C]\n",
      "Unable to fetch high quality image version of <Post ByC6fKAguHT>: JSON Query to api/v1/media/2054461607781786067/info/: HTTP error code 403.\n"
     ]
    },
    {
     "name": "stdout",
     "output_type": "stream",
     "text": [
      "globalncap/2019-05-29_11-55-30_UTC_2.jpg [David Ward, President and CEO…] json \n"
     ]
    },
    {
     "name": "stderr",
     "output_type": "stream",
     "text": [
      "JSON Query to api/v1/media/2054424914189960223/info/: HTTP error code 403. [retrying; skip with ^C]\n",
      "JSON Query to api/v1/media/2054424914189960223/info/: HTTP error code 403. [retrying; skip with ^C]\n",
      "Unable to fetch high quality image version of <Post ByCyJMcAUQf>: JSON Query to api/v1/media/2054424914189960223/info/: HTTP error code 403.\n"
     ]
    },
    {
     "name": "stdout",
     "output_type": "stream",
     "text": [
      "globalncap/2019-05-29_10-42-36_UTC_1.jpg "
     ]
    },
    {
     "name": "stderr",
     "output_type": "stream",
     "text": [
      "JSON Query to api/v1/media/2054424914189960223/info/: HTTP error code 403. [retrying; skip with ^C]\n",
      "JSON Query to api/v1/media/2054424914189960223/info/: HTTP error code 403. [retrying; skip with ^C]\n",
      "Unable to fetch high quality image version of <Post ByCyJMcAUQf>: JSON Query to api/v1/media/2054424914189960223/info/: HTTP error code 403.\n"
     ]
    },
    {
     "name": "stdout",
     "output_type": "stream",
     "text": [
      "globalncap/2019-05-29_10-42-36_UTC_2.jpg "
     ]
    },
    {
     "name": "stderr",
     "output_type": "stream",
     "text": [
      "JSON Query to api/v1/media/2054424914189960223/info/: HTTP error code 403. [retrying; skip with ^C]\n",
      "JSON Query to api/v1/media/2054424914189960223/info/: HTTP error code 403. [retrying; skip with ^C]\n",
      "Unable to fetch high quality image version of <Post ByCyJMcAUQf>: JSON Query to api/v1/media/2054424914189960223/info/: HTTP error code 403.\n"
     ]
    },
    {
     "name": "stdout",
     "output_type": "stream",
     "text": [
      "globalncap/2019-05-29_10-42-36_UTC_3.jpg [Four star progress but poor c…] json \n"
     ]
    },
    {
     "name": "stderr",
     "output_type": "stream",
     "text": [
      "JSON Query to api/v1/media/1928989221080874219/info/: HTTP error code 403. [retrying; skip with ^C]\n",
      "JSON Query to api/v1/media/1928989221080874219/info/: HTTP error code 403. [retrying; skip with ^C]\n",
      "Unable to fetch high quality image version of <Post BrFJXnyFTzr>: JSON Query to api/v1/media/1928989221080874219/info/: HTTP error code 403.\n"
     ]
    },
    {
     "name": "stdout",
     "output_type": "stream",
     "text": [
      "globalncap/2018-12-07_09-04-16_UTC_1.jpg "
     ]
    },
    {
     "name": "stderr",
     "output_type": "stream",
     "text": [
      "JSON Query to api/v1/media/1928989221080874219/info/: HTTP error code 403. [retrying; skip with ^C]\n",
      "JSON Query to api/v1/media/1928989221080874219/info/: HTTP error code 403. [retrying; skip with ^C]\n",
      "Unable to fetch high quality image version of <Post BrFJXnyFTzr>: JSON Query to api/v1/media/1928989221080874219/info/: HTTP error code 403.\n"
     ]
    },
    {
     "name": "stdout",
     "output_type": "stream",
     "text": [
      "globalncap/2018-12-07_09-04-16_UTC_2.jpg "
     ]
    },
    {
     "name": "stderr",
     "output_type": "stream",
     "text": [
      "JSON Query to api/v1/media/1928989221080874219/info/: HTTP error code 403. [retrying; skip with ^C]\n",
      "JSON Query to api/v1/media/1928989221080874219/info/: HTTP error code 403. [retrying; skip with ^C]\n",
      "Unable to fetch high quality image version of <Post BrFJXnyFTzr>: JSON Query to api/v1/media/1928989221080874219/info/: HTTP error code 403.\n"
     ]
    },
    {
     "name": "stdout",
     "output_type": "stream",
     "text": [
      "globalncap/2018-12-07_09-04-16_UTC_3.jpg [#GlobalNCAP’s first five star…] json \n"
     ]
    },
    {
     "name": "stderr",
     "output_type": "stream",
     "text": [
      "JSON Query to api/v1/media/1903834984206355653/info/: HTTP error code 403. [retrying; skip with ^C]\n",
      "JSON Query to api/v1/media/1903834984206355653/info/: HTTP error code 403. [retrying; skip with ^C]\n",
      "Unable to fetch high quality image version of <Post Bprx9TIlMzF>: JSON Query to api/v1/media/1903834984206355653/info/: HTTP error code 403.\n"
     ]
    },
    {
     "name": "stdout",
     "output_type": "stream",
     "text": [
      "globalncap/2018-11-02_16-07-17_UTC.jpg [Global NCAP and @aasouthafric…] json \n"
     ]
    },
    {
     "name": "stderr",
     "output_type": "stream",
     "text": [
      "JSON Query to api/v1/media/1903805257748031867/info/: HTTP error code 403. [retrying; skip with ^C]\n",
      "JSON Query to api/v1/media/1903805257748031867/info/: HTTP error code 403. [retrying; skip with ^C]\n",
      "Unable to fetch high quality image version of <Post BprrMuNl6l7>: JSON Query to api/v1/media/1903805257748031867/info/: HTTP error code 403.\n"
     ]
    },
    {
     "name": "stdout",
     "output_type": "stream",
     "text": [
      "globalncap/2018-11-02_15-08-13_UTC_1.jpg "
     ]
    },
    {
     "name": "stderr",
     "output_type": "stream",
     "text": [
      "JSON Query to api/v1/media/1903805257748031867/info/: HTTP error code 403. [retrying; skip with ^C]\n",
      "JSON Query to api/v1/media/1903805257748031867/info/: HTTP error code 403. [retrying; skip with ^C]\n",
      "Unable to fetch high quality image version of <Post BprrMuNl6l7>: JSON Query to api/v1/media/1903805257748031867/info/: HTTP error code 403.\n"
     ]
    },
    {
     "name": "stdout",
     "output_type": "stream",
     "text": [
      "globalncap/2018-11-02_15-08-13_UTC_2.jpg "
     ]
    },
    {
     "name": "stderr",
     "output_type": "stream",
     "text": [
      "JSON Query to api/v1/media/1903805257748031867/info/: HTTP error code 403. [retrying; skip with ^C]\n",
      "JSON Query to api/v1/media/1903805257748031867/info/: HTTP error code 403. [retrying; skip with ^C]\n",
      "Unable to fetch high quality image version of <Post BprrMuNl6l7>: JSON Query to api/v1/media/1903805257748031867/info/: HTTP error code 403.\n"
     ]
    },
    {
     "name": "stdout",
     "output_type": "stream",
     "text": [
      "globalncap/2018-11-02_15-08-13_UTC_3.jpg "
     ]
    },
    {
     "name": "stderr",
     "output_type": "stream",
     "text": [
      "JSON Query to api/v1/media/1903805257748031867/info/: HTTP error code 403. [retrying; skip with ^C]\n",
      "JSON Query to api/v1/media/1903805257748031867/info/: HTTP error code 403. [retrying; skip with ^C]\n",
      "Unable to fetch high quality image version of <Post BprrMuNl6l7>: JSON Query to api/v1/media/1903805257748031867/info/: HTTP error code 403.\n"
     ]
    },
    {
     "name": "stdout",
     "output_type": "stream",
     "text": [
      "globalncap/2018-11-02_15-08-13_UTC_4.jpg [New Crash Test Results: Trio …] json \n",
      "Downloaded 70 images from globalncap's profile.\n",
      "Influencer: prithwi.xlsx\n",
      "prithwi/2024-06-01_11-11-17_UTC.jpg [When papa says no big turbo o…] json \n",
      "prithwi/2024-05-21_01-05-41_UTC.jpg [I spent 40 years of my life, …] json \n",
      "prithwi/2024-05-17_05-18-06_UTC.jpg [The most underrated ass shot!…] json \n",
      "prithwi/2024-05-10_02-53-05_UTC.jpg [“Why does she get the lambo??…] json \n",
      "prithwi/2024-04-26_18-24-10_UTC.jpg [And we are TWO!!!! 🎂🎂🥳🥳] json \n",
      "prithwi/2024-04-26_08-11-37_UTC_1.jpg prithwi/2024-04-26_08-11-37_UTC_2.jpg prithwi/2024-04-26_08-11-37_UTC_3.jpg [Happy 2nd my darling Tara & N…] json \n",
      "prithwi/2024-04-18_04-14-34_UTC.jpg [Candid conversation- Tara “GT…] json \n",
      "prithwi/2024-04-11_21-16-20_UTC.jpg [New setup- added more front r…] json \n",
      "prithwi/2024-04-11_13-31-02_UTC.jpg [Finally got some cleaning and…] json \n",
      "prithwi/2024-04-07_08-04-21_UTC_1.jpg prithwi/2024-04-07_08-04-21_UTC_2.jpg [Early mornings are getting ho…] json \n",
      "prithwi/2024-04-06_07-27-20_UTC_1.jpg prithwi/2024-04-06_07-27-20_UTC_2.jpg prithwi/2024-04-06_07-27-20_UTC_3.jpg [More on this superbly lowered…] json \n",
      "prithwi/2024-04-04_08-05-22_UTC.jpg [Uh oh… @bluetokaicoffee] json \n",
      "prithwi/2024-03-25_08-25-54_UTC.jpg [Happy Holi!!! #Holi2024] json \n",
      "prithwi/2024-03-20_11-37-16_UTC.jpg [#RallyeGreen  Photo via : @pr…] json \n",
      "prithwi/2024-03-18_04-58-19_UTC.jpg [Before modding polos was a th…] json \n",
      "prithwi/2024-03-12_15-06-45_UTC.jpg [Chicken! Yum!] json \n",
      "prithwi/2024-02-29_17-55-41_UTC.jpg [Night Drives are the best!!!] json \n",
      "prithwi/2024-02-10_07-52-35_UTC.jpg [Blast from the past.. so good…] json \n",
      "prithwi/2024-01-18_09-41-03_UTC.jpg [Did you say you prefer the VR…] json \n"
     ]
    },
    {
     "name": "stderr",
     "output_type": "stream",
     "text": [
      "JSON Query to api/v1/media/3280111706860539750/info/: HTTP error code 403. [retrying; skip with ^C]\n",
      "JSON Query to api/v1/media/3280111706860539750/info/: HTTP error code 403. [retrying; skip with ^C]\n",
      "Unable to fetch high quality image version of <Post C2FTDf3Bc9m>: JSON Query to api/v1/media/3280111706860539750/info/: HTTP error code 403.\n"
     ]
    },
    {
     "name": "stdout",
     "output_type": "stream",
     "text": [
      "prithwi/2024-01-14_13-43-27_UTC.jpg [My better half…] json \n"
     ]
    },
    {
     "name": "stderr",
     "output_type": "stream",
     "text": [
      "JSON Query to api/v1/media/3275672980393241580/info/: HTTP error code 403. [retrying; skip with ^C]\n",
      "JSON Query to api/v1/media/3275672980393241580/info/: HTTP error code 403. [retrying; skip with ^C]\n",
      "Unable to fetch high quality image version of <Post C11hzhsryvs>: JSON Query to api/v1/media/3275672980393241580/info/: HTTP error code 403.\n"
     ]
    },
    {
     "name": "stdout",
     "output_type": "stream",
     "text": [
      "prithwi/2024-01-08_10-44-30_UTC.jpg [My two little Divas!] json \n"
     ]
    },
    {
     "name": "stderr",
     "output_type": "stream",
     "text": [
      "JSON Query to api/v1/media/3259894017512180658/info/: HTTP error code 403. [retrying; skip with ^C]\n",
      "JSON Query to api/v1/media/3259894017512180658/info/: HTTP error code 403. [retrying; skip with ^C]\n",
      "Unable to fetch high quality image version of <Post C09eFZXPAuy>: JSON Query to api/v1/media/3259894017512180658/info/: HTTP error code 403.\n"
     ]
    },
    {
     "name": "stdout",
     "output_type": "stream",
     "text": [
      "prithwi/2023-12-17_16-14-31_UTC_1.jpg "
     ]
    },
    {
     "name": "stderr",
     "output_type": "stream",
     "text": [
      "JSON Query to api/v1/media/3259894017512180658/info/: HTTP error code 403. [retrying; skip with ^C]\n",
      "JSON Query to api/v1/media/3259894017512180658/info/: HTTP error code 403. [retrying; skip with ^C]\n",
      "Unable to fetch high quality image version of <Post C09eFZXPAuy>: JSON Query to api/v1/media/3259894017512180658/info/: HTTP error code 403.\n"
     ]
    },
    {
     "name": "stdout",
     "output_type": "stream",
     "text": [
      "prithwi/2023-12-17_16-14-31_UTC_2.jpg [Something special about reuni…] json \n"
     ]
    },
    {
     "name": "stderr",
     "output_type": "stream",
     "text": [
      "JSON Query to api/v1/media/3259160296929258917/info/: HTTP error code 403. [retrying; skip with ^C]\n",
      "JSON Query to api/v1/media/3259160296929258917/info/: HTTP error code 403. [retrying; skip with ^C]\n",
      "Unable to fetch high quality image version of <Post C063QW0hm2l>: JSON Query to api/v1/media/3259160296929258917/info/: HTTP error code 403.\n"
     ]
    },
    {
     "name": "stdout",
     "output_type": "stream",
     "text": [
      "prithwi/2023-12-16_15-56-45_UTC.jpg [School kids now have kids.. h…] json \n"
     ]
    },
    {
     "name": "stderr",
     "output_type": "stream",
     "text": [
      "JSON Query to api/v1/media/3237073893297482343/info/: HTTP error code 403. [retrying; skip with ^C]\n",
      "JSON Query to api/v1/media/3237073893297482343/info/: HTTP error code 403. [retrying; skip with ^C]\n",
      "Unable to fetch high quality image version of <Post CzsZY4hr-pn>: JSON Query to api/v1/media/3237073893297482343/info/: HTTP error code 403.\n"
     ]
    },
    {
     "name": "stdout",
     "output_type": "stream",
     "text": [
      "prithwi/2023-11-16_04-35-00_UTC.jpg [#KaliPooja vibes in #kolkata] json \n"
     ]
    },
    {
     "name": "stderr",
     "output_type": "stream",
     "text": [
      "JSON Query to api/v1/media/3237073227577371081/info/: HTTP error code 403. [retrying; skip with ^C]\n",
      "JSON Query to api/v1/media/3237073227577371081/info/: HTTP error code 403. [retrying; skip with ^C]\n",
      "Unable to fetch high quality image version of <Post CzsZPMhrSnJ>: JSON Query to api/v1/media/3237073227577371081/info/: HTTP error code 403.\n"
     ]
    },
    {
     "name": "stdout",
     "output_type": "stream",
     "text": [
      "prithwi/2023-11-16_04-33-41_UTC.jpg [The #RayTwins enjoying #Kolka…] json \n"
     ]
    },
    {
     "name": "stderr",
     "output_type": "stream",
     "text": [
      "JSON Query to api/v1/media/3235951030687781988/info/: HTTP error code 403. [retrying; skip with ^C]\n",
      "JSON Query to api/v1/media/3235951030687781988/info/: HTTP error code 403. [retrying; skip with ^C]\n",
      "Unable to fetch high quality image version of <Post CzoaFFOtFRk>: JSON Query to api/v1/media/3235951030687781988/info/: HTTP error code 403.\n"
     ]
    },
    {
     "name": "stdout",
     "output_type": "stream",
     "text": [
      "prithwi/2023-11-14_15-24-05_UTC.jpg [Happy Birthday my Brother! Mi…] json \n"
     ]
    },
    {
     "name": "stderr",
     "output_type": "stream",
     "text": [
      "JSON Query to api/v1/media/3232109767261186382/info/: HTTP error code 403. [retrying; skip with ^C]\n",
      "JSON Query to api/v1/media/3232109767261186382/info/: HTTP error code 403. [retrying; skip with ^C]\n",
      "Unable to fetch high quality image version of <Post CzawrV4rGlO>: JSON Query to api/v1/media/3232109767261186382/info/: HTTP error code 403.\n"
     ]
    },
    {
     "name": "stdout",
     "output_type": "stream",
     "text": [
      "prithwi/2023-11-09_08-12-10_UTC.jpg [Tara living the #bengali life…] json \n"
     ]
    },
    {
     "name": "stderr",
     "output_type": "stream",
     "text": [
      "JSON Query to api/v1/media/3229389449779980175/info/: HTTP error code 403. [retrying; skip with ^C]\n",
      "JSON Query to api/v1/media/3229389449779980175/info/: HTTP error code 403. [retrying; skip with ^C]\n",
      "Unable to fetch high quality image version of <Post CzRGJgzh6eP>: JSON Query to api/v1/media/3229389449779980175/info/: HTTP error code 403.\n"
     ]
    },
    {
     "name": "stdout",
     "output_type": "stream",
     "text": [
      "prithwi/2023-11-05_14-07-23_UTC.jpg [That excitement for new cars!!!] json \n"
     ]
    },
    {
     "name": "stderr",
     "output_type": "stream",
     "text": [
      "JSON Query to api/v1/media/3226279755527463702/info/: HTTP error code 403. [retrying; skip with ^C]\n",
      "JSON Query to api/v1/media/3226279755527463702/info/: HTTP error code 403. [retrying; skip with ^C]\n",
      "Unable to fetch high quality image version of <Post CzGDFgWP6MW>: JSON Query to api/v1/media/3226279755527463702/info/: HTTP error code 403.\n"
     ]
    },
    {
     "name": "stdout",
     "output_type": "stream",
     "text": [
      "prithwi/2023-11-01_07-08-59_UTC.jpg [A fun meet after ages…] json \n"
     ]
    },
    {
     "name": "stderr",
     "output_type": "stream",
     "text": [
      "JSON Query to api/v1/media/3222158161922626710/info/: HTTP error code 403. [retrying; skip with ^C]\n",
      "JSON Query to api/v1/media/3222158161922626710/info/: HTTP error code 403. [retrying; skip with ^C]\n",
      "Unable to fetch high quality image version of <Post Cy3Z8bLhhSW>: JSON Query to api/v1/media/3222158161922626710/info/: HTTP error code 403.\n"
     ]
    },
    {
     "name": "stdout",
     "output_type": "stream",
     "text": [
      "prithwi/2023-10-26_14-40-07_UTC.jpg [We are 18 months today!!! Hur…] json \n"
     ]
    },
    {
     "name": "stderr",
     "output_type": "stream",
     "text": [
      "JSON Query to api/v1/media/3220034577846570597/info/: HTTP error code 403. [retrying; skip with ^C]\n",
      "JSON Query to api/v1/media/3220034577846570597/info/: HTTP error code 403. [retrying; skip with ^C]\n",
      "Unable to fetch high quality image version of <Post Cyv3GNZBQ5l>: JSON Query to api/v1/media/3220034577846570597/info/: HTTP error code 403.\n"
     ]
    },
    {
     "name": "stdout",
     "output_type": "stream",
     "text": [
      "prithwi/2023-10-23_16-20-56_UTC_1.jpg "
     ]
    },
    {
     "name": "stderr",
     "output_type": "stream",
     "text": [
      "JSON Query to api/v1/media/3220034577846570597/info/: HTTP error code 403. [retrying; skip with ^C]\n",
      "JSON Query to api/v1/media/3220034577846570597/info/: HTTP error code 403. [retrying; skip with ^C]\n",
      "Unable to fetch high quality image version of <Post Cyv3GNZBQ5l>: JSON Query to api/v1/media/3220034577846570597/info/: HTTP error code 403.\n"
     ]
    },
    {
     "name": "stdout",
     "output_type": "stream",
     "text": [
      "prithwi/2023-10-23_16-20-56_UTC_2.jpg [Some JDM flavour for the #T2 …] json \n"
     ]
    },
    {
     "name": "stderr",
     "output_type": "stream",
     "text": [
      "JSON Query to api/v1/media/3219860704593320514/info/: HTTP error code 403. [retrying; skip with ^C]\n",
      "JSON Query to api/v1/media/3219860704593320514/info/: HTTP error code 403. [retrying; skip with ^C]\n",
      "Unable to fetch high quality image version of <Post CyvPkBThhpC>: JSON Query to api/v1/media/3219860704593320514/info/: HTTP error code 403.\n"
     ]
    },
    {
     "name": "stdout",
     "output_type": "stream",
     "text": [
      "prithwi/2023-10-23_10-35-28_UTC_1.jpg "
     ]
    },
    {
     "name": "stderr",
     "output_type": "stream",
     "text": [
      "JSON Query to api/v1/media/3219860704593320514/info/: HTTP error code 403. [retrying; skip with ^C]\n",
      "JSON Query to api/v1/media/3219860704593320514/info/: HTTP error code 403. [retrying; skip with ^C]\n",
      "Unable to fetch high quality image version of <Post CyvPkBThhpC>: JSON Query to api/v1/media/3219860704593320514/info/: HTTP error code 403.\n"
     ]
    },
    {
     "name": "stdout",
     "output_type": "stream",
     "text": [
      "prithwi/2023-10-23_10-35-28_UTC_2.jpg [A review of a different kind……] json \n"
     ]
    },
    {
     "name": "stderr",
     "output_type": "stream",
     "text": [
      "JSON Query to api/v1/media/3199694053889559936/info/: HTTP error code 403. [retrying; skip with ^C]\n",
      "JSON Query to api/v1/media/3199694053889559936/info/: HTTP error code 403. [retrying; skip with ^C]\n",
      "Unable to fetch high quality image version of <Post CxnmMoQBE2A>: JSON Query to api/v1/media/3199694053889559936/info/: HTTP error code 403.\n"
     ]
    },
    {
     "name": "stdout",
     "output_type": "stream",
     "text": [
      "prithwi/2023-09-25_14-47-56_UTC.jpg [Call me weird, but I’ve never…] json \n"
     ]
    },
    {
     "name": "stderr",
     "output_type": "stream",
     "text": [
      "JSON Query to api/v1/media/3187035069059915304/info/: HTTP error code 403. [retrying; skip with ^C]\n",
      "JSON Query to api/v1/media/3187035069059915304/info/: HTTP error code 403. [retrying; skip with ^C]\n",
      "Unable to fetch high quality image version of <Post Cw6n4J6B14o>: JSON Query to api/v1/media/3187035069059915304/info/: HTTP error code 403.\n"
     ]
    },
    {
     "name": "stdout",
     "output_type": "stream",
     "text": [
      "prithwi/2023-09-08_03-36-48_UTC.jpg [Time to graduate then from po…] json \n"
     ]
    },
    {
     "name": "stderr",
     "output_type": "stream",
     "text": [
      "JSON Query to api/v1/media/3183523661952146775/info/: HTTP error code 403. [retrying; skip with ^C]\n",
      "JSON Query to api/v1/media/3183523661952146775/info/: HTTP error code 403. [retrying; skip with ^C]\n",
      "Unable to fetch high quality image version of <Post CwuJedMtV1X>: JSON Query to api/v1/media/3183523661952146775/info/: HTTP error code 403.\n"
     ]
    },
    {
     "name": "stdout",
     "output_type": "stream",
     "text": [
      "prithwi/2023-09-03_07-20-15_UTC.jpg [Be Curious, Not Judgemental..…] json \n"
     ]
    },
    {
     "name": "stderr",
     "output_type": "stream",
     "text": [
      "JSON Query to api/v1/media/3177870327510521987/info/: HTTP error code 403. [retrying; skip with ^C]\n",
      "JSON Query to api/v1/media/3177870327510521987/info/: HTTP error code 403. [retrying; skip with ^C]\n",
      "Unable to fetch high quality image version of <Post CwaEDnNhNiD>: JSON Query to api/v1/media/3177870327510521987/info/: HTTP error code 403.\n"
     ]
    },
    {
     "name": "stdout",
     "output_type": "stream",
     "text": [
      "prithwi/2023-08-26_12-08-05_UTC.jpg [Just another day in @formula2…] json \n"
     ]
    },
    {
     "name": "stderr",
     "output_type": "stream",
     "text": [
      "JSON Query to api/v1/media/3176345614103870009/info/: HTTP error code 403. [retrying; skip with ^C]\n",
      "JSON Query to api/v1/media/3176345614103870009/info/: HTTP error code 403. [retrying; skip with ^C]\n",
      "Unable to fetch high quality image version of <Post CwUpYHMh_o5>: JSON Query to api/v1/media/3176345614103870009/info/: HTTP error code 403.\n"
     ]
    },
    {
     "name": "stdout",
     "output_type": "stream",
     "text": [
      "prithwi/2023-08-24_09-38-45_UTC.jpg [My my… look how big these two…] json \n"
     ]
    },
    {
     "name": "stderr",
     "output_type": "stream",
     "text": [
      "JSON Query to api/v1/media/3159131069928996654/info/: HTTP error code 403. [retrying; skip with ^C]\n",
      "JSON Query to api/v1/media/3159131069928996654/info/: HTTP error code 403. [retrying; skip with ^C]\n",
      "Unable to fetch high quality image version of <Post CvXfPhmBH8u>: JSON Query to api/v1/media/3159131069928996654/info/: HTTP error code 403.\n"
     ]
    },
    {
     "name": "stdout",
     "output_type": "stream",
     "text": [
      "prithwi/2023-07-31_15-36-32_UTC.jpg [Come on @haasf1team ! Your yo…] json \n"
     ]
    },
    {
     "name": "stderr",
     "output_type": "stream",
     "text": [
      "JSON Query to api/v1/media/3147280842056553086/info/: HTTP error code 403. [retrying; skip with ^C]\n",
      "JSON Query to api/v1/media/3147280842056553086/info/: HTTP error code 403. [retrying; skip with ^C]\n",
      "Unable to fetch high quality image version of <Post CutY0A3LFJ->: JSON Query to api/v1/media/3147280842056553086/info/: HTTP error code 403.\n"
     ]
    },
    {
     "name": "stdout",
     "output_type": "stream",
     "text": [
      "prithwi/2023-07-15_07-12-14_UTC.jpg [Finally we get to play with c…] json \n"
     ]
    },
    {
     "name": "stderr",
     "output_type": "stream",
     "text": [
      "JSON Query to api/v1/media/3140775760003632396/info/: HTTP error code 403. [retrying; skip with ^C]\n",
      "JSON Query to api/v1/media/3140775760003632396/info/: HTTP error code 403. [retrying; skip with ^C]\n",
      "Unable to fetch high quality image version of <Post CuWRunGLI0M>: JSON Query to api/v1/media/3140775760003632396/info/: HTTP error code 403.\n"
     ]
    },
    {
     "name": "stdout",
     "output_type": "stream",
     "text": [
      "prithwi/2023-07-06_07-47-48_UTC.jpg [Did anyone say #Skoda #Octavi…] json \n"
     ]
    },
    {
     "name": "stderr",
     "output_type": "stream",
     "text": [
      "JSON Query to api/v1/media/3135003374874211205/info/: HTTP error code 403. [retrying; skip with ^C]\n",
      "JSON Query to api/v1/media/3135003374874211205/info/: HTTP error code 403. [retrying; skip with ^C]\n",
      "Unable to fetch high quality image version of <Post CuBxPWhBzOF>: JSON Query to api/v1/media/3135003374874211205/info/: HTTP error code 403.\n"
     ]
    },
    {
     "name": "stdout",
     "output_type": "stream",
     "text": [
      "prithwi/2023-06-28_08-39-06_UTC.jpg [When a tiny JDM kei car blows…] json \n"
     ]
    },
    {
     "name": "stderr",
     "output_type": "stream",
     "text": [
      "JSON Query to api/v1/media/3129787755241343731/info/: HTTP error code 403. [retrying; skip with ^C]\n",
      "JSON Query to api/v1/media/3129787755241343731/info/: HTTP error code 403. [retrying; skip with ^C]\n"
     ]
    },
    {
     "name": "stdout",
     "output_type": "stream",
     "text": [
      "prithwi/2023-06-21_03-56-36_UTC.jpg "
     ]
    },
    {
     "name": "stderr",
     "output_type": "stream",
     "text": [
      "Unable to fetch high quality image version of <Post CtvPWGNhwrz>: JSON Query to api/v1/media/3129787755241343731/info/: HTTP error code 403.\n"
     ]
    },
    {
     "name": "stdout",
     "output_type": "stream",
     "text": [
      "[When the T2 shows up to a mee…] json \n"
     ]
    },
    {
     "name": "stderr",
     "output_type": "stream",
     "text": [
      "JSON Query to api/v1/media/3128753131719331705/info/: HTTP error code 403. [retrying; skip with ^C]\n",
      "JSON Query to api/v1/media/3128753131719331705/info/: HTTP error code 403. [retrying; skip with ^C]\n",
      "Unable to fetch high quality image version of <Post CtrkGV-BY95>: JSON Query to api/v1/media/3128753131719331705/info/: HTTP error code 403.\n"
     ]
    },
    {
     "name": "stdout",
     "output_type": "stream",
     "text": [
      "prithwi/2023-06-19_17-40-59_UTC.jpg [Here’s to another year…  Happ…] json \n"
     ]
    },
    {
     "name": "stderr",
     "output_type": "stream",
     "text": [
      "JSON Query to api/v1/media/3128604333989702404/info/: HTTP error code 403. [retrying; skip with ^C]\n",
      "JSON Query to api/v1/media/3128604333989702404/info/: HTTP error code 403. [retrying; skip with ^C]\n",
      "Unable to fetch high quality image version of <Post CtrCRDSNCsE>: JSON Query to api/v1/media/3128604333989702404/info/: HTTP error code 403.\n"
     ]
    },
    {
     "name": "stdout",
     "output_type": "stream",
     "text": [
      "prithwi/2023-06-19_12-45-21_UTC.jpg [Happy Father’s Day!] json \n"
     ]
    },
    {
     "name": "stderr",
     "output_type": "stream",
     "text": [
      "JSON Query to api/v1/media/3123549463990557193/info/: HTTP error code 403. [retrying; skip with ^C]\n",
      "JSON Query to api/v1/media/3123549463990557193/info/: HTTP error code 403. [retrying; skip with ^C]\n",
      "Unable to fetch high quality image version of <Post CtZE7AvhNoJ>: JSON Query to api/v1/media/3123549463990557193/info/: HTTP error code 403.\n"
     ]
    },
    {
     "name": "stdout",
     "output_type": "stream",
     "text": [
      "prithwi/2023-06-12_13-22-14_UTC.jpg [What did dad just say??!!?? #…] json \n"
     ]
    },
    {
     "name": "stderr",
     "output_type": "stream",
     "text": [
      "JSON Query to api/v1/media/3123292153836742356/info/: HTTP error code 403. [retrying; skip with ^C]\n",
      "JSON Query to api/v1/media/3123292153836742356/info/: HTTP error code 403. [retrying; skip with ^C]\n",
      "Unable to fetch high quality image version of <Post CtYKap_NCbU>: JSON Query to api/v1/media/3123292153836742356/info/: HTTP error code 403.\n"
     ]
    },
    {
     "name": "stdout",
     "output_type": "stream",
     "text": [
      "prithwi/2023-06-12_04-51-00_UTC.jpg [One with the #T2 ⚡️ This show…] json \n"
     ]
    },
    {
     "name": "stderr",
     "output_type": "stream",
     "text": [
      "JSON Query to api/v1/media/3122710362387155419/info/: HTTP error code 403. [retrying; skip with ^C]\n",
      "JSON Query to api/v1/media/3122710362387155419/info/: HTTP error code 403. [retrying; skip with ^C]\n",
      "Unable to fetch high quality image version of <Post CtWGIeehInb>: JSON Query to api/v1/media/3122710362387155419/info/: HTTP error code 403.\n"
     ]
    },
    {
     "name": "stdout",
     "output_type": "stream",
     "text": [
      "prithwi/2023-06-11_09-35-05_UTC.jpg [My little Simba! #Tara] json \n"
     ]
    },
    {
     "name": "stderr",
     "output_type": "stream",
     "text": [
      "JSON Query to api/v1/media/3119852806962896609/info/: HTTP error code 403. [retrying; skip with ^C]\n",
      "JSON Query to api/v1/media/3119852806962896609/info/: HTTP error code 403. [retrying; skip with ^C]\n",
      "Unable to fetch high quality image version of <Post CtL8Zkmh17h>: JSON Query to api/v1/media/3119852806962896609/info/: HTTP error code 403.\n"
     ]
    },
    {
     "name": "stdout",
     "output_type": "stream",
     "text": [
      "prithwi/2023-06-07_10-57-38_UTC.jpg [Well this was an interesting …] json \n"
     ]
    },
    {
     "name": "stderr",
     "output_type": "stream",
     "text": [
      "JSON Query to api/v1/media/3115335859130807334/info/: HTTP error code 403. [retrying; skip with ^C]\n",
      "JSON Query to api/v1/media/3115335859130807334/info/: HTTP error code 403. [retrying; skip with ^C]\n",
      "Unable to fetch high quality image version of <Post Cs75XVHhzQm>: JSON Query to api/v1/media/3115335859130807334/info/: HTTP error code 403.\n"
     ]
    },
    {
     "name": "stdout",
     "output_type": "stream",
     "text": [
      "prithwi/2023-06-01_05-23-16_UTC.jpg [I’m Batman!🤪] json \n"
     ]
    },
    {
     "name": "stderr",
     "output_type": "stream",
     "text": [
      "JSON Query to api/v1/media/3114246882713745534/info/: HTTP error code 403. [retrying; skip with ^C]\n",
      "JSON Query to api/v1/media/3114246882713745534/info/: HTTP error code 403. [retrying; skip with ^C]\n",
      "Unable to fetch high quality image version of <Post Cs4BwozBTh->: JSON Query to api/v1/media/3114246882713745534/info/: HTTP error code 403.\n"
     ]
    },
    {
     "name": "stdout",
     "output_type": "stream",
     "text": [
      "prithwi/2023-05-30_17-19-40_UTC.jpg [Noor is getting her fortune t…] json \n"
     ]
    },
    {
     "name": "stderr",
     "output_type": "stream",
     "text": [
      "JSON Query to api/v1/media/3110351924389429359/info/: HTTP error code 403. [retrying; skip with ^C]\n",
      "JSON Query to api/v1/media/3110351924389429359/info/: HTTP error code 403. [retrying; skip with ^C]\n",
      "Unable to fetch high quality image version of <Post CsqMJiLr0Bv>: JSON Query to api/v1/media/3110351924389429359/info/: HTTP error code 403.\n"
     ]
    },
    {
     "name": "stdout",
     "output_type": "stream",
     "text": [
      "prithwi/2023-05-25_08-21-04_UTC.jpg [Listen to Noor!  She is alway…] json \n"
     ]
    },
    {
     "name": "stderr",
     "output_type": "stream",
     "text": [
      "JSON Query to api/v1/media/3105634962184087334/info/: HTTP error code 403. [retrying; skip with ^C]\n",
      "JSON Query to api/v1/media/3105634962184087334/info/: HTTP error code 403. [retrying; skip with ^C]\n",
      "Unable to fetch high quality image version of <Post CsZboszBCcm>: JSON Query to api/v1/media/3105634962184087334/info/: HTTP error code 403.\n"
     ]
    },
    {
     "name": "stdout",
     "output_type": "stream",
     "text": [
      "prithwi/2023-05-18_20-09-19_UTC.jpg [And that’s a GOOD NIGHT to yo…] json \n"
     ]
    },
    {
     "name": "stderr",
     "output_type": "stream",
     "text": [
      "JSON Query to api/v1/media/3098803303344918431/info/: HTTP error code 403. [retrying; skip with ^C]\n",
      "JSON Query to api/v1/media/3098803303344918431/info/: HTTP error code 403. [retrying; skip with ^C]\n",
      "Unable to fetch high quality image version of <Post CsBKS-srk-f>: JSON Query to api/v1/media/3098803303344918431/info/: HTTP error code 403.\n"
     ]
    },
    {
     "name": "stdout",
     "output_type": "stream",
     "text": [
      "prithwi/2023-05-09_09-56-01_UTC.jpg [Tara realising what a goofbal…] json \n"
     ]
    },
    {
     "name": "stderr",
     "output_type": "stream",
     "text": [
      "JSON Query to api/v1/media/3096078785645607179/info/: HTTP error code 403. [retrying; skip with ^C]\n",
      "JSON Query to api/v1/media/3096078785645607179/info/: HTTP error code 403. [retrying; skip with ^C]\n",
      "Unable to fetch high quality image version of <Post Cr3e0B3B3kL>: JSON Query to api/v1/media/3096078785645607179/info/: HTTP error code 403.\n"
     ]
    },
    {
     "name": "stdout",
     "output_type": "stream",
     "text": [
      "prithwi/2023-05-05_15-42-54_UTC.jpg [Tara doing her thing…] json \n"
     ]
    },
    {
     "name": "stderr",
     "output_type": "stream",
     "text": [
      "JSON Query to api/v1/media/3093190042181786511/info/: HTTP error code 403. [retrying; skip with ^C]\n",
      "JSON Query to api/v1/media/3093190042181786511/info/: HTTP error code 403. [retrying; skip with ^C]\n",
      "Unable to fetch high quality image version of <Post CrtN_R3BVuP>: JSON Query to api/v1/media/3093190042181786511/info/: HTTP error code 403.\n"
     ]
    },
    {
     "name": "stdout",
     "output_type": "stream",
     "text": [
      "prithwi/2023-05-01_16-03-29_UTC.jpg [Feed them Cake! Also please n…] json \n"
     ]
    },
    {
     "name": "stderr",
     "output_type": "stream",
     "text": [
      "JSON Query to api/v1/media/3093120310560776222/info/: HTTP error code 403. [retrying; skip with ^C]\n",
      "JSON Query to api/v1/media/3093120310560776222/info/: HTTP error code 403. [retrying; skip with ^C]\n",
      "Unable to fetch high quality image version of <Post Crs-IjOhWAe>: JSON Query to api/v1/media/3093120310560776222/info/: HTTP error code 403.\n"
     ]
    },
    {
     "name": "stdout",
     "output_type": "stream",
     "text": [
      "prithwi/2023-05-01_13-44-56_UTC.jpg [What an epic Sunday Drive thi…] json \n"
     ]
    },
    {
     "name": "stderr",
     "output_type": "stream",
     "text": [
      "JSON Query to api/v1/media/3091368145109521060/info/: HTTP error code 403. [retrying; skip with ^C]\n",
      "JSON Query to api/v1/media/3091368145109521060/info/: HTTP error code 403. [retrying; skip with ^C]\n",
      "Unable to fetch high quality image version of <Post CrmvvL_NhKk>: JSON Query to api/v1/media/3091368145109521060/info/: HTTP error code 403.\n"
     ]
    },
    {
     "name": "stdout",
     "output_type": "stream",
     "text": [
      "prithwi/2023-04-29_03-43-42_UTC.jpg [The family getting together i…] json \n"
     ]
    },
    {
     "name": "stderr",
     "output_type": "stream",
     "text": [
      "JSON Query to api/v1/media/3091367209922208818/info/: HTTP error code 403. [retrying; skip with ^C]\n",
      "JSON Query to api/v1/media/3091367209922208818/info/: HTTP error code 403. [retrying; skip with ^C]\n",
      "Unable to fetch high quality image version of <Post CrmvhlBtCQy>: JSON Query to api/v1/media/3091367209922208818/info/: HTTP error code 403.\n"
     ]
    },
    {
     "name": "stdout",
     "output_type": "stream",
     "text": [
      "prithwi/2023-04-29_03-41-50_UTC.jpg [My two little angles are now …] json \n"
     ]
    },
    {
     "name": "stderr",
     "output_type": "stream",
     "text": [
      "JSON Query to api/v1/media/3086525348711327611/info/: HTTP error code 403. [retrying; skip with ^C]\n",
      "JSON Query to api/v1/media/3086525348711327611/info/: HTTP error code 403. [retrying; skip with ^C]\n",
      "Unable to fetch high quality image version of <Post CrVinOYLWd7>: JSON Query to api/v1/media/3086525348711327611/info/: HTTP error code 403.\n"
     ]
    },
    {
     "name": "stdout",
     "output_type": "stream",
     "text": [
      "prithwi/2023-04-22_11-21-55_UTC_1.jpg "
     ]
    },
    {
     "name": "stderr",
     "output_type": "stream",
     "text": [
      "JSON Query to api/v1/media/3086525348711327611/info/: HTTP error code 403. [retrying; skip with ^C]\n",
      "JSON Query to api/v1/media/3086525348711327611/info/: HTTP error code 403. [retrying; skip with ^C]\n",
      "Unable to fetch high quality image version of <Post CrVinOYLWd7>: JSON Query to api/v1/media/3086525348711327611/info/: HTTP error code 403.\n"
     ]
    },
    {
     "name": "stdout",
     "output_type": "stream",
     "text": [
      "prithwi/2023-04-22_11-21-55_UTC_2.jpg [We got our first 💇‍♀️ 🥰🥰] json \n"
     ]
    },
    {
     "name": "stderr",
     "output_type": "stream",
     "text": [
      "JSON Query to api/v1/media/3079968264150764538/info/: HTTP error code 403. [retrying; skip with ^C]\n",
      "JSON Query to api/v1/media/3079968264150764538/info/: HTTP error code 403. [retrying; skip with ^C]\n",
      "Unable to fetch high quality image version of <Post Cq-PtFgLsv6>: JSON Query to api/v1/media/3079968264150764538/info/: HTTP error code 403.\n"
     ]
    },
    {
     "name": "stdout",
     "output_type": "stream",
     "text": [
      "prithwi/2023-04-13_10-14-10_UTC.jpg [Picture Perfect stance.. #Sko…] json \n"
     ]
    },
    {
     "name": "stderr",
     "output_type": "stream",
     "text": [
      "JSON Query to api/v1/media/3078087311045787041/info/: HTTP error code 403. [retrying; skip with ^C]\n",
      "JSON Query to api/v1/media/3078087311045787041/info/: HTTP error code 403. [retrying; skip with ^C]\n",
      "Unable to fetch high quality image version of <Post Cq3kBnahX2h>: JSON Query to api/v1/media/3078087311045787041/info/: HTTP error code 403.\n"
     ]
    },
    {
     "name": "stdout",
     "output_type": "stream",
     "text": [
      "prithwi/2023-04-10_19-57-03_UTC.jpg [Entertainment is guaranteed! …] json \n"
     ]
    },
    {
     "name": "stderr",
     "output_type": "stream",
     "text": [
      "JSON Query to api/v1/media/3077927942559714899/info/: HTTP error code 401. [retrying; skip with ^C]\n",
      "JSON Query to api/v1/media/3077927942559714899/info/: HTTP error code 401. [retrying; skip with ^C]\n",
      "Unable to fetch high quality image version of <Post Cq2_yf8hU5T>: JSON Query to api/v1/media/3077927942559714899/info/: HTTP error code 401.\n"
     ]
    },
    {
     "name": "stdout",
     "output_type": "stream",
     "text": [
      "prithwi/2023-04-10_14-40-25_UTC.jpg [It’s a #Honda kinda day!  #vt…] json \n"
     ]
    },
    {
     "name": "stderr",
     "output_type": "stream",
     "text": [
      "JSON Query to api/v1/media/3077246826236564461/info/: HTTP error code 401. [retrying; skip with ^C]\n",
      "JSON Query to api/v1/media/3077246826236564461/info/: HTTP error code 401. [retrying; skip with ^C]\n",
      "Unable to fetch high quality image version of <Post Cq0k688B1Pt>: JSON Query to api/v1/media/3077246826236564461/info/: HTTP error code 401.\n"
     ]
    },
    {
     "name": "stdout",
     "output_type": "stream",
     "text": [
      "prithwi/2023-04-09_16-07-09_UTC.jpg [Noor’s too busy eating carrot…] json \n"
     ]
    },
    {
     "name": "stderr",
     "output_type": "stream",
     "text": [
      "JSON Query to api/v1/media/3077153297795575273/info/: HTTP error code 401. [retrying; skip with ^C]\n",
      "JSON Query to api/v1/media/3077153297795575273/info/: HTTP error code 401. [retrying; skip with ^C]\n",
      "Unable to fetch high quality image version of <Post Cq0Pp7yhu3p>: JSON Query to api/v1/media/3077153297795575273/info/: HTTP error code 401.\n"
     ]
    },
    {
     "name": "stdout",
     "output_type": "stream",
     "text": [
      "prithwi/2023-04-09_13-01-20_UTC.jpg [Tara contemplating the meanin…] json \n"
     ]
    },
    {
     "name": "stderr",
     "output_type": "stream",
     "text": [
      "JSON Query to api/v1/media/3075451443204727644/info/: HTTP error code 401. [retrying; skip with ^C]\n",
      "JSON Query to api/v1/media/3075451443204727644/info/: HTTP error code 401. [retrying; skip with ^C]\n",
      "Unable to fetch high quality image version of <Post CquMssMLiNc>: JSON Query to api/v1/media/3075451443204727644/info/: HTTP error code 401.\n"
     ]
    },
    {
     "name": "stdout",
     "output_type": "stream",
     "text": [
      "prithwi/2023-04-07_04-40-03_UTC_1.jpg "
     ]
    },
    {
     "name": "stderr",
     "output_type": "stream",
     "text": [
      "JSON Query to api/v1/media/3075451443204727644/info/: HTTP error code 401. [retrying; skip with ^C]\n",
      "JSON Query to api/v1/media/3075451443204727644/info/: HTTP error code 401. [retrying; skip with ^C]\n",
      "Unable to fetch high quality image version of <Post CquMssMLiNc>: JSON Query to api/v1/media/3075451443204727644/info/: HTTP error code 401.\n"
     ]
    },
    {
     "name": "stdout",
     "output_type": "stream",
     "text": [
      "prithwi/2023-04-07_04-40-03_UTC_2.jpg "
     ]
    },
    {
     "name": "stderr",
     "output_type": "stream",
     "text": [
      "JSON Query to api/v1/media/3075451443204727644/info/: HTTP error code 401. [retrying; skip with ^C]\n",
      "JSON Query to api/v1/media/3075451443204727644/info/: HTTP error code 401. [retrying; skip with ^C]\n",
      "Unable to fetch high quality image version of <Post CquMssMLiNc>: JSON Query to api/v1/media/3075451443204727644/info/: HTTP error code 401.\n"
     ]
    },
    {
     "name": "stdout",
     "output_type": "stream",
     "text": [
      "prithwi/2023-04-07_04-40-03_UTC_3.jpg [Brake—>Point—>Shoot  #trackdays] json \n"
     ]
    },
    {
     "name": "stderr",
     "output_type": "stream",
     "text": [
      "JSON Query to api/v1/media/3073397551994431037/info/: HTTP error code 401. [retrying; skip with ^C]\n",
      "JSON Query to api/v1/media/3073397551994431037/info/: HTTP error code 401. [retrying; skip with ^C]\n",
      "Unable to fetch high quality image version of <Post Cqm5so8LuY9>: JSON Query to api/v1/media/3073397551994431037/info/: HTTP error code 401.\n"
     ]
    },
    {
     "name": "stdout",
     "output_type": "stream",
     "text": [
      "prithwi/2023-04-04_08-39-20_UTC.jpg [Coilovers vs Euro Springs.. s…] json \n"
     ]
    },
    {
     "name": "stderr",
     "output_type": "stream",
     "text": [
      "JSON Query to api/v1/media/3073355234881283898/info/: HTTP error code 403. [retrying; skip with ^C]\n",
      "JSON Query to api/v1/media/3073355234881283898/info/: HTTP error code 403. [retrying; skip with ^C]\n",
      "Unable to fetch high quality image version of <Post CqmwE2Dr6c6>: JSON Query to api/v1/media/3073355234881283898/info/: HTTP error code 403.\n"
     ]
    },
    {
     "name": "stdout",
     "output_type": "stream",
     "text": [
      "prithwi/2023-04-04_07-15-15_UTC.jpg [Straight out of #GranTurismo …] json \n"
     ]
    },
    {
     "name": "stderr",
     "output_type": "stream",
     "text": [
      "JSON Query to api/v1/media/3070468793721194933/info/: HTTP error code 403. [retrying; skip with ^C]\n",
      "JSON Query to api/v1/media/3070468793721194933/info/: HTTP error code 403. [retrying; skip with ^C]\n",
      "Unable to fetch high quality image version of <Post CqcfxmPrIm1>: JSON Query to api/v1/media/3070468793721194933/info/: HTTP error code 403.\n"
     ]
    },
    {
     "name": "stdout",
     "output_type": "stream",
     "text": [
      "prithwi/2023-03-31_07-40-25_UTC.jpg [Back to when our cars were sl…] json \n"
     ]
    },
    {
     "name": "stderr",
     "output_type": "stream",
     "text": [
      "JSON Query to api/v1/media/3068559279260058524/info/: HTTP error code 403. [retrying; skip with ^C]\n",
      "JSON Query to api/v1/media/3068559279260058524/info/: HTTP error code 403. [retrying; skip with ^C]\n",
      "Unable to fetch high quality image version of <Post CqVtmgUhkOc>: JSON Query to api/v1/media/3068559279260058524/info/: HTTP error code 403.\n"
     ]
    },
    {
     "name": "stdout",
     "output_type": "stream",
     "text": [
      "prithwi/2023-03-28_16-26-33_UTC.jpg [It was great catching up with…] json \n"
     ]
    },
    {
     "name": "stderr",
     "output_type": "stream",
     "text": [
      "JSON Query to api/v1/media/3067818408373731271/info/: HTTP error code 403. [retrying; skip with ^C]\n",
      "JSON Query to api/v1/media/3067818408373731271/info/: HTTP error code 403. [retrying; skip with ^C]\n",
      "Unable to fetch high quality image version of <Post CqTFJaihT_H>: JSON Query to api/v1/media/3067818408373731271/info/: HTTP error code 403.\n"
     ]
    },
    {
     "name": "stdout",
     "output_type": "stream",
     "text": [
      "prithwi/2023-03-27_15-54-34_UTC.jpg [And the Spring Track season c…] json \n",
      "Downloaded 70 images from prithwi's profile.\n",
      "Influencer: arppithaandaa.xlsx\n",
      "arppithaandaa/2023-11-13_04-39-54_UTC_1.jpg arppithaandaa/2023-11-13_04-39-54_UTC_2.jpg arppithaandaa/2023-11-13_04-39-54_UTC_3.jpg arppithaandaa/2023-11-13_04-39-54_UTC_4.jpg arppithaandaa/2023-11-13_04-39-54_UTC_5.jpg arppithaandaa/2023-11-13_04-39-54_UTC_6.jpg arppithaandaa/2023-11-13_04-39-54_UTC_7.jpg arppithaandaa/2023-11-13_04-39-54_UTC_8.jpg arppithaandaa/2023-11-13_04-39-54_UTC_9.jpg arppithaandaa/2023-11-13_04-39-54_UTC_10.jpg [We see and hear that a lot of…] json \n",
      "arppithaandaa/2023-11-06_08-42-43_UTC_1.jpg arppithaandaa/2023-11-06_08-42-43_UTC_2.jpg arppithaandaa/2023-11-06_08-42-43_UTC_3.jpg arppithaandaa/2023-11-06_08-42-43_UTC_4.jpg arppithaandaa/2023-11-06_08-42-43_UTC_5.jpg arppithaandaa/2023-11-06_08-42-43_UTC_6.jpg arppithaandaa/2023-11-06_08-42-43_UTC_7.jpg [Mercedes-Benz India recently …] json \n",
      "arppithaandaa/2023-11-03_12-08-00_UTC_1.jpg arppithaandaa/2023-11-03_12-08-00_UTC_2.jpg arppithaandaa/2023-11-03_12-08-00_UTC_3.jpg arppithaandaa/2023-11-03_12-08-00_UTC_4.jpg [#ODFeature Here's the spec co…] json \n",
      "arppithaandaa/2023-11-03_07-29-17_UTC_1.jpg arppithaandaa/2023-11-03_07-29-17_UTC_2.jpg arppithaandaa/2023-11-03_07-29-17_UTC_3.jpg arppithaandaa/2023-11-03_07-29-17_UTC_4.jpg arppithaandaa/2023-11-03_07-29-17_UTC_5.jpg arppithaandaa/2023-11-03_07-29-17_UTC_6.jpg [Spec comparisons are always f…] json \n",
      "arppithaandaa/2023-11-02_09-21-50_UTC_1.jpg arppithaandaa/2023-11-02_09-21-50_UTC_2.jpg arppithaandaa/2023-11-02_09-21-50_UTC_3.jpg arppithaandaa/2023-11-02_09-21-50_UTC_4.jpg arppithaandaa/2023-11-02_09-21-50_UTC_5.jpg arppithaandaa/2023-11-02_09-21-50_UTC_6.jpg arppithaandaa/2023-11-02_09-21-50_UTC_7.jpg arppithaandaa/2023-11-02_09-21-50_UTC_8.jpg arppithaandaa/2023-11-02_09-21-50_UTC_9.jpg [Have a look at the newly laun…] json \n",
      "arppithaandaa/2023-11-02_09-10-56_UTC_1.jpg arppithaandaa/2023-11-02_09-10-56_UTC_2.jpg arppithaandaa/2023-11-02_09-10-56_UTC_3.jpg arppithaandaa/2023-11-02_09-10-56_UTC_4.jpg arppithaandaa/2023-11-02_09-10-56_UTC_5.jpg arppithaandaa/2023-11-02_09-10-56_UTC_6.jpg arppithaandaa/2023-11-02_09-10-56_UTC_7.jpg arppithaandaa/2023-11-02_09-10-56_UTC_8.jpg arppithaandaa/2023-11-02_09-10-56_UTC_9.jpg arppithaandaa/2023-11-02_09-10-56_UTC_10.jpg [Here’s a close look at the ne…] json \n",
      "arppithaandaa/2023-10-16_11-56-57_UTC_1.jpg arppithaandaa/2023-10-16_11-56-57_UTC_2.jpg arppithaandaa/2023-10-16_11-56-57_UTC_3.jpg arppithaandaa/2023-10-16_11-56-57_UTC_4.jpg arppithaandaa/2023-10-16_11-56-57_UTC_5.jpg [Here’s a quick spec compariso…] json \n",
      "arppithaandaa/2023-10-11_08-41-25_UTC_1.jpg arppithaandaa/2023-10-11_08-41-25_UTC_2.jpg arppithaandaa/2023-10-11_08-41-25_UTC_3.jpg arppithaandaa/2023-10-11_08-41-25_UTC_4.jpg arppithaandaa/2023-10-11_08-41-25_UTC_5.jpg arppithaandaa/2023-10-11_08-41-25_UTC_6.jpg arppithaandaa/2023-10-11_08-41-25_UTC_7.jpg arppithaandaa/2023-10-11_08-41-25_UTC_8.jpg arppithaandaa/2023-10-11_08-41-25_UTC_9.jpg arppithaandaa/2023-10-11_08-41-25_UTC_10.jpg [#ODGallery Mercedes Benz Indi…] json \n",
      "arppithaandaa/2023-10-10_11-31-24_UTC_1.jpg arppithaandaa/2023-10-10_11-31-24_UTC_2.jpg [Here’s your look at the Top5 …] json \n",
      "arppithaandaa/2023-10-10_08-30-53_UTC_1.jpg arppithaandaa/2023-10-10_08-30-53_UTC_2.jpg arppithaandaa/2023-10-10_08-30-53_UTC_3.jpg arppithaandaa/2023-10-10_08-30-53_UTC_4.jpg arppithaandaa/2023-10-10_08-30-53_UTC_5.jpg arppithaandaa/2023-10-10_08-30-53_UTC_6.jpg [Here is your look at the best…] json \n",
      "arppithaandaa/2023-09-28_15-51-01_UTC_1.jpg arppithaandaa/2023-09-28_15-51-01_UTC_2.jpg arppithaandaa/2023-09-28_15-51-01_UTC_3.jpg arppithaandaa/2023-09-28_15-51-01_UTC_4.jpg arppithaandaa/2023-09-28_15-51-01_UTC_5.jpg [#ODFeature BMW India launched…] json \n",
      "arppithaandaa/2023-09-18_13-25-36_UTC_1.jpg arppithaandaa/2023-09-18_13-25-36_UTC_2.jpg arppithaandaa/2023-09-18_13-25-36_UTC_3.jpg arppithaandaa/2023-09-18_13-25-36_UTC_4.jpg [Here’s a quick look at the pr…] json \n",
      "arppithaandaa/2023-09-15_12-25-22_UTC_1.jpg arppithaandaa/2023-09-15_12-25-22_UTC_2.jpg arppithaandaa/2023-09-15_12-25-22_UTC_3.jpg arppithaandaa/2023-09-15_12-25-22_UTC_4.jpg arppithaandaa/2023-09-15_12-25-22_UTC_5.jpg arppithaandaa/2023-09-15_12-25-22_UTC_6.jpg [#ODFeature Mercedes Benz laun…] json \n",
      "arppithaandaa/2023-09-14_13-03-43_UTC_1.jpg arppithaandaa/2023-09-14_13-03-43_UTC_2.jpg arppithaandaa/2023-09-14_13-03-43_UTC_3.jpg arppithaandaa/2023-09-14_13-03-43_UTC_4.jpg arppithaandaa/2023-09-14_13-03-43_UTC_5.jpg arppithaandaa/2023-09-14_13-03-43_UTC_6.jpg arppithaandaa/2023-09-14_13-03-43_UTC_7.jpg arppithaandaa/2023-09-14_13-03-43_UTC_8.jpg [Earlier today Tata Motors lau…] json \n",
      "arppithaandaa/2023-09-12_06-48-44_UTC_1.jpg arppithaandaa/2023-09-12_06-48-44_UTC_2.jpg arppithaandaa/2023-09-12_06-48-44_UTC_3.jpg [Kawasaki launched the Ninja Z…] json \n",
      "arppithaandaa/2023-09-11_10-31-48_UTC_1.jpg arppithaandaa/2023-09-11_10-31-48_UTC_2.jpg arppithaandaa/2023-09-11_10-31-48_UTC_3.jpg arppithaandaa/2023-09-11_10-31-48_UTC_4.jpg arppithaandaa/2023-09-11_10-31-48_UTC_5.jpg arppithaandaa/2023-09-11_10-31-48_UTC_6.jpg arppithaandaa/2023-09-11_10-31-48_UTC_7.jpg arppithaandaa/2023-09-11_10-31-48_UTC_8.jpg [KTM just announced the launch…] json \n",
      "arppithaandaa/2023-09-08_11-57-26_UTC_1.jpg arppithaandaa/2023-09-08_11-57-26_UTC_2.jpg arppithaandaa/2023-09-08_11-57-26_UTC_3.jpg arppithaandaa/2023-09-08_11-57-26_UTC_4.jpg [#ODFeature Sibling Rivalry! T…] json \n",
      "arppithaandaa/2023-09-07_19-03-53_UTC_1.jpg arppithaandaa/2023-09-07_19-03-53_UTC_2.jpg arppithaandaa/2023-09-07_19-03-53_UTC_3.jpg arppithaandaa/2023-09-07_19-03-53_UTC_4.jpg arppithaandaa/2023-09-07_19-03-53_UTC_5.jpg arppithaandaa/2023-09-07_19-03-53_UTC_6.jpg arppithaandaa/2023-09-07_19-03-53_UTC_7.jpg [#ODNews Here's some exciting …] json \n",
      "arppithaandaa/2023-09-06_14-20-40_UTC_1.jpg arppithaandaa/2023-09-06_14-20-40_UTC_2.jpg arppithaandaa/2023-09-06_14-20-40_UTC_3.jpg arppithaandaa/2023-09-06_14-20-40_UTC_4.jpg arppithaandaa/2023-09-06_14-20-40_UTC_5.jpg arppithaandaa/2023-09-06_14-20-40_UTC_6.jpg arppithaandaa/2023-09-06_14-20-40_UTC_7.jpg [Here’s how the newly launched…] json \n",
      "arppithaandaa/2023-09-01_08-25-04_UTC_1.jpg arppithaandaa/2023-09-01_08-25-04_UTC_2.jpg arppithaandaa/2023-09-01_08-25-04_UTC_3.jpg arppithaandaa/2023-09-01_08-25-04_UTC_4.jpg arppithaandaa/2023-09-01_08-25-04_UTC_5.jpg [With the launch of the Royal …] json \n",
      "arppithaandaa/2023-08-18_07-39-04_UTC_1.jpg arppithaandaa/2023-08-18_07-39-04_UTC_2.jpg arppithaandaa/2023-08-18_07-39-04_UTC_3.jpg arppithaandaa/2023-08-18_07-39-04_UTC_4.jpg arppithaandaa/2023-08-18_07-39-04_UTC_5.jpg arppithaandaa/2023-08-18_07-39-04_UTC_6.jpg arppithaandaa/2023-08-18_07-39-04_UTC_7.jpg [Audi has launched the Q8 e-tr…] json \n"
     ]
    },
    {
     "name": "stderr",
     "output_type": "stream",
     "text": [
      "JSON Query to api/v1/media/3144540038389659802/info/: HTTP error code 401. [retrying; skip with ^C]\n",
      "JSON Query to api/v1/media/3144540038389659802/info/: HTTP error code 401. [retrying; skip with ^C]\n",
      "Unable to fetch high quality image version of <Post CujpoEiNXia>: JSON Query to api/v1/media/3144540038389659802/info/: HTTP error code 401.\n"
     ]
    },
    {
     "name": "stdout",
     "output_type": "stream",
     "text": [
      "arppithaandaa/2023-07-11_12-26-45_UTC_1.jpg "
     ]
    },
    {
     "name": "stderr",
     "output_type": "stream",
     "text": [
      "JSON Query to api/v1/media/3144540038389659802/info/: HTTP error code 401. [retrying; skip with ^C]\n",
      "JSON Query to api/v1/media/3144540038389659802/info/: HTTP error code 401. [retrying; skip with ^C]\n",
      "Unable to fetch high quality image version of <Post CujpoEiNXia>: JSON Query to api/v1/media/3144540038389659802/info/: HTTP error code 401.\n"
     ]
    },
    {
     "name": "stdout",
     "output_type": "stream",
     "text": [
      "arppithaandaa/2023-07-11_12-26-45_UTC_2.jpg [Here’s a quick look at the to…] json \n"
     ]
    },
    {
     "name": "stderr",
     "output_type": "stream",
     "text": [
      "JSON Query to api/v1/media/2905967079871373606/info/: HTTP error code 401. [retrying; skip with ^C]\n",
      "JSON Query to api/v1/media/2905967079871373606/info/: HTTP error code 401. [retrying; skip with ^C]\n",
      "Unable to fetch high quality image version of <Post ChUEamktmEm>: JSON Query to api/v1/media/2905967079871373606/info/: HTTP error code 401.\n"
     ]
    },
    {
     "name": "stdout",
     "output_type": "stream",
     "text": [
      "arppithaandaa/2022-08-16_08-24-52_UTC_2.jpg "
     ]
    },
    {
     "name": "stderr",
     "output_type": "stream",
     "text": [
      "JSON Query to api/v1/media/2905967079871373606/info/: HTTP error code 401. [retrying; skip with ^C]\n",
      "JSON Query to api/v1/media/2905967079871373606/info/: HTTP error code 401. [retrying; skip with ^C]\n",
      "Unable to fetch high quality image version of <Post ChUEamktmEm>: JSON Query to api/v1/media/2905967079871373606/info/: HTTP error code 401.\n"
     ]
    },
    {
     "name": "stdout",
     "output_type": "stream",
     "text": [
      "arppithaandaa/2022-08-16_08-24-52_UTC_3.jpg "
     ]
    },
    {
     "name": "stderr",
     "output_type": "stream",
     "text": [
      "JSON Query to api/v1/media/2905967079871373606/info/: HTTP error code 401. [retrying; skip with ^C]\n",
      "JSON Query to api/v1/media/2905967079871373606/info/: HTTP error code 401. [retrying; skip with ^C]\n",
      "Unable to fetch high quality image version of <Post ChUEamktmEm>: JSON Query to api/v1/media/2905967079871373606/info/: HTTP error code 401.\n"
     ]
    },
    {
     "name": "stdout",
     "output_type": "stream",
     "text": [
      "arppithaandaa/2022-08-16_08-24-52_UTC_4.jpg "
     ]
    },
    {
     "name": "stderr",
     "output_type": "stream",
     "text": [
      "JSON Query to api/v1/media/2905967079871373606/info/: HTTP error code 401. [retrying; skip with ^C]\n",
      "JSON Query to api/v1/media/2905967079871373606/info/: HTTP error code 401. [retrying; skip with ^C]\n",
      "Unable to fetch high quality image version of <Post ChUEamktmEm>: JSON Query to api/v1/media/2905967079871373606/info/: HTTP error code 401.\n"
     ]
    },
    {
     "name": "stdout",
     "output_type": "stream",
     "text": [
      "arppithaandaa/2022-08-16_08-24-52_UTC_5.jpg "
     ]
    },
    {
     "name": "stderr",
     "output_type": "stream",
     "text": [
      "JSON Query to api/v1/media/2905967079871373606/info/: HTTP error code 401. [retrying; skip with ^C]\n",
      "JSON Query to api/v1/media/2905967079871373606/info/: HTTP error code 401. [retrying; skip with ^C]\n",
      "Unable to fetch high quality image version of <Post ChUEamktmEm>: JSON Query to api/v1/media/2905967079871373606/info/: HTTP error code 401.\n"
     ]
    },
    {
     "name": "stdout",
     "output_type": "stream",
     "text": [
      "arppithaandaa/2022-08-16_08-24-52_UTC_6.jpg "
     ]
    },
    {
     "name": "stderr",
     "output_type": "stream",
     "text": [
      "JSON Query to api/v1/media/2905967079871373606/info/: HTTP error code 401. [retrying; skip with ^C]\n",
      "JSON Query to api/v1/media/2905967079871373606/info/: HTTP error code 401. [retrying; skip with ^C]\n",
      "Unable to fetch high quality image version of <Post ChUEamktmEm>: JSON Query to api/v1/media/2905967079871373606/info/: HTTP error code 401.\n"
     ]
    },
    {
     "name": "stdout",
     "output_type": "stream",
     "text": [
      "arppithaandaa/2022-08-16_08-24-52_UTC_7.jpg "
     ]
    },
    {
     "name": "stderr",
     "output_type": "stream",
     "text": [
      "JSON Query to api/v1/media/2905967079871373606/info/: HTTP error code 401. [retrying; skip with ^C]\n",
      "JSON Query to api/v1/media/2905967079871373606/info/: HTTP error code 401. [retrying; skip with ^C]\n",
      "Unable to fetch high quality image version of <Post ChUEamktmEm>: JSON Query to api/v1/media/2905967079871373606/info/: HTTP error code 401.\n"
     ]
    },
    {
     "name": "stdout",
     "output_type": "stream",
     "text": [
      "arppithaandaa/2022-08-16_08-24-52_UTC_8.jpg "
     ]
    },
    {
     "name": "stderr",
     "output_type": "stream",
     "text": [
      "JSON Query to api/v1/media/2905967079871373606/info/: HTTP error code 401. [retrying; skip with ^C]\n",
      "JSON Query to api/v1/media/2905967079871373606/info/: HTTP error code 401. [retrying; skip with ^C]\n",
      "Unable to fetch high quality image version of <Post ChUEamktmEm>: JSON Query to api/v1/media/2905967079871373606/info/: HTTP error code 401.\n"
     ]
    },
    {
     "name": "stdout",
     "output_type": "stream",
     "text": [
      "arppithaandaa/2022-08-16_08-24-52_UTC_9.jpg "
     ]
    },
    {
     "name": "stderr",
     "output_type": "stream",
     "text": [
      "JSON Query to api/v1/media/2905967079871373606/info/: HTTP error code 401. [retrying; skip with ^C]\n",
      "JSON Query to api/v1/media/2905967079871373606/info/: HTTP error code 401. [retrying; skip with ^C]\n",
      "Unable to fetch high quality image version of <Post ChUEamktmEm>: JSON Query to api/v1/media/2905967079871373606/info/: HTTP error code 401.\n"
     ]
    },
    {
     "name": "stdout",
     "output_type": "stream",
     "text": [
      "arppithaandaa/2022-08-16_08-24-52_UTC_10.jpg [It's Tech Tuesday today and w…] json \n"
     ]
    },
    {
     "name": "stderr",
     "output_type": "stream",
     "text": [
      "JSON Query to api/v1/media/2900761370882559990/info/: HTTP error code 401. [retrying; skip with ^C]\n",
      "JSON Query to api/v1/media/2900761370882559990/info/: HTTP error code 401. [retrying; skip with ^C]\n",
      "Unable to fetch high quality image version of <Post ChBkxkRoU_2>: JSON Query to api/v1/media/2900761370882559990/info/: HTTP error code 401.\n"
     ]
    },
    {
     "name": "stdout",
     "output_type": "stream",
     "text": [
      "arppithaandaa/2022-08-09_04-02-03_UTC_1.jpg "
     ]
    },
    {
     "name": "stderr",
     "output_type": "stream",
     "text": [
      "JSON Query to api/v1/media/2900761370882559990/info/: HTTP error code 401. [retrying; skip with ^C]\n",
      "JSON Query to api/v1/media/2900761370882559990/info/: HTTP error code 401. [retrying; skip with ^C]\n"
     ]
    },
    {
     "name": "stdout",
     "output_type": "stream",
     "text": [
      "arppithaandaa/2022-08-09_04-02-03_UTC_2.jpg "
     ]
    },
    {
     "name": "stderr",
     "output_type": "stream",
     "text": [
      "Unable to fetch high quality image version of <Post ChBkxkRoU_2>: JSON Query to api/v1/media/2900761370882559990/info/: HTTP error code 401.\n",
      "JSON Query to api/v1/media/2900761370882559990/info/: HTTP error code 401. [retrying; skip with ^C]\n",
      "JSON Query to api/v1/media/2900761370882559990/info/: HTTP error code 401. [retrying; skip with ^C]\n",
      "Unable to fetch high quality image version of <Post ChBkxkRoU_2>: JSON Query to api/v1/media/2900761370882559990/info/: HTTP error code 401.\n"
     ]
    },
    {
     "name": "stdout",
     "output_type": "stream",
     "text": [
      "arppithaandaa/2022-08-09_04-02-03_UTC_3.jpg "
     ]
    },
    {
     "name": "stderr",
     "output_type": "stream",
     "text": [
      "JSON Query to api/v1/media/2900761370882559990/info/: HTTP error code 401. [retrying; skip with ^C]\n",
      "JSON Query to api/v1/media/2900761370882559990/info/: HTTP error code 401. [retrying; skip with ^C]\n",
      "Unable to fetch high quality image version of <Post ChBkxkRoU_2>: JSON Query to api/v1/media/2900761370882559990/info/: HTTP error code 401.\n"
     ]
    },
    {
     "name": "stdout",
     "output_type": "stream",
     "text": [
      "arppithaandaa/2022-08-09_04-02-03_UTC_4.jpg "
     ]
    },
    {
     "name": "stderr",
     "output_type": "stream",
     "text": [
      "JSON Query to api/v1/media/2900761370882559990/info/: HTTP error code 401. [retrying; skip with ^C]\n",
      "JSON Query to api/v1/media/2900761370882559990/info/: HTTP error code 401. [retrying; skip with ^C]\n",
      "Unable to fetch high quality image version of <Post ChBkxkRoU_2>: JSON Query to api/v1/media/2900761370882559990/info/: HTTP error code 401.\n"
     ]
    },
    {
     "name": "stdout",
     "output_type": "stream",
     "text": [
      "arppithaandaa/2022-08-09_04-02-03_UTC_5.jpg "
     ]
    },
    {
     "name": "stderr",
     "output_type": "stream",
     "text": [
      "JSON Query to api/v1/media/2900761370882559990/info/: HTTP error code 401. [retrying; skip with ^C]\n",
      "JSON Query to api/v1/media/2900761370882559990/info/: HTTP error code 401. [retrying; skip with ^C]\n",
      "Unable to fetch high quality image version of <Post ChBkxkRoU_2>: JSON Query to api/v1/media/2900761370882559990/info/: HTTP error code 401.\n"
     ]
    },
    {
     "name": "stdout",
     "output_type": "stream",
     "text": [
      "arppithaandaa/2022-08-09_04-02-03_UTC_6.jpg "
     ]
    },
    {
     "name": "stderr",
     "output_type": "stream",
     "text": [
      "JSON Query to api/v1/media/2900761370882559990/info/: HTTP error code 401. [retrying; skip with ^C]\n",
      "JSON Query to api/v1/media/2900761370882559990/info/: HTTP error code 401. [retrying; skip with ^C]\n",
      "Unable to fetch high quality image version of <Post ChBkxkRoU_2>: JSON Query to api/v1/media/2900761370882559990/info/: HTTP error code 401.\n"
     ]
    },
    {
     "name": "stdout",
     "output_type": "stream",
     "text": [
      "arppithaandaa/2022-08-09_04-02-03_UTC_7.jpg "
     ]
    },
    {
     "name": "stderr",
     "output_type": "stream",
     "text": [
      "JSON Query to api/v1/media/2900761370882559990/info/: HTTP error code 401. [retrying; skip with ^C]\n",
      "JSON Query to api/v1/media/2900761370882559990/info/: HTTP error code 401. [retrying; skip with ^C]\n",
      "Unable to fetch high quality image version of <Post ChBkxkRoU_2>: JSON Query to api/v1/media/2900761370882559990/info/: HTTP error code 401.\n"
     ]
    },
    {
     "name": "stdout",
     "output_type": "stream",
     "text": [
      "arppithaandaa/2022-08-09_04-02-03_UTC_8.jpg "
     ]
    },
    {
     "name": "stderr",
     "output_type": "stream",
     "text": [
      "JSON Query to api/v1/media/2900761370882559990/info/: HTTP error code 401. [retrying; skip with ^C]\n",
      "JSON Query to api/v1/media/2900761370882559990/info/: HTTP error code 401. [retrying; skip with ^C]\n",
      "Unable to fetch high quality image version of <Post ChBkxkRoU_2>: JSON Query to api/v1/media/2900761370882559990/info/: HTTP error code 401.\n"
     ]
    },
    {
     "name": "stdout",
     "output_type": "stream",
     "text": [
      "arppithaandaa/2022-08-09_04-02-03_UTC_9.jpg "
     ]
    },
    {
     "name": "stderr",
     "output_type": "stream",
     "text": [
      "JSON Query to api/v1/media/2900761370882559990/info/: HTTP error code 401. [retrying; skip with ^C]\n",
      "JSON Query to api/v1/media/2900761370882559990/info/: HTTP error code 401. [retrying; skip with ^C]\n",
      "Unable to fetch high quality image version of <Post ChBkxkRoU_2>: JSON Query to api/v1/media/2900761370882559990/info/: HTTP error code 401.\n"
     ]
    },
    {
     "name": "stdout",
     "output_type": "stream",
     "text": [
      "arppithaandaa/2022-08-09_04-02-03_UTC_10.jpg [It's Tech Tuesday! And in tod…] json \n"
     ]
    },
    {
     "name": "stderr",
     "output_type": "stream",
     "text": [
      "JSON Query to api/v1/media/2638617803987534824/info/: HTTP error code 401. [retrying; skip with ^C]\n",
      "JSON Query to api/v1/media/2638617803987534824/info/: HTTP error code 401. [retrying; skip with ^C]\n",
      "Unable to fetch high quality image version of <Post CSeQOmossPo>: JSON Query to api/v1/media/2638617803987534824/info/: HTTP error code 401.\n"
     ]
    },
    {
     "name": "stdout",
     "output_type": "stream",
     "text": [
      "arppithaandaa/2021-08-12_11-29-35_UTC.jpg [Stress Less and Enjoy The Bes…] json \n",
      "Downloaded 25 images from arppithaandaa's profile.\n",
      "Influencer: rachit.hirani.xlsx\n",
      "rachit.hirani/2024-04-05_09-51-38_UTC_1.jpg rachit.hirani/2024-04-05_09-51-38_UTC_2.jpg rachit.hirani/2024-04-05_09-51-38_UTC_3.jpg rachit.hirani/2024-04-05_09-51-38_UTC_4.jpg rachit.hirani/2024-04-05_09-51-38_UTC_5.jpg rachit.hirani/2024-04-05_09-51-38_UTC_6.jpg rachit.hirani/2024-04-05_09-51-38_UTC_7.jpg rachit.hirani/2024-04-05_09-51-38_UTC_8.jpg rachit.hirani/2024-04-05_09-51-38_UTC_9.jpg [Here is your chance to shine!…] json \n",
      "rachit.hirani/2024-03-17_07-53-31_UTC_1.jpg rachit.hirani/2024-03-17_07-53-31_UTC_2.jpg rachit.hirani/2024-03-17_07-53-31_UTC_3.jpg rachit.hirani/2024-03-17_07-53-31_UTC_4.jpg rachit.hirani/2024-03-17_07-53-31_UTC_5.jpg [4 MILLION 🥳🙌🎉 Thank you for y…] json \n",
      "rachit.hirani/2023-12-20_01-31-36_UTC_1.jpg rachit.hirani/2023-12-20_01-31-36_UTC_2.jpg [Today @motoroctane family won…] json \n",
      "rachit.hirani/2023-12-16_13-19-32_UTC_1.jpg rachit.hirani/2023-12-16_13-19-32_UTC_3.jpg [Fastest Mercedes in India - A…] json \n",
      "rachit.hirani/2023-12-09_09-50-11_UTC_1.jpg rachit.hirani/2023-12-09_09-50-11_UTC_2.jpg rachit.hirani/2023-12-09_09-50-11_UTC_3.jpg rachit.hirani/2023-12-09_09-50-11_UTC_4.jpg [A day well spent with the @me…] json \n",
      "rachit.hirani/2023-12-08_07-32-15_UTC_1.jpg rachit.hirani/2023-12-08_07-32-15_UTC_2.jpg rachit.hirani/2023-12-08_07-32-15_UTC_3.jpg rachit.hirani/2023-12-08_07-32-15_UTC_4.jpg [Look for my first Hip Hop alb…] json \n",
      "rachit.hirani/2023-11-29_03-31-42_UTC_1.jpg rachit.hirani/2023-11-29_03-31-42_UTC_2.jpg rachit.hirani/2023-11-29_03-31-42_UTC_3.jpg rachit.hirani/2023-11-29_03-31-42_UTC_4.jpg rachit.hirani/2023-11-29_03-31-42_UTC_5.jpg rachit.hirani/2023-11-29_03-31-42_UTC_6.jpg [Every day spent with you @dip…] json \n",
      "rachit.hirani/2023-11-23_11-19-06_UTC_1.jpg rachit.hirani/2023-11-23_11-19-06_UTC_2.jpg rachit.hirani/2023-11-23_11-19-06_UTC_3.jpg rachit.hirani/2023-11-23_11-19-06_UTC_4.jpg rachit.hirani/2023-11-23_11-19-06_UTC_5.jpg rachit.hirani/2023-11-23_11-19-06_UTC_6.jpg rachit.hirani/2023-11-23_11-19-06_UTC_7.jpg [An exciting recent trip to Ca…] json \n",
      "rachit.hirani/2023-10-18_12-30-18_UTC.jpg [Meeting interesting people # …] json \n",
      "rachit.hirani/2023-10-15_12-22-36_UTC.jpg [Meeting interesting people Pa…] json \n",
      "rachit.hirani/2023-10-10_17-47-10_UTC.jpg [New Tata Safari is here! How …] json \n",
      "rachit.hirani/2023-09-29_07-22-39_UTC_1.jpg rachit.hirani/2023-09-29_07-22-39_UTC_2.jpg rachit.hirani/2023-09-29_07-22-39_UTC_3.jpg rachit.hirani/2023-09-29_07-22-39_UTC_4.jpg rachit.hirani/2023-09-29_07-22-39_UTC_5.jpg rachit.hirani/2023-09-29_07-22-39_UTC_6.jpg [This September came home to m…] json \n",
      "rachit.hirani/2023-09-23_04-31-30_UTC.jpg [Already missing the energy, h…] json \n",
      "rachit.hirani/2023-08-29_01-11-00_UTC_1.jpg rachit.hirani/2023-08-29_01-11-00_UTC_2.jpg rachit.hirani/2023-08-29_01-11-00_UTC_3.jpg rachit.hirani/2023-08-29_01-11-00_UTC_4.jpg rachit.hirani/2023-08-29_01-11-00_UTC_5.jpg rachit.hirani/2023-08-29_01-11-00_UTC_6.jpg rachit.hirani/2023-08-29_01-11-00_UTC_7.jpg rachit.hirani/2023-08-29_01-11-00_UTC_8.jpg rachit.hirani/2023-08-29_01-11-00_UTC_9.jpg [A very special day for me tod…] json \n",
      "rachit.hirani/2023-08-19_09-44-20_UTC_1.jpg rachit.hirani/2023-08-19_09-44-20_UTC_2.jpg rachit.hirani/2023-08-19_09-44-20_UTC_3.jpg rachit.hirani/2023-08-19_09-44-20_UTC_4.jpg rachit.hirani/2023-08-19_09-44-20_UTC_5.jpg rachit.hirani/2023-08-19_09-44-20_UTC_6.jpg rachit.hirani/2023-08-19_09-44-20_UTC_7.jpg [Cape Town has been kind, beau…] json \n",
      "rachit.hirani/2023-06-17_07-13-54_UTC.jpg [Quick catch up with @shahidka…] json \n",
      "rachit.hirani/2023-06-14_06-10-06_UTC.jpg [Keep palm & carry on 😌 🌴 This…] json \n",
      "rachit.hirani/2023-04-18_07-39-51_UTC_1.jpg rachit.hirani/2023-04-18_07-39-51_UTC_2.jpg [Welcome to your own little Vr…] json \n",
      "rachit.hirani/2023-03-15_09-48-27_UTC_1.jpg rachit.hirani/2023-03-15_09-48-27_UTC_2.jpg rachit.hirani/2023-03-15_09-48-27_UTC_3.jpg rachit.hirani/2023-03-15_09-48-27_UTC_4.jpg rachit.hirani/2023-03-15_09-48-27_UTC_5.jpg rachit.hirani/2023-03-15_09-48-27_UTC_6.jpg rachit.hirani/2023-03-15_09-48-27_UTC_7.jpg rachit.hirani/2023-03-15_09-48-27_UTC_8.jpg rachit.hirani/2023-03-15_09-48-27_UTC_9.jpg rachit.hirani/2023-03-15_09-48-27_UTC_10.jpg [Successful teams don’t happen…] json \n",
      "rachit.hirani/2023-03-13_12-25-34_UTC.jpg [As we all did experience Red …] json \n",
      "rachit.hirani/2023-02-11_15-19-22_UTC_1.jpg rachit.hirani/2023-02-11_15-19-22_UTC_2.jpg rachit.hirani/2023-02-11_15-19-22_UTC_3.jpg [An amazing Formula E weekend.…] json \n",
      "rachit.hirani/2022-12-17_18-41-36_UTC.jpg [Be Indian! Dress like an Indi…] json \n",
      "rachit.hirani/2022-12-05_18-22-17_UTC.jpg [Click of the day 🫶🏻] json \n",
      "rachit.hirani/2022-11-22_14-45-53_UTC.jpg [Some cars are memorable - is …] json \n"
     ]
    },
    {
     "name": "stderr",
     "output_type": "stream",
     "text": [
      "JSON Query to api/v1/media/2966165500449172974/info/: HTTP error code 401. [retrying; skip with ^C]\n",
      "JSON Query to api/v1/media/2966165500449172974/info/: HTTP error code 401. [retrying; skip with ^C]\n"
     ]
    },
    {
     "name": "stdout",
     "output_type": "stream",
     "text": [
      "rachit.hirani/2022-11-07_09-48-23_UTC.jpg "
     ]
    },
    {
     "name": "stderr",
     "output_type": "stream",
     "text": [
      "Unable to fetch high quality image version of <Post Ckp786nSq3u>: JSON Query to api/v1/media/2966165500449172974/info/: HTTP error code 401.\n"
     ]
    },
    {
     "name": "stdout",
     "output_type": "stream",
     "text": [
      "[When you drive a stylish SUV …] json \n"
     ]
    },
    {
     "name": "stderr",
     "output_type": "stream",
     "text": [
      "JSON Query to api/v1/media/2955599299887384228/info/: HTTP error code 401. [retrying; skip with ^C]\n",
      "JSON Query to api/v1/media/2955599299887384228/info/: HTTP error code 401. [retrying; skip with ^C]\n"
     ]
    },
    {
     "name": "stdout",
     "output_type": "stream",
     "text": [
      "rachit.hirani/2022-10-23_19-55-14_UTC.jpg "
     ]
    },
    {
     "name": "stderr",
     "output_type": "stream",
     "text": [
      "Unable to fetch high quality image version of <Post CkEZedgLkak>: JSON Query to api/v1/media/2955599299887384228/info/: HTTP error code 401.\n"
     ]
    },
    {
     "name": "stdout",
     "output_type": "stream",
     "text": [
      "[May millions of lamps illumin…] json \n"
     ]
    },
    {
     "name": "stderr",
     "output_type": "stream",
     "text": [
      "JSON Query to api/v1/media/2949972762179538469/info/: HTTP error code 401. [retrying; skip with ^C]\n",
      "JSON Query to api/v1/media/2949972762179538469/info/: HTTP error code 401. [retrying; skip with ^C]\n"
     ]
    },
    {
     "name": "stdout",
     "output_type": "stream",
     "text": [
      "rachit.hirani/2022-10-16_01-36-18_UTC.jpg "
     ]
    },
    {
     "name": "stderr",
     "output_type": "stream",
     "text": [
      "Unable to fetch high quality image version of <Post CjwaJj6yg4l>: JSON Query to api/v1/media/2949972762179538469/info/: HTTP error code 401.\n"
     ]
    },
    {
     "name": "stdout",
     "output_type": "stream",
     "text": [
      "[Thank you for the lovely awar…] json \n"
     ]
    },
    {
     "name": "stderr",
     "output_type": "stream",
     "text": [
      "JSON Query to api/v1/media/2923485801523976656/info/: HTTP error code 401. [retrying; skip with ^C]\n",
      "JSON Query to api/v1/media/2923485801523976656/info/: HTTP error code 401. [retrying; skip with ^C]\n",
      "Unable to fetch high quality image version of <Post CiSTtjhvBnQ>: JSON Query to api/v1/media/2923485801523976656/info/: HTTP error code 401.\n"
     ]
    },
    {
     "name": "stdout",
     "output_type": "stream",
     "text": [
      "rachit.hirani/2022-09-09_12-31-27_UTC_1.jpg "
     ]
    },
    {
     "name": "stderr",
     "output_type": "stream",
     "text": [
      "JSON Query to api/v1/media/2923485801523976656/info/: HTTP error code 401. [retrying; skip with ^C]\n",
      "JSON Query to api/v1/media/2923485801523976656/info/: HTTP error code 401. [retrying; skip with ^C]\n",
      "Unable to fetch high quality image version of <Post CiSTtjhvBnQ>: JSON Query to api/v1/media/2923485801523976656/info/: HTTP error code 401.\n"
     ]
    },
    {
     "name": "stdout",
     "output_type": "stream",
     "text": [
      "rachit.hirani/2022-09-09_12-31-27_UTC_2.jpg "
     ]
    },
    {
     "name": "stderr",
     "output_type": "stream",
     "text": [
      "JSON Query to api/v1/media/2923485801523976656/info/: HTTP error code 401. [retrying; skip with ^C]\n",
      "JSON Query to api/v1/media/2923485801523976656/info/: HTTP error code 401. [retrying; skip with ^C]\n",
      "Unable to fetch high quality image version of <Post CiSTtjhvBnQ>: JSON Query to api/v1/media/2923485801523976656/info/: HTTP error code 401.\n"
     ]
    },
    {
     "name": "stdout",
     "output_type": "stream",
     "text": [
      "rachit.hirani/2022-09-09_12-31-27_UTC_3.jpg "
     ]
    },
    {
     "name": "stderr",
     "output_type": "stream",
     "text": [
      "JSON Query to api/v1/media/2923485801523976656/info/: HTTP error code 401. [retrying; skip with ^C]\n",
      "JSON Query to api/v1/media/2923485801523976656/info/: HTTP error code 401. [retrying; skip with ^C]\n",
      "Unable to fetch high quality image version of <Post CiSTtjhvBnQ>: JSON Query to api/v1/media/2923485801523976656/info/: HTTP error code 401.\n"
     ]
    },
    {
     "name": "stdout",
     "output_type": "stream",
     "text": [
      "rachit.hirani/2022-09-09_12-31-27_UTC_4.jpg [Let’s celebrate the World EV …] json \n"
     ]
    },
    {
     "name": "stderr",
     "output_type": "stream",
     "text": [
      "JSON Query to api/v1/media/2911836119645648694/info/: HTTP error code 401. [retrying; skip with ^C]\n",
      "JSON Query to api/v1/media/2911836119645648694/info/: HTTP error code 401. [retrying; skip with ^C]\n"
     ]
    },
    {
     "name": "stdout",
     "output_type": "stream",
     "text": [
      "rachit.hirani/2022-08-24_10-45-36_UTC.jpg "
     ]
    },
    {
     "name": "stderr",
     "output_type": "stream",
     "text": [
      "Unable to fetch high quality image version of <Post Cho64XzoXc2>: JSON Query to api/v1/media/2911836119645648694/info/: HTTP error code 401.\n"
     ]
    },
    {
     "name": "stdout",
     "output_type": "stream",
     "text": [
      "[The new @mercedesbenzind EQS …] json \n"
     ]
    },
    {
     "name": "stderr",
     "output_type": "stream",
     "text": [
      "JSON Query to api/v1/media/2905508197250947970/info/: HTTP error code 401. [retrying; skip with ^C]\n",
      "JSON Query to api/v1/media/2905508197250947970/info/: HTTP error code 401. [retrying; skip with ^C]\n",
      "Unable to fetch high quality image version of <Post ChScE-1INuC>: JSON Query to api/v1/media/2905508197250947970/info/: HTTP error code 401.\n"
     ]
    },
    {
     "name": "stdout",
     "output_type": "stream",
     "text": [
      "rachit.hirani/2022-08-15_17-13-09_UTC.jpg [Meeting the BIG Man! It was a…] json \n"
     ]
    },
    {
     "name": "stderr",
     "output_type": "stream",
     "text": [
      "JSON Query to api/v1/media/2893745006168609678/info/: HTTP error code 401. [retrying; skip with ^C]\n",
      "JSON Query to api/v1/media/2893745006168609678/info/: HTTP error code 401. [retrying; skip with ^C]\n",
      "Unable to fetch high quality image version of <Post CgopcBbPZOO>: JSON Query to api/v1/media/2893745006168609678/info/: HTTP error code 401.\n"
     ]
    },
    {
     "name": "stdout",
     "output_type": "stream",
     "text": [
      "rachit.hirani/2022-07-30_11-41-48_UTC.jpg [Everyone thinks and believes …] json \n"
     ]
    },
    {
     "name": "stderr",
     "output_type": "stream",
     "text": [
      "JSON Query to api/v1/media/2872426003399860454/info/: HTTP error code 401. [retrying; skip with ^C]\n",
      "JSON Query to api/v1/media/2872426003399860454/info/: HTTP error code 401. [retrying; skip with ^C]\n",
      "Unable to fetch high quality image version of <Post Cfc6Ds4PmDm>: JSON Query to api/v1/media/2872426003399860454/info/: HTTP error code 401.\n"
     ]
    },
    {
     "name": "stdout",
     "output_type": "stream",
     "text": [
      "rachit.hirani/2022-07-01_01-44-44_UTC.jpg [Never thought will say this f…] json \n"
     ]
    },
    {
     "name": "stderr",
     "output_type": "stream",
     "text": [
      "JSON Query to api/v1/media/2832227510748274057/info/: HTTP error code 401. [retrying; skip with ^C]\n",
      "JSON Query to api/v1/media/2832227510748274057/info/: HTTP error code 401. [retrying; skip with ^C]\n",
      "Unable to fetch high quality image version of <Post CdOF-pNPV2J>: JSON Query to api/v1/media/2832227510748274057/info/: HTTP error code 401.\n"
     ]
    },
    {
     "name": "stdout",
     "output_type": "stream",
     "text": [
      "rachit.hirani/2022-05-06_14-37-31_UTC.jpg [I’m more of a W123 kinda pers…] json \n"
     ]
    },
    {
     "name": "stderr",
     "output_type": "stream",
     "text": [
      "JSON Query to api/v1/media/2824941400727006504/info/: HTTP error code 401. [retrying; skip with ^C]\n",
      "JSON Query to api/v1/media/2824941400727006504/info/: HTTP error code 401. [retrying; skip with ^C]\n",
      "Unable to fetch high quality image version of <Post Cc0NTydoK0o>: JSON Query to api/v1/media/2824941400727006504/info/: HTTP error code 401.\n"
     ]
    },
    {
     "name": "stdout",
     "output_type": "stream",
     "text": [
      "rachit.hirani/2022-04-26_13-21-19_UTC.jpg [Oh man! Love his songs and ac…] json \n"
     ]
    },
    {
     "name": "stderr",
     "output_type": "stream",
     "text": [
      "JSON Query to api/v1/media/2746390240953478370/info/: HTTP error code 401. [retrying; skip with ^C]\n",
      "JSON Query to api/v1/media/2746390240953478370/info/: HTTP error code 401. [retrying; skip with ^C]\n",
      "Unable to fetch high quality image version of <Post CYdI1-Goazi>: JSON Query to api/v1/media/2746390240953478370/info/: HTTP error code 401.\n"
     ]
    },
    {
     "name": "stdout",
     "output_type": "stream",
     "text": [
      "rachit.hirani/2022-01-08_04-14-11_UTC.jpg [Things you can do in a conver…] json \n"
     ]
    },
    {
     "name": "stderr",
     "output_type": "stream",
     "text": [
      "JSON Query to api/v1/media/2743520540418442972/info/: HTTP error code 401. [retrying; skip with ^C]\n",
      "JSON Query to api/v1/media/2743520540418442972/info/: HTTP error code 401. [retrying; skip with ^C]\n",
      "Unable to fetch high quality image version of <Post CYS8WVNoQbc>: JSON Query to api/v1/media/2743520540418442972/info/: HTTP error code 401.\n"
     ]
    },
    {
     "name": "stdout",
     "output_type": "stream",
     "text": [
      "rachit.hirani/2022-01-04_05-12-36_UTC.jpg [There are some special sedans…] json \n"
     ]
    },
    {
     "name": "stderr",
     "output_type": "stream",
     "text": [
      "JSON Query to api/v1/media/2741435910395755187/info/: HTTP error code 401. [retrying; skip with ^C]\n",
      "JSON Query to api/v1/media/2741435910395755187/info/: HTTP error code 401. [retrying; skip with ^C]\n",
      "Unable to fetch high quality image version of <Post CYLiW-No3qz>: JSON Query to api/v1/media/2741435910395755187/info/: HTTP error code 401.\n"
     ]
    },
    {
     "name": "stdout",
     "output_type": "stream",
     "text": [
      "rachit.hirani/2022-01-01_08-10-48_UTC.jpg [Happy New Year to the entire …] json \n"
     ]
    },
    {
     "name": "stderr",
     "output_type": "stream",
     "text": [
      "JSON Query to api/v1/media/2719804461969972999/info/: HTTP error code 401. [retrying; skip with ^C]\n",
      "JSON Query to api/v1/media/2719804461969972999/info/: HTTP error code 401. [retrying; skip with ^C]\n",
      "Unable to fetch high quality image version of <Post CW-r79-Ph8H>: JSON Query to api/v1/media/2719804461969972999/info/: HTTP error code 401.\n"
     ]
    },
    {
     "name": "stdout",
     "output_type": "stream",
     "text": [
      "rachit.hirani/2021-12-02_11-52-59_UTC.jpg [The best of Food and Auto! An…] json \n"
     ]
    },
    {
     "name": "stderr",
     "output_type": "stream",
     "text": [
      "JSON Query to api/v1/media/2718961991491435712/info/: HTTP error code 401. [retrying; skip with ^C]\n",
      "JSON Query to api/v1/media/2718961991491435712/info/: HTTP error code 401. [retrying; skip with ^C]\n",
      "Unable to fetch high quality image version of <Post CW7sYaMorzA>: JSON Query to api/v1/media/2718961991491435712/info/: HTTP error code 401.\n"
     ]
    },
    {
     "name": "stdout",
     "output_type": "stream",
     "text": [
      "rachit.hirani/2021-12-01_07-59-09_UTC.jpg [Some cars are truly love! The…] json \n"
     ]
    },
    {
     "name": "stderr",
     "output_type": "stream",
     "text": [
      "JSON Query to api/v1/media/2717782649432273134/info/: HTTP error code 401. [retrying; skip with ^C]\n",
      "JSON Query to api/v1/media/2717782649432273134/info/: HTTP error code 401. [retrying; skip with ^C]\n",
      "Unable to fetch high quality image version of <Post CW3gOuUIXDu>: JSON Query to api/v1/media/2717782649432273134/info/: HTTP error code 401.\n"
     ]
    },
    {
     "name": "stdout",
     "output_type": "stream",
     "text": [
      "rachit.hirani/2021-11-29_16-56-00_UTC.jpg [Happy 6th Anniversary! Seems …] json \n"
     ]
    },
    {
     "name": "stderr",
     "output_type": "stream",
     "text": [
      "JSON Query to api/v1/media/2715487325519018499/info/: HTTP error code 401. [retrying; skip with ^C]\n",
      "JSON Query to api/v1/media/2715487325519018499/info/: HTTP error code 401. [retrying; skip with ^C]\n",
      "Unable to fetch high quality image version of <Post CWvWVXVovoD>: JSON Query to api/v1/media/2715487325519018499/info/: HTTP error code 401.\n"
     ]
    },
    {
     "name": "stdout",
     "output_type": "stream",
     "text": [
      "rachit.hirani/2021-11-26_12-55-36_UTC.jpg [Why we miss F1 in India 😃 Thi…] json \n"
     ]
    },
    {
     "name": "stderr",
     "output_type": "stream",
     "text": [
      "JSON Query to api/v1/media/2709572732397486799/info/: HTTP error code 401. [retrying; skip with ^C]\n",
      "JSON Query to api/v1/media/2709572732397486799/info/: HTTP error code 401. [retrying; skip with ^C]\n",
      "Unable to fetch high quality image version of <Post CWaVgtPowLP>: JSON Query to api/v1/media/2709572732397486799/info/: HTTP error code 401.\n"
     ]
    },
    {
     "name": "stdout",
     "output_type": "stream",
     "text": [
      "rachit.hirani/2021-11-18_09-04-22_UTC.jpg [The Pocket Rocket is here! Me…] json \n"
     ]
    },
    {
     "name": "stderr",
     "output_type": "stream",
     "text": [
      "JSON Query to api/v1/media/2700095457402763492/info/: HTTP error code 401. [retrying; skip with ^C]\n",
      "JSON Query to api/v1/media/2700095457402763492/info/: HTTP error code 401. [retrying; skip with ^C]\n",
      "Unable to fetch high quality image version of <Post CV4qoNGIzjk>: JSON Query to api/v1/media/2700095457402763492/info/: HTTP error code 401.\n"
     ]
    },
    {
     "name": "stdout",
     "output_type": "stream",
     "text": [
      "rachit.hirani/2021-11-05_07-14-42_UTC.jpg [A rare image from our archive…] json \n"
     ]
    },
    {
     "name": "stderr",
     "output_type": "stream",
     "text": [
      "JSON Query to api/v1/media/2698545326003793261/info/: HTTP error code 401. [retrying; skip with ^C]\n",
      "JSON Query to api/v1/media/2698545326003793261/info/: HTTP error code 401. [retrying; skip with ^C]\n",
      "Unable to fetch high quality image version of <Post CVzKK0uvy1t>: JSON Query to api/v1/media/2698545326003793261/info/: HTTP error code 401.\n"
     ]
    },
    {
     "name": "stdout",
     "output_type": "stream",
     "text": [
      "rachit.hirani/2021-11-03_03-54-52_UTC.jpg [Some cars are just magical to…] json \n"
     ]
    },
    {
     "name": "stderr",
     "output_type": "stream",
     "text": [
      "JSON Query to api/v1/media/2695616112378418213/info/: HTTP error code 401. [retrying; skip with ^C]\n",
      "JSON Query to api/v1/media/2695616112378418213/info/: HTTP error code 401. [retrying; skip with ^C]\n",
      "Unable to fetch high quality image version of <Post CVowJJ9IpQl>: JSON Query to api/v1/media/2695616112378418213/info/: HTTP error code 401.\n"
     ]
    },
    {
     "name": "stdout",
     "output_type": "stream",
     "text": [
      "rachit.hirani/2021-10-30_02-55-03_UTC.jpg "
     ]
    },
    {
     "name": "stderr",
     "output_type": "stream",
     "text": [
      "download_pic(): HTTPSConnectionPool(host='instagram.fstv8-2.fna.fbcdn.net', port=443): Read timed out. [retrying; skip with ^C]\n"
     ]
    },
    {
     "name": "stdout",
     "output_type": "stream",
     "text": [
      "rachit.hirani/2021-10-30_02-55-03_UTC.jpg [15th August when I first drov…] json \n"
     ]
    },
    {
     "name": "stderr",
     "output_type": "stream",
     "text": [
      "JSON Query to api/v1/media/2692319576709945757/info/: HTTP error code 401. [retrying; skip with ^C]\n",
      "JSON Query to api/v1/media/2692319576709945757/info/: HTTP error code 401. [retrying; skip with ^C]\n",
      "Unable to fetch high quality image version of <Post CVdCmP3oFmd>: JSON Query to api/v1/media/2692319576709945757/info/: HTTP error code 401.\n"
     ]
    },
    {
     "name": "stdout",
     "output_type": "stream",
     "text": [
      "rachit.hirani/2021-10-25_13-45-25_UTC.jpg [Welcome to MotorOctane Office…] json \n"
     ]
    },
    {
     "name": "stderr",
     "output_type": "stream",
     "text": [
      "JSON Query to api/v1/media/2679771788122010566/info/: HTTP error code 401. [retrying; skip with ^C]\n",
      "JSON Query to api/v1/media/2679771788122010566/info/: HTTP error code 401. [retrying; skip with ^C]\n",
      "Unable to fetch high quality image version of <Post CUwdj5GIDPG>: JSON Query to api/v1/media/2679771788122010566/info/: HTTP error code 401.\n"
     ]
    },
    {
     "name": "stdout",
     "output_type": "stream",
     "text": [
      "rachit.hirani/2021-10-08_06-15-12_UTC.jpg [Another new video has gone. D…] json \n"
     ]
    },
    {
     "name": "stderr",
     "output_type": "stream",
     "text": [
      "JSON Query to api/v1/media/2676068780590780441/info/: HTTP error code 401. [retrying; skip with ^C]\n",
      "JSON Query to api/v1/media/2676068780590780441/info/: HTTP error code 401. [retrying; skip with ^C]\n",
      "Unable to fetch high quality image version of <Post CUjTmCloFAZ>: JSON Query to api/v1/media/2676068780590780441/info/: HTTP error code 401.\n"
     ]
    },
    {
     "name": "stdout",
     "output_type": "stream",
     "text": [
      "rachit.hirani/2021-10-03_03-37-59_UTC.jpg [Today 10am on my own YouTube …] json \n"
     ]
    },
    {
     "name": "stderr",
     "output_type": "stream",
     "text": [
      "JSON Query to api/v1/media/2657984141490086514/info/: HTTP error code 401. [retrying; skip with ^C]\n",
      "JSON Query to api/v1/media/2657984141490086514/info/: HTTP error code 401. [retrying; skip with ^C]\n",
      "Unable to fetch high quality image version of <Post CTjDn58I2Jy>: JSON Query to api/v1/media/2657984141490086514/info/: HTTP error code 401.\n"
     ]
    },
    {
     "name": "stdout",
     "output_type": "stream",
     "text": [
      "rachit.hirani/2021-09-08_04-47-02_UTC.jpg [Same yet different? What say?…] json \n"
     ]
    },
    {
     "name": "stderr",
     "output_type": "stream",
     "text": [
      "JSON Query to api/v1/media/2656853052323106759/info/: HTTP error code 401. [retrying; skip with ^C]\n",
      "JSON Query to api/v1/media/2656853052323106759/info/: HTTP error code 401. [retrying; skip with ^C]\n",
      "Unable to fetch high quality image version of <Post CTfCcZEIY_H>: JSON Query to api/v1/media/2656853052323106759/info/: HTTP error code 401.\n"
     ]
    },
    {
     "name": "stdout",
     "output_type": "stream",
     "text": [
      "rachit.hirani/2021-09-06_15-19-46_UTC.jpg [Success is like Chiron. Many …] json \n"
     ]
    },
    {
     "name": "stderr",
     "output_type": "stream",
     "text": [
      "JSON Query to api/v1/media/2645944457119953595/info/: HTTP error code 401. [retrying; skip with ^C]\n",
      "JSON Query to api/v1/media/2645944457119953595/info/: HTTP error code 401. [retrying; skip with ^C]\n",
      "Unable to fetch high quality image version of <Post CS4SHcGDHK7>: JSON Query to api/v1/media/2645944457119953595/info/: HTTP error code 401.\n"
     ]
    },
    {
     "name": "stdout",
     "output_type": "stream",
     "text": [
      "rachit.hirani/2021-08-22_14-06-20_UTC.jpg [We are gearing up - for our n…] json \n"
     ]
    },
    {
     "name": "stderr",
     "output_type": "stream",
     "text": [
      "JSON Query to api/v1/media/2644873965421550204/info/: HTTP error code 401. [retrying; skip with ^C]\n",
      "JSON Query to api/v1/media/2644873965421550204/info/: HTTP error code 401. [retrying; skip with ^C]\n",
      "Unable to fetch high quality image version of <Post CS0etvAoVp8>: JSON Query to api/v1/media/2644873965421550204/info/: HTTP error code 401.\n"
     ]
    },
    {
     "name": "stdout",
     "output_type": "stream",
     "text": [
      "rachit.hirani/2021-08-21_02-39-28_UTC.jpg [When the man himself sees our…] json \n"
     ]
    },
    {
     "name": "stderr",
     "output_type": "stream",
     "text": [
      "JSON Query to api/v1/media/2644133906133676431/info/: HTTP error code 401. [retrying; skip with ^C]\n",
      "JSON Query to api/v1/media/2644133906133676431/info/: HTTP error code 401. [retrying; skip with ^C]\n",
      "Unable to fetch high quality image version of <Post CSx2cdFqfGP>: JSON Query to api/v1/media/2644133906133676431/info/: HTTP error code 401.\n"
     ]
    },
    {
     "name": "stdout",
     "output_type": "stream",
     "text": [
      "rachit.hirani/2021-08-20_02-09-06_UTC.jpg [What a BMW can get you when s…] json \n"
     ]
    },
    {
     "name": "stderr",
     "output_type": "stream",
     "text": [
      "JSON Query to api/v1/media/2642769523870957508/info/: HTTP error code 401. [retrying; skip with ^C]\n",
      "JSON Query to api/v1/media/2642769523870957508/info/: HTTP error code 401. [retrying; skip with ^C]\n",
      "Unable to fetch high quality image version of <Post CStAOFFjn_E>: JSON Query to api/v1/media/2642769523870957508/info/: HTTP error code 401.\n"
     ]
    },
    {
     "name": "stdout",
     "output_type": "stream",
     "text": [
      "rachit.hirani/2021-08-18_04-58-19_UTC.jpg [The Mahindra XUV700 video is …] json \n"
     ]
    },
    {
     "name": "stderr",
     "output_type": "stream",
     "text": [
      "JSON Query to api/v1/media/2641395032885914065/info/: HTTP error code 401. [retrying; skip with ^C]\n",
      "JSON Query to api/v1/media/2641395032885914065/info/: HTTP error code 401. [retrying; skip with ^C]\n",
      "Unable to fetch high quality image version of <Post CSoHsmmpWnR>: JSON Query to api/v1/media/2641395032885914065/info/: HTTP error code 401.\n"
     ]
    },
    {
     "name": "stdout",
     "output_type": "stream",
     "text": [
      "rachit.hirani/2021-08-16_07-27-27_UTC.jpg [Normally I never talk of driv…] json \n"
     ]
    },
    {
     "name": "stderr",
     "output_type": "stream",
     "text": [
      "JSON Query to api/v1/media/2637785607531410908/info/: HTTP error code 401. [retrying; skip with ^C]\n",
      "JSON Query to api/v1/media/2637785607531410908/info/: HTTP error code 401. [retrying; skip with ^C]\n",
      "Unable to fetch high quality image version of <Post CSbTAjSjDXc>: JSON Query to api/v1/media/2637785607531410908/info/: HTTP error code 401.\n"
     ]
    },
    {
     "name": "stdout",
     "output_type": "stream",
     "text": [
      "rachit.hirani/2021-08-11_07-56-09_UTC.jpg [@chekmarcunites got me connec…] json \n"
     ]
    },
    {
     "name": "stderr",
     "output_type": "stream",
     "text": [
      "JSON Query to api/v1/media/2629294805364823040/info/: HTTP error code 401. [retrying; skip with ^C]\n",
      "JSON Query to api/v1/media/2629294805364823040/info/: HTTP error code 401. [retrying; skip with ^C]\n",
      "Unable to fetch high quality image version of <Post CR9IbHjjNQA>: JSON Query to api/v1/media/2629294805364823040/info/: HTTP error code 401.\n"
     ]
    },
    {
     "name": "stdout",
     "output_type": "stream",
     "text": [
      "rachit.hirani/2021-07-30_14-46-27_UTC.jpg [How much willing are you - to…] json \n"
     ]
    },
    {
     "name": "stderr",
     "output_type": "stream",
     "text": [
      "JSON Query to api/v1/media/2626115127159949720/info/: HTTP error code 401. [retrying; skip with ^C]\n",
      "JSON Query to api/v1/media/2626115127159949720/info/: HTTP error code 401. [retrying; skip with ^C]\n",
      "Unable to fetch high quality image version of <Post CRx1ctdpgmY>: JSON Query to api/v1/media/2626115127159949720/info/: HTTP error code 401.\n"
     ]
    },
    {
     "name": "stdout",
     "output_type": "stream",
     "text": [
      "rachit.hirani/2021-07-26_05-29-00_UTC.jpg [Some cars don’t have the fast…] json \n"
     ]
    },
    {
     "name": "stderr",
     "output_type": "stream",
     "text": [
      "JSON Query to api/v1/media/2622066288669208588/info/: HTTP error code 401. [retrying; skip with ^C]\n",
      "JSON Query to api/v1/media/2622066288669208588/info/: HTTP error code 401. [retrying; skip with ^C]\n",
      "Unable to fetch high quality image version of <Post CRjc2Wxp7AM>: JSON Query to api/v1/media/2622066288669208588/info/: HTTP error code 401.\n"
     ]
    },
    {
     "name": "stdout",
     "output_type": "stream",
     "text": [
      "rachit.hirani/2021-07-20_15-24-41_UTC.jpg [Chilling like a boss! Will be…] json \n"
     ]
    },
    {
     "name": "stderr",
     "output_type": "stream",
     "text": [
      "JSON Query to api/v1/media/2620234627648151279/info/: HTTP error code 401. [retrying; skip with ^C]\n",
      "JSON Query to api/v1/media/2620234627648151279/info/: HTTP error code 401. [retrying; skip with ^C]\n",
      "Unable to fetch high quality image version of <Post CRc8YLhJV7v>: JSON Query to api/v1/media/2620234627648151279/info/: HTTP error code 401.\n"
     ]
    },
    {
     "name": "stdout",
     "output_type": "stream",
     "text": [
      "rachit.hirani/2021-07-18_02-45-30_UTC.jpg [Some cars are most enjoyed wh…] json \n"
     ]
    },
    {
     "name": "stderr",
     "output_type": "stream",
     "text": [
      "JSON Query to api/v1/media/2618851078533798988/info/: HTTP error code 401. [retrying; skip with ^C]\n",
      "JSON Query to api/v1/media/2618851078533798988/info/: HTTP error code 401. [retrying; skip with ^C]\n",
      "Unable to fetch high quality image version of <Post CRYBy4_p9xM>: JSON Query to api/v1/media/2618851078533798988/info/: HTTP error code 401.\n"
     ]
    },
    {
     "name": "stdout",
     "output_type": "stream",
     "text": [
      "rachit.hirani/2021-07-16_04-56-38_UTC.jpg [Some cars just make you love …] json \n"
     ]
    },
    {
     "name": "stderr",
     "output_type": "stream",
     "text": [
      "JSON Query to api/v1/media/2618310120188413722/info/: HTTP error code 401. [retrying; skip with ^C]\n",
      "JSON Query to api/v1/media/2618310120188413722/info/: HTTP error code 401. [retrying; skip with ^C]\n",
      "Unable to fetch high quality image version of <Post CRWGy6RpAca>: JSON Query to api/v1/media/2618310120188413722/info/: HTTP error code 401.\n"
     ]
    },
    {
     "name": "stdout",
     "output_type": "stream",
     "text": [
      "rachit.hirani/2021-07-15_11-01-50_UTC.jpg [Work hard - play hard. Do you…] json \n"
     ]
    },
    {
     "name": "stderr",
     "output_type": "stream",
     "text": [
      "JSON Query to api/v1/media/2616865240929103082/info/: HTTP error code 401. [retrying; skip with ^C]\n",
      "JSON Query to api/v1/media/2616865240929103082/info/: HTTP error code 401. [retrying; skip with ^C]\n",
      "Unable to fetch high quality image version of <Post CRQ-RJmpWzq>: JSON Query to api/v1/media/2616865240929103082/info/: HTTP error code 401.\n"
     ]
    },
    {
     "name": "stdout",
     "output_type": "stream",
     "text": [
      "rachit.hirani/2021-07-13_11-11-07_UTC.jpg [When the twins come in one fr…] json \n"
     ]
    },
    {
     "name": "stderr",
     "output_type": "stream",
     "text": [
      "JSON Query to api/v1/media/2613071447058801526/info/: HTTP error code 401. [retrying; skip with ^C]\n",
      "JSON Query to api/v1/media/2613071447058801526/info/: HTTP error code 401. [retrying; skip with ^C]\n",
      "Unable to fetch high quality image version of <Post CRDfqLup-N2>: JSON Query to api/v1/media/2613071447058801526/info/: HTTP error code 401.\n"
     ]
    },
    {
     "name": "stdout",
     "output_type": "stream",
     "text": [
      "rachit.hirani/2021-07-08_05-33-32_UTC.jpg [I joined @chekmarcunites rece…] json \n"
     ]
    },
    {
     "name": "stderr",
     "output_type": "stream",
     "text": [
      "JSON Query to api/v1/media/2608346540760444178/info/: HTTP error code 401. [retrying; skip with ^C]\n",
      "JSON Query to api/v1/media/2608346540760444178/info/: HTTP error code 401. [retrying; skip with ^C]\n",
      "Unable to fetch high quality image version of <Post CQytVv1JS0S>: JSON Query to api/v1/media/2608346540760444178/info/: HTTP error code 401.\n"
     ]
    },
    {
     "name": "stdout",
     "output_type": "stream",
     "text": [
      "rachit.hirani/2021-07-01_17-05-59_UTC.jpg [Time to get ready for the nex…] json \n"
     ]
    },
    {
     "name": "stderr",
     "output_type": "stream",
     "text": [
      "JSON Query to api/v1/media/2603197521029647088/info/: HTTP error code 401. [retrying; skip with ^C]\n",
      "JSON Query to api/v1/media/2603197521029647088/info/: HTTP error code 401. [retrying; skip with ^C]\n",
      "Unable to fetch high quality image version of <Post CQgalphJkrw>: JSON Query to api/v1/media/2603197521029647088/info/: HTTP error code 401.\n"
     ]
    },
    {
     "name": "stdout",
     "output_type": "stream",
     "text": [
      "rachit.hirani/2021-06-24_14-35-48_UTC.jpg [While we all say that smartph…] json \n"
     ]
    },
    {
     "name": "stderr",
     "output_type": "stream",
     "text": [
      "JSON Query to api/v1/media/2601095241073498310/info/: HTTP error code 401. [retrying; skip with ^C]\n",
      "JSON Query to api/v1/media/2601095241073498310/info/: HTTP error code 401. [retrying; skip with ^C]\n",
      "Unable to fetch high quality image version of <Post CQY8lcvJRjG>: JSON Query to api/v1/media/2601095241073498310/info/: HTTP error code 401.\n"
     ]
    },
    {
     "name": "stdout",
     "output_type": "stream",
     "text": [
      "rachit.hirani/2021-06-21_16-58-57_UTC.jpg [Today @motoroctane became the…] json \n"
     ]
    },
    {
     "name": "stderr",
     "output_type": "stream",
     "text": [
      "JSON Query to api/v1/media/2593538964818509494/info/: HTTP error code 401. [retrying; skip with ^C]\n",
      "JSON Query to api/v1/media/2593538964818509494/info/: HTTP error code 401. [retrying; skip with ^C]\n",
      "Unable to fetch high quality image version of <Post CP-GfKFJD62>: JSON Query to api/v1/media/2593538964818509494/info/: HTTP error code 401.\n"
     ]
    },
    {
     "name": "stdout",
     "output_type": "stream",
     "text": [
      "rachit.hirani/2021-06-11_06-45-59_UTC.jpg [First I’m very grateful that …] json \n"
     ]
    },
    {
     "name": "stderr",
     "output_type": "stream",
     "text": [
      "JSON Query to api/v1/media/2573989466001946999/info/: HTTP error code 401. [retrying; skip with ^C]\n",
      "JSON Query to api/v1/media/2573989466001946999/info/: HTTP error code 401. [retrying; skip with ^C]\n",
      "Unable to fetch high quality image version of <Post CO4pcggpLl3>: JSON Query to api/v1/media/2573989466001946999/info/: HTTP error code 401.\n"
     ]
    },
    {
     "name": "stdout",
     "output_type": "stream",
     "text": [
      "rachit.hirani/2021-05-15_07-24-37_UTC.jpg [Just got my first dose. Guys …] json \n"
     ]
    },
    {
     "name": "stderr",
     "output_type": "stream",
     "text": [
      "JSON Query to api/v1/media/2547370291926164283/info/: HTTP error code 401. [retrying; skip with ^C]\n",
      "JSON Query to api/v1/media/2547370291926164283/info/: HTTP error code 401. [retrying; skip with ^C]\n",
      "Unable to fetch high quality image version of <Post CNaE8ixpGM7>: JSON Query to api/v1/media/2547370291926164283/info/: HTTP error code 401.\n"
     ]
    },
    {
     "name": "stdout",
     "output_type": "stream",
     "text": [
      "rachit.hirani/2021-04-08_13-57-04_UTC.jpg [Ek aysi car jo humesha journa…] json \n",
      "Downloaded 70 images from rachit.hirani's profile.\n",
      "Influencer: gayathryrajiv.xlsx\n",
      "gayathryrajiv/2024-06-04_11-57-05_UTC_1.jpg gayathryrajiv/2024-06-04_11-57-05_UTC_2.jpg [Ishk teri aankhon me likha 🤍 …] json \n",
      "gayathryrajiv/2024-05-30_14-25-28_UTC_1.jpg gayathryrajiv/2024-05-30_14-25-28_UTC_2.jpg gayathryrajiv/2024-05-30_14-25-28_UTC_3.jpg gayathryrajiv/2024-05-30_14-25-28_UTC_4.jpg [In the silences resides her o…] json \n",
      "gayathryrajiv/2024-04-20_13-35-01_UTC.jpg [Flowing like a wind 🤍   📱 @ma…] json \n",
      "gayathryrajiv/2024-04-01_11-48-54_UTC.jpg [#grateful 5 years back , I kn…] json \n",
      "gayathryrajiv/2024-03-10_10-38-34_UTC_1.jpg gayathryrajiv/2024-03-10_10-38-34_UTC_2.jpg gayathryrajiv/2024-03-10_10-38-34_UTC_3.jpg [Happy birthday to our queen @…] json \n",
      "gayathryrajiv/2024-03-06_12-24-04_UTC_1.jpg gayathryrajiv/2024-03-06_12-24-04_UTC_2.jpg [Instagram Verified 😍and I’ve …] json \n",
      "gayathryrajiv/2024-03-04_12-52-35_UTC_1.jpg gayathryrajiv/2024-03-04_12-52-35_UTC_2.jpg gayathryrajiv/2024-03-04_12-52-35_UTC_3.jpg [Glowing with the right people…] json \n",
      "gayathryrajiv/2024-02-07_13-15-07_UTC_1.jpg gayathryrajiv/2024-02-07_13-15-07_UTC_2.jpg [Centre stage spotlight 💥   📷 …] json \n",
      "gayathryrajiv/2024-01-29_11-51-25_UTC.jpg [Yeay 😍  PC 📷 @pv__varun chett…] json \n",
      "gayathryrajiv/2024-01-29_06-42-22_UTC_1.jpg gayathryrajiv/2024-01-29_06-42-22_UTC_2.jpg gayathryrajiv/2024-01-29_06-42-22_UTC_3.jpg gayathryrajiv/2024-01-29_06-42-22_UTC_4.jpg [Burj Khalifa 😍 #concertdiarie…] json \n",
      "gayathryrajiv/2024-01-28_12-06-31_UTC.jpg [Rehearsals with Alphonsettan,…] json \n",
      "gayathryrajiv/2023-12-24_11-13-33_UTC_1.jpg gayathryrajiv/2023-12-24_11-13-33_UTC_2.jpg [The best frame of 2023 🥹❤️wit…] json \n",
      "gayathryrajiv/2023-12-24_04-51-32_UTC.jpg [Have wondered how can I meet …] json \n",
      "gayathryrajiv/2023-12-12_06-46-00_UTC.jpg [❤️With @shilparao mam ✨Late t…] json \n",
      "gayathryrajiv/2023-12-02_13-20-54_UTC.jpg [The spotlight might shift, bu…] json \n",
      "gayathryrajiv/2023-11-30_04-29-12_UTC.jpg [Grateful ❤️ #spotifywrapped t…] json \n",
      "gayathryrajiv/2023-11-22_08-35-15_UTC.jpg [With @armaanmalik sir 🙏🤍 Got …] json \n",
      "gayathryrajiv/2023-11-04_16-06-45_UTC.jpg [🩷hope u all enjoyed today’s t…] json \n",
      "gayathryrajiv/2023-10-27_12-42-31_UTC.jpg [Indian idol ❤️fam  #indianido…] json \n"
     ]
    },
    {
     "name": "stderr",
     "output_type": "stream",
     "text": [
      "JSON Query to api/v1/media/3179435981856183425/info/: HTTP error code 401. [retrying; skip with ^C]\n",
      "JSON Query to api/v1/media/3179435981856183425/info/: HTTP error code 401. [retrying; skip with ^C]\n",
      "Unable to fetch high quality image version of <Post CwfoC4cohSB>: JSON Query to api/v1/media/3179435981856183425/info/: HTTP error code 401.\n"
     ]
    },
    {
     "name": "stdout",
     "output_type": "stream",
     "text": [
      "gayathryrajiv/2023-08-28_15-58-46_UTC.jpg [Happy Onam dears ❤️  Dop @ame…] json \n"
     ]
    },
    {
     "name": "stderr",
     "output_type": "stream",
     "text": [
      "JSON Query to api/v1/media/3177169266184826289/info/: HTTP error code 401. [retrying; skip with ^C]\n",
      "JSON Query to api/v1/media/3177169266184826289/info/: HTTP error code 401. [retrying; skip with ^C]\n",
      "Unable to fetch high quality image version of <Post CwXkp0-PC2x>: JSON Query to api/v1/media/3177169266184826289/info/: HTTP error code 401.\n"
     ]
    },
    {
     "name": "stdout",
     "output_type": "stream",
     "text": [
      "gayathryrajiv/2023-08-25_12-55-12_UTC.jpg [Savouring every moment of Ona…] json \n"
     ]
    },
    {
     "name": "stderr",
     "output_type": "stream",
     "text": [
      "JSON Query to api/v1/media/3177038151234935529/info/: HTTP error code 401. [retrying; skip with ^C]\n",
      "JSON Query to api/v1/media/3177038151234935529/info/: HTTP error code 401. [retrying; skip with ^C]\n",
      "Unable to fetch high quality image version of <Post CwXG12qONrp>: JSON Query to api/v1/media/3177038151234935529/info/: HTTP error code 401.\n"
     ]
    },
    {
     "name": "stdout",
     "output_type": "stream",
     "text": [
      "gayathryrajiv/2023-08-25_08-34-42_UTC_2.jpg "
     ]
    },
    {
     "name": "stderr",
     "output_type": "stream",
     "text": [
      "JSON Query to api/v1/media/3177038151234935529/info/: HTTP error code 401. [retrying; skip with ^C]\n",
      "JSON Query to api/v1/media/3177038151234935529/info/: HTTP error code 401. [retrying; skip with ^C]\n",
      "Unable to fetch high quality image version of <Post CwXG12qONrp>: JSON Query to api/v1/media/3177038151234935529/info/: HTTP error code 401.\n"
     ]
    },
    {
     "name": "stdout",
     "output_type": "stream",
     "text": [
      "gayathryrajiv/2023-08-25_08-34-42_UTC_3.jpg "
     ]
    },
    {
     "name": "stderr",
     "output_type": "stream",
     "text": [
      "JSON Query to api/v1/media/3177038151234935529/info/: HTTP error code 401. [retrying; skip with ^C]\n",
      "JSON Query to api/v1/media/3177038151234935529/info/: HTTP error code 401. [retrying; skip with ^C]\n",
      "Unable to fetch high quality image version of <Post CwXG12qONrp>: JSON Query to api/v1/media/3177038151234935529/info/: HTTP error code 401.\n"
     ]
    },
    {
     "name": "stdout",
     "output_type": "stream",
     "text": [
      "gayathryrajiv/2023-08-25_08-34-42_UTC_4.jpg "
     ]
    },
    {
     "name": "stderr",
     "output_type": "stream",
     "text": [
      "JSON Query to api/v1/media/3177038151234935529/info/: HTTP error code 401. [retrying; skip with ^C]\n",
      "JSON Query to api/v1/media/3177038151234935529/info/: HTTP error code 401. [retrying; skip with ^C]\n",
      "Unable to fetch high quality image version of <Post CwXG12qONrp>: JSON Query to api/v1/media/3177038151234935529/info/: HTTP error code 401.\n"
     ]
    },
    {
     "name": "stdout",
     "output_type": "stream",
     "text": [
      "gayathryrajiv/2023-08-25_08-34-42_UTC_5.jpg "
     ]
    },
    {
     "name": "stderr",
     "output_type": "stream",
     "text": [
      "JSON Query to api/v1/media/3177038151234935529/info/: HTTP error code 403. [retrying; skip with ^C]\n",
      "JSON Query to api/v1/media/3177038151234935529/info/: HTTP error code 403. [retrying; skip with ^C]\n",
      "Unable to fetch high quality image version of <Post CwXG12qONrp>: JSON Query to api/v1/media/3177038151234935529/info/: HTTP error code 403.\n"
     ]
    },
    {
     "name": "stdout",
     "output_type": "stream",
     "text": [
      "gayathryrajiv/2023-08-25_08-34-42_UTC_6.jpg "
     ]
    },
    {
     "name": "stderr",
     "output_type": "stream",
     "text": [
      "JSON Query to api/v1/media/3177038151234935529/info/: HTTP error code 401. [retrying; skip with ^C]\n",
      "JSON Query to api/v1/media/3177038151234935529/info/: HTTP error code 401. [retrying; skip with ^C]\n",
      "Unable to fetch high quality image version of <Post CwXG12qONrp>: JSON Query to api/v1/media/3177038151234935529/info/: HTTP error code 401.\n"
     ]
    },
    {
     "name": "stdout",
     "output_type": "stream",
     "text": [
      "gayathryrajiv/2023-08-25_08-34-42_UTC_7.jpg "
     ]
    },
    {
     "name": "stderr",
     "output_type": "stream",
     "text": [
      "JSON Query to api/v1/media/3177038151234935529/info/: HTTP error code 403. [retrying; skip with ^C]\n",
      "JSON Query to api/v1/media/3177038151234935529/info/: HTTP error code 403. [retrying; skip with ^C]\n",
      "Unable to fetch high quality image version of <Post CwXG12qONrp>: JSON Query to api/v1/media/3177038151234935529/info/: HTTP error code 403.\n"
     ]
    },
    {
     "name": "stdout",
     "output_type": "stream",
     "text": [
      "gayathryrajiv/2023-08-25_08-34-42_UTC_8.jpg "
     ]
    },
    {
     "name": "stderr",
     "output_type": "stream",
     "text": [
      "JSON Query to api/v1/media/3177038151234935529/info/: HTTP error code 403. [retrying; skip with ^C]\n",
      "JSON Query to api/v1/media/3177038151234935529/info/: HTTP error code 403. [retrying; skip with ^C]\n",
      "Unable to fetch high quality image version of <Post CwXG12qONrp>: JSON Query to api/v1/media/3177038151234935529/info/: HTTP error code 403.\n"
     ]
    },
    {
     "name": "stdout",
     "output_type": "stream",
     "text": [
      "gayathryrajiv/2023-08-25_08-34-42_UTC_9.jpg [Back at the place where it al…] json \n"
     ]
    },
    {
     "name": "stderr",
     "output_type": "stream",
     "text": [
      "JSON Query to api/v1/media/3176480223751279721/info/: HTTP error code 403. [retrying; skip with ^C]\n",
      "JSON Query to api/v1/media/3176480223751279721/info/: HTTP error code 403. [retrying; skip with ^C]\n",
      "Unable to fetch high quality image version of <Post CwVH-8Mv5Rp>: JSON Query to api/v1/media/3176480223751279721/info/: HTTP error code 403.\n"
     ]
    },
    {
     "name": "stdout",
     "output_type": "stream",
     "text": [
      "gayathryrajiv/2023-08-24_14-06-12_UTC.jpg [Minnum Ponnonam 🌸🌼  Stay Tune…] json \n"
     ]
    },
    {
     "name": "stderr",
     "output_type": "stream",
     "text": [
      "JSON Query to api/v1/media/3166974313370702589/info/: HTTP error code 401. [retrying; skip with ^C]\n",
      "JSON Query to api/v1/media/3166974313370702589/info/: HTTP error code 401. [retrying; skip with ^C]\n",
      "Unable to fetch high quality image version of <Post CvzWlvRP1L9>: JSON Query to api/v1/media/3166974313370702589/info/: HTTP error code 401.\n"
     ]
    },
    {
     "name": "stdout",
     "output_type": "stream",
     "text": [
      "gayathryrajiv/2023-08-11_11-19-39_UTC.jpg [Learning, growing and becomin…] json \n"
     ]
    },
    {
     "name": "stderr",
     "output_type": "stream",
     "text": [
      "JSON Query to api/v1/media/3161185940068518052/info/: HTTP error code 401. [retrying; skip with ^C]\n",
      "JSON Query to api/v1/media/3161185940068518052/info/: HTTP error code 401. [retrying; skip with ^C]\n",
      "Unable to fetch high quality image version of <Post Cveyd0ivkik>: JSON Query to api/v1/media/3161185940068518052/info/: HTTP error code 401.\n"
     ]
    },
    {
     "name": "stdout",
     "output_type": "stream",
     "text": [
      "gayathryrajiv/2023-08-03_11-39-11_UTC.jpg [Every step a dance, every roa…] json \n"
     ]
    },
    {
     "name": "stderr",
     "output_type": "stream",
     "text": [
      "JSON Query to api/v1/media/3152534686312415731/info/: HTTP error code 401. [retrying; skip with ^C]\n",
      "JSON Query to api/v1/media/3152534686312415731/info/: HTTP error code 401. [retrying; skip with ^C]\n",
      "Unable to fetch high quality image version of <Post CvADZgnv8Hz>: JSON Query to api/v1/media/3152534686312415731/info/: HTTP error code 401.\n"
     ]
    },
    {
     "name": "stdout",
     "output_type": "stream",
     "text": [
      "gayathryrajiv/2023-07-22_13-10-41_UTC.jpg [Be more of you and less of th…] json \n"
     ]
    },
    {
     "name": "stderr",
     "output_type": "stream",
     "text": [
      "JSON Query to api/v1/media/3127887683288579772/info/: HTTP error code 401. [retrying; skip with ^C]\n",
      "JSON Query to api/v1/media/3127887683288579772/info/: HTTP error code 401. [retrying; skip with ^C]\n",
      "Unable to fetch high quality image version of <Post CtofUaTvD68>: JSON Query to api/v1/media/3127887683288579772/info/: HTTP error code 401.\n"
     ]
    },
    {
     "name": "stdout",
     "output_type": "stream",
     "text": [
      "gayathryrajiv/2023-06-18_13-01-30_UTC.jpg [Beauty begins when you decide…] json \n"
     ]
    },
    {
     "name": "stderr",
     "output_type": "stream",
     "text": [
      "JSON Query to api/v1/media/3122070327276937838/info/: HTTP error code 401. [retrying; skip with ^C]\n",
      "JSON Query to api/v1/media/3122070327276937838/info/: HTTP error code 401. [retrying; skip with ^C]\n",
      "Unable to fetch high quality image version of <Post CtT0mvVISJu>: JSON Query to api/v1/media/3122070327276937838/info/: HTTP error code 401.\n"
     ]
    },
    {
     "name": "stdout",
     "output_type": "stream",
     "text": [
      "gayathryrajiv/2023-06-10_12-23-27_UTC_1.jpg "
     ]
    },
    {
     "name": "stderr",
     "output_type": "stream",
     "text": [
      "JSON Query to api/v1/media/3122070327276937838/info/: HTTP error code 401. [retrying; skip with ^C]\n",
      "JSON Query to api/v1/media/3122070327276937838/info/: HTTP error code 401. [retrying; skip with ^C]\n",
      "Unable to fetch high quality image version of <Post CtT0mvVISJu>: JSON Query to api/v1/media/3122070327276937838/info/: HTTP error code 401.\n"
     ]
    },
    {
     "name": "stdout",
     "output_type": "stream",
     "text": [
      "gayathryrajiv/2023-06-10_12-23-27_UTC_2.jpg "
     ]
    },
    {
     "name": "stderr",
     "output_type": "stream",
     "text": [
      "JSON Query to api/v1/media/3122070327276937838/info/: HTTP error code 401. [retrying; skip with ^C]\n",
      "JSON Query to api/v1/media/3122070327276937838/info/: HTTP error code 401. [retrying; skip with ^C]\n",
      "Unable to fetch high quality image version of <Post CtT0mvVISJu>: JSON Query to api/v1/media/3122070327276937838/info/: HTTP error code 401.\n"
     ]
    },
    {
     "name": "stdout",
     "output_type": "stream",
     "text": [
      "gayathryrajiv/2023-06-10_12-23-27_UTC_3.jpg [Petronas Twin Tower (Malaysia…] json \n"
     ]
    },
    {
     "name": "stderr",
     "output_type": "stream",
     "text": [
      "JSON Query to api/v1/media/3109015930504449407/info/: HTTP error code 401. [retrying; skip with ^C]\n",
      "JSON Query to api/v1/media/3109015930504449407/info/: HTTP error code 401. [retrying; skip with ^C]\n",
      "Unable to fetch high quality image version of <Post CslcYQ6v41_>: JSON Query to api/v1/media/3109015930504449407/info/: HTTP error code 401.\n"
     ]
    },
    {
     "name": "stdout",
     "output_type": "stream",
     "text": [
      "gayathryrajiv/2023-05-23_12-06-42_UTC.jpg [Time travel to 80's vintage v…] json \n"
     ]
    },
    {
     "name": "stderr",
     "output_type": "stream",
     "text": [
      "JSON Query to api/v1/media/3103952984895915767/info/: HTTP error code 401. [retrying; skip with ^C]\n",
      "JSON Query to api/v1/media/3103952984895915767/info/: HTTP error code 401. [retrying; skip with ^C]\n",
      "Unable to fetch high quality image version of <Post CsTdMtYPAb3>: JSON Query to api/v1/media/3103952984895915767/info/: HTTP error code 401.\n"
     ]
    },
    {
     "name": "stdout",
     "output_type": "stream",
     "text": [
      "gayathryrajiv/2023-05-16_12-27-31_UTC.jpg [Bring out the fairy in you to…] json \n"
     ]
    },
    {
     "name": "stderr",
     "output_type": "stream",
     "text": [
      "JSON Query to api/v1/media/3102334533424963011/info/: HTTP error code 401. [retrying; skip with ^C]\n",
      "JSON Query to api/v1/media/3102334533424963011/info/: HTTP error code 401. [retrying; skip with ^C]\n",
      "Unable to fetch high quality image version of <Post CsNtNI_ON3D>: JSON Query to api/v1/media/3102334533424963011/info/: HTTP error code 401.\n"
     ]
    },
    {
     "name": "stdout",
     "output_type": "stream",
     "text": [
      "gayathryrajiv/2023-05-14_06-51-57_UTC.jpg [Happy mothers day ❤ to my bes…] json \n"
     ]
    },
    {
     "name": "stderr",
     "output_type": "stream",
     "text": [
      "JSON Query to api/v1/media/3098714440212155113/info/: HTTP error code 401. [retrying; skip with ^C]\n",
      "JSON Query to api/v1/media/3098714440212155113/info/: HTTP error code 401. [retrying; skip with ^C]\n",
      "Unable to fetch high quality image version of <Post CsA2F2dOArp>: JSON Query to api/v1/media/3098714440212155113/info/: HTTP error code 401.\n"
     ]
    },
    {
     "name": "stdout",
     "output_type": "stream",
     "text": [
      "gayathryrajiv/2023-05-09_06-59-28_UTC.jpg [Thenisai thendral Deva sir 🤍🙏…] json \n"
     ]
    },
    {
     "name": "stderr",
     "output_type": "stream",
     "text": [
      "JSON Query to api/v1/media/3097396610900717625/info/: HTTP error code 401. [retrying; skip with ^C]\n",
      "JSON Query to api/v1/media/3097396610900717625/info/: HTTP error code 401. [retrying; skip with ^C]\n",
      "Unable to fetch high quality image version of <Post Cr8Kc6RPHA5>: JSON Query to api/v1/media/3097396610900717625/info/: HTTP error code 401.\n"
     ]
    },
    {
     "name": "stdout",
     "output_type": "stream",
     "text": [
      "gayathryrajiv/2023-05-07_11-21-11_UTC.jpg [With @ehsaan sir and @loymend…] json \n"
     ]
    },
    {
     "name": "stderr",
     "output_type": "stream",
     "text": [
      "JSON Query to api/v1/media/3097189922812094551/info/: HTTP error code 401. [retrying; skip with ^C]\n",
      "JSON Query to api/v1/media/3097189922812094551/info/: HTTP error code 401. [retrying; skip with ^C]\n",
      "Unable to fetch high quality image version of <Post Cr7bdM_ImhX>: JSON Query to api/v1/media/3097189922812094551/info/: HTTP error code 401.\n"
     ]
    },
    {
     "name": "stdout",
     "output_type": "stream",
     "text": [
      "gayathryrajiv/2023-05-07_04-30-32_UTC.jpg [Such a surreal experience @sh…] json \n"
     ]
    },
    {
     "name": "stderr",
     "output_type": "stream",
     "text": [
      "JSON Query to api/v1/media/3076303632832646949/info/: HTTP error code 401. [retrying; skip with ^C]\n",
      "JSON Query to api/v1/media/3076303632832646949/info/: HTTP error code 401. [retrying; skip with ^C]\n",
      "Unable to fetch high quality image version of <Post CqxOdroO88l>: JSON Query to api/v1/media/3076303632832646949/info/: HTTP error code 401.\n"
     ]
    },
    {
     "name": "stdout",
     "output_type": "stream",
     "text": [
      "gayathryrajiv/2023-04-08_08-53-12_UTC.jpg [Love you Acha ❤ Happy birthda…] json \n"
     ]
    },
    {
     "name": "stderr",
     "output_type": "stream",
     "text": [
      "JSON Query to api/v1/media/3059064138580701556/info/: HTTP error code 401. [retrying; skip with ^C]\n",
      "JSON Query to api/v1/media/3059064138580701556/info/: HTTP error code 401. [retrying; skip with ^C]\n",
      "Unable to fetch high quality image version of <Post Cpz-qBdPTF0>: JSON Query to api/v1/media/3059064138580701556/info/: HTTP error code 401.\n"
     ]
    },
    {
     "name": "stdout",
     "output_type": "stream",
     "text": [
      "gayathryrajiv/2023-03-15_14-01-24_UTC.jpg [Always a die hard fan of you …] json \n"
     ]
    },
    {
     "name": "stderr",
     "output_type": "stream",
     "text": [
      "JSON Query to api/v1/media/3054033990408002255/info/: HTTP error code 401. [retrying; skip with ^C]\n",
      "JSON Query to api/v1/media/3054033990408002255/info/: HTTP error code 401. [retrying; skip with ^C]\n",
      "Unable to fetch high quality image version of <Post CpiG7u6PNrP>: JSON Query to api/v1/media/3054033990408002255/info/: HTTP error code 401.\n"
     ]
    },
    {
     "name": "stdout",
     "output_type": "stream",
     "text": [
      "gayathryrajiv/2023-03-08_15-27-23_UTC.jpg [Happy womens day ❤   Dop 📷 @p…] json \n"
     ]
    },
    {
     "name": "stderr",
     "output_type": "stream",
     "text": [
      "JSON Query to api/v1/media/3021353195373716652/info/: HTTP error code 401. [retrying; skip with ^C]\n",
      "JSON Query to api/v1/media/3021353195373716652/info/: HTTP error code 401. [retrying; skip with ^C]\n",
      "Unable to fetch high quality image version of <Post CnuALkvPeSs>: JSON Query to api/v1/media/3021353195373716652/info/: HTTP error code 401.\n"
     ]
    },
    {
     "name": "stdout",
     "output_type": "stream",
     "text": [
      "gayathryrajiv/2023-01-22_13-16-29_UTC_1.jpg "
     ]
    },
    {
     "name": "stderr",
     "output_type": "stream",
     "text": [
      "JSON Query to api/v1/media/3021353195373716652/info/: HTTP error code 401. [retrying; skip with ^C]\n",
      "JSON Query to api/v1/media/3021353195373716652/info/: HTTP error code 401. [retrying; skip with ^C]\n",
      "Unable to fetch high quality image version of <Post CnuALkvPeSs>: JSON Query to api/v1/media/3021353195373716652/info/: HTTP error code 401.\n"
     ]
    },
    {
     "name": "stdout",
     "output_type": "stream",
     "text": [
      "gayathryrajiv/2023-01-22_13-16-29_UTC_2.jpg "
     ]
    },
    {
     "name": "stderr",
     "output_type": "stream",
     "text": [
      "JSON Query to api/v1/media/3021353195373716652/info/: HTTP error code 401. [retrying; skip with ^C]\n",
      "JSON Query to api/v1/media/3021353195373716652/info/: HTTP error code 401. [retrying; skip with ^C]\n",
      "Unable to fetch high quality image version of <Post CnuALkvPeSs>: JSON Query to api/v1/media/3021353195373716652/info/: HTTP error code 401.\n"
     ]
    },
    {
     "name": "stdout",
     "output_type": "stream",
     "text": [
      "gayathryrajiv/2023-01-22_13-16-29_UTC_3.jpg [Extreamly happy to share a st…] json \n"
     ]
    },
    {
     "name": "stderr",
     "output_type": "stream",
     "text": [
      "JSON Query to api/v1/media/3019189726000175274/info/: HTTP error code 401. [retrying; skip with ^C]\n",
      "JSON Query to api/v1/media/3019189726000175274/info/: HTTP error code 401. [retrying; skip with ^C]\n",
      "Unable to fetch high quality image version of <Post CnmUQ83v9iq>: JSON Query to api/v1/media/3019189726000175274/info/: HTTP error code 401.\n"
     ]
    },
    {
     "name": "stdout",
     "output_type": "stream",
     "text": [
      "gayathryrajiv/2023-01-19_13-38-03_UTC.jpg [Peace begins with a Smile 🤍 -…] json \n"
     ]
    },
    {
     "name": "stderr",
     "output_type": "stream",
     "text": [
      "JSON Query to api/v1/media/3016304528107387593/info/: HTTP error code 401. [retrying; skip with ^C]\n",
      "JSON Query to api/v1/media/3016304528107387593/info/: HTTP error code 401. [retrying; skip with ^C]\n",
      "Unable to fetch high quality image version of <Post CncEPy8PjrJ>: JSON Query to api/v1/media/3016304528107387593/info/: HTTP error code 401.\n"
     ]
    },
    {
     "name": "stdout",
     "output_type": "stream",
     "text": [
      "gayathryrajiv/2023-01-15_14-05-41_UTC.jpg [Dolled up for @skodadeccanbea…] json \n"
     ]
    },
    {
     "name": "stderr",
     "output_type": "stream",
     "text": [
      "JSON Query to api/v1/media/3005407982319035591/info/: HTTP error code 401. [retrying; skip with ^C]\n",
      "JSON Query to api/v1/media/3005407982319035591/info/: HTTP error code 401. [retrying; skip with ^C]\n",
      "Unable to fetch high quality image version of <Post Cm1WqL3P-TH>: JSON Query to api/v1/media/3005407982319035591/info/: HTTP error code 401.\n"
     ]
    },
    {
     "name": "stdout",
     "output_type": "stream",
     "text": [
      "gayathryrajiv/2022-12-31_13-16-12_UTC.jpg [2022 : You were a rollercoast…] json \n"
     ]
    },
    {
     "name": "stderr",
     "output_type": "stream",
     "text": [
      "JSON Query to api/v1/media/3000768529713370241/info/: HTTP error code 401. [retrying; skip with ^C]\n",
      "JSON Query to api/v1/media/3000768529713370241/info/: HTTP error code 401. [retrying; skip with ^C]\n",
      "Unable to fetch high quality image version of <Post Cmk3xQ6vJSB>: JSON Query to api/v1/media/3000768529713370241/info/: HTTP error code 401.\n"
     ]
    },
    {
     "name": "stdout",
     "output_type": "stream",
     "text": [
      "gayathryrajiv/2022-12-25_03-38-26_UTC.jpg [Merry Christmas ❤   Dop 📷 @da…] json \n"
     ]
    },
    {
     "name": "stderr",
     "output_type": "stream",
     "text": [
      "JSON Query to api/v1/media/2993813790991949662/info/: HTTP error code 401. [retrying; skip with ^C]\n",
      "JSON Query to api/v1/media/2993813790991949662/info/: HTTP error code 401. [retrying; skip with ^C]\n",
      "Unable to fetch high quality image version of <Post CmMKcfvvZ9e>: JSON Query to api/v1/media/2993813790991949662/info/: HTTP error code 401.\n"
     ]
    },
    {
     "name": "stdout",
     "output_type": "stream",
     "text": [
      "gayathryrajiv/2022-12-15_13-20-36_UTC.jpg [Sometimes we are called to gl…] json \n"
     ]
    },
    {
     "name": "stderr",
     "output_type": "stream",
     "text": [
      "JSON Query to api/v1/media/2989429442666631529/info/: HTTP error code 401. [retrying; skip with ^C]\n",
      "JSON Query to api/v1/media/2989429442666631529/info/: HTTP error code 401. [retrying; skip with ^C]\n",
      "Unable to fetch high quality image version of <Post Cl8lj1LPRFp>: JSON Query to api/v1/media/2989429442666631529/info/: HTTP error code 401.\n"
     ]
    },
    {
     "name": "stdout",
     "output_type": "stream",
     "text": [
      "gayathryrajiv/2022-12-09_12-09-41_UTC.jpg [I must go in , the fog is ris…] json \n"
     ]
    },
    {
     "name": "stderr",
     "output_type": "stream",
     "text": [
      "JSON Query to api/v1/media/2958826661415588560/info/: HTTP error code 401. [retrying; skip with ^C]\n",
      "JSON Query to api/v1/media/2958826661415588560/info/: HTTP error code 401. [retrying; skip with ^C]\n",
      "Unable to fetch high quality image version of <Post CkP3SwJoZLQ>: JSON Query to api/v1/media/2958826661415588560/info/: HTTP error code 401.\n"
     ]
    },
    {
     "name": "stdout",
     "output_type": "stream",
     "text": [
      "gayathryrajiv/2022-10-28_06-47-25_UTC.jpg [💖3 Musketeers😅  📱 @saran_part…] json \n"
     ]
    },
    {
     "name": "stderr",
     "output_type": "stream",
     "text": [
      "JSON Query to api/v1/media/2951037817641022538/info/: HTTP error code 401. [retrying; skip with ^C]\n",
      "JSON Query to api/v1/media/2951037817641022538/info/: HTTP error code 401. [retrying; skip with ^C]\n",
      "Unable to fetch high quality image version of <Post Cj0MUKHPLRK>: JSON Query to api/v1/media/2951037817641022538/info/: HTTP error code 401.\n"
     ]
    },
    {
     "name": "stdout",
     "output_type": "stream",
     "text": [
      "gayathryrajiv/2022-10-17_12-52-23_UTC.jpg [🤍🤍🤍  PC 📷 @leroyjerson   Loca…] json \n"
     ]
    },
    {
     "name": "stderr",
     "output_type": "stream",
     "text": [
      "JSON Query to api/v1/media/2945214896813151138/info/: HTTP error code 401. [retrying; skip with ^C]\n",
      "JSON Query to api/v1/media/2945214896813151138/info/: HTTP error code 401. [retrying; skip with ^C]\n",
      "Unable to fetch high quality image version of <Post CjfgVgfvJOi>: JSON Query to api/v1/media/2945214896813151138/info/: ('Connection aborted.', RemoteDisconnected('Remote end closed connection without response'))\n"
     ]
    },
    {
     "name": "stdout",
     "output_type": "stream",
     "text": [
      "gayathryrajiv/2022-10-09_12-03-17_UTC.jpg [Post recording clicks 🤍😅🥰 wit…] json \n"
     ]
    },
    {
     "name": "stderr",
     "output_type": "stream",
     "text": [
      "JSON Query to api/v1/media/2943757246114449942/info/: HTTP error code 401. [retrying; skip with ^C]\n",
      "JSON Query to api/v1/media/2943757246114449942/info/: HTTP error code 401. [retrying; skip with ^C]\n",
      "Unable to fetch high quality image version of <Post CjaU55fokoW>: JSON Query to api/v1/media/2943757246114449942/info/: HTTP error code 401.\n"
     ]
    },
    {
     "name": "stdout",
     "output_type": "stream",
     "text": [
      "gayathryrajiv/2022-10-07_11-47-11_UTC.jpg [Recording with @ronnie.raphae…] json \n"
     ]
    },
    {
     "name": "stderr",
     "output_type": "stream",
     "text": [
      "JSON Query to api/v1/media/2940743643834212528/info/: HTTP error code 401. [retrying; skip with ^C]\n",
      "JSON Query to api/v1/media/2940743643834212528/info/: HTTP error code 401. [retrying; skip with ^C]\n",
      "Unable to fetch high quality image version of <Post CjPnsNqOeCw>: JSON Query to api/v1/media/2940743643834212528/info/: HTTP error code 401.\n"
     ]
    },
    {
     "name": "stdout",
     "output_type": "stream",
     "text": [
      "gayathryrajiv/2022-10-03_07-59-42_UTC.jpg [Happy birthday to you @sharre…] json \n"
     ]
    },
    {
     "name": "stderr",
     "output_type": "stream",
     "text": [
      "JSON Query to api/v1/media/2939445367076061460/info/: HTTP error code 401. [retrying; skip with ^C]\n",
      "JSON Query to api/v1/media/2939445367076061460/info/: HTTP error code 401. [retrying; skip with ^C]\n",
      "Unable to fetch high quality image version of <Post CjLAfzNPIEU>: JSON Query to api/v1/media/2939445367076061460/info/: HTTP error code 401.\n"
     ]
    },
    {
     "name": "stdout",
     "output_type": "stream",
     "text": [
      "gayathryrajiv/2022-10-01_13-00-15_UTC_1.jpg "
     ]
    },
    {
     "name": "stderr",
     "output_type": "stream",
     "text": [
      "JSON Query to api/v1/media/2939445367076061460/info/: HTTP error code 403. [retrying; skip with ^C]\n",
      "JSON Query to api/v1/media/2939445367076061460/info/: HTTP error code 403. [retrying; skip with ^C]\n",
      "Unable to fetch high quality image version of <Post CjLAfzNPIEU>: JSON Query to api/v1/media/2939445367076061460/info/: HTTP error code 403.\n"
     ]
    },
    {
     "name": "stdout",
     "output_type": "stream",
     "text": [
      "gayathryrajiv/2022-10-01_13-00-15_UTC_2.jpg [Welcoming new beginnings 💚 Wi…] json \n"
     ]
    },
    {
     "name": "stderr",
     "output_type": "stream",
     "text": [
      "JSON Query to api/v1/media/2936460104666204280/info/: HTTP error code 403. [retrying; skip with ^C]\n",
      "JSON Query to api/v1/media/2936460104666204280/info/: HTTP error code 403. [retrying; skip with ^C]\n"
     ]
    },
    {
     "name": "stdout",
     "output_type": "stream",
     "text": [
      "gayathryrajiv/2022-09-27_10-09-04_UTC.jpg "
     ]
    },
    {
     "name": "stderr",
     "output_type": "stream",
     "text": [
      "Unable to fetch high quality image version of <Post CjAZug7vEh4>: JSON Query to api/v1/media/2936460104666204280/info/: HTTP error code 403.\n"
     ]
    },
    {
     "name": "stdout",
     "output_type": "stream",
     "text": [
      "[Wings are made to fly ❣  📷 @g…] json \n"
     ]
    },
    {
     "name": "stderr",
     "output_type": "stream",
     "text": [
      "JSON Query to api/v1/media/2932892956487032281/info/: HTTP error code 403. [retrying; skip with ^C]\n",
      "JSON Query to api/v1/media/2932892956487032281/info/: HTTP error code 403. [retrying; skip with ^C]\n",
      "Unable to fetch high quality image version of <Post CizuprTp53Z>: JSON Query to api/v1/media/2932892956487032281/info/: HTTP error code 403.\n"
     ]
    },
    {
     "name": "stdout",
     "output_type": "stream",
     "text": [
      "gayathryrajiv/2022-09-22_12-01-47_UTC.jpg ['Kai veesi' song by @karthikd…] json \n"
     ]
    },
    {
     "name": "stderr",
     "output_type": "stream",
     "text": [
      "JSON Query to api/v1/media/2929997736591674331/info/: HTTP error code 403. [retrying; skip with ^C]\n",
      "JSON Query to api/v1/media/2929997736591674331/info/: HTTP error code 403. [retrying; skip with ^C]\n",
      "Unable to fetch high quality image version of <Post CipcWrqPsvb>: JSON Query to api/v1/media/2929997736591674331/info/: HTTP error code 403.\n"
     ]
    },
    {
     "name": "stdout",
     "output_type": "stream",
     "text": [
      "gayathryrajiv/2022-09-18_12-09-30_UTC_1.jpg "
     ]
    },
    {
     "name": "stderr",
     "output_type": "stream",
     "text": [
      "JSON Query to api/v1/media/2929997736591674331/info/: HTTP error code 403. [retrying; skip with ^C]\n",
      "JSON Query to api/v1/media/2929997736591674331/info/: HTTP error code 403. [retrying; skip with ^C]\n",
      "Unable to fetch high quality image version of <Post CipcWrqPsvb>: JSON Query to api/v1/media/2929997736591674331/info/: HTTP error code 403.\n"
     ]
    },
    {
     "name": "stdout",
     "output_type": "stream",
     "text": [
      "gayathryrajiv/2022-09-18_12-09-30_UTC_2.jpg "
     ]
    },
    {
     "name": "stderr",
     "output_type": "stream",
     "text": [
      "JSON Query to api/v1/media/2929997736591674331/info/: HTTP error code 403. [retrying; skip with ^C]\n",
      "JSON Query to api/v1/media/2929997736591674331/info/: HTTP error code 403. [retrying; skip with ^C]\n",
      "Unable to fetch high quality image version of <Post CipcWrqPsvb>: JSON Query to api/v1/media/2929997736591674331/info/: HTTP error code 403.\n"
     ]
    },
    {
     "name": "stdout",
     "output_type": "stream",
     "text": [
      "gayathryrajiv/2022-09-18_12-09-30_UTC_3.jpg [Letting those Fairy dust spri…] json \n"
     ]
    },
    {
     "name": "stderr",
     "output_type": "stream",
     "text": [
      "JSON Query to api/v1/media/2923496761861328068/info/: HTTP error code 403. [retrying; skip with ^C]\n",
      "JSON Query to api/v1/media/2923496761861328068/info/: HTTP error code 403. [retrying; skip with ^C]\n",
      "Unable to fetch high quality image version of <Post CiSWNDIv8zE>: JSON Query to api/v1/media/2923496761861328068/info/: HTTP error code 403.\n"
     ]
    },
    {
     "name": "stdout",
     "output_type": "stream",
     "text": [
      "gayathryrajiv/2022-09-09_12-53-13_UTC.jpg [With @rahulrajmusic sir ❤🙏] json \n"
     ]
    },
    {
     "name": "stderr",
     "output_type": "stream",
     "text": [
      "JSON Query to api/v1/media/2923488088057410293/info/: HTTP error code 403. [retrying; skip with ^C]\n",
      "JSON Query to api/v1/media/2923488088057410293/info/: HTTP error code 403. [retrying; skip with ^C]\n",
      "Unable to fetch high quality image version of <Post CiSUO1Bv3L1>: JSON Query to api/v1/media/2923488088057410293/info/: HTTP error code 403.\n"
     ]
    },
    {
     "name": "stdout",
     "output_type": "stream",
     "text": [
      "gayathryrajiv/2022-09-09_12-35-59_UTC.jpg [🌼   Dop @akhil] json \n"
     ]
    },
    {
     "name": "stderr",
     "output_type": "stream",
     "text": [
      "JSON Query to api/v1/media/2923483877454376867/info/: HTTP error code 403. [retrying; skip with ^C]\n",
      "JSON Query to api/v1/media/2923483877454376867/info/: HTTP error code 403. [retrying; skip with ^C]\n",
      "Unable to fetch high quality image version of <Post CiSTRjmP--j>: JSON Query to api/v1/media/2923483877454376867/info/: HTTP error code 403.\n"
     ]
    },
    {
     "name": "stdout",
     "output_type": "stream",
     "text": [
      "gayathryrajiv/2022-09-09_12-27-37_UTC.jpg [With @deepakdevofficial sir ❤ 🙏] json \n"
     ]
    },
    {
     "name": "stderr",
     "output_type": "stream",
     "text": [
      "JSON Query to api/v1/media/2902493348388576632/info/: HTTP error code 403. [retrying; skip with ^C]\n",
      "JSON Query to api/v1/media/2902493348388576632/info/: HTTP error code 403. [retrying; skip with ^C]\n",
      "Unable to fetch high quality image version of <Post ChHulKBop14>: JSON Query to api/v1/media/2902493348388576632/info/: HTTP error code 403.\n"
     ]
    },
    {
     "name": "stdout",
     "output_type": "stream",
     "text": [
      "gayathryrajiv/2022-08-11_13-23-11_UTC_1.jpg "
     ]
    },
    {
     "name": "stderr",
     "output_type": "stream",
     "text": [
      "JSON Query to api/v1/media/2902493348388576632/info/: HTTP error code 403. [retrying; skip with ^C]\n",
      "JSON Query to api/v1/media/2902493348388576632/info/: HTTP error code 403. [retrying; skip with ^C]\n",
      "Unable to fetch high quality image version of <Post ChHulKBop14>: JSON Query to api/v1/media/2902493348388576632/info/: HTTP error code 403.\n"
     ]
    },
    {
     "name": "stdout",
     "output_type": "stream",
     "text": [
      "gayathryrajiv/2022-08-11_13-23-11_UTC_2.jpg [Happiness is something that w…] json \n"
     ]
    },
    {
     "name": "stderr",
     "output_type": "stream",
     "text": [
      "JSON Query to api/v1/media/2869942103108858650/info/: HTTP error code 403. [retrying; skip with ^C]\n",
      "JSON Query to api/v1/media/2869942103108858650/info/: HTTP error code 403. [retrying; skip with ^C]\n",
      "Unable to fetch high quality image version of <Post CfUFSMdvbMa>: JSON Query to api/v1/media/2869942103108858650/info/: HTTP error code 403.\n"
     ]
    },
    {
     "name": "stdout",
     "output_type": "stream",
     "text": [
      "gayathryrajiv/2022-06-27_15-29-40_UTC.jpg [Happy to track the Vibrant @g…] json \n"
     ]
    },
    {
     "name": "stderr",
     "output_type": "stream",
     "text": [
      "JSON Query to api/v1/media/2850316212399970792/info/: HTTP error code 403. [retrying; skip with ^C]\n",
      "JSON Query to api/v1/media/2850316212399970792/info/: HTTP error code 403. [retrying; skip with ^C]\n",
      "Unable to fetch high quality image version of <Post CeOW35Zoxno>: JSON Query to api/v1/media/2850316212399970792/info/: HTTP error code 403.\n"
     ]
    },
    {
     "name": "stdout",
     "output_type": "stream",
     "text": [
      "gayathryrajiv/2022-05-31_13-36-32_UTC.jpg [And the story continues ❤ #so…] json \n"
     ]
    },
    {
     "name": "stderr",
     "output_type": "stream",
     "text": [
      "JSON Query to api/v1/media/2844532566581607342/info/: HTTP error code 403. [retrying; skip with ^C]\n",
      "JSON Query to api/v1/media/2844532566581607342/info/: HTTP error code 403. [retrying; skip with ^C]\n",
      "Unable to fetch high quality image version of <Post Cd5z0xfIHuu>: JSON Query to api/v1/media/2844532566581607342/info/: HTTP error code 403.\n"
     ]
    },
    {
     "name": "stdout",
     "output_type": "stream",
     "text": [
      "gayathryrajiv/2022-05-23_14-05-28_UTC.jpg [\"I'm not perfect😇 But I'll al…] json \n"
     ]
    },
    {
     "name": "stderr",
     "output_type": "stream",
     "text": [
      "JSON Query to api/v1/media/2840091098565368957/info/: HTTP error code 403. [retrying; skip with ^C]\n",
      "JSON Query to api/v1/media/2840091098565368957/info/: HTTP error code 403. [retrying; skip with ^C]\n",
      "Unable to fetch high quality image version of <Post CdqB86DvNx9>: JSON Query to api/v1/media/2840091098565368957/info/: HTTP error code 403.\n"
     ]
    },
    {
     "name": "stdout",
     "output_type": "stream",
     "text": [
      "gayathryrajiv/2022-05-17_11-01-03_UTC.jpg [@mmkeeravani sir🙏💖 Feeling bl…] json \n"
     ]
    },
    {
     "name": "stderr",
     "output_type": "stream",
     "text": [
      "JSON Query to api/v1/media/2829216265128634720/info/: HTTP error code 403. [retrying; skip with ^C]\n",
      "JSON Query to api/v1/media/2829216265128634720/info/: HTTP error code 403. [retrying; skip with ^C]\n",
      "Unable to fetch high quality image version of <Post CdDZTQLv-lg>: JSON Query to api/v1/media/2829216265128634720/info/: HTTP error code 403.\n"
     ]
    },
    {
     "name": "stdout",
     "output_type": "stream",
     "text": [
      "gayathryrajiv/2022-05-02_10-54-42_UTC.jpg [Kanave ..Kai serra va   📷 @da…] json \n"
     ]
    },
    {
     "name": "stderr",
     "output_type": "stream",
     "text": [
      "JSON Query to api/v1/media/2819890269812367881/info/: HTTP error code 403. [retrying; skip with ^C]\n",
      "JSON Query to api/v1/media/2819890269812367881/info/: HTTP error code 403. [retrying; skip with ^C]\n",
      "Unable to fetch high quality image version of <Post CciQ0KNvyIJ>: JSON Query to api/v1/media/2819890269812367881/info/: HTTP error code 403.\n"
     ]
    },
    {
     "name": "stdout",
     "output_type": "stream",
     "text": [
      "gayathryrajiv/2022-04-19_14-05-37_UTC.jpg [Let life flow 💫   📷 @lensquee…] json \n"
     ]
    },
    {
     "name": "stderr",
     "output_type": "stream",
     "text": [
      "JSON Query to api/v1/media/2801772961537648214/info/: HTTP error code 403. [retrying; skip with ^C]\n",
      "JSON Query to api/v1/media/2801772961537648214/info/: HTTP error code 403. [retrying; skip with ^C]\n"
     ]
    },
    {
     "name": "stdout",
     "output_type": "stream",
     "text": [
      "\n",
      "Too many queries in the last time. Need to wait 408 seconds, until 13:45.\n",
      "gayathryrajiv/2022-03-25_14-09-45_UTC.jpg "
     ]
    },
    {
     "name": "stderr",
     "output_type": "stream",
     "text": [
      "Unable to fetch high quality image version of <Post Cbh5aoBvuZW>: JSON Query to api/v1/media/2801772961537648214/info/: HTTP error code 403.\n"
     ]
    },
    {
     "name": "stdout",
     "output_type": "stream",
     "text": [
      "[Swing around this moment & ex…] json \n"
     ]
    },
    {
     "name": "stderr",
     "output_type": "stream",
     "text": [
      "JSON Query to api/v1/media/2792289606412540066/info/: HTTP error code 403. [retrying; skip with ^C]\n",
      "JSON Query to api/v1/media/2792289606412540066/info/: HTTP error code 403. [retrying; skip with ^C]\n",
      "Unable to fetch high quality image version of <Post CbANJpUPBii>: JSON Query to api/v1/media/2792289606412540066/info/: HTTP error code 403.\n"
     ]
    },
    {
     "name": "stdout",
     "output_type": "stream",
     "text": [
      "gayathryrajiv/2022-03-12_12-08-01_UTC.jpg [Cool ❤ @deyga_organics ...tha…] json \n"
     ]
    },
    {
     "name": "stderr",
     "output_type": "stream",
     "text": [
      "JSON Query to api/v1/media/2781191527135506725/info/: HTTP error code 403. [retrying; skip with ^C]\n",
      "JSON Query to api/v1/media/2781191527135506725/info/: HTTP error code 403. [retrying; skip with ^C]\n",
      "Unable to fetch high quality image version of <Post CaYxvVjPPEl>: JSON Query to api/v1/media/2781191527135506725/info/: HTTP error code 403.\n"
     ]
    },
    {
     "name": "stdout",
     "output_type": "stream",
     "text": [
      "gayathryrajiv/2022-02-25_04-38-07_UTC.jpg [Rise and Shine 💫 Goodmorning …] json \n",
      "\n",
      "Too many queries in the last time. Need to wait 37 seconds, until 13:46.\n"
     ]
    },
    {
     "name": "stderr",
     "output_type": "stream",
     "text": [
      "JSON Query to api/v1/media/2777784638926313537/info/: HTTP error code 403. [retrying; skip with ^C]\n"
     ]
    },
    {
     "name": "stdout",
     "output_type": "stream",
     "text": [
      "\n",
      "Too many queries in the last time. Need to wait 35 seconds, until 13:46.\n"
     ]
    },
    {
     "name": "stderr",
     "output_type": "stream",
     "text": [
      "JSON Query to api/v1/media/2777784638926313537/info/: HTTP error code 403. [retrying; skip with ^C]\n",
      "Unable to fetch high quality image version of <Post CaMrGlpvVhB>: JSON Query to api/v1/media/2777784638926313537/info/: HTTP error code 403.\n"
     ]
    },
    {
     "name": "stdout",
     "output_type": "stream",
     "text": [
      "gayathryrajiv/2022-02-20_11-49-15_UTC_1.jpg "
     ]
    },
    {
     "name": "stderr",
     "output_type": "stream",
     "text": [
      "JSON Query to api/v1/media/2777784638926313537/info/: HTTP error code 403. [retrying; skip with ^C]\n"
     ]
    },
    {
     "name": "stdout",
     "output_type": "stream",
     "text": [
      "\n",
      "Too many queries in the last time. Need to wait 48 seconds, until 13:47.\n"
     ]
    },
    {
     "name": "stderr",
     "output_type": "stream",
     "text": [
      "JSON Query to api/v1/media/2777784638926313537/info/: HTTP error code 403. [retrying; skip with ^C]\n"
     ]
    },
    {
     "name": "stdout",
     "output_type": "stream",
     "text": [
      "\n",
      "Too many queries in the last time. Need to wait 21 seconds, until 13:48.\n"
     ]
    },
    {
     "name": "stderr",
     "output_type": "stream",
     "text": [
      "Unable to fetch high quality image version of <Post CaMrGlpvVhB>: JSON Query to api/v1/media/2777784638926313537/info/: HTTP error code 403.\n"
     ]
    },
    {
     "name": "stdout",
     "output_type": "stream",
     "text": [
      "gayathryrajiv/2022-02-20_11-49-15_UTC_2.jpg \n",
      "Too many queries in the last time. Need to wait 50 seconds, until 13:49.\n"
     ]
    },
    {
     "name": "stderr",
     "output_type": "stream",
     "text": [
      "JSON Query to api/v1/media/2777784638926313537/info/: HTTP error code 403. [retrying; skip with ^C]\n",
      "JSON Query to api/v1/media/2777784638926313537/info/: HTTP error code 403. [retrying; skip with ^C]\n",
      "Unable to fetch high quality image version of <Post CaMrGlpvVhB>: JSON Query to api/v1/media/2777784638926313537/info/: HTTP error code 403.\n"
     ]
    },
    {
     "name": "stdout",
     "output_type": "stream",
     "text": [
      "gayathryrajiv/2022-02-20_11-49-15_UTC_3.jpg \n",
      "Too many queries in the last time. Need to wait 23 seconds, until 13:49.\n"
     ]
    },
    {
     "name": "stderr",
     "output_type": "stream",
     "text": [
      "JSON Query to api/v1/media/2777784638926313537/info/: HTTP error code 403. [retrying; skip with ^C]\n",
      "JSON Query to api/v1/media/2777784638926313537/info/: HTTP error code 403. [retrying; skip with ^C]\n",
      "Unable to fetch high quality image version of <Post CaMrGlpvVhB>: JSON Query to api/v1/media/2777784638926313537/info/: HTTP error code 403.\n"
     ]
    },
    {
     "name": "stdout",
     "output_type": "stream",
     "text": [
      "gayathryrajiv/2022-02-20_11-49-15_UTC_4.jpg [When we focus on the good , t…] json \n",
      "\n",
      "Too many queries in the last time. Need to wait 26 seconds, until 13:50.\n"
     ]
    },
    {
     "name": "stderr",
     "output_type": "stream",
     "text": [
      "JSON Query to api/v1/media/2772690265104631999/info/: HTTP error code 403. [retrying; skip with ^C]\n"
     ]
    },
    {
     "name": "stdout",
     "output_type": "stream",
     "text": [
      "\n",
      "Too many queries in the last time. Need to wait 21 seconds, until 13:50.\n"
     ]
    },
    {
     "name": "stderr",
     "output_type": "stream",
     "text": [
      "JSON Query to api/v1/media/2772690265104631999/info/: HTTP error code 403. [retrying; skip with ^C]\n",
      "Unable to fetch high quality image version of <Post CZ6kxsTvsi_>: JSON Query to api/v1/media/2772690265104631999/info/: HTTP error code 403.\n"
     ]
    },
    {
     "name": "stdout",
     "output_type": "stream",
     "text": [
      "gayathryrajiv/2022-02-13_11-07-38_UTC.jpg [Bring out the colors in you .…] json \n"
     ]
    },
    {
     "name": "stderr",
     "output_type": "stream",
     "text": [
      "JSON Query to api/v1/media/2772519264789534971/info/: HTTP error code 403. [retrying; skip with ^C]\n",
      "JSON Query to api/v1/media/2772519264789534971/info/: HTTP error code 403. [retrying; skip with ^C]\n",
      "Unable to fetch high quality image version of <Post CZ595T2tRj7>: JSON Query to api/v1/media/2772519264789534971/info/: HTTP error code 403.\n"
     ]
    },
    {
     "name": "stdout",
     "output_type": "stream",
     "text": [
      "gayathryrajiv/2022-02-13_05-27-53_UTC_1.jpg "
     ]
    },
    {
     "name": "stderr",
     "output_type": "stream",
     "text": [
      "JSON Query to api/v1/media/2772519264789534971/info/: HTTP error code 403. [retrying; skip with ^C]\n"
     ]
    },
    {
     "name": "stdout",
     "output_type": "stream",
     "text": [
      "\n",
      "Too many queries in the last time. Need to wait 84 seconds, until 13:52.\n"
     ]
    },
    {
     "name": "stderr",
     "output_type": "stream",
     "text": [
      "JSON Query to api/v1/media/2772519264789534971/info/: HTTP error code 403. [retrying; skip with ^C]\n",
      "Unable to fetch high quality image version of <Post CZ595T2tRj7>: JSON Query to api/v1/media/2772519264789534971/info/: HTTP error code 403.\n"
     ]
    },
    {
     "name": "stdout",
     "output_type": "stream",
     "text": [
      "gayathryrajiv/2022-02-13_05-27-53_UTC_2.jpg [Sithumani 😍🥰@sitharakrishnaku…] json \n"
     ]
    },
    {
     "name": "stderr",
     "output_type": "stream",
     "text": [
      "JSON Query to api/v1/media/2759040963190738023/info/: HTTP error code 403. [retrying; skip with ^C]\n",
      "JSON Query to api/v1/media/2759040963190738023/info/: HTTP error code 403. [retrying; skip with ^C]\n",
      "Unable to fetch high quality image version of <Post CZKFSNTvExn>: JSON Query to api/v1/media/2759040963190738023/info/: HTTP error code 403.\n"
     ]
    },
    {
     "name": "stdout",
     "output_type": "stream",
     "text": [
      "gayathryrajiv/2022-01-25_15-08-54_UTC.jpg [Struggles are ok ❣keep the ho…] json \n",
      "Downloaded 70 images from gayathryrajiv's profile.\n",
      "Influencer: rohitmane93.xlsx\n",
      "rohitmane93/2024-05-18_12-32-56_UTC_1.jpg rohitmane93/2024-05-18_12-32-56_UTC_2.jpg [Last week, while the video te…] json \n",
      "rohitmane93/2024-05-10_13-44-32_UTC_1.jpg rohitmane93/2024-05-10_13-44-32_UTC_2.jpg [Our trusty long-term Hyundai …] json \n",
      "rohitmane93/2024-05-03_06-34-40_UTC.jpg [Taking on the NATRAX record r…] json \n",
      "rohitmane93/2024-04-30_05-54-49_UTC_1.jpg rohitmane93/2024-04-30_05-54-49_UTC_2.jpg rohitmane93/2024-04-30_05-54-49_UTC_3.jpg rohitmane93/2024-04-30_05-54-49_UTC_4.jpg rohitmane93/2024-04-30_05-54-49_UTC_5.jpg rohitmane93/2024-04-30_05-54-49_UTC_6.jpg rohitmane93/2024-04-30_05-54-49_UTC_7.jpg rohitmane93/2024-04-30_05-54-49_UTC_8.jpg [Just crossed the 3000+ km mar…] json \n",
      "rohitmane93/2024-04-27_15-33-43_UTC.jpg [We’re all set to traverse the…] json \n",
      "rohitmane93/2024-04-26_13-58-15_UTC_1.jpg rohitmane93/2024-04-26_13-58-15_UTC_2.jpg rohitmane93/2024-04-26_13-58-15_UTC_3.jpg rohitmane93/2024-04-26_13-58-15_UTC_4.jpg rohitmane93/2024-04-26_13-58-15_UTC_5.jpg rohitmane93/2024-04-26_13-58-15_UTC_6.jpg rohitmane93/2024-04-26_13-58-15_UTC_7.jpg rohitmane93/2024-04-26_13-58-15_UTC_8.jpg rohitmane93/2024-04-26_13-58-15_UTC_9.jpg [Adventure unlocked! Drove my …] json \n",
      "rohitmane93/2024-04-12_10-08-59_UTC_1.jpg rohitmane93/2024-04-12_10-08-59_UTC_2.jpg rohitmane93/2024-04-12_10-08-59_UTC_3.jpg [Loving my Exter for city driv…] json \n",
      "rohitmane93/2024-04-04_06-31-48_UTC_1.jpg rohitmane93/2024-04-04_06-31-48_UTC_2.jpg rohitmane93/2024-04-04_06-31-48_UTC_3.jpg rohitmane93/2024-04-04_06-31-48_UTC_4.jpg [#throwbackthursday  My first …] json \n",
      "rohitmane93/2024-03-15_13-04-19_UTC_1.jpg rohitmane93/2024-03-15_13-04-19_UTC_2.jpg rohitmane93/2024-03-15_13-04-19_UTC_3.jpg rohitmane93/2024-03-15_13-04-19_UTC_4.jpg rohitmane93/2024-03-15_13-04-19_UTC_5.jpg rohitmane93/2024-03-15_13-04-19_UTC_6.jpg [The mountain Goat 🐐! We trave…] json \n",
      "rohitmane93/2024-03-12_13-56-13_UTC.jpg [Drifting like a boss! . . . .…] json \n",
      "rohitmane93/2024-03-04_12-39-47_UTC.jpg [“RSQ8 vs RS5: A clash of tita…] json \n",
      "rohitmane93/2024-02-29_13-28-50_UTC_1.jpg rohitmane93/2024-02-29_13-28-50_UTC_2.jpg rohitmane93/2024-02-29_13-28-50_UTC_3.jpg [Through the lens, every color…] json \n",
      "rohitmane93/2024-02-28_08-19-39_UTC.jpg [You don’t want to mess with e…] json \n",
      "rohitmane93/2024-02-26_13-13-45_UTC.jpg [Mahindra Thar or ScorpioN whi…] json \n",
      "rohitmane93/2024-02-25_12-39-54_UTC_1.jpg rohitmane93/2024-02-25_12-39-54_UTC_2.jpg rohitmane93/2024-02-25_12-39-54_UTC_3.jpg rohitmane93/2024-02-25_12-39-54_UTC_4.jpg [Fire eye !  . . . . . #natgeo…] json \n",
      "rohitmane93/2024-02-24_13-39-20_UTC.jpg [Two of the greatest, and rare…] json \n",
      "rohitmane93/2024-02-23_14-00-38_UTC.jpg [“Sliding into the weekend lik…] json \n",
      "rohitmane93/2024-01-21_04-25-14_UTC_1.jpg rohitmane93/2024-01-21_04-25-14_UTC_2.jpg rohitmane93/2024-01-21_04-25-14_UTC_3.jpg rohitmane93/2024-01-21_04-25-14_UTC_4.jpg rohitmane93/2024-01-21_04-25-14_UTC_5.jpg rohitmane93/2024-01-21_04-25-14_UTC_6.jpg [The New Tata Punch.ev . . . .…] json \n",
      "rohitmane93/2024-01-06_05-50-01_UTC_1.jpg rohitmane93/2024-01-06_05-50-01_UTC_2.jpg [Which car do you like? . . . …] json \n",
      "rohitmane93/2023-12-21_03-01-50_UTC.jpg [Presenting the new Jimny 7-se…] json \n",
      "rohitmane93/2023-12-19_13-13-12_UTC_1.jpg rohitmane93/2023-12-19_13-13-12_UTC_2.jpg rohitmane93/2023-12-19_13-13-12_UTC_3.jpg rohitmane93/2023-12-19_13-13-12_UTC_4.jpg rohitmane93/2023-12-19_13-13-12_UTC_5.jpg rohitmane93/2023-12-19_13-13-12_UTC_6.jpg [The boys and the Maruti Suzuk…] json \n",
      "rohitmane93/2023-10-11_08-29-31_UTC.jpg [Introducing the newest member…] json \n",
      "rohitmane93/2023-09-12_12-48-11_UTC.jpg [The new Third-Gen KTM 390 Duk…] json \n",
      "rohitmane93/2023-09-02_08-51-17_UTC_1.jpg rohitmane93/2023-09-02_08-51-17_UTC_2.jpg rohitmane93/2023-09-02_08-51-17_UTC_3.jpg rohitmane93/2023-09-02_08-51-17_UTC_4.jpg rohitmane93/2023-09-02_08-51-17_UTC_5.jpg rohitmane93/2023-09-02_08-51-17_UTC_6.jpg rohitmane93/2023-09-02_08-51-17_UTC_7.jpg rohitmane93/2023-09-02_08-51-17_UTC_8.jpg [All you need to know about Th…] json \n",
      "rohitmane93/2023-07-18_11-02-01_UTC_1.jpg rohitmane93/2023-07-18_11-02-01_UTC_2.jpg rohitmane93/2023-07-18_11-02-01_UTC_3.jpg rohitmane93/2023-07-18_11-02-01_UTC_4.jpg rohitmane93/2023-07-18_11-02-01_UTC_5.jpg rohitmane93/2023-07-18_11-02-01_UTC_6.jpg rohitmane93/2023-07-18_11-02-01_UTC_7.jpg rohitmane93/2023-07-18_11-02-01_UTC_8.jpg [Front page stuff! Its an incr…] json \n",
      "rohitmane93/2023-04-25_05-56-48_UTC_1.jpg rohitmane93/2023-04-25_05-56-48_UTC_2.jpg [Who said you can’t have fun i…] json \n"
     ]
    },
    {
     "name": "stderr",
     "output_type": "stream",
     "text": [
      "JSON Query to api/v1/media/3082733651019887484/info/: HTTP error code 403. [retrying; skip with ^C]\n",
      "JSON Query to api/v1/media/3082733651019887484/info/: HTTP error code 403. [retrying; skip with ^C]\n",
      "Unable to fetch high quality image version of <Post CrIEewuLvN8>: JSON Query to api/v1/media/3082733651019887484/info/: HTTP error code 403.\n"
     ]
    },
    {
     "name": "stdout",
     "output_type": "stream",
     "text": [
      "rohitmane93/2023-04-17_05-48-30_UTC.jpg [At evo India, we love our sup…] json \n"
     ]
    },
    {
     "name": "stderr",
     "output_type": "stream",
     "text": [
      "JSON Query to api/v1/media/3061928874141302465/info/: HTTP error code 403. [retrying; skip with ^C]\n",
      "JSON Query to api/v1/media/3061928874141302465/info/: HTTP error code 403. [retrying; skip with ^C]\n",
      "Unable to fetch high quality image version of <Post Cp-KBaWtD7B>: JSON Query to api/v1/media/3061928874141302465/info/: HTTP error code 403.\n"
     ]
    },
    {
     "name": "stdout",
     "output_type": "stream",
     "text": [
      "rohitmane93/2023-03-19_12-53-07_UTC_1.jpg "
     ]
    },
    {
     "name": "stderr",
     "output_type": "stream",
     "text": [
      "JSON Query to api/v1/media/3061928874141302465/info/: HTTP error code 403. [retrying; skip with ^C]\n",
      "JSON Query to api/v1/media/3061928874141302465/info/: HTTP error code 403. [retrying; skip with ^C]\n",
      "Unable to fetch high quality image version of <Post Cp-KBaWtD7B>: JSON Query to api/v1/media/3061928874141302465/info/: HTTP error code 403.\n"
     ]
    },
    {
     "name": "stdout",
     "output_type": "stream",
     "text": [
      "rohitmane93/2023-03-19_12-53-07_UTC_2.jpg [Traded an i20 for an i20! Wit…] json \n"
     ]
    },
    {
     "name": "stderr",
     "output_type": "stream",
     "text": [
      "JSON Query to api/v1/media/2953219669673003531/info/: HTTP error code 403. [retrying; skip with ^C]\n",
      "JSON Query to api/v1/media/2953219669673003531/info/: HTTP error code 403. [retrying; skip with ^C]\n",
      "Unable to fetch high quality image version of <Post Cj78aSKjkoL>: JSON Query to api/v1/media/2953219669673003531/info/: HTTP error code 403.\n"
     ]
    },
    {
     "name": "stdout",
     "output_type": "stream",
     "text": [
      "rohitmane93/2022-10-20_13-07-20_UTC.jpg [Evo India's 9th anniversary i…] json \n"
     ]
    },
    {
     "name": "stderr",
     "output_type": "stream",
     "text": [
      "JSON Query to api/v1/media/2916969693866923892/info/: HTTP error code 403. [retrying; skip with ^C]\n",
      "JSON Query to api/v1/media/2916969693866923892/info/: HTTP error code 403. [retrying; skip with ^C]\n",
      "Unable to fetch high quality image version of <Post Ch7KHtXhJd0>: JSON Query to api/v1/media/2916969693866923892/info/: HTTP error code 403.\n"
     ]
    },
    {
     "name": "stdout",
     "output_type": "stream",
     "text": [
      "rohitmane93/2022-08-31_12-45-06_UTC_1.jpg "
     ]
    },
    {
     "name": "stderr",
     "output_type": "stream",
     "text": [
      "JSON Query to api/v1/media/2916969693866923892/info/: HTTP error code 403. [retrying; skip with ^C]\n",
      "JSON Query to api/v1/media/2916969693866923892/info/: HTTP error code 403. [retrying; skip with ^C]\n",
      "Unable to fetch high quality image version of <Post Ch7KHtXhJd0>: JSON Query to api/v1/media/2916969693866923892/info/: HTTP error code 403.\n"
     ]
    },
    {
     "name": "stdout",
     "output_type": "stream",
     "text": [
      "rohitmane93/2022-08-31_12-45-06_UTC_2.jpg "
     ]
    },
    {
     "name": "stderr",
     "output_type": "stream",
     "text": [
      "JSON Query to api/v1/media/2916969693866923892/info/: HTTP error code 403. [retrying; skip with ^C]\n",
      "JSON Query to api/v1/media/2916969693866923892/info/: HTTP error code 403. [retrying; skip with ^C]\n",
      "Unable to fetch high quality image version of <Post Ch7KHtXhJd0>: JSON Query to api/v1/media/2916969693866923892/info/: HTTP error code 403.\n"
     ]
    },
    {
     "name": "stdout",
     "output_type": "stream",
     "text": [
      "rohitmane93/2022-08-31_12-45-06_UTC_3.jpg "
     ]
    },
    {
     "name": "stderr",
     "output_type": "stream",
     "text": [
      "JSON Query to api/v1/media/2916969693866923892/info/: HTTP error code 403. [retrying; skip with ^C]\n",
      "JSON Query to api/v1/media/2916969693866923892/info/: HTTP error code 403. [retrying; skip with ^C]\n",
      "Unable to fetch high quality image version of <Post Ch7KHtXhJd0>: JSON Query to api/v1/media/2916969693866923892/info/: HTTP error code 403.\n"
     ]
    },
    {
     "name": "stdout",
     "output_type": "stream",
     "text": [
      "rohitmane93/2022-08-31_12-45-06_UTC_4.jpg "
     ]
    },
    {
     "name": "stderr",
     "output_type": "stream",
     "text": [
      "JSON Query to api/v1/media/2916969693866923892/info/: HTTP error code 403. [retrying; skip with ^C]\n",
      "JSON Query to api/v1/media/2916969693866923892/info/: HTTP error code 403. [retrying; skip with ^C]\n",
      "Unable to fetch high quality image version of <Post Ch7KHtXhJd0>: JSON Query to api/v1/media/2916969693866923892/info/: HTTP error code 403.\n"
     ]
    },
    {
     "name": "stdout",
     "output_type": "stream",
     "text": [
      "rohitmane93/2022-08-31_12-45-06_UTC_5.jpg "
     ]
    },
    {
     "name": "stderr",
     "output_type": "stream",
     "text": [
      "JSON Query to api/v1/media/2916969693866923892/info/: HTTP error code 403. [retrying; skip with ^C]\n",
      "JSON Query to api/v1/media/2916969693866923892/info/: HTTP error code 403. [retrying; skip with ^C]\n",
      "Unable to fetch high quality image version of <Post Ch7KHtXhJd0>: JSON Query to api/v1/media/2916969693866923892/info/: HTTP error code 403.\n"
     ]
    },
    {
     "name": "stdout",
     "output_type": "stream",
     "text": [
      "rohitmane93/2022-08-31_12-45-06_UTC_6.jpg [Mixing up the traditional wit…] json \n"
     ]
    },
    {
     "name": "stderr",
     "output_type": "stream",
     "text": [
      "JSON Query to api/v1/media/2914017057924651575/info/: HTTP error code 403. [retrying; skip with ^C]\n",
      "JSON Query to api/v1/media/2914017057924651575/info/: HTTP error code 403. [retrying; skip with ^C]\n",
      "Unable to fetch high quality image version of <Post ChwqxM3Bxo3>: JSON Query to api/v1/media/2914017057924651575/info/: HTTP error code 403.\n"
     ]
    },
    {
     "name": "stdout",
     "output_type": "stream",
     "text": [
      "rohitmane93/2022-08-27_10-58-44_UTC.jpg [Kid: Where’s the monster ma? …] json \n"
     ]
    },
    {
     "name": "stderr",
     "output_type": "stream",
     "text": [
      "JSON Query to api/v1/media/2902507305817066262/info/: HTTP error code 403. [retrying; skip with ^C]\n",
      "JSON Query to api/v1/media/2902507305817066262/info/: HTTP error code 403. [retrying; skip with ^C]\n",
      "Unable to fetch high quality image version of <Post ChHxwQ5M8sW>: JSON Query to api/v1/media/2902507305817066262/info/: HTTP error code 403.\n"
     ]
    },
    {
     "name": "stdout",
     "output_type": "stream",
     "text": [
      "rohitmane93/2022-08-11_13-50-55_UTC.jpg [Capturing the calm of the rag…] json \n"
     ]
    },
    {
     "name": "stderr",
     "output_type": "stream",
     "text": [
      "JSON Query to api/v1/media/2901771519070823638/info/: HTTP error code 403. [retrying; skip with ^C]\n",
      "JSON Query to api/v1/media/2901771519070823638/info/: HTTP error code 403. [retrying; skip with ^C]\n",
      "Unable to fetch high quality image version of <Post ChFKdKFj-TW>: JSON Query to api/v1/media/2901771519070823638/info/: HTTP error code 403.\n"
     ]
    },
    {
     "name": "stdout",
     "output_type": "stream",
     "text": [
      "rohitmane93/2022-08-10_13-29-02_UTC_1.jpg "
     ]
    },
    {
     "name": "stderr",
     "output_type": "stream",
     "text": [
      "JSON Query to api/v1/media/2901771519070823638/info/: HTTP error code 403. [retrying; skip with ^C]\n",
      "JSON Query to api/v1/media/2901771519070823638/info/: HTTP error code 403. [retrying; skip with ^C]\n",
      "Unable to fetch high quality image version of <Post ChFKdKFj-TW>: JSON Query to api/v1/media/2901771519070823638/info/: HTTP error code 403.\n"
     ]
    },
    {
     "name": "stdout",
     "output_type": "stream",
     "text": [
      "rohitmane93/2022-08-10_13-29-02_UTC_2.jpg "
     ]
    },
    {
     "name": "stderr",
     "output_type": "stream",
     "text": [
      "JSON Query to api/v1/media/2901771519070823638/info/: HTTP error code 403. [retrying; skip with ^C]\n",
      "JSON Query to api/v1/media/2901771519070823638/info/: HTTP error code 403. [retrying; skip with ^C]\n",
      "Unable to fetch high quality image version of <Post ChFKdKFj-TW>: JSON Query to api/v1/media/2901771519070823638/info/: HTTP error code 403.\n"
     ]
    },
    {
     "name": "stdout",
     "output_type": "stream",
     "text": [
      "rohitmane93/2022-08-10_13-29-02_UTC_3.jpg "
     ]
    },
    {
     "name": "stderr",
     "output_type": "stream",
     "text": [
      "JSON Query to api/v1/media/2901771519070823638/info/: HTTP error code 403. [retrying; skip with ^C]\n",
      "JSON Query to api/v1/media/2901771519070823638/info/: HTTP error code 403. [retrying; skip with ^C]\n",
      "Unable to fetch high quality image version of <Post ChFKdKFj-TW>: JSON Query to api/v1/media/2901771519070823638/info/: HTTP error code 403.\n"
     ]
    },
    {
     "name": "stdout",
     "output_type": "stream",
     "text": [
      "rohitmane93/2022-08-10_13-29-02_UTC_4.jpg "
     ]
    },
    {
     "name": "stderr",
     "output_type": "stream",
     "text": [
      "JSON Query to api/v1/media/2901771519070823638/info/: HTTP error code 403. [retrying; skip with ^C]\n",
      "JSON Query to api/v1/media/2901771519070823638/info/: HTTP error code 403. [retrying; skip with ^C]\n",
      "Unable to fetch high quality image version of <Post ChFKdKFj-TW>: JSON Query to api/v1/media/2901771519070823638/info/: HTTP error code 403.\n"
     ]
    },
    {
     "name": "stdout",
     "output_type": "stream",
     "text": [
      "rohitmane93/2022-08-10_13-29-02_UTC_5.jpg "
     ]
    },
    {
     "name": "stderr",
     "output_type": "stream",
     "text": [
      "JSON Query to api/v1/media/2901771519070823638/info/: HTTP error code 403. [retrying; skip with ^C]\n",
      "JSON Query to api/v1/media/2901771519070823638/info/: HTTP error code 403. [retrying; skip with ^C]\n",
      "Unable to fetch high quality image version of <Post ChFKdKFj-TW>: JSON Query to api/v1/media/2901771519070823638/info/: HTTP error code 403.\n"
     ]
    },
    {
     "name": "stdout",
     "output_type": "stream",
     "text": [
      "rohitmane93/2022-08-10_13-29-02_UTC_6.jpg "
     ]
    },
    {
     "name": "stderr",
     "output_type": "stream",
     "text": [
      "JSON Query to api/v1/media/2901771519070823638/info/: HTTP error code 403. [retrying; skip with ^C]\n",
      "JSON Query to api/v1/media/2901771519070823638/info/: HTTP error code 403. [retrying; skip with ^C]\n",
      "Unable to fetch high quality image version of <Post ChFKdKFj-TW>: JSON Query to api/v1/media/2901771519070823638/info/: HTTP error code 403.\n"
     ]
    },
    {
     "name": "stdout",
     "output_type": "stream",
     "text": [
      "rohitmane93/2022-08-10_13-29-02_UTC_7.jpg "
     ]
    },
    {
     "name": "stderr",
     "output_type": "stream",
     "text": [
      "JSON Query to api/v1/media/2901771519070823638/info/: HTTP error code 403. [retrying; skip with ^C]\n",
      "JSON Query to api/v1/media/2901771519070823638/info/: HTTP error code 403. [retrying; skip with ^C]\n",
      "Unable to fetch high quality image version of <Post ChFKdKFj-TW>: JSON Query to api/v1/media/2901771519070823638/info/: HTTP error code 403.\n"
     ]
    },
    {
     "name": "stdout",
     "output_type": "stream",
     "text": [
      "rohitmane93/2022-08-10_13-29-02_UTC_8.jpg "
     ]
    },
    {
     "name": "stderr",
     "output_type": "stream",
     "text": [
      "JSON Query to api/v1/media/2901771519070823638/info/: HTTP error code 403. [retrying; skip with ^C]\n",
      "JSON Query to api/v1/media/2901771519070823638/info/: HTTP error code 403. [retrying; skip with ^C]\n",
      "Unable to fetch high quality image version of <Post ChFKdKFj-TW>: JSON Query to api/v1/media/2901771519070823638/info/: HTTP error code 403.\n"
     ]
    },
    {
     "name": "stdout",
     "output_type": "stream",
     "text": [
      "rohitmane93/2022-08-10_13-29-02_UTC_9.jpg "
     ]
    },
    {
     "name": "stderr",
     "output_type": "stream",
     "text": [
      "JSON Query to api/v1/media/2901771519070823638/info/: HTTP error code 403. [retrying; skip with ^C]\n",
      "JSON Query to api/v1/media/2901771519070823638/info/: HTTP error code 403. [retrying; skip with ^C]\n",
      "Unable to fetch high quality image version of <Post ChFKdKFj-TW>: JSON Query to api/v1/media/2901771519070823638/info/: HTTP error code 403.\n"
     ]
    },
    {
     "name": "stdout",
     "output_type": "stream",
     "text": [
      "rohitmane93/2022-08-10_13-29-02_UTC_10.jpg [Haldi Ceremony. . . . . . . #…] json \n"
     ]
    },
    {
     "name": "stderr",
     "output_type": "stream",
     "text": [
      "JSON Query to api/v1/media/2899351086476082803/info/: HTTP error code 403. [retrying; skip with ^C]\n",
      "JSON Query to api/v1/media/2899351086476082803/info/: HTTP error code 403. [retrying; skip with ^C]\n",
      "Unable to fetch high quality image version of <Post Cg8kHOkjL5z>: JSON Query to api/v1/media/2899351086476082803/info/: HTTP error code 403.\n"
     ]
    },
    {
     "name": "stdout",
     "output_type": "stream",
     "text": [
      "rohitmane93/2022-08-07_05-20-04_UTC_1.jpg "
     ]
    },
    {
     "name": "stderr",
     "output_type": "stream",
     "text": [
      "JSON Query to api/v1/media/2899351086476082803/info/: HTTP error code 403. [retrying; skip with ^C]\n",
      "JSON Query to api/v1/media/2899351086476082803/info/: HTTP error code 403. [retrying; skip with ^C]\n",
      "Unable to fetch high quality image version of <Post Cg8kHOkjL5z>: JSON Query to api/v1/media/2899351086476082803/info/: HTTP error code 403.\n"
     ]
    },
    {
     "name": "stdout",
     "output_type": "stream",
     "text": [
      "rohitmane93/2022-08-07_05-20-04_UTC_2.jpg "
     ]
    },
    {
     "name": "stderr",
     "output_type": "stream",
     "text": [
      "JSON Query to api/v1/media/2899351086476082803/info/: HTTP error code 403. [retrying; skip with ^C]\n",
      "JSON Query to api/v1/media/2899351086476082803/info/: HTTP error code 403. [retrying; skip with ^C]\n",
      "Unable to fetch high quality image version of <Post Cg8kHOkjL5z>: JSON Query to api/v1/media/2899351086476082803/info/: HTTP error code 403.\n"
     ]
    },
    {
     "name": "stdout",
     "output_type": "stream",
     "text": [
      "rohitmane93/2022-08-07_05-20-04_UTC_3.jpg "
     ]
    },
    {
     "name": "stderr",
     "output_type": "stream",
     "text": [
      "JSON Query to api/v1/media/2899351086476082803/info/: HTTP error code 403. [retrying; skip with ^C]\n",
      "JSON Query to api/v1/media/2899351086476082803/info/: HTTP error code 403. [retrying; skip with ^C]\n",
      "Unable to fetch high quality image version of <Post Cg8kHOkjL5z>: JSON Query to api/v1/media/2899351086476082803/info/: HTTP error code 403.\n"
     ]
    },
    {
     "name": "stdout",
     "output_type": "stream",
     "text": [
      "rohitmane93/2022-08-07_05-20-04_UTC_4.jpg "
     ]
    },
    {
     "name": "stderr",
     "output_type": "stream",
     "text": [
      "JSON Query to api/v1/media/2899351086476082803/info/: HTTP error code 403. [retrying; skip with ^C]\n",
      "JSON Query to api/v1/media/2899351086476082803/info/: HTTP error code 403. [retrying; skip with ^C]\n",
      "Unable to fetch high quality image version of <Post Cg8kHOkjL5z>: JSON Query to api/v1/media/2899351086476082803/info/: HTTP error code 403.\n"
     ]
    },
    {
     "name": "stdout",
     "output_type": "stream",
     "text": [
      "rohitmane93/2022-08-07_05-20-04_UTC_5.jpg "
     ]
    },
    {
     "name": "stderr",
     "output_type": "stream",
     "text": [
      "JSON Query to api/v1/media/2899351086476082803/info/: HTTP error code 403. [retrying; skip with ^C]\n",
      "JSON Query to api/v1/media/2899351086476082803/info/: HTTP error code 403. [retrying; skip with ^C]\n",
      "Unable to fetch high quality image version of <Post Cg8kHOkjL5z>: JSON Query to api/v1/media/2899351086476082803/info/: HTTP error code 403.\n"
     ]
    },
    {
     "name": "stdout",
     "output_type": "stream",
     "text": [
      "rohitmane93/2022-08-07_05-20-04_UTC_6.jpg "
     ]
    },
    {
     "name": "stderr",
     "output_type": "stream",
     "text": [
      "JSON Query to api/v1/media/2899351086476082803/info/: HTTP error code 403. [retrying; skip with ^C]\n",
      "JSON Query to api/v1/media/2899351086476082803/info/: HTTP error code 403. [retrying; skip with ^C]\n",
      "Unable to fetch high quality image version of <Post Cg8kHOkjL5z>: JSON Query to api/v1/media/2899351086476082803/info/: HTTP error code 403.\n"
     ]
    },
    {
     "name": "stdout",
     "output_type": "stream",
     "text": [
      "rohitmane93/2022-08-07_05-20-04_UTC_7.jpg "
     ]
    },
    {
     "name": "stderr",
     "output_type": "stream",
     "text": [
      "JSON Query to api/v1/media/2899351086476082803/info/: HTTP error code 403. [retrying; skip with ^C]\n",
      "JSON Query to api/v1/media/2899351086476082803/info/: HTTP error code 403. [retrying; skip with ^C]\n",
      "Unable to fetch high quality image version of <Post Cg8kHOkjL5z>: JSON Query to api/v1/media/2899351086476082803/info/: HTTP error code 403.\n"
     ]
    },
    {
     "name": "stdout",
     "output_type": "stream",
     "text": [
      "rohitmane93/2022-08-07_05-20-04_UTC_8.jpg "
     ]
    },
    {
     "name": "stderr",
     "output_type": "stream",
     "text": [
      "JSON Query to api/v1/media/2899351086476082803/info/: HTTP error code 403. [retrying; skip with ^C]\n",
      "JSON Query to api/v1/media/2899351086476082803/info/: HTTP error code 403. [retrying; skip with ^C]\n",
      "Unable to fetch high quality image version of <Post Cg8kHOkjL5z>: JSON Query to api/v1/media/2899351086476082803/info/: HTTP error code 403.\n"
     ]
    },
    {
     "name": "stdout",
     "output_type": "stream",
     "text": [
      "rohitmane93/2022-08-07_05-20-04_UTC_9.jpg "
     ]
    },
    {
     "name": "stderr",
     "output_type": "stream",
     "text": [
      "JSON Query to api/v1/media/2899351086476082803/info/: HTTP error code 403. [retrying; skip with ^C]\n",
      "JSON Query to api/v1/media/2899351086476082803/info/: HTTP error code 403. [retrying; skip with ^C]\n",
      "Unable to fetch high quality image version of <Post Cg8kHOkjL5z>: JSON Query to api/v1/media/2899351086476082803/info/: HTTP error code 403.\n"
     ]
    },
    {
     "name": "stdout",
     "output_type": "stream",
     "text": [
      "rohitmane93/2022-08-07_05-20-04_UTC_10.jpg [Only love and gratitude in ou…] json \n"
     ]
    },
    {
     "name": "stderr",
     "output_type": "stream",
     "text": [
      "JSON Query to api/v1/media/2829305927491365622/info/: HTTP error code 403. [retrying; skip with ^C]\n",
      "JSON Query to api/v1/media/2829305927491365622/info/: HTTP error code 403. [retrying; skip with ^C]\n",
      "Unable to fetch high quality image version of <Post CdDtsAxB6r2>: JSON Query to api/v1/media/2829305927491365622/info/: HTTP error code 403.\n"
     ]
    },
    {
     "name": "stdout",
     "output_type": "stream",
     "text": [
      "rohitmane93/2022-05-02_13-52-51_UTC.jpg [Porsche Taycan  . . . . Shot …] json \n"
     ]
    },
    {
     "name": "stderr",
     "output_type": "stream",
     "text": [
      "JSON Query to api/v1/media/2808922747185810171/info/: HTTP error code 403. [retrying; skip with ^C]\n",
      "JSON Query to api/v1/media/2808922747185810171/info/: HTTP error code 403. [retrying; skip with ^C]\n",
      "Unable to fetch high quality image version of <Post Cb7TFszhkr7>: JSON Query to api/v1/media/2808922747185810171/info/: HTTP error code 403.\n"
     ]
    },
    {
     "name": "stdout",
     "output_type": "stream",
     "text": [
      "rohitmane93/2022-04-04_10-55-06_UTC.jpg [Whatcha’ looking at? 👀 . . . …] json \n"
     ]
    },
    {
     "name": "stderr",
     "output_type": "stream",
     "text": [
      "JSON Query to api/v1/media/2802513823310191091/info/: HTTP error code 403. [retrying; skip with ^C]\n",
      "JSON Query to api/v1/media/2802513823310191091/info/: HTTP error code 403. [retrying; skip with ^C]\n",
      "Unable to fetch high quality image version of <Post Cbkh3lUhpnz>: JSON Query to api/v1/media/2802513823310191091/info/: HTTP error code 403.\n"
     ]
    },
    {
     "name": "stdout",
     "output_type": "stream",
     "text": [
      "rohitmane93/2022-03-26_14-41-43_UTC_1.jpg "
     ]
    },
    {
     "name": "stderr",
     "output_type": "stream",
     "text": [
      "JSON Query to api/v1/media/2802513823310191091/info/: HTTP error code 403. [retrying; skip with ^C]\n",
      "JSON Query to api/v1/media/2802513823310191091/info/: HTTP error code 403. [retrying; skip with ^C]\n",
      "Unable to fetch high quality image version of <Post Cbkh3lUhpnz>: JSON Query to api/v1/media/2802513823310191091/info/: HTTP error code 403.\n"
     ]
    },
    {
     "name": "stdout",
     "output_type": "stream",
     "text": [
      "rohitmane93/2022-03-26_14-41-43_UTC_2.jpg [Don’t you dare come in my way…] json \n"
     ]
    },
    {
     "name": "stderr",
     "output_type": "stream",
     "text": [
      "JSON Query to api/v1/media/2799953985723992696/info/: HTTP error code 403. [retrying; skip with ^C]\n",
      "JSON Query to api/v1/media/2799953985723992696/info/: HTTP error code 403. [retrying; skip with ^C]\n",
      "Unable to fetch high quality image version of <Post Cbbb1CyhIp4>: JSON Query to api/v1/media/2799953985723992696/info/: HTTP error code 403.\n"
     ]
    },
    {
     "name": "stdout",
     "output_type": "stream",
     "text": [
      "rohitmane93/2022-03-23_01-55-47_UTC.jpg [Finally spotted a lion in the…] json \n"
     ]
    },
    {
     "name": "stderr",
     "output_type": "stream",
     "text": [
      "JSON Query to api/v1/media/2784104442196362131/info/: HTTP error code 403. [retrying; skip with ^C]\n",
      "JSON Query to api/v1/media/2784104442196362131/info/: HTTP error code 403. [retrying; skip with ^C]\n",
      "Unable to fetch high quality image version of <Post CajID1Gs4OT>: JSON Query to api/v1/media/2784104442196362131/info/: HTTP error code 403.\n"
     ]
    },
    {
     "name": "stdout",
     "output_type": "stream",
     "text": [
      "rohitmane93/2022-03-01_05-05-34_UTC.jpg [The new @audiin Q7 . . . . . …] json \n"
     ]
    },
    {
     "name": "stderr",
     "output_type": "stream",
     "text": [
      "JSON Query to api/v1/media/2780487765772697527/info/: HTTP error code 403. [retrying; skip with ^C]\n",
      "JSON Query to api/v1/media/2780487765772697527/info/: HTTP error code 403. [retrying; skip with ^C]\n",
      "Unable to fetch high quality image version of <Post CaWRuQtM3-3>: JSON Query to api/v1/media/2780487765772697527/info/: HTTP error code 403.\n"
     ]
    },
    {
     "name": "stdout",
     "output_type": "stream",
     "text": [
      "rohitmane93/2022-02-24_05-19-52_UTC_1.jpg "
     ]
    },
    {
     "name": "stderr",
     "output_type": "stream",
     "text": [
      "JSON Query to api/v1/media/2780487765772697527/info/: HTTP error code 403. [retrying; skip with ^C]\n",
      "JSON Query to api/v1/media/2780487765772697527/info/: HTTP error code 403. [retrying; skip with ^C]\n",
      "Unable to fetch high quality image version of <Post CaWRuQtM3-3>: JSON Query to api/v1/media/2780487765772697527/info/: HTTP error code 403.\n"
     ]
    },
    {
     "name": "stdout",
     "output_type": "stream",
     "text": [
      "rohitmane93/2022-02-24_05-19-52_UTC_2.jpg "
     ]
    },
    {
     "name": "stderr",
     "output_type": "stream",
     "text": [
      "JSON Query to api/v1/media/2780487765772697527/info/: HTTP error code 403. [retrying; skip with ^C]\n",
      "JSON Query to api/v1/media/2780487765772697527/info/: HTTP error code 403. [retrying; skip with ^C]\n",
      "Unable to fetch high quality image version of <Post CaWRuQtM3-3>: JSON Query to api/v1/media/2780487765772697527/info/: HTTP error code 403.\n"
     ]
    },
    {
     "name": "stdout",
     "output_type": "stream",
     "text": [
      "rohitmane93/2022-02-24_05-19-52_UTC_3.jpg [Indian wolf . . . . . . . . #…] json \n"
     ]
    },
    {
     "name": "stderr",
     "output_type": "stream",
     "text": [
      "JSON Query to api/v1/media/2774711127987661741/info/: HTTP error code 403. [retrying; skip with ^C]\n",
      "JSON Query to api/v1/media/2774711127987661741/info/: HTTP error code 403. [retrying; skip with ^C]\n",
      "Unable to fetch high quality image version of <Post CaBwRHiByut>: JSON Query to api/v1/media/2774711127987661741/info/: HTTP error code 403.\n"
     ]
    },
    {
     "name": "stdout",
     "output_type": "stream",
     "text": [
      "rohitmane93/2022-02-16_06-02-43_UTC.jpg [Susegado means relaxed. And t…] json \n"
     ]
    },
    {
     "name": "stderr",
     "output_type": "stream",
     "text": [
      "JSON Query to api/v1/media/2746417236383181224/info/: HTTP error code 403. [retrying; skip with ^C]\n",
      "JSON Query to api/v1/media/2746417236383181224/info/: HTTP error code 403. [retrying; skip with ^C]\n",
      "Unable to fetch high quality image version of <Post CYdO-zjoSmo>: JSON Query to api/v1/media/2746417236383181224/info/: HTTP error code 403.\n"
     ]
    },
    {
     "name": "stdout",
     "output_type": "stream",
     "text": [
      "rohitmane93/2022-01-08_05-07-49_UTC.jpg [Dreaming of this! Can’t wait …] json \n"
     ]
    },
    {
     "name": "stderr",
     "output_type": "stream",
     "text": [
      "JSON Query to api/v1/media/2744240879473686411/info/: HTTP error code 403. [retrying; skip with ^C]\n",
      "JSON Query to api/v1/media/2744240879473686411/info/: HTTP error code 403. [retrying; skip with ^C]\n",
      "Unable to fetch high quality image version of <Post CYVgIpPIneL>: JSON Query to api/v1/media/2744240879473686411/info/: HTTP error code 403.\n"
     ]
    },
    {
     "name": "stdout",
     "output_type": "stream",
     "text": [
      "rohitmane93/2022-01-05_05-03-47_UTC.jpg [Fast cars. . . . . .  . . #Fo…] json \n"
     ]
    },
    {
     "name": "stderr",
     "output_type": "stream",
     "text": [
      "JSON Query to api/v1/media/2742145383956330897/info/: HTTP error code 403. [retrying; skip with ^C]\n",
      "JSON Query to api/v1/media/2742145383956330897/info/: HTTP error code 403. [retrying; skip with ^C]\n",
      "Unable to fetch high quality image version of <Post CYODrK9MbmR>: JSON Query to api/v1/media/2742145383956330897/info/: HTTP error code 403.\n"
     ]
    },
    {
     "name": "stdout",
     "output_type": "stream",
     "text": [
      "rohitmane93/2022-01-02_07-40-24_UTC.jpg [Happy New Year 🥳  . . . . . #…] json \n"
     ]
    },
    {
     "name": "stderr",
     "output_type": "stream",
     "text": [
      "JSON Query to api/v1/media/2733381173951707579/info/: HTTP error code 403. [retrying; skip with ^C]\n",
      "JSON Query to api/v1/media/2733381173951707579/info/: HTTP error code 403. [retrying; skip with ^C]\n",
      "Unable to fetch high quality image version of <Post CXu67IVIbm7>: JSON Query to api/v1/media/2733381173951707579/info/: HTTP error code 403.\n"
     ]
    },
    {
     "name": "stdout",
     "output_type": "stream",
     "text": [
      "rohitmane93/2021-12-21_05-27-29_UTC.jpg [Volvo XC60 & S90 . . . . #vol…] json \n"
     ]
    },
    {
     "name": "stderr",
     "output_type": "stream",
     "text": [
      "JSON Query to api/v1/media/2729838578702035847/info/: HTTP error code 403. [retrying; skip with ^C]\n",
      "JSON Query to api/v1/media/2729838578702035847/info/: HTTP error code 403. [retrying; skip with ^C]\n",
      "Unable to fetch high quality image version of <Post CXiVblZsSuH>: JSON Query to api/v1/media/2729838578702035847/info/: HTTP error code 403.\n"
     ]
    },
    {
     "name": "stdout",
     "output_type": "stream",
     "text": [
      "rohitmane93/2021-12-16_08-08-59_UTC.jpg [This is one of the best place…] json \n"
     ]
    },
    {
     "name": "stderr",
     "output_type": "stream",
     "text": [
      "JSON Query to api/v1/media/2716746776881138928/info/: HTTP error code 403. [retrying; skip with ^C]\n",
      "JSON Query to api/v1/media/2716746776881138928/info/: HTTP error code 403. [retrying; skip with ^C]\n",
      "Unable to fetch high quality image version of <Post CWz0sy0sAzw>: JSON Query to api/v1/media/2716746776881138928/info/: HTTP error code 403.\n"
     ]
    },
    {
     "name": "stdout",
     "output_type": "stream",
     "text": [
      "rohitmane93/2021-11-28_06-37-54_UTC_1.jpg "
     ]
    },
    {
     "name": "stderr",
     "output_type": "stream",
     "text": [
      "JSON Query to api/v1/media/2716746776881138928/info/: HTTP error code 403. [retrying; skip with ^C]\n",
      "JSON Query to api/v1/media/2716746776881138928/info/: HTTP error code 403. [retrying; skip with ^C]\n",
      "Unable to fetch high quality image version of <Post CWz0sy0sAzw>: JSON Query to api/v1/media/2716746776881138928/info/: HTTP error code 403.\n"
     ]
    },
    {
     "name": "stdout",
     "output_type": "stream",
     "text": [
      "rohitmane93/2021-11-28_06-37-54_UTC_2.jpg "
     ]
    },
    {
     "name": "stderr",
     "output_type": "stream",
     "text": [
      "JSON Query to api/v1/media/2716746776881138928/info/: HTTP error code 403. [retrying; skip with ^C]\n",
      "JSON Query to api/v1/media/2716746776881138928/info/: HTTP error code 403. [retrying; skip with ^C]\n",
      "Unable to fetch high quality image version of <Post CWz0sy0sAzw>: JSON Query to api/v1/media/2716746776881138928/info/: HTTP error code 403.\n"
     ]
    },
    {
     "name": "stdout",
     "output_type": "stream",
     "text": [
      "rohitmane93/2021-11-28_06-37-54_UTC_3.jpg "
     ]
    },
    {
     "name": "stderr",
     "output_type": "stream",
     "text": [
      "JSON Query to api/v1/media/2716746776881138928/info/: HTTP error code 403. [retrying; skip with ^C]\n",
      "JSON Query to api/v1/media/2716746776881138928/info/: HTTP error code 403. [retrying; skip with ^C]\n",
      "Unable to fetch high quality image version of <Post CWz0sy0sAzw>: JSON Query to api/v1/media/2716746776881138928/info/: HTTP error code 403.\n"
     ]
    },
    {
     "name": "stdout",
     "output_type": "stream",
     "text": [
      "rohitmane93/2021-11-28_06-37-54_UTC_4.jpg [VW Taigun  . . . Shot for @ev…] json \n"
     ]
    },
    {
     "name": "stderr",
     "output_type": "stream",
     "text": [
      "JSON Query to api/v1/media/2708981545509609239/info/: HTTP error code 403. [retrying; skip with ^C]\n",
      "JSON Query to api/v1/media/2708981545509609239/info/: HTTP error code 403. [retrying; skip with ^C]\n",
      "Unable to fetch high quality image version of <Post CWYPFzjMF8X>: JSON Query to api/v1/media/2708981545509609239/info/: HTTP error code 403.\n"
     ]
    },
    {
     "name": "stdout",
     "output_type": "stream",
     "text": [
      "rohitmane93/2021-11-17_13-29-47_UTC_1.jpg "
     ]
    },
    {
     "name": "stderr",
     "output_type": "stream",
     "text": [
      "JSON Query to api/v1/media/2708981545509609239/info/: HTTP error code 403. [retrying; skip with ^C]\n",
      "JSON Query to api/v1/media/2708981545509609239/info/: HTTP error code 403. [retrying; skip with ^C]\n",
      "Unable to fetch high quality image version of <Post CWYPFzjMF8X>: JSON Query to api/v1/media/2708981545509609239/info/: HTTP error code 403.\n"
     ]
    },
    {
     "name": "stdout",
     "output_type": "stream",
     "text": [
      "rohitmane93/2021-11-17_13-29-47_UTC_2.jpg "
     ]
    },
    {
     "name": "stderr",
     "output_type": "stream",
     "text": [
      "JSON Query to api/v1/media/2708981545509609239/info/: HTTP error code 403. [retrying; skip with ^C]\n",
      "JSON Query to api/v1/media/2708981545509609239/info/: HTTP error code 403. [retrying; skip with ^C]\n",
      "Unable to fetch high quality image version of <Post CWYPFzjMF8X>: JSON Query to api/v1/media/2708981545509609239/info/: HTTP error code 403.\n"
     ]
    },
    {
     "name": "stdout",
     "output_type": "stream",
     "text": [
      "rohitmane93/2021-11-17_13-29-47_UTC_3.jpg "
     ]
    },
    {
     "name": "stderr",
     "output_type": "stream",
     "text": [
      "JSON Query to api/v1/media/2708981545509609239/info/: HTTP error code 403. [retrying; skip with ^C]\n",
      "JSON Query to api/v1/media/2708981545509609239/info/: HTTP error code 403. [retrying; skip with ^C]\n",
      "Unable to fetch high quality image version of <Post CWYPFzjMF8X>: JSON Query to api/v1/media/2708981545509609239/info/: HTTP error code 403.\n"
     ]
    },
    {
     "name": "stdout",
     "output_type": "stream",
     "text": [
      "rohitmane93/2021-11-17_13-29-47_UTC_4.jpg "
     ]
    },
    {
     "name": "stderr",
     "output_type": "stream",
     "text": [
      "JSON Query to api/v1/media/2708981545509609239/info/: HTTP error code 403. [retrying; skip with ^C]\n",
      "JSON Query to api/v1/media/2708981545509609239/info/: HTTP error code 403. [retrying; skip with ^C]\n",
      "Unable to fetch high quality image version of <Post CWYPFzjMF8X>: JSON Query to api/v1/media/2708981545509609239/info/: HTTP error code 403.\n"
     ]
    },
    {
     "name": "stdout",
     "output_type": "stream",
     "text": [
      "rohitmane93/2021-11-17_13-29-47_UTC_5.jpg "
     ]
    },
    {
     "name": "stderr",
     "output_type": "stream",
     "text": [
      "JSON Query to api/v1/media/2708981545509609239/info/: HTTP error code 403. [retrying; skip with ^C]\n",
      "JSON Query to api/v1/media/2708981545509609239/info/: HTTP error code 403. [retrying; skip with ^C]\n",
      "Unable to fetch high quality image version of <Post CWYPFzjMF8X>: JSON Query to api/v1/media/2708981545509609239/info/: HTTP error code 403.\n"
     ]
    },
    {
     "name": "stdout",
     "output_type": "stream",
     "text": [
      "rohitmane93/2021-11-17_13-29-47_UTC_6.jpg "
     ]
    },
    {
     "name": "stderr",
     "output_type": "stream",
     "text": [
      "JSON Query to api/v1/media/2708981545509609239/info/: HTTP error code 403. [retrying; skip with ^C]\n"
     ]
    },
    {
     "name": "stdout",
     "output_type": "stream",
     "text": [
      "\n",
      "Too many queries in the last time. Need to wait 16 minutes, until 14:23.\n"
     ]
    },
    {
     "name": "stderr",
     "output_type": "stream",
     "text": [
      "JSON Query to api/v1/media/2708981545509609239/info/: HTTP error code 403. [retrying; skip with ^C]\n",
      "Unable to fetch high quality image version of <Post CWYPFzjMF8X>: JSON Query to api/v1/media/2708981545509609239/info/: HTTP error code 403.\n"
     ]
    },
    {
     "name": "stdout",
     "output_type": "stream",
     "text": [
      "rohitmane93/2021-11-17_13-29-47_UTC_7.jpg "
     ]
    },
    {
     "name": "stderr",
     "output_type": "stream",
     "text": [
      "JSON Query to api/v1/media/2708981545509609239/info/: HTTP error code 403. [retrying; skip with ^C]\n"
     ]
    },
    {
     "name": "stdout",
     "output_type": "stream",
     "text": [
      "\n",
      "Too many queries in the last time. Need to wait 24 seconds, until 14:23.\n"
     ]
    },
    {
     "name": "stderr",
     "output_type": "stream",
     "text": [
      "JSON Query to api/v1/media/2708981545509609239/info/: HTTP error code 403. [retrying; skip with ^C]\n",
      "Unable to fetch high quality image version of <Post CWYPFzjMF8X>: JSON Query to api/v1/media/2708981545509609239/info/: HTTP error code 403.\n"
     ]
    },
    {
     "name": "stdout",
     "output_type": "stream",
     "text": [
      "rohitmane93/2021-11-17_13-29-47_UTC_8.jpg [The Most powerful 4 cylinder …] json \n"
     ]
    },
    {
     "name": "stderr",
     "output_type": "stream",
     "text": [
      "JSON Query to api/v1/media/2704697494820911690/info/: HTTP error code 403. [retrying; skip with ^C]\n",
      "JSON Query to api/v1/media/2704697494820911690/info/: HTTP error code 403. [retrying; skip with ^C]\n"
     ]
    },
    {
     "name": "stdout",
     "output_type": "stream",
     "text": [
      "\n",
      "Too many queries in the last time. Need to wait 57 seconds, until 14:24.\n"
     ]
    },
    {
     "name": "stderr",
     "output_type": "stream",
     "text": [
      "Unable to fetch high quality image version of <Post CWJBAqbsHpK>: JSON Query to api/v1/media/2704697494820911690/info/: HTTP error code 403.\n"
     ]
    },
    {
     "name": "stdout",
     "output_type": "stream",
     "text": [
      "rohitmane93/2021-11-11_15-38-08_UTC.jpg [The All new @skodaindia Kusha…] json \n"
     ]
    },
    {
     "name": "stderr",
     "output_type": "stream",
     "text": [
      "JSON Query to api/v1/media/2702978492970421168/info/: HTTP error code 403. [retrying; skip with ^C]\n"
     ]
    },
    {
     "name": "stdout",
     "output_type": "stream",
     "text": [
      "\n",
      "Too many queries in the last time. Need to wait 24 seconds, until 14:25.\n"
     ]
    },
    {
     "name": "stderr",
     "output_type": "stream",
     "text": [
      "[skipped by user]\n",
      "Unable to fetch high quality image version of <Post CWC6J5NBcuw>: JSON Query to api/v1/media/2702978492970421168/info/: HTTP error code 403.\n"
     ]
    },
    {
     "name": "stdout",
     "output_type": "stream",
     "text": [
      "rohitmane93/2021-11-09_06-42-47_UTC.jpg [Audi RS5 vs Hayabusa . . . . …] json \n",
      "\n",
      "Too many queries in the last time. Need to wait 22 seconds, until 14:25.\n"
     ]
    }
   ],
   "source": [
    "new_base_images_folder_path = '/Users/viru/Documents/MP_I/data/images'\n",
    "\n",
    "for category, brands in influencer_list.items():\n",
    "    print(f\"Category: {category}\")\n",
    "    curr_category_path = os.path.join(image_folders_path, category)\n",
    "\n",
    "    for brand, influencers in brands.items():\n",
    "        print(f\"Brand: {brand}\")\n",
    "        curr_brand_path = os.path.join(curr_category_path, brand)\n",
    "\n",
    "        for influencer in influencers:\n",
    "            if influencer != \".DS_Store\":\n",
    "                print(f\"Influencer: {influencer}\")\n",
    "                cur_influencer_path = os.path.join(curr_brand_path, influencer.split('.xlsx')[0] + '_url.xlsx')\n",
    "                df = pd.read_excel(cur_influencer_path)\n",
    "                img_urls = list(df['image_urls'])\n",
    "                img_urls = [url for url in img_urls if url != \"\"]\n",
    "\n",
    "                # Create the new path preserving the directory structure\n",
    "                new_category_path = os.path.join(new_base_images_folder_path, category)\n",
    "                new_brand_path = os.path.join(new_category_path, brand)\n",
    "                new_influencer_folder_path = os.path.join(new_brand_path, influencer.split('.xlsx')[0])\n",
    "\n",
    "                username = influencer.split('.xlsx')[0]\n",
    "\n",
    "                scrape_instagram_post(username, new_influencer_folder_path)\n",
    "        break"
   ]
  },
  {
   "cell_type": "code",
   "execution_count": 63,
   "metadata": {},
   "outputs": [
    {
     "name": "stdout",
     "output_type": "stream",
     "text": [
      "Category: automobile\n",
      "Brand: skodaindia\n",
      "Influencer: madhura__balaji.xlsx\n",
      "Saved captions to /Users/viru/Documents/MP_I/data/captions_folders/automobile/skodaindia/madhura__balaji_captions.xlsx\n",
      "Influencer: globalncap.xlsx\n",
      "Saved captions to /Users/viru/Documents/MP_I/data/captions_folders/automobile/skodaindia/globalncap_captions.xlsx\n",
      "Influencer: prithwi.xlsx\n",
      "Saved captions to /Users/viru/Documents/MP_I/data/captions_folders/automobile/skodaindia/prithwi_captions.xlsx\n",
      "Influencer: arppithaandaa.xlsx\n",
      "Saved captions to /Users/viru/Documents/MP_I/data/captions_folders/automobile/skodaindia/arppithaandaa_captions.xlsx\n",
      "Influencer: rachit.hirani.xlsx\n",
      "Saved captions to /Users/viru/Documents/MP_I/data/captions_folders/automobile/skodaindia/rachit.hirani_captions.xlsx\n",
      "Influencer: gayathryrajiv.xlsx\n",
      "Saved captions to /Users/viru/Documents/MP_I/data/captions_folders/automobile/skodaindia/gayathryrajiv_captions.xlsx\n",
      "Influencer: rohitmane93.xlsx\n",
      "Saved captions to /Users/viru/Documents/MP_I/data/captions_folders/automobile/skodaindia/rohitmane93_captions.xlsx\n",
      "Influencer: cyrusdhabhar.xlsx\n",
      "Saved captions to /Users/viru/Documents/MP_I/data/captions_folders/automobile/skodaindia/cyrusdhabhar_captions.xlsx\n",
      "Influencer: oaktreesport.xlsx\n",
      "Saved captions to /Users/viru/Documents/MP_I/data/captions_folders/automobile/skodaindia/oaktreesport_captions.xlsx\n",
      "Influencer: turbochargedmag.xlsx\n",
      "Saved captions to /Users/viru/Documents/MP_I/data/captions_folders/automobile/skodaindia/turbochargedmag_captions.xlsx\n",
      "Influencer: sainath_rockstar.xlsx\n",
      "Saved captions to /Users/viru/Documents/MP_I/data/captions_folders/automobile/skodaindia/sainath_rockstar_captions.xlsx\n",
      "Brand: marutisuzukiofficial\n",
      "Influencer: varadmore.xlsx\n",
      "Saved captions to /Users/viru/Documents/MP_I/data/captions_folders/automobile/marutisuzukiofficial/varadmore_captions.xlsx\n",
      "Influencer: sharman.shah.xlsx\n",
      "Saved captions to /Users/viru/Documents/MP_I/data/captions_folders/automobile/marutisuzukiofficial/sharman.shah_captions.xlsx\n",
      "Influencer: news18technauto.xlsx\n",
      "Saved captions to /Users/viru/Documents/MP_I/data/captions_folders/automobile/marutisuzukiofficial/news18technauto_captions.xlsx\n",
      "Influencer: ceat_tyresindia.xlsx\n",
      "Saved captions to /Users/viru/Documents/MP_I/data/captions_folders/automobile/marutisuzukiofficial/ceat_tyresindia_captions.xlsx\n",
      "Influencer: abhirunning.xlsx\n",
      "Saved captions to /Users/viru/Documents/MP_I/data/captions_folders/automobile/marutisuzukiofficial/abhirunning_captions.xlsx\n",
      "Influencer: theghoshrider.xlsx\n",
      "Saved captions to /Users/viru/Documents/MP_I/data/captions_folders/automobile/marutisuzukiofficial/theghoshrider_captions.xlsx\n",
      "Influencer: lozhnamte.xlsx\n",
      "Saved captions to /Users/viru/Documents/MP_I/data/captions_folders/automobile/marutisuzukiofficial/lozhnamte_captions.xlsx\n",
      "Influencer: bunnypunia.xlsx\n",
      "Saved captions to /Users/viru/Documents/MP_I/data/captions_folders/automobile/marutisuzukiofficial/bunnypunia_captions.xlsx\n",
      "Influencer: varunpainter.xlsx\n",
      "Saved captions to /Users/viru/Documents/MP_I/data/captions_folders/automobile/marutisuzukiofficial/varunpainter_captions.xlsx\n",
      "Influencer: riding_nomad.xlsx\n",
      "Saved captions to /Users/viru/Documents/MP_I/data/captions_folders/automobile/marutisuzukiofficial/riding_nomad_captions.xlsx\n",
      "Influencer: harxhith.xlsx\n",
      "Saved captions to /Users/viru/Documents/MP_I/data/captions_folders/automobile/marutisuzukiofficial/harxhith_captions.xlsx\n",
      "Influencer: fcpunecity.xlsx\n",
      "Saved captions to /Users/viru/Documents/MP_I/data/captions_folders/automobile/marutisuzukiofficial/fcpunecity_captions.xlsx\n",
      "Influencer: teamevolutionindia.xlsx\n",
      "Saved captions to /Users/viru/Documents/MP_I/data/captions_folders/automobile/marutisuzukiofficial/teamevolutionindia_captions.xlsx\n",
      "Influencer: im__mr_shashank.xlsx\n",
      "Saved captions to /Users/viru/Documents/MP_I/data/captions_folders/automobile/marutisuzukiofficial/im__mr_shashank_captions.xlsx\n",
      "Influencer: gagan_miglani.xlsx\n",
      "Saved captions to /Users/viru/Documents/MP_I/data/captions_folders/automobile/marutisuzukiofficial/gagan_miglani_captions.xlsx\n",
      "Influencer: scbbbsr.xlsx\n",
      "Saved captions to /Users/viru/Documents/MP_I/data/captions_folders/automobile/marutisuzukiofficial/scbbbsr_captions.xlsx\n",
      "Influencer: assambikers.xlsx\n",
      "Saved captions to /Users/viru/Documents/MP_I/data/captions_folders/automobile/marutisuzukiofficial/assambikers_captions.xlsx\n",
      "Influencer: adityabedre.xlsx\n",
      "Saved captions to /Users/viru/Documents/MP_I/data/captions_folders/automobile/marutisuzukiofficial/adityabedre_captions.xlsx\n",
      "Influencer: dhanilvira.xlsx\n",
      "Saved captions to /Users/viru/Documents/MP_I/data/captions_folders/automobile/marutisuzukiofficial/dhanilvira_captions.xlsx\n",
      "Influencer: akash.gada.xlsx\n",
      "Saved captions to /Users/viru/Documents/MP_I/data/captions_folders/automobile/marutisuzukiofficial/akash.gada_captions.xlsx\n",
      "Brand: harleydavidson_india\n",
      "Influencer: nataliemicah.xlsx\n",
      "Saved captions to /Users/viru/Documents/MP_I/data/captions_folders/automobile/harleydavidson_india/nataliemicah_captions.xlsx\n",
      "Influencer: broken.asphalt.xlsx\n",
      "Saved captions to /Users/viru/Documents/MP_I/data/captions_folders/automobile/harleydavidson_india/broken.asphalt_captions.xlsx\n",
      "Influencer: apacheindianhq.xlsx\n",
      "Saved captions to /Users/viru/Documents/MP_I/data/captions_folders/automobile/harleydavidson_india/apacheindianhq_captions.xlsx\n",
      "Influencer: thehighwayrider.xlsx\n",
      "Saved captions to /Users/viru/Documents/MP_I/data/captions_folders/automobile/harleydavidson_india/thehighwayrider_captions.xlsx\n",
      "Influencer: humsufi_insta.xlsx\n",
      "Saved captions to /Users/viru/Documents/MP_I/data/captions_folders/automobile/harleydavidson_india/humsufi_insta_captions.xlsx\n",
      "Influencer: mr_harley_kid.xlsx\n",
      "Saved captions to /Users/viru/Documents/MP_I/data/captions_folders/automobile/harleydavidson_india/mr_harley_kid_captions.xlsx\n",
      "Influencer: theweaero.xlsx\n",
      "Saved captions to /Users/viru/Documents/MP_I/data/captions_folders/automobile/harleydavidson_india/theweaero_captions.xlsx\n",
      "Influencer: millieonthemove.xlsx\n",
      "Saved captions to /Users/viru/Documents/MP_I/data/captions_folders/automobile/harleydavidson_india/millieonthemove_captions.xlsx\n",
      "Influencer: anushriyagulati.xlsx\n",
      "Saved captions to /Users/viru/Documents/MP_I/data/captions_folders/automobile/harleydavidson_india/anushriyagulati_captions.xlsx\n",
      "Influencer: indiabikeweek.xlsx\n",
      "Saved captions to /Users/viru/Documents/MP_I/data/captions_folders/automobile/harleydavidson_india/indiabikeweek_captions.xlsx\n",
      "Influencer: vikasbalram.xlsx\n",
      "Saved captions to /Users/viru/Documents/MP_I/data/captions_folders/automobile/harleydavidson_india/vikasbalram_captions.xlsx\n",
      "Brand: renaultindia\n",
      "Influencer: fmwdotcom.xlsx\n",
      "Saved captions to /Users/viru/Documents/MP_I/data/captions_folders/automobile/renaultindia/fmwdotcom_captions.xlsx\n",
      "Influencer: salon_epoquauto.xlsx\n",
      "Saved captions to /Users/viru/Documents/MP_I/data/captions_folders/automobile/renaultindia/salon_epoquauto_captions.xlsx\n",
      "Influencer: autoportal_india.xlsx\n",
      "Saved captions to /Users/viru/Documents/MP_I/data/captions_folders/automobile/renaultindia/autoportal_india_captions.xlsx\n",
      "Influencer: styleepix.xlsx\n",
      "Saved captions to /Users/viru/Documents/MP_I/data/captions_folders/automobile/renaultindia/styleepix_captions.xlsx\n",
      "Influencer: umermaqbool_.xlsx\n",
      "Saved captions to /Users/viru/Documents/MP_I/data/captions_folders/automobile/renaultindia/umermaqbool__captions.xlsx\n",
      "Influencer: aemotorshow.xlsx\n",
      "Saved captions to /Users/viru/Documents/MP_I/data/captions_folders/automobile/renaultindia/aemotorshow_captions.xlsx\n",
      "Influencer: akshayrathodphotography.xlsx\n",
      "Saved captions to /Users/viru/Documents/MP_I/data/captions_folders/automobile/renaultindia/akshayrathodphotography_captions.xlsx\n",
      "Influencer: westinsohna.xlsx\n",
      "Saved captions to /Users/viru/Documents/MP_I/data/captions_folders/automobile/renaultindia/westinsohna_captions.xlsx\n",
      "Influencer: chocochat77.xlsx\n",
      "Saved captions to /Users/viru/Documents/MP_I/data/captions_folders/automobile/renaultindia/chocochat77_captions.xlsx\n",
      "Influencer: iamnkhl.xlsx\n",
      "Saved captions to /Users/viru/Documents/MP_I/data/captions_folders/automobile/renaultindia/iamnkhl_captions.xlsx\n",
      "Influencer: ionity.official.xlsx\n",
      "Saved captions to /Users/viru/Documents/MP_I/data/captions_folders/automobile/renaultindia/ionity.official_captions.xlsx\n",
      "Influencer: gillesvidal_official.xlsx\n",
      "Saved captions to /Users/viru/Documents/MP_I/data/captions_folders/automobile/renaultindia/gillesvidal_official_captions.xlsx\n",
      "Influencer: sdevvarman.xlsx\n",
      "Saved captions to /Users/viru/Documents/MP_I/data/captions_folders/automobile/renaultindia/sdevvarman_captions.xlsx\n",
      "Influencer: sachafenestraz.xlsx\n",
      "Saved captions to /Users/viru/Documents/MP_I/data/captions_folders/automobile/renaultindia/sachafenestraz_captions.xlsx\n",
      "Influencer: rohitmane93.xlsx\n",
      "Saved captions to /Users/viru/Documents/MP_I/data/captions_folders/automobile/renaultindia/rohitmane93_captions.xlsx\n",
      "Influencer: jbenart.xlsx\n",
      "Saved captions to /Users/viru/Documents/MP_I/data/captions_folders/automobile/renaultindia/jbenart_captions.xlsx\n",
      "Influencer: travelwithsai.xlsx\n",
      "Saved captions to /Users/viru/Documents/MP_I/data/captions_folders/automobile/renaultindia/travelwithsai_captions.xlsx\n",
      "Influencer: jean_le_cam.xlsx\n",
      "Saved captions to /Users/viru/Documents/MP_I/data/captions_folders/automobile/renaultindia/jean_le_cam_captions.xlsx\n",
      "Brand: tvsmotorcompany\n",
      "Influencer: haritha.naidu.xlsx\n",
      "Saved captions to /Users/viru/Documents/MP_I/data/captions_folders/automobile/tvsmotorcompany/haritha.naidu_captions.xlsx\n",
      "Influencer: sidpatankar.xlsx\n",
      "Saved captions to /Users/viru/Documents/MP_I/data/captions_folders/automobile/tvsmotorcompany/sidpatankar_captions.xlsx\n",
      "Influencer: yashmp05.xlsx\n",
      "Saved captions to /Users/viru/Documents/MP_I/data/captions_folders/automobile/tvsmotorcompany/yashmp05_captions.xlsx\n",
      "Influencer: smokedgarage.xlsx\n",
      "Saved captions to /Users/viru/Documents/MP_I/data/captions_folders/automobile/tvsmotorcompany/smokedgarage_captions.xlsx\n",
      "Influencer: compressport_es.xlsx\n",
      "Saved captions to /Users/viru/Documents/MP_I/data/captions_folders/automobile/tvsmotorcompany/compressport_es_captions.xlsx\n",
      "Influencer: joanpedrero.xlsx\n",
      "Saved captions to /Users/viru/Documents/MP_I/data/captions_folders/automobile/tvsmotorcompany/joanpedrero_captions.xlsx\n",
      "Influencer: harithnoah8.xlsx\n",
      "Saved captions to /Users/viru/Documents/MP_I/data/captions_folders/automobile/tvsmotorcompany/harithnoah8_captions.xlsx\n",
      "Influencer: miss.pissay.xlsx\n",
      "Saved captions to /Users/viru/Documents/MP_I/data/captions_folders/automobile/tvsmotorcompany/miss.pissay_captions.xlsx\n",
      "Influencer: motornad.xlsx\n",
      "Saved captions to /Users/viru/Documents/MP_I/data/captions_folders/automobile/tvsmotorcompany/motornad_captions.xlsx\n",
      "Influencer: shu_mar.xlsx\n",
      "Saved captions to /Users/viru/Documents/MP_I/data/captions_folders/automobile/tvsmotorcompany/shu_mar_captions.xlsx\n",
      "Influencer: tvsraiderofficial.xlsx\n",
      "Saved captions to /Users/viru/Documents/MP_I/data/captions_folders/automobile/tvsmotorcompany/tvsraiderofficial_captions.xlsx\n",
      "Influencer: parnashree19.xlsx\n",
      "Saved captions to /Users/viru/Documents/MP_I/data/captions_folders/automobile/tvsmotorcompany/parnashree19_captions.xlsx\n",
      "Influencer: imranpaasha72.xlsx\n",
      "Saved captions to /Users/viru/Documents/MP_I/data/captions_folders/automobile/tvsmotorcompany/imranpaasha72_captions.xlsx\n",
      "Influencer: tvs_starcityplus.xlsx\n",
      "Saved captions to /Users/viru/Documents/MP_I/data/captions_folders/automobile/tvsmotorcompany/tvs_starcityplus_captions.xlsx\n",
      "Influencer: tcxboots.xlsx\n",
      "Saved captions to /Users/viru/Documents/MP_I/data/captions_folders/automobile/tvsmotorcompany/tcxboots_captions.xlsx\n",
      "Influencer: tvs_ntorq.xlsx\n",
      "Saved captions to /Users/viru/Documents/MP_I/data/captions_folders/automobile/tvsmotorcompany/tvs_ntorq_captions.xlsx\n",
      "Influencer: sidnchips.xlsx\n",
      "Saved captions to /Users/viru/Documents/MP_I/data/captions_folders/automobile/tvsmotorcompany/sidnchips_captions.xlsx\n",
      "Influencer: dhanilvira.xlsx\n",
      "Saved captions to /Users/viru/Documents/MP_I/data/captions_folders/automobile/tvsmotorcompany/dhanilvira_captions.xlsx\n",
      "Influencer: tvsronin.xlsx\n",
      "Saved captions to /Users/viru/Documents/MP_I/data/captions_folders/automobile/tvsmotorcompany/tvsronin_captions.xlsx\n",
      "Brand: ashokleyland_official\n",
      "Influencer: autos_vlog.xlsx\n",
      "Saved captions to /Users/viru/Documents/MP_I/data/captions_folders/automobile/ashokleyland_official/autos_vlog_captions.xlsx\n",
      "Influencer: frank_highway.xlsx\n",
      "Saved captions to /Users/viru/Documents/MP_I/data/captions_folders/automobile/ashokleyland_official/frank_highway_captions.xlsx\n",
      "Influencer: __vastrakarp11__.xlsx\n",
      "Saved captions to /Users/viru/Documents/MP_I/data/captions_folders/automobile/ashokleyland_official/__vastrakarp11___captions.xlsx\n",
      "Influencer: ksrtc.unofficial.xlsx\n",
      "Saved captions to /Users/viru/Documents/MP_I/data/captions_folders/automobile/ashokleyland_official/ksrtc.unofficial_captions.xlsx\n",
      "Influencer: lifeathgs.xlsx\n",
      "Saved captions to /Users/viru/Documents/MP_I/data/captions_folders/automobile/ashokleyland_official/lifeathgs_captions.xlsx\n",
      "Influencer: 8feet6wheels.xlsx\n",
      "Saved captions to /Users/viru/Documents/MP_I/data/captions_folders/automobile/ashokleyland_official/8feet6wheels_captions.xlsx\n",
      "Influencer: eeco_carlover.xlsx\n",
      "Saved captions to /Users/viru/Documents/MP_I/data/captions_folders/automobile/ashokleyland_official/eeco_carlover_captions.xlsx\n",
      "Influencer: gsrtc_unplugged.xlsx\n",
      "Saved captions to /Users/viru/Documents/MP_I/data/captions_folders/automobile/ashokleyland_official/gsrtc_unplugged_captions.xlsx\n",
      "Influencer: _etauto.xlsx\n",
      "Saved captions to /Users/viru/Documents/MP_I/data/captions_folders/automobile/ashokleyland_official/_etauto_captions.xlsx\n",
      "Influencer: thechoprafoundation.xlsx\n",
      "Saved captions to /Users/viru/Documents/MP_I/data/captions_folders/automobile/ashokleyland_official/thechoprafoundation_captions.xlsx\n",
      "Influencer: c_edwards23.xlsx\n",
      "Saved captions to /Users/viru/Documents/MP_I/data/captions_folders/automobile/ashokleyland_official/c_edwards23_captions.xlsx\n",
      "Influencer: saiqa_isha95.xlsx\n",
      "Saved captions to /Users/viru/Documents/MP_I/data/captions_folders/automobile/ashokleyland_official/saiqa_isha95_captions.xlsx\n",
      "Influencer: lorry.fansssss.xlsx\n",
      "Saved captions to /Users/viru/Documents/MP_I/data/captions_folders/automobile/ashokleyland_official/lorry.fansssss_captions.xlsx\n",
      "Influencer: amanjotkaur928.xlsx\n",
      "Saved captions to /Users/viru/Documents/MP_I/data/captions_folders/automobile/ashokleyland_official/amanjotkaur928_captions.xlsx\n",
      "Influencer: mr_revokid.xlsx\n",
      "Saved captions to /Users/viru/Documents/MP_I/data/captions_folders/automobile/ashokleyland_official/mr_revokid_captions.xlsx\n",
      "Influencer: hindujahospital.xlsx\n",
      "Saved captions to /Users/viru/Documents/MP_I/data/captions_folders/automobile/ashokleyland_official/hindujahospital_captions.xlsx\n",
      "Influencer: highway_ravers.xlsx\n",
      "Saved captions to /Users/viru/Documents/MP_I/data/captions_folders/automobile/ashokleyland_official/highway_ravers_captions.xlsx\n",
      "Influencer: busfansadoor.xlsx\n",
      "Saved captions to /Users/viru/Documents/MP_I/data/captions_folders/automobile/ashokleyland_official/busfansadoor_captions.xlsx\n",
      "Influencer: gulfoil.india.xlsx\n",
      "Saved captions to /Users/viru/Documents/MP_I/data/captions_folders/automobile/ashokleyland_official/gulfoil.india_captions.xlsx\n",
      "Brand: mercedesbenzind\n",
      "Influencer: antar_agni_ujjawaldubey.xlsx\n",
      "Saved captions to /Users/viru/Documents/MP_I/data/captions_folders/automobile/mercedesbenzind/antar_agni_ujjawaldubey_captions.xlsx\n",
      "Influencer: mercedesbenzvansusa.xlsx\n",
      "Saved captions to /Users/viru/Documents/MP_I/data/captions_folders/automobile/mercedesbenzind/mercedesbenzvansusa_captions.xlsx\n",
      "Influencer: thevibe.me.xlsx\n",
      "Saved captions to /Users/viru/Documents/MP_I/data/captions_folders/automobile/mercedesbenzind/thevibe.me_captions.xlsx\n",
      "Influencer: siddhant.rajadhyaksha.xlsx\n",
      "Saved captions to /Users/viru/Documents/MP_I/data/captions_folders/automobile/mercedesbenzind/siddhant.rajadhyaksha_captions.xlsx\n",
      "Influencer: jeffstockwell.xlsx\n",
      "Saved captions to /Users/viru/Documents/MP_I/data/captions_folders/automobile/mercedesbenzind/jeffstockwell_captions.xlsx\n",
      "Influencer: tajfalaknuma.xlsx\n",
      "Saved captions to /Users/viru/Documents/MP_I/data/captions_folders/automobile/mercedesbenzind/tajfalaknuma_captions.xlsx\n",
      "Influencer: styleepix.xlsx\n",
      "Saved captions to /Users/viru/Documents/MP_I/data/captions_folders/automobile/mercedesbenzind/styleepix_captions.xlsx\n",
      "Influencer: dscvr.twins.xlsx\n",
      "Saved captions to /Users/viru/Documents/MP_I/data/captions_folders/automobile/mercedesbenzind/dscvr.twins_captions.xlsx\n",
      "Influencer: tatapowercompanyltd.xlsx\n",
      "Saved captions to /Users/viru/Documents/MP_I/data/captions_folders/automobile/mercedesbenzind/tatapowercompanyltd_captions.xlsx\n",
      "Influencer: eisk77.xlsx\n",
      "Saved captions to /Users/viru/Documents/MP_I/data/captions_folders/automobile/mercedesbenzind/eisk77_captions.xlsx\n",
      "Influencer: marcel_lo_loca.xlsx\n",
      "Saved captions to /Users/viru/Documents/MP_I/data/captions_folders/automobile/mercedesbenzind/marcel_lo_loca_captions.xlsx\n",
      "Influencer: snehasharma52.xlsx\n",
      "Saved captions to /Users/viru/Documents/MP_I/data/captions_folders/automobile/mercedesbenzind/snehasharma52_captions.xlsx\n",
      "Influencer: sou_draws.xlsx\n",
      "Saved captions to /Users/viru/Documents/MP_I/data/captions_folders/automobile/mercedesbenzind/sou_draws_captions.xlsx\n",
      "Influencer: bhatius.xlsx\n",
      "Saved captions to /Users/viru/Documents/MP_I/data/captions_folders/automobile/mercedesbenzind/bhatius_captions.xlsx\n",
      "Influencer: gillracing.xlsx\n",
      "Saved captions to /Users/viru/Documents/MP_I/data/captions_folders/automobile/mercedesbenzind/gillracing_captions.xlsx\n",
      "Influencer: theritzcarltonpune.xlsx\n",
      "Saved captions to /Users/viru/Documents/MP_I/data/captions_folders/automobile/mercedesbenzind/theritzcarltonpune_captions.xlsx\n",
      "Influencer: sceii841.xlsx\n",
      "Saved captions to /Users/viru/Documents/MP_I/data/captions_folders/automobile/mercedesbenzind/sceii841_captions.xlsx\n",
      "Influencer: cyrusdhabhar.xlsx\n",
      "Saved captions to /Users/viru/Documents/MP_I/data/captions_folders/automobile/mercedesbenzind/cyrusdhabhar_captions.xlsx\n",
      "Influencer: sm.garage.xlsx\n",
      "Saved captions to /Users/viru/Documents/MP_I/data/captions_folders/automobile/mercedesbenzind/sm.garage_captions.xlsx\n",
      "Influencer: andrewmytro.xlsx\n",
      "Saved captions to /Users/viru/Documents/MP_I/data/captions_folders/automobile/mercedesbenzind/andrewmytro_captions.xlsx\n",
      "Brand: volkswagen_india\n",
      "Influencer: rohanalbal.xlsx\n",
      "Saved captions to /Users/viru/Documents/MP_I/data/captions_folders/automobile/volkswagen_india/rohanalbal_captions.xlsx\n",
      "Influencer: athul_whiteramp.xlsx\n",
      "Saved captions to /Users/viru/Documents/MP_I/data/captions_folders/automobile/volkswagen_india/athul_whiteramp_captions.xlsx\n",
      "Influencer: toramallyofficial.xlsx\n",
      "Saved captions to /Users/viru/Documents/MP_I/data/captions_folders/automobile/volkswagen_india/toramallyofficial_captions.xlsx\n",
      "Influencer: autoportal_india.xlsx\n",
      "Saved captions to /Users/viru/Documents/MP_I/data/captions_folders/automobile/volkswagen_india/autoportal_india_captions.xlsx\n",
      "Influencer: modified_virtus_club.xlsx\n",
      "Saved captions to /Users/viru/Documents/MP_I/data/captions_folders/automobile/volkswagen_india/modified_virtus_club_captions.xlsx\n",
      "Influencer: rebaixacars.xlsx\n",
      "Saved captions to /Users/viru/Documents/MP_I/data/captions_folders/automobile/volkswagen_india/rebaixacars_captions.xlsx\n",
      "Influencer: colstonjulian.xlsx\n",
      "Saved captions to /Users/viru/Documents/MP_I/data/captions_folders/automobile/volkswagen_india/colstonjulian_captions.xlsx\n",
      "Influencer: vidyatikari.xlsx\n",
      "Saved captions to /Users/viru/Documents/MP_I/data/captions_folders/automobile/volkswagen_india/vidyatikari_captions.xlsx\n",
      "Influencer: eramullan_paleri.xlsx\n",
      "Saved captions to /Users/viru/Documents/MP_I/data/captions_folders/automobile/volkswagen_india/eramullan_paleri_captions.xlsx\n",
      "Influencer: sajad_machu.xlsx\n",
      "Saved captions to /Users/viru/Documents/MP_I/data/captions_folders/automobile/volkswagen_india/sajad_machu_captions.xlsx\n",
      "Influencer: advaithbhaskaran.xlsx\n",
      "Saved captions to /Users/viru/Documents/MP_I/data/captions_folders/automobile/volkswagen_india/advaithbhaskaran_captions.xlsx\n",
      "Influencer: rohitmane93.xlsx\n",
      "Saved captions to /Users/viru/Documents/MP_I/data/captions_folders/automobile/volkswagen_india/rohitmane93_captions.xlsx\n",
      "Influencer: ayubkhan.h.xlsx\n",
      "Saved captions to /Users/viru/Documents/MP_I/data/captions_folders/automobile/volkswagen_india/ayubkhan.h_captions.xlsx\n",
      "Influencer: turbochargedmag.xlsx\n",
      "Saved captions to /Users/viru/Documents/MP_I/data/captions_folders/automobile/volkswagen_india/turbochargedmag_captions.xlsx\n",
      "Brand: atherenergy\n",
      "Influencer: tarunsmehta.xlsx\n",
      "Saved captions to /Users/viru/Documents/MP_I/data/captions_folders/automobile/atherenergy/tarunsmehta_captions.xlsx\n",
      "Influencer: minus.30.xlsx\n",
      "Saved captions to /Users/viru/Documents/MP_I/data/captions_folders/automobile/atherenergy/minus.30_captions.xlsx\n",
      "Influencer: srini091.xlsx\n",
      "Saved captions to /Users/viru/Documents/MP_I/data/captions_folders/automobile/atherenergy/srini091_captions.xlsx\n",
      "Influencer: bigrockdirtpark.xlsx\n",
      "Saved captions to /Users/viru/Documents/MP_I/data/captions_folders/automobile/atherenergy/bigrockdirtpark_captions.xlsx\n",
      "Influencer: farmlore.in.xlsx\n",
      "Saved captions to /Users/viru/Documents/MP_I/data/captions_folders/automobile/atherenergy/farmlore.in_captions.xlsx\n",
      "Influencer: tkd_goutham.xlsx\n",
      "Saved captions to /Users/viru/Documents/MP_I/data/captions_folders/automobile/atherenergy/tkd_goutham_captions.xlsx\n",
      "Influencer: parkplusio.xlsx\n",
      "Saved captions to /Users/viru/Documents/MP_I/data/captions_folders/automobile/atherenergy/parkplusio_captions.xlsx\n",
      "Influencer: karunchandhok.xlsx\n",
      "Saved captions to /Users/viru/Documents/MP_I/data/captions_folders/automobile/atherenergy/karunchandhok_captions.xlsx\n",
      "Influencer: the.hairmonster.xlsx\n",
      "Saved captions to /Users/viru/Documents/MP_I/data/captions_folders/automobile/atherenergy/the.hairmonster_captions.xlsx\n",
      "Influencer: kunelgaur.xlsx\n",
      "Saved captions to /Users/viru/Documents/MP_I/data/captions_folders/automobile/atherenergy/kunelgaur_captions.xlsx\n",
      "Influencer: vibhor__yadav.xlsx\n",
      "Saved captions to /Users/viru/Documents/MP_I/data/captions_folders/automobile/atherenergy/vibhor__yadav_captions.xlsx\n",
      "Influencer: vidadotworld.xlsx\n",
      "Saved captions to /Users/viru/Documents/MP_I/data/captions_folders/automobile/atherenergy/vidadotworld_captions.xlsx\n",
      "Brand: hondacarindia\n",
      "Influencer: martyco.in.xlsx\n",
      "Saved captions to /Users/viru/Documents/MP_I/data/captions_folders/automobile/hondacarindia/martyco.in_captions.xlsx\n",
      "Influencer: autocar_official.xlsx\n",
      "Saved captions to /Users/viru/Documents/MP_I/data/captions_folders/automobile/hondacarindia/autocar_official_captions.xlsx\n",
      "Influencer: mad_over_travell.xlsx\n",
      "Saved captions to /Users/viru/Documents/MP_I/data/captions_folders/automobile/hondacarindia/mad_over_travell_captions.xlsx\n",
      "Influencer: _megharoy_.xlsx\n",
      "Saved captions to /Users/viru/Documents/MP_I/data/captions_folders/automobile/hondacarindia/_megharoy__captions.xlsx\n",
      "Influencer: autoxmag.xlsx\n",
      "Saved captions to /Users/viru/Documents/MP_I/data/captions_folders/automobile/hondacarindia/autoxmag_captions.xlsx\n",
      "Influencer: gawdesslike.xlsx\n",
      "Saved captions to /Users/viru/Documents/MP_I/data/captions_folders/automobile/hondacarindia/gawdesslike_captions.xlsx\n",
      "Influencer: hormazdsorabjee.xlsx\n",
      "Saved captions to /Users/viru/Documents/MP_I/data/captions_folders/automobile/hondacarindia/hormazdsorabjee_captions.xlsx\n",
      "Influencer: aemotorshow.xlsx\n",
      "Saved captions to /Users/viru/Documents/MP_I/data/captions_folders/automobile/hondacarindia/aemotorshow_captions.xlsx\n",
      "Influencer: siddique_sculpture.xlsx\n",
      "Saved captions to /Users/viru/Documents/MP_I/data/captions_folders/automobile/hondacarindia/siddique_sculpture_captions.xlsx\n",
      "Influencer: jitendravaswani.xlsx\n",
      "Saved captions to /Users/viru/Documents/MP_I/data/captions_folders/automobile/hondacarindia/jitendravaswani_captions.xlsx\n",
      "Influencer: docdivatraveller.xlsx\n",
      "Saved captions to /Users/viru/Documents/MP_I/data/captions_folders/automobile/hondacarindia/docdivatraveller_captions.xlsx\n",
      "Influencer: titusupputuru.xlsx\n",
      "Saved captions to /Users/viru/Documents/MP_I/data/captions_folders/automobile/hondacarindia/titusupputuru_captions.xlsx\n",
      "Brand: indiatriumph\n",
      "Influencer: broken.asphalt.xlsx\n",
      "Saved captions to /Users/viru/Documents/MP_I/data/captions_folders/automobile/indiatriumph/broken.asphalt_captions.xlsx\n",
      "Influencer: triumphgermany.xlsx\n",
      "Saved captions to /Users/viru/Documents/MP_I/data/captions_folders/automobile/indiatriumph/triumphgermany_captions.xlsx\n",
      "Influencer: kevinthomasck.xlsx\n",
      "Saved captions to /Users/viru/Documents/MP_I/data/captions_folders/automobile/indiatriumph/kevinthomasck_captions.xlsx\n",
      "Influencer: _khantaha_.xlsx\n",
      "Saved captions to /Users/viru/Documents/MP_I/data/captions_folders/automobile/indiatriumph/_khantaha__captions.xlsx\n",
      "Influencer: riding_nomad.xlsx\n",
      "Saved captions to /Users/viru/Documents/MP_I/data/captions_folders/automobile/indiatriumph/riding_nomad_captions.xlsx\n",
      "Influencer: motorcyclenews.xlsx\n",
      "Saved captions to /Users/viru/Documents/MP_I/data/captions_folders/automobile/indiatriumph/motorcyclenews_captions.xlsx\n",
      "Influencer: wrapcraft.xlsx\n",
      "Saved captions to /Users/viru/Documents/MP_I/data/captions_folders/automobile/indiatriumph/wrapcraft_captions.xlsx\n",
      "Influencer: suparbiker.xlsx\n",
      "Saved captions to /Users/viru/Documents/MP_I/data/captions_folders/automobile/indiatriumph/suparbiker_captions.xlsx\n",
      "Influencer: indiabikeweek.xlsx\n",
      "Saved captions to /Users/viru/Documents/MP_I/data/captions_folders/automobile/indiatriumph/indiabikeweek_captions.xlsx\n",
      "Influencer: winter_wanderer.xlsx\n",
      "Saved captions to /Users/viru/Documents/MP_I/data/captions_folders/automobile/indiatriumph/winter_wanderer_captions.xlsx\n",
      "Influencer: max.hwrd.xlsx\n",
      "Saved captions to /Users/viru/Documents/MP_I/data/captions_folders/automobile/indiatriumph/max.hwrd_captions.xlsx\n",
      "Influencer: mr_bajaj.xlsx\n",
      "Saved captions to /Users/viru/Documents/MP_I/data/captions_folders/automobile/indiatriumph/mr_bajaj_captions.xlsx\n",
      "Brand: toyotaindia\n",
      "Influencer: amitsarohaparalympian.xlsx\n",
      "Saved captions to /Users/viru/Documents/MP_I/data/captions_folders/automobile/toyotaindia/amitsarohaparalympian_captions.xlsx\n",
      "Influencer: paullhaberland.xlsx\n",
      "Saved captions to /Users/viru/Documents/MP_I/data/captions_folders/automobile/toyotaindia/paullhaberland_captions.xlsx\n",
      "Influencer: nicokoch260.xlsx\n",
      "Saved captions to /Users/viru/Documents/MP_I/data/captions_folders/automobile/toyotaindia/nicokoch260_captions.xlsx\n",
      "Influencer: thegtproduction.xlsx\n",
      "Saved captions to /Users/viru/Documents/MP_I/data/captions_folders/automobile/toyotaindia/thegtproduction_captions.xlsx\n",
      "Influencer: yokohamaindiaofficial.xlsx\n",
      "Saved captions to /Users/viru/Documents/MP_I/data/captions_folders/automobile/toyotaindia/yokohamaindiaofficial_captions.xlsx\n",
      "Influencer: sreeshankarmurali.xlsx\n",
      "Saved captions to /Users/viru/Documents/MP_I/data/captions_folders/automobile/toyotaindia/sreeshankarmurali_captions.xlsx\n",
      "Influencer: theunbiasedblog.xlsx\n",
      "Saved captions to /Users/viru/Documents/MP_I/data/captions_folders/automobile/toyotaindia/theunbiasedblog_captions.xlsx\n",
      "Influencer: renukakirpalani.xlsx\n",
      "Saved captions to /Users/viru/Documents/MP_I/data/captions_folders/automobile/toyotaindia/renukakirpalani_captions.xlsx\n",
      "Influencer: idemitsulubeindia.xlsx\n",
      "Saved captions to /Users/viru/Documents/MP_I/data/captions_folders/automobile/toyotaindia/idemitsulubeindia_captions.xlsx\n",
      "Influencer: thomasramette6.xlsx\n",
      "Saved captions to /Users/viru/Documents/MP_I/data/captions_folders/automobile/toyotaindia/thomasramette6_captions.xlsx\n",
      "Influencer: indiansupercrossleague.xlsx\n",
      "Saved captions to /Users/viru/Documents/MP_I/data/captions_folders/automobile/toyotaindia/indiansupercrossleague_captions.xlsx\n",
      "Influencer: jorditixier_official.xlsx\n",
      "Saved captions to /Users/viru/Documents/MP_I/data/captions_folders/automobile/toyotaindia/jorditixier_official_captions.xlsx\n",
      "Brand: jeepindia\n",
      "Influencer: jeepuaete.xlsx\n",
      "Saved captions to /Users/viru/Documents/MP_I/data/captions_folders/automobile/jeepindia/jeepuaete_captions.xlsx\n",
      "Influencer: wanderlustkiddoo.xlsx\n",
      "Saved captions to /Users/viru/Documents/MP_I/data/captions_folders/automobile/jeepindia/wanderlustkiddoo_captions.xlsx\n",
      "Influencer: kartick.wildlifesos.xlsx\n",
      "Saved captions to /Users/viru/Documents/MP_I/data/captions_folders/automobile/jeepindia/kartick.wildlifesos_captions.xlsx\n",
      "Influencer: jeep_at.xlsx\n",
      "Saved captions to /Users/viru/Documents/MP_I/data/captions_folders/automobile/jeepindia/jeep_at_captions.xlsx\n",
      "Influencer: punisher7547.xlsx\n",
      "Saved captions to /Users/viru/Documents/MP_I/data/captions_folders/automobile/jeepindia/punisher7547_captions.xlsx\n",
      "Influencer: gods_own_jeepers.xlsx\n",
      "Saved captions to /Users/viru/Documents/MP_I/data/captions_folders/automobile/jeepindia/gods_own_jeepers_captions.xlsx\n",
      "Influencer: nos_motografia.xlsx\n",
      "Saved captions to /Users/viru/Documents/MP_I/data/captions_folders/automobile/jeepindia/nos_motografia_captions.xlsx\n",
      "Influencer: indiawithinsia.xlsx\n",
      "Saved captions to /Users/viru/Documents/MP_I/data/captions_folders/automobile/jeepindia/indiawithinsia_captions.xlsx\n",
      "Influencer: framefusion_.xlsx\n",
      "Saved captions to /Users/viru/Documents/MP_I/data/captions_folders/automobile/jeepindia/framefusion__captions.xlsx\n",
      "Influencer: bhatius.xlsx\n",
      "Saved captions to /Users/viru/Documents/MP_I/data/captions_folders/automobile/jeepindia/bhatius_captions.xlsx\n",
      "Influencer: jeepnz.xlsx\n",
      "Saved captions to /Users/viru/Documents/MP_I/data/captions_folders/automobile/jeepindia/jeepnz_captions.xlsx\n",
      "Brand: mgmotorin\n",
      "Influencer: sorabhpant.xlsx\n",
      "Saved captions to /Users/viru/Documents/MP_I/data/captions_folders/automobile/mgmotorin/sorabhpant_captions.xlsx\n",
      "Influencer: iamunimo.xlsx\n",
      "Saved captions to /Users/viru/Documents/MP_I/data/captions_folders/automobile/mgmotorin/iamunimo_captions.xlsx\n",
      "Influencer: futureskillsprime.xlsx\n",
      "Saved captions to /Users/viru/Documents/MP_I/data/captions_folders/automobile/mgmotorin/futureskillsprime_captions.xlsx\n",
      "Influencer: manavdahujaa.xlsx\n",
      "Saved captions to /Users/viru/Documents/MP_I/data/captions_folders/automobile/mgmotorin/manavdahujaa_captions.xlsx\n",
      "Influencer: exploringwithroy.xlsx\n",
      "Saved captions to /Users/viru/Documents/MP_I/data/captions_folders/automobile/mgmotorin/exploringwithroy_captions.xlsx\n",
      "Influencer: abs_chopra.xlsx\n",
      "Saved captions to /Users/viru/Documents/MP_I/data/captions_folders/automobile/mgmotorin/abs_chopra_captions.xlsx\n",
      "Influencer: tatapowercompanyltd.xlsx\n",
      "Saved captions to /Users/viru/Documents/MP_I/data/captions_folders/automobile/mgmotorin/tatapowercompanyltd_captions.xlsx\n",
      "Influencer: doodle.dreamer.xlsx\n",
      "Saved captions to /Users/viru/Documents/MP_I/data/captions_folders/automobile/mgmotorin/doodle.dreamer_captions.xlsx\n",
      "Influencer: modi_equestrian.xlsx\n",
      "Saved captions to /Users/viru/Documents/MP_I/data/captions_folders/automobile/mgmotorin/modi_equestrian_captions.xlsx\n",
      "Influencer: sudhanshuchandra.xlsx\n",
      "Saved captions to /Users/viru/Documents/MP_I/data/captions_folders/automobile/mgmotorin/sudhanshuchandra_captions.xlsx\n",
      "Influencer: kreate_with_kashif.xlsx\n",
      "Saved captions to /Users/viru/Documents/MP_I/data/captions_folders/automobile/mgmotorin/kreate_with_kashif_captions.xlsx\n",
      "Influencer: theterratribe.xlsx\n",
      "Saved captions to /Users/viru/Documents/MP_I/data/captions_folders/automobile/mgmotorin/theterratribe_captions.xlsx\n",
      "Brand: volvocarsin\n",
      "Influencer: rajeshpratapsinghworks.xlsx\n",
      "Saved captions to /Users/viru/Documents/MP_I/data/captions_folders/automobile/volvocarsin/rajeshpratapsinghworks_captions.xlsx\n",
      "Influencer: mumbaiopera.xlsx\n",
      "Saved captions to /Users/viru/Documents/MP_I/data/captions_folders/automobile/volvocarsin/mumbaiopera_captions.xlsx\n",
      "Influencer: _huemn.xlsx\n",
      "Saved captions to /Users/viru/Documents/MP_I/data/captions_folders/automobile/volvocarsin/_huemn_captions.xlsx\n",
      "Influencer: harisukhmani.xlsx\n",
      "Saved captions to /Users/viru/Documents/MP_I/data/captions_folders/automobile/volvocarsin/harisukhmani_captions.xlsx\n",
      "Influencer: houseofshikha.xlsx\n",
      "Saved captions to /Users/viru/Documents/MP_I/data/captions_folders/automobile/volvocarsin/houseofshikha_captions.xlsx\n",
      "Influencer: aindrilamitra.xlsx\n",
      "Saved captions to /Users/viru/Documents/MP_I/data/captions_folders/automobile/volvocarsin/aindrilamitra_captions.xlsx\n",
      "Influencer: aliyashaik28.xlsx\n",
      "Saved captions to /Users/viru/Documents/MP_I/data/captions_folders/automobile/volvocarsin/aliyashaik28_captions.xlsx\n",
      "Influencer: priyankaarik.xlsx\n",
      "Saved captions to /Users/viru/Documents/MP_I/data/captions_folders/automobile/volvocarsin/priyankaarik_captions.xlsx\n",
      "Influencer: crsjaisalmer.xlsx\n",
      "Saved captions to /Users/viru/Documents/MP_I/data/captions_folders/automobile/volvocarsin/crsjaisalmer_captions.xlsx\n",
      "Influencer: londonrag_in.xlsx\n",
      "Saved captions to /Users/viru/Documents/MP_I/data/captions_folders/automobile/volvocarsin/londonrag_in_captions.xlsx\n",
      "Influencer: westinhyderabad.xlsx\n",
      "Saved captions to /Users/viru/Documents/MP_I/data/captions_folders/automobile/volvocarsin/westinhyderabad_captions.xlsx\n",
      "Influencer: divyakdsouza.xlsx\n",
      "Saved captions to /Users/viru/Documents/MP_I/data/captions_folders/automobile/volvocarsin/divyakdsouza_captions.xlsx\n",
      "Influencer: getlostwithnikki.xlsx\n",
      "Saved captions to /Users/viru/Documents/MP_I/data/captions_folders/automobile/volvocarsin/getlostwithnikki_captions.xlsx\n",
      "Influencer: flaviagiumua.xlsx\n",
      "Saved captions to /Users/viru/Documents/MP_I/data/captions_folders/automobile/volvocarsin/flaviagiumua_captions.xlsx\n",
      "Influencer: seinabosey.xlsx\n",
      "Saved captions to /Users/viru/Documents/MP_I/data/captions_folders/automobile/volvocarsin/seinabosey_captions.xlsx\n",
      "Influencer: motoring_world.xlsx\n",
      "Saved captions to /Users/viru/Documents/MP_I/data/captions_folders/automobile/volvocarsin/motoring_world_captions.xlsx\n",
      "Influencer: poojakaranam.xlsx\n",
      "Saved captions to /Users/viru/Documents/MP_I/data/captions_folders/automobile/volvocarsin/poojakaranam_captions.xlsx\n",
      "Influencer: swedeninindia.xlsx\n",
      "Saved captions to /Users/viru/Documents/MP_I/data/captions_folders/automobile/volvocarsin/swedeninindia_captions.xlsx\n",
      "Influencer: simran_kabra.xlsx\n",
      "Saved captions to /Users/viru/Documents/MP_I/data/captions_folders/automobile/volvocarsin/simran_kabra_captions.xlsx\n",
      "Influencer: loveleen_makeupandhair.xlsx\n",
      "Saved captions to /Users/viru/Documents/MP_I/data/captions_folders/automobile/volvocarsin/loveleen_makeupandhair_captions.xlsx\n",
      "Brand: tatamotorsgroup\n",
      "Influencer: worldskillskazan2019.xlsx\n",
      "Saved captions to /Users/viru/Documents/MP_I/data/captions_folders/automobile/tatamotorsgroup/worldskillskazan2019_captions.xlsx\n",
      "Influencer: aemotorshow.xlsx\n",
      "Saved captions to /Users/viru/Documents/MP_I/data/captions_folders/automobile/tatamotorsgroup/aemotorshow_captions.xlsx\n",
      "Influencer: gaganchopra1.xlsx\n",
      "Saved captions to /Users/viru/Documents/MP_I/data/captions_folders/automobile/tatamotorsgroup/gaganchopra1_captions.xlsx\n",
      "Influencer: tatapowercompanyltd.xlsx\n",
      "Saved captions to /Users/viru/Documents/MP_I/data/captions_folders/automobile/tatamotorsgroup/tatapowercompanyltd_captions.xlsx\n",
      "Influencer: yourshot_india.xlsx\n",
      "Saved captions to /Users/viru/Documents/MP_I/data/captions_folders/automobile/tatamotorsgroup/yourshot_india_captions.xlsx\n",
      "Influencer: cherishexpeditions.xlsx\n",
      "Saved captions to /Users/viru/Documents/MP_I/data/captions_folders/automobile/tatamotorsgroup/cherishexpeditions_captions.xlsx\n",
      "Influencer: bridgestoneindia.xlsx\n",
      "Saved captions to /Users/viru/Documents/MP_I/data/captions_folders/automobile/tatamotorsgroup/bridgestoneindia_captions.xlsx\n",
      "Influencer: tiss.speak.xlsx\n",
      "Saved captions to /Users/viru/Documents/MP_I/data/captions_folders/automobile/tatamotorsgroup/tiss.speak_captions.xlsx\n",
      "Influencer: rachit.hirani.xlsx\n",
      "Saved captions to /Users/viru/Documents/MP_I/data/captions_folders/automobile/tatamotorsgroup/rachit.hirani_captions.xlsx\n",
      "Influencer: ysherstory.xlsx\n",
      "Saved captions to /Users/viru/Documents/MP_I/data/captions_folders/automobile/tatamotorsgroup/ysherstory_captions.xlsx\n",
      "Influencer: rajkaushal.xlsx\n",
      "Saved captions to /Users/viru/Documents/MP_I/data/captions_folders/automobile/tatamotorsgroup/rajkaushal_captions.xlsx\n",
      "Influencer: ficci_india.xlsx\n",
      "Saved captions to /Users/viru/Documents/MP_I/data/captions_folders/automobile/tatamotorsgroup/ficci_india_captions.xlsx\n",
      "Influencer: world_.of_.photographers.xlsx\n",
      "Saved captions to /Users/viru/Documents/MP_I/data/captions_folders/automobile/tatamotorsgroup/world_.of_.photographers_captions.xlsx\n",
      "Influencer: dharnidh.xlsx\n",
      "Saved captions to /Users/viru/Documents/MP_I/data/captions_folders/automobile/tatamotorsgroup/dharnidh_captions.xlsx\n",
      "Influencer: renukakirpalani.xlsx\n",
      "Saved captions to /Users/viru/Documents/MP_I/data/captions_folders/automobile/tatamotorsgroup/renukakirpalani_captions.xlsx\n",
      "Influencer: photographers_hub_india.xlsx\n",
      "Saved captions to /Users/viru/Documents/MP_I/data/captions_folders/automobile/tatamotorsgroup/photographers_hub_india_captions.xlsx\n",
      "Influencer: iit_gandhinagar.xlsx\n",
      "Saved captions to /Users/viru/Documents/MP_I/data/captions_folders/automobile/tatamotorsgroup/iit_gandhinagar_captions.xlsx\n",
      "Influencer: streets.of.maharashtra.xlsx\n",
      "Saved captions to /Users/viru/Documents/MP_I/data/captions_folders/automobile/tatamotorsgroup/streets.of.maharashtra_captions.xlsx\n",
      "Brand: audiin\n",
      "Influencer: raashotels.xlsx\n",
      "Saved captions to /Users/viru/Documents/MP_I/data/captions_folders/automobile/audiin/raashotels_captions.xlsx\n",
      "Influencer: mitchgilbertracing.xlsx\n",
      "Saved captions to /Users/viru/Documents/MP_I/data/captions_folders/automobile/audiin/mitchgilbertracing_captions.xlsx\n",
      "Influencer: zohacastelino.xlsx\n",
      "Saved captions to /Users/viru/Documents/MP_I/data/captions_folders/automobile/audiin/zohacastelino_captions.xlsx\n",
      "Influencer: divyagursahani.xlsx\n",
      "Saved captions to /Users/viru/Documents/MP_I/data/captions_folders/automobile/audiin/divyagursahani_captions.xlsx\n",
      "Influencer: whatesh.xlsx\n",
      "Saved captions to /Users/viru/Documents/MP_I/data/captions_folders/automobile/audiin/whatesh_captions.xlsx\n",
      "Influencer: auditradition.xlsx\n",
      "Saved captions to /Users/viru/Documents/MP_I/data/captions_folders/automobile/audiin/auditradition_captions.xlsx\n",
      "Influencer: lucas74cruz.xlsx\n",
      "Saved captions to /Users/viru/Documents/MP_I/data/captions_folders/automobile/audiin/lucas74cruz_captions.xlsx\n",
      "Influencer: vivedawellnessvillage.xlsx\n",
      "Saved captions to /Users/viru/Documents/MP_I/data/captions_folders/automobile/audiin/vivedawellnessvillage_captions.xlsx\n",
      "Influencer: benoittreluyer.xlsx\n",
      "Saved captions to /Users/viru/Documents/MP_I/data/captions_folders/automobile/audiin/benoittreluyer_captions.xlsx\n",
      "Influencer: therajmahalpalace.xlsx\n",
      "Saved captions to /Users/viru/Documents/MP_I/data/captions_folders/automobile/audiin/therajmahalpalace_captions.xlsx\n",
      "Influencer: globalspaindia.xlsx\n",
      "Saved captions to /Users/viru/Documents/MP_I/data/captions_folders/automobile/audiin/globalspaindia_captions.xlsx\n",
      "Brand: nissan_india\n",
      "Influencer: sidpatankar.xlsx\n",
      "Saved captions to /Users/viru/Documents/MP_I/data/captions_folders/automobile/nissan_india/sidpatankar_captions.xlsx\n",
      "Influencer: apollotyresltd.xlsx\n",
      "Saved captions to /Users/viru/Documents/MP_I/data/captions_folders/automobile/nissan_india/apollotyresltd_captions.xlsx\n",
      "Influencer: surajit_saha_photography.xlsx\n",
      "Saved captions to /Users/viru/Documents/MP_I/data/captions_folders/automobile/nissan_india/surajit_saha_photography_captions.xlsx\n",
      "Influencer: streets.of.delhi.xlsx\n",
      "Saved captions to /Users/viru/Documents/MP_I/data/captions_folders/automobile/nissan_india/streets.of.delhi_captions.xlsx\n",
      "Influencer: vanshita_vashishtha.xlsx\n",
      "Saved captions to /Users/viru/Documents/MP_I/data/captions_folders/automobile/nissan_india/vanshita_vashishtha_captions.xlsx\n",
      "Influencer: himachal_pradesh_tourism.xlsx\n",
      "Saved captions to /Users/viru/Documents/MP_I/data/captions_folders/automobile/nissan_india/himachal_pradesh_tourism_captions.xlsx\n",
      "Influencer: flywheel_official.xlsx\n",
      "Saved captions to /Users/viru/Documents/MP_I/data/captions_folders/automobile/nissan_india/flywheel_official_captions.xlsx\n",
      "Influencer: hercules_sharma.xlsx\n",
      "Saved captions to /Users/viru/Documents/MP_I/data/captions_folders/automobile/nissan_india/hercules_sharma_captions.xlsx\n",
      "Influencer: car_photos_official.xlsx\n",
      "Saved captions to /Users/viru/Documents/MP_I/data/captions_folders/automobile/nissan_india/car_photos_official_captions.xlsx\n",
      "Influencer: nissanitaly.xlsx\n",
      "Saved captions to /Users/viru/Documents/MP_I/data/captions_folders/automobile/nissan_india/nissanitaly_captions.xlsx\n",
      "Influencer: vekkey.xlsx\n",
      "Saved captions to /Users/viru/Documents/MP_I/data/captions_folders/automobile/nissan_india/vekkey_captions.xlsx\n",
      "Influencer: wander_leen.xlsx\n",
      "Saved captions to /Users/viru/Documents/MP_I/data/captions_folders/automobile/nissan_india/wander_leen_captions.xlsx\n",
      "Influencer: timssyvats.xlsx\n",
      "Saved captions to /Users/viru/Documents/MP_I/data/captions_folders/automobile/nissan_india/timssyvats_captions.xlsx\n",
      "Influencer: indianphotographyhub.xlsx\n",
      "Saved captions to /Users/viru/Documents/MP_I/data/captions_folders/automobile/nissan_india/indianphotographyhub_captions.xlsx\n",
      "Influencer: oliverrowland1.xlsx\n",
      "Saved captions to /Users/viru/Documents/MP_I/data/captions_folders/automobile/nissan_india/oliverrowland1_captions.xlsx\n",
      "Influencer: dailyhimachal.xlsx\n",
      "Saved captions to /Users/viru/Documents/MP_I/data/captions_folders/automobile/nissan_india/dailyhimachal_captions.xlsx\n",
      "Influencer: sachafenestraz.xlsx\n",
      "Saved captions to /Users/viru/Documents/MP_I/data/captions_folders/automobile/nissan_india/sachafenestraz_captions.xlsx\n",
      "Influencer: indiabikeweek.xlsx\n",
      "Saved captions to /Users/viru/Documents/MP_I/data/captions_folders/automobile/nissan_india/indiabikeweek_captions.xlsx\n",
      "Influencer: kunalrawaldstress.xlsx\n",
      "Saved captions to /Users/viru/Documents/MP_I/data/captions_folders/automobile/nissan_india/kunalrawaldstress_captions.xlsx\n",
      "Influencer: afaqsdotcom.xlsx\n",
      "Saved captions to /Users/viru/Documents/MP_I/data/captions_folders/automobile/nissan_india/afaqsdotcom_captions.xlsx\n",
      "Brand: hyundaiindia\n",
      "Influencer: sunita_rajwar.xlsx\n",
      "Saved captions to /Users/viru/Documents/MP_I/data/captions_folders/automobile/hyundaiindia/sunita_rajwar_captions.xlsx\n",
      "Influencer: shankuraj_konwarmusical.xlsx\n",
      "Saved captions to /Users/viru/Documents/MP_I/data/captions_folders/automobile/hyundaiindia/shankuraj_konwarmusical_captions.xlsx\n",
      "Influencer: pardeep_kumar11.xlsx\n",
      "Saved captions to /Users/viru/Documents/MP_I/data/captions_folders/automobile/hyundaiindia/pardeep_kumar11_captions.xlsx\n",
      "Influencer: ritambhatnagar.xlsx\n",
      "Saved captions to /Users/viru/Documents/MP_I/data/captions_folders/automobile/hyundaiindia/ritambhatnagar_captions.xlsx\n",
      "Influencer: mizoram_tourism.xlsx\n",
      "Saved captions to /Users/viru/Documents/MP_I/data/captions_folders/automobile/hyundaiindia/mizoram_tourism_captions.xlsx\n",
      "Influencer: awaaraphotographer.xlsx\n",
      "Saved captions to /Users/viru/Documents/MP_I/data/captions_folders/automobile/hyundaiindia/awaaraphotographer_captions.xlsx\n",
      "Influencer: vaibhavrajgupta.xlsx\n",
      "Saved captions to /Users/viru/Documents/MP_I/data/captions_folders/automobile/hyundaiindia/vaibhavrajgupta_captions.xlsx\n",
      "Influencer: labelnityabajaj.xlsx\n",
      "Saved captions to /Users/viru/Documents/MP_I/data/captions_folders/automobile/hyundaiindia/labelnityabajaj_captions.xlsx\n",
      "Influencer: aline_krauter.xlsx\n",
      "Saved captions to /Users/viru/Documents/MP_I/data/captions_folders/automobile/hyundaiindia/aline_krauter_captions.xlsx\n",
      "Influencer: harrysphotographyofficial.xlsx\n",
      "Saved captions to /Users/viru/Documents/MP_I/data/captions_folders/automobile/hyundaiindia/harrysphotographyofficial_captions.xlsx\n",
      "Influencer: theenigmaticdrummer.xlsx\n",
      "Saved captions to /Users/viru/Documents/MP_I/data/captions_folders/automobile/hyundaiindia/theenigmaticdrummer_captions.xlsx\n",
      "Influencer: prateek.mahesh.xlsx\n",
      "Saved captions to /Users/viru/Documents/MP_I/data/captions_folders/automobile/hyundaiindia/prateek.mahesh_captions.xlsx\n",
      "Brand: yamahamotorindia\n",
      "Influencer: apollotyresltd.xlsx\n",
      "Saved captions to /Users/viru/Documents/MP_I/data/captions_folders/automobile/yamahamotorindia/apollotyresltd_captions.xlsx\n",
      "Influencer: jithin.pj.xlsx\n",
      "Saved captions to /Users/viru/Documents/MP_I/data/captions_folders/automobile/yamahamotorindia/jithin.pj_captions.xlsx\n",
      "Influencer: yamahafascino.xlsx\n",
      "Saved captions to /Users/viru/Documents/MP_I/data/captions_folders/automobile/yamahamotorindia/yamahafascino_captions.xlsx\n",
      "Influencer: dishtv.india.xlsx\n",
      "Saved captions to /Users/viru/Documents/MP_I/data/captions_folders/automobile/yamahamotorindia/dishtv.india_captions.xlsx\n",
      "Influencer: saigaparts.xlsx\n",
      "Saved captions to /Users/viru/Documents/MP_I/data/captions_folders/automobile/yamahamotorindia/saigaparts_captions.xlsx\n",
      "Influencer: __the_revmatcher.xlsx\n",
      "Saved captions to /Users/viru/Documents/MP_I/data/captions_folders/automobile/yamahamotorindia/__the_revmatcher_captions.xlsx\n",
      "Influencer: bunnypunia.xlsx\n",
      "Saved captions to /Users/viru/Documents/MP_I/data/captions_folders/automobile/yamahamotorindia/bunnypunia_captions.xlsx\n",
      "Influencer: sexymojito.xlsx\n",
      "Saved captions to /Users/viru/Documents/MP_I/data/captions_folders/automobile/yamahamotorindia/sexymojito_captions.xlsx\n",
      "Influencer: bikedekho.xlsx\n",
      "Saved captions to /Users/viru/Documents/MP_I/data/captions_folders/automobile/yamahamotorindia/bikedekho_captions.xlsx\n",
      "Influencer: wroom_with_kiran_sachin.xlsx\n",
      "Saved captions to /Users/viru/Documents/MP_I/data/captions_folders/automobile/yamahamotorindia/wroom_with_kiran_sachin_captions.xlsx\n",
      "Influencer: jdcustomco.xlsx\n",
      "Saved captions to /Users/viru/Documents/MP_I/data/captions_folders/automobile/yamahamotorindia/jdcustomco_captions.xlsx\n",
      "Influencer: eimorcustoms.xlsx\n",
      "Saved captions to /Users/viru/Documents/MP_I/data/captions_folders/automobile/yamahamotorindia/eimorcustoms_captions.xlsx\n",
      "Influencer: pratik_deshmukh_photography.xlsx\n",
      "Saved captions to /Users/viru/Documents/MP_I/data/captions_folders/automobile/yamahamotorindia/pratik_deshmukh_photography_captions.xlsx\n",
      "Influencer: envyfrench.xlsx\n",
      "Saved captions to /Users/viru/Documents/MP_I/data/captions_folders/automobile/yamahamotorindia/envyfrench_captions.xlsx\n",
      "Influencer: autodromodoalgarve.xlsx\n",
      "Saved captions to /Users/viru/Documents/MP_I/data/captions_folders/automobile/yamahamotorindia/autodromodoalgarve_captions.xlsx\n",
      "Influencer: wroomstore.xlsx\n",
      "Saved captions to /Users/viru/Documents/MP_I/data/captions_folders/automobile/yamahamotorindia/wroomstore_captions.xlsx\n",
      "Influencer: abin_designs_511.xlsx\n",
      "Saved captions to /Users/viru/Documents/MP_I/data/captions_folders/automobile/yamahamotorindia/abin_designs_511_captions.xlsx\n",
      "Influencer: therelispray.xlsx\n",
      "Saved captions to /Users/viru/Documents/MP_I/data/captions_folders/automobile/yamahamotorindia/therelispray_captions.xlsx\n",
      "Influencer: roshni_sheoran_.xlsx\n",
      "Saved captions to /Users/viru/Documents/MP_I/data/captions_folders/automobile/yamahamotorindia/roshni_sheoran__captions.xlsx\n",
      "Influencer: domeindia.xlsx\n",
      "Saved captions to /Users/viru/Documents/MP_I/data/captions_folders/automobile/yamahamotorindia/domeindia_captions.xlsx\n",
      "Brand: olaelectric\n",
      "Influencer: sistersinsweat.in.xlsx\n",
      "Saved captions to /Users/viru/Documents/MP_I/data/captions_folders/automobile/olaelectric/sistersinsweat.in_captions.xlsx\n",
      "Influencer: the_sidhdharth.xlsx\n",
      "Saved captions to /Users/viru/Documents/MP_I/data/captions_folders/automobile/olaelectric/the_sidhdharth_captions.xlsx\n",
      "Influencer: bhavishaggarwal.xlsx\n",
      "Saved captions to /Users/viru/Documents/MP_I/data/captions_folders/automobile/olaelectric/bhavishaggarwal_captions.xlsx\n",
      "Influencer: void_throb.xlsx\n",
      "Saved captions to /Users/viru/Documents/MP_I/data/captions_folders/automobile/olaelectric/void_throb_captions.xlsx\n",
      "Influencer: missmotoholic.xlsx\n",
      "Saved captions to /Users/viru/Documents/MP_I/data/captions_folders/automobile/olaelectric/missmotoholic_captions.xlsx\n",
      "Influencer: poohsdiaries.xlsx\n",
      "Saved captions to /Users/viru/Documents/MP_I/data/captions_folders/automobile/olaelectric/poohsdiaries_captions.xlsx\n",
      "Influencer: dev.venkatesh.xlsx\n",
      "Saved captions to /Users/viru/Documents/MP_I/data/captions_folders/automobile/olaelectric/dev.venkatesh_captions.xlsx\n",
      "Influencer: fitrapper.xlsx\n",
      "Saved captions to /Users/viru/Documents/MP_I/data/captions_folders/automobile/olaelectric/fitrapper_captions.xlsx\n",
      "Influencer: anamhashim21.xlsx\n",
      "Saved captions to /Users/viru/Documents/MP_I/data/captions_folders/automobile/olaelectric/anamhashim21_captions.xlsx\n",
      "Influencer: zoheb_zuzu.xlsx\n",
      "Saved captions to /Users/viru/Documents/MP_I/data/captions_folders/automobile/olaelectric/zoheb_zuzu_captions.xlsx\n",
      "Category: beverages\n",
      "Brand: greaterthangin\n",
      "Influencer: jimmyscocktails.xlsx\n",
      "Saved captions to /Users/viru/Documents/MP_I/data/captions_folders/beverages/greaterthangin/jimmyscocktails_captions.xlsx\n",
      "Influencer: aravaniartproject.xlsx\n",
      "Saved captions to /Users/viru/Documents/MP_I/data/captions_folders/beverages/greaterthangin/aravaniartproject_captions.xlsx\n",
      "Influencer: skillboxofficial.xlsx\n",
      "Saved captions to /Users/viru/Documents/MP_I/data/captions_folders/beverages/greaterthangin/skillboxofficial_captions.xlsx\n",
      "Influencer: thewisekinghk.xlsx\n",
      "Saved captions to /Users/viru/Documents/MP_I/data/captions_folders/beverages/greaterthangin/thewisekinghk_captions.xlsx\n",
      "Influencer: bawaribasanti.xlsx\n",
      "Saved captions to /Users/viru/Documents/MP_I/data/captions_folders/beverages/greaterthangin/bawaribasanti_captions.xlsx\n",
      "Influencer: greaterthangin.xlsx\n",
      "Saved captions to /Users/viru/Documents/MP_I/data/captions_folders/beverages/greaterthangin/greaterthangin_captions.xlsx\n",
      "Influencer: originonestore.xlsx\n",
      "Saved captions to /Users/viru/Documents/MP_I/data/captions_folders/beverages/greaterthangin/originonestore_captions.xlsx\n",
      "Influencer: sbowindia.xlsx\n",
      "Saved captions to /Users/viru/Documents/MP_I/data/captions_folders/beverages/greaterthangin/sbowindia_captions.xlsx\n",
      "Influencer: tippling_butterfly.xlsx\n",
      "Saved captions to /Users/viru/Documents/MP_I/data/captions_folders/beverages/greaterthangin/tippling_butterfly_captions.xlsx\n",
      "Influencer: junipalooza.xlsx\n",
      "Saved captions to /Users/viru/Documents/MP_I/data/captions_folders/beverages/greaterthangin/junipalooza_captions.xlsx\n",
      "Influencer: ritzcarlton.bangalore.xlsx\n",
      "Saved captions to /Users/viru/Documents/MP_I/data/captions_folders/beverages/greaterthangin/ritzcarlton.bangalore_captions.xlsx\n",
      "Brand: tropicanaindia\n",
      "Influencer: rollinggrace.xlsx\n",
      "Saved captions to /Users/viru/Documents/MP_I/data/captions_folders/beverages/tropicanaindia/rollinggrace_captions.xlsx\n",
      "Influencer: thelawfoodie.xlsx\n",
      "Saved captions to /Users/viru/Documents/MP_I/data/captions_folders/beverages/tropicanaindia/thelawfoodie_captions.xlsx\n",
      "Influencer: delhiexplorer.xlsx\n",
      "Saved captions to /Users/viru/Documents/MP_I/data/captions_folders/beverages/tropicanaindia/delhiexplorer_captions.xlsx\n",
      "Influencer: gluttonygoddess.xlsx\n",
      "Saved captions to /Users/viru/Documents/MP_I/data/captions_folders/beverages/tropicanaindia/gluttonygoddess_captions.xlsx\n",
      "Influencer: amritaoflife.xlsx\n",
      "Saved captions to /Users/viru/Documents/MP_I/data/captions_folders/beverages/tropicanaindia/amritaoflife_captions.xlsx\n",
      "Influencer: ticklingpalates.xlsx\n",
      "Saved captions to /Users/viru/Documents/MP_I/data/captions_folders/beverages/tropicanaindia/ticklingpalates_captions.xlsx\n",
      "Influencer: nonchalantgourmand.xlsx\n",
      "Saved captions to /Users/viru/Documents/MP_I/data/captions_folders/beverages/tropicanaindia/nonchalantgourmand_captions.xlsx\n",
      "Influencer: india_tourism_.xlsx\n",
      "Saved captions to /Users/viru/Documents/MP_I/data/captions_folders/beverages/tropicanaindia/india_tourism__captions.xlsx\n",
      "Influencer: top.tags.xlsx\n",
      "Saved captions to /Users/viru/Documents/MP_I/data/captions_folders/beverages/tropicanaindia/top.tags_captions.xlsx\n",
      "Influencer: goopsguji.xlsx\n",
      "Saved captions to /Users/viru/Documents/MP_I/data/captions_folders/beverages/tropicanaindia/goopsguji_captions.xlsx\n",
      "Influencer: etpanache.xlsx\n",
      "Saved captions to /Users/viru/Documents/MP_I/data/captions_folders/beverages/tropicanaindia/etpanache_captions.xlsx\n",
      "Influencer: indianphotographersclub.xlsx\n",
      "Saved captions to /Users/viru/Documents/MP_I/data/captions_folders/beverages/tropicanaindia/indianphotographersclub_captions.xlsx\n",
      "Brand: cocacola\n",
      "Influencer: dr.aparna2810.xlsx\n",
      "Saved captions to /Users/viru/Documents/MP_I/data/captions_folders/beverages/cocacola/dr.aparna2810_captions.xlsx\n",
      "Influencer: ankurtewari.xlsx\n",
      "Saved captions to /Users/viru/Documents/MP_I/data/captions_folders/beverages/cocacola/ankurtewari_captions.xlsx\n",
      "Influencer: shnoy09.xlsx\n",
      "Saved captions to /Users/viru/Documents/MP_I/data/captions_folders/beverages/cocacola/shnoy09_captions.xlsx\n",
      "Influencer: arkomukhaerjeeoriginal.xlsx\n",
      "Saved captions to /Users/viru/Documents/MP_I/data/captions_folders/beverages/cocacola/arkomukhaerjeeoriginal_captions.xlsx\n",
      "Influencer: theyellowdiary.xlsx\n",
      "Saved captions to /Users/viru/Documents/MP_I/data/captions_folders/beverages/cocacola/theyellowdiary_captions.xlsx\n",
      "Influencer: issaandassouad.xlsx\n",
      "Saved captions to /Users/viru/Documents/MP_I/data/captions_folders/beverages/cocacola/issaandassouad_captions.xlsx\n",
      "Influencer: lbb.hyderabad.xlsx\n",
      "Saved captions to /Users/viru/Documents/MP_I/data/captions_folders/beverages/cocacola/lbb.hyderabad_captions.xlsx\n",
      "Influencer: shillongchamberchoir.xlsx\n",
      "Saved captions to /Users/viru/Documents/MP_I/data/captions_folders/beverages/cocacola/shillongchamberchoir_captions.xlsx\n",
      "Influencer: burrahmusic.xlsx\n",
      "Saved captions to /Users/viru/Documents/MP_I/data/captions_folders/beverages/cocacola/burrahmusic_captions.xlsx\n",
      "Influencer: sumanguptaofficial.xlsx\n",
      "Saved captions to /Users/viru/Documents/MP_I/data/captions_folders/beverages/cocacola/sumanguptaofficial_captions.xlsx\n",
      "Influencer: therashmivirag.xlsx\n",
      "Saved captions to /Users/viru/Documents/MP_I/data/captions_folders/beverages/cocacola/therashmivirag_captions.xlsx\n",
      "Influencer: oshojain_.xlsx\n",
      "Saved captions to /Users/viru/Documents/MP_I/data/captions_folders/beverages/cocacola/oshojain__captions.xlsx\n",
      "Brand: kingfisherultra\n",
      "Influencer: realsureal.xlsx\n",
      "Saved captions to /Users/viru/Documents/MP_I/data/captions_folders/beverages/kingfisherultra/realsureal_captions.xlsx\n",
      "Influencer: nariki__.xlsx\n",
      "Saved captions to /Users/viru/Documents/MP_I/data/captions_folders/beverages/kingfisherultra/nariki___captions.xlsx\n",
      "Influencer: thekairoom.xlsx\n",
      "Saved captions to /Users/viru/Documents/MP_I/data/captions_folders/beverages/kingfisherultra/thekairoom_captions.xlsx\n",
      "Influencer: sage_ozo.xlsx\n",
      "Saved captions to /Users/viru/Documents/MP_I/data/captions_folders/beverages/kingfisherultra/sage_ozo_captions.xlsx\n",
      "Influencer: skillboxofficial.xlsx\n",
      "Saved captions to /Users/viru/Documents/MP_I/data/captions_folders/beverages/kingfisherultra/skillboxofficial_captions.xlsx\n",
      "Influencer: bird.scapes.xlsx\n",
      "Saved captions to /Users/viru/Documents/MP_I/data/captions_folders/beverages/kingfisherultra/bird.scapes_captions.xlsx\n",
      "Influencer: nashjrofficial.xlsx\n",
      "Saved captions to /Users/viru/Documents/MP_I/data/captions_folders/beverages/kingfisherultra/nashjrofficial_captions.xlsx\n",
      "Influencer: dewikofficial.xlsx\n",
      "Saved captions to /Users/viru/Documents/MP_I/data/captions_folders/beverages/kingfisherultra/dewikofficial_captions.xlsx\n",
      "Influencer: og.shez.xlsx\n",
      "Saved captions to /Users/viru/Documents/MP_I/data/captions_folders/beverages/kingfisherultra/og.shez_captions.xlsx\n",
      "Influencer: summerhouse_delhi.xlsx\n",
      "Saved captions to /Users/viru/Documents/MP_I/data/captions_folders/beverages/kingfisherultra/summerhouse_delhi_captions.xlsx\n",
      "Influencer: benkiibeku.xlsx\n",
      "Saved captions to /Users/viru/Documents/MP_I/data/captions_folders/beverages/kingfisherultra/benkiibeku_captions.xlsx\n",
      "Influencer: kashish_kollision.xlsx\n",
      "Saved captions to /Users/viru/Documents/MP_I/data/captions_folders/beverages/kingfisherultra/kashish_kollision_captions.xlsx\n",
      "Brand: amrutmalt\n",
      "Influencer: whisky_yyc.xlsx\n",
      "Saved captions to /Users/viru/Documents/MP_I/data/captions_folders/beverages/amrutmalt/whisky_yyc_captions.xlsx\n",
      "Influencer: maison_du_whisky_singapore.xlsx\n",
      "Saved captions to /Users/viru/Documents/MP_I/data/captions_folders/beverages/amrutmalt/maison_du_whisky_singapore_captions.xlsx\n",
      "Influencer: nikkawhiskyeu.xlsx\n",
      "Saved captions to /Users/viru/Documents/MP_I/data/captions_folders/beverages/amrutmalt/nikkawhiskyeu_captions.xlsx\n",
      "Influencer: karlkolah.xlsx\n",
      "Saved captions to /Users/viru/Documents/MP_I/data/captions_folders/beverages/amrutmalt/karlkolah_captions.xlsx\n",
      "Influencer: exodrinks.xlsx\n",
      "Saved captions to /Users/viru/Documents/MP_I/data/captions_folders/beverages/amrutmalt/exodrinks_captions.xlsx\n",
      "Influencer: blrairport.xlsx\n",
      "Saved captions to /Users/viru/Documents/MP_I/data/captions_folders/beverages/amrutmalt/blrairport_captions.xlsx\n",
      "Influencer: drinkdistiller.xlsx\n",
      "Saved captions to /Users/viru/Documents/MP_I/data/captions_folders/beverages/amrutmalt/drinkdistiller_captions.xlsx\n",
      "Influencer: whiskeyfellow.xlsx\n",
      "Saved captions to /Users/viru/Documents/MP_I/data/captions_folders/beverages/amrutmalt/whiskeyfellow_captions.xlsx\n",
      "Influencer: dramvoyager.xlsx\n",
      "Saved captions to /Users/viru/Documents/MP_I/data/captions_folders/beverages/amrutmalt/dramvoyager_captions.xlsx\n",
      "Influencer: kirsch_whisky.xlsx\n",
      "Saved captions to /Users/viru/Documents/MP_I/data/captions_folders/beverages/amrutmalt/kirsch_whisky_captions.xlsx\n",
      "Influencer: helmutthepug.xlsx\n",
      "Saved captions to /Users/viru/Documents/MP_I/data/captions_folders/beverages/amrutmalt/helmutthepug_captions.xlsx\n",
      "Influencer: top.tags.xlsx\n",
      "Saved captions to /Users/viru/Documents/MP_I/data/captions_folders/beverages/amrutmalt/top.tags_captions.xlsx\n",
      "Influencer: whisky.de.xlsx\n",
      "Saved captions to /Users/viru/Documents/MP_I/data/captions_folders/beverages/amrutmalt/whisky.de_captions.xlsx\n",
      "Influencer: kyandkey.xlsx\n",
      "Saved captions to /Users/viru/Documents/MP_I/data/captions_folders/beverages/amrutmalt/kyandkey_captions.xlsx\n",
      "Brand: redbullindia\n",
      "Influencer: jumpingsoulsofficial.xlsx\n",
      "Saved captions to /Users/viru/Documents/MP_I/data/captions_folders/beverages/redbullindia/jumpingsoulsofficial_captions.xlsx\n",
      "Influencer: womenscriczone.xlsx\n",
      "Saved captions to /Users/viru/Documents/MP_I/data/captions_folders/beverages/redbullindia/womenscriczone_captions.xlsx\n",
      "Influencer: shyamolie.parikh.xlsx\n",
      "Saved captions to /Users/viru/Documents/MP_I/data/captions_folders/beverages/redbullindia/shyamolie.parikh_captions.xlsx\n",
      "Influencer: glowaczstefan.xlsx\n",
      "Saved captions to /Users/viru/Documents/MP_I/data/captions_folders/beverages/redbullindia/glowaczstefan_captions.xlsx\n",
      "Influencer: mansouralsafran.xlsx\n",
      "Saved captions to /Users/viru/Documents/MP_I/data/captions_folders/beverages/redbullindia/mansouralsafran_captions.xlsx\n",
      "Influencer: mojojojomusic.xlsx\n",
      "Saved captions to /Users/viru/Documents/MP_I/data/captions_folders/beverages/redbullindia/mojojojomusic_captions.xlsx\n",
      "Influencer: lorenzholder.xlsx\n",
      "Saved captions to /Users/viru/Documents/MP_I/data/captions_folders/beverages/redbullindia/lorenzholder_captions.xlsx\n",
      "Influencer: cyril_despres.xlsx\n",
      "Saved captions to /Users/viru/Documents/MP_I/data/captions_folders/beverages/redbullindia/cyril_despres_captions.xlsx\n",
      "Influencer: mooz.one.xlsx\n",
      "Saved captions to /Users/viru/Documents/MP_I/data/captions_folders/beverages/redbullindia/mooz.one_captions.xlsx\n",
      "Influencer: angyil.xlsx\n",
      "Saved captions to /Users/viru/Documents/MP_I/data/captions_folders/beverages/redbullindia/angyil_captions.xlsx\n",
      "Influencer: nikakramer.xlsx\n",
      "Saved captions to /Users/viru/Documents/MP_I/data/captions_folders/beverages/redbullindia/nikakramer_captions.xlsx\n",
      "Influencer: maximiliano_blanco.xlsx\n",
      "Saved captions to /Users/viru/Documents/MP_I/data/captions_folders/beverages/redbullindia/maximiliano_blanco_captions.xlsx\n",
      "Brand: pepsiindia\n",
      "Influencer: allyoucanstreet_.xlsx\n",
      "Saved captions to /Users/viru/Documents/MP_I/data/captions_folders/beverages/pepsiindia/allyoucanstreet__captions.xlsx\n",
      "Influencer: jumptradenft.xlsx\n",
      "Saved captions to /Users/viru/Documents/MP_I/data/captions_folders/beverages/pepsiindia/jumptradenft_captions.xlsx\n",
      "Influencer: ayushibedi.xlsx\n",
      "Saved captions to /Users/viru/Documents/MP_I/data/captions_folders/beverages/pepsiindia/ayushibedi_captions.xlsx\n",
      "Influencer: _huemn.xlsx\n",
      "Saved captions to /Users/viru/Documents/MP_I/data/captions_folders/beverages/pepsiindia/_huemn_captions.xlsx\n",
      "Influencer: ananyaberaofficial.xlsx\n",
      "Saved captions to /Users/viru/Documents/MP_I/data/captions_folders/beverages/pepsiindia/ananyaberaofficial_captions.xlsx\n",
      "Influencer: alex_badad.xlsx\n",
      "Saved captions to /Users/viru/Documents/MP_I/data/captions_folders/beverages/pepsiindia/alex_badad_captions.xlsx\n",
      "Influencer: sincerelyravs.xlsx\n",
      "Saved captions to /Users/viru/Documents/MP_I/data/captions_folders/beverages/pepsiindia/sincerelyravs_captions.xlsx\n",
      "Influencer: samarthswarup.xlsx\n",
      "Saved captions to /Users/viru/Documents/MP_I/data/captions_folders/beverages/pepsiindia/samarthswarup_captions.xlsx\n",
      "Influencer: arshii.xlsx\n",
      "Saved captions to /Users/viru/Documents/MP_I/data/captions_folders/beverages/pepsiindia/arshii_captions.xlsx\n",
      "Influencer: shaandaar_jenie.xlsx\n",
      "Saved captions to /Users/viru/Documents/MP_I/data/captions_folders/beverages/pepsiindia/shaandaar_jenie_captions.xlsx\n",
      "Influencer: vayurus.xlsx\n",
      "Saved captions to /Users/viru/Documents/MP_I/data/captions_folders/beverages/pepsiindia/vayurus_captions.xlsx\n",
      "Influencer: sweetannu.xlsx\n",
      "Saved captions to /Users/viru/Documents/MP_I/data/captions_folders/beverages/pepsiindia/sweetannu_captions.xlsx\n",
      "Influencer: nrai_india.xlsx\n",
      "Saved captions to /Users/viru/Documents/MP_I/data/captions_folders/beverages/pepsiindia/nrai_india_captions.xlsx\n",
      "Influencer: onedigitalentertainment.xlsx\n",
      "Saved captions to /Users/viru/Documents/MP_I/data/captions_folders/beverages/pepsiindia/onedigitalentertainment_captions.xlsx\n",
      "Influencer: abhishekgandhii (1).xlsx\n",
      "Saved captions to /Users/viru/Documents/MP_I/data/captions_folders/beverages/pepsiindia/abhishekgandhii (1)_captions.xlsx\n",
      "Influencer: anshshree.xlsx\n",
      "Saved captions to /Users/viru/Documents/MP_I/data/captions_folders/beverages/pepsiindia/anshshree_captions.xlsx\n",
      "Influencer: delhiwale.xlsx\n",
      "Saved captions to /Users/viru/Documents/MP_I/data/captions_folders/beverages/pepsiindia/delhiwale_captions.xlsx\n",
      "Influencer: aersh.xlsx\n",
      "Saved captions to /Users/viru/Documents/MP_I/data/captions_folders/beverages/pepsiindia/aersh_captions.xlsx\n",
      "Influencer: iamknoxartiste.xlsx\n",
      "Saved captions to /Users/viru/Documents/MP_I/data/captions_folders/beverages/pepsiindia/iamknoxartiste_captions.xlsx\n",
      "Influencer: makeoversbydrashtidani.xlsx\n",
      "Saved captions to /Users/viru/Documents/MP_I/data/captions_folders/beverages/pepsiindia/makeoversbydrashtidani_captions.xlsx\n",
      "Brand: sosyoworld\n",
      "Influencer: _baawri_.xlsx\n",
      "Saved captions to /Users/viru/Documents/MP_I/data/captions_folders/beverages/sosyoworld/_baawri__captions.xlsx\n",
      "Influencer: really.neha.xlsx\n",
      "Saved captions to /Users/viru/Documents/MP_I/data/captions_folders/beverages/sosyoworld/really.neha_captions.xlsx\n",
      "Influencer: bigbash_sports.xlsx\n",
      "Saved captions to /Users/viru/Documents/MP_I/data/captions_folders/beverages/sosyoworld/bigbash_sports_captions.xlsx\n",
      "Influencer: rebounce.in.xlsx\n",
      "Saved captions to /Users/viru/Documents/MP_I/data/captions_folders/beverages/sosyoworld/rebounce.in_captions.xlsx\n",
      "Influencer: hermyne.in.xlsx\n",
      "Saved captions to /Users/viru/Documents/MP_I/data/captions_folders/beverages/sosyoworld/hermyne.in_captions.xlsx\n",
      "Influencer: happyminds.inc.xlsx\n",
      "Saved captions to /Users/viru/Documents/MP_I/data/captions_folders/beverages/sosyoworld/happyminds.inc_captions.xlsx\n",
      "Influencer: sstwarningcrew_officia_.xlsx\n",
      "Saved captions to /Users/viru/Documents/MP_I/data/captions_folders/beverages/sosyoworld/sstwarningcrew_officia__captions.xlsx\n",
      "Influencer: avanisoni18.xlsx\n",
      "Saved captions to /Users/viru/Documents/MP_I/data/captions_folders/beverages/sosyoworld/avanisoni18_captions.xlsx\n",
      "Influencer: ajaypillai_official.xlsx\n",
      "Saved captions to /Users/viru/Documents/MP_I/data/captions_folders/beverages/sosyoworld/ajaypillai_official_captions.xlsx\n",
      "Influencer: ojasrawal.xlsx\n",
      "Saved captions to /Users/viru/Documents/MP_I/data/captions_folders/beverages/sosyoworld/ojasrawal_captions.xlsx\n",
      "Influencer: foramjoshiroy.rohan.xlsx\n",
      "Saved captions to /Users/viru/Documents/MP_I/data/captions_folders/beverages/sosyoworld/foramjoshiroy.rohan_captions.xlsx\n",
      "Influencer: barbiesbakeboutique.xlsx\n",
      "Saved captions to /Users/viru/Documents/MP_I/data/captions_folders/beverages/sosyoworld/barbiesbakeboutique_captions.xlsx\n",
      "Brand: keventers\n",
      "Influencer: shopaholicpals.xlsx\n",
      "Saved captions to /Users/viru/Documents/MP_I/data/captions_folders/beverages/keventers/shopaholicpals_captions.xlsx\n",
      "Influencer: getsavage.xlsx\n",
      "Saved captions to /Users/viru/Documents/MP_I/data/captions_folders/beverages/keventers/getsavage_captions.xlsx\n",
      "Influencer: riyaa_murao.xlsx\n",
      "Saved captions to /Users/viru/Documents/MP_I/data/captions_folders/beverages/keventers/riyaa_murao_captions.xlsx\n",
      "Influencer: mayankbigdelhifoodie.xlsx\n",
      "Saved captions to /Users/viru/Documents/MP_I/data/captions_folders/beverages/keventers/mayankbigdelhifoodie_captions.xlsx\n",
      "Influencer: gluttonygoddess.xlsx\n",
      "Saved captions to /Users/viru/Documents/MP_I/data/captions_folders/beverages/keventers/gluttonygoddess_captions.xlsx\n",
      "Influencer: thegrubfest.xlsx\n",
      "Saved captions to /Users/viru/Documents/MP_I/data/captions_folders/beverages/keventers/thegrubfest_captions.xlsx\n",
      "Influencer: the_petuk_bangali.xlsx\n",
      "Saved captions to /Users/viru/Documents/MP_I/data/captions_folders/beverages/keventers/the_petuk_bangali_captions.xlsx\n",
      "Influencer: nafisa_asisa.xlsx\n",
      "Saved captions to /Users/viru/Documents/MP_I/data/captions_folders/beverages/keventers/nafisa_asisa_captions.xlsx\n",
      "Influencer: netflixnbinge.xlsx\n",
      "Saved captions to /Users/viru/Documents/MP_I/data/captions_folders/beverages/keventers/netflixnbinge_captions.xlsx\n",
      "Influencer: nikkgupta.xlsx\n",
      "Saved captions to /Users/viru/Documents/MP_I/data/captions_folders/beverages/keventers/nikkgupta_captions.xlsx\n",
      "Influencer: poetofvisuals.xlsx\n",
      "Saved captions to /Users/viru/Documents/MP_I/data/captions_folders/beverages/keventers/poetofvisuals_captions.xlsx\n",
      "Influencer: gokul_roy.xlsx\n",
      "Saved captions to /Users/viru/Documents/MP_I/data/captions_folders/beverages/keventers/gokul_roy_captions.xlsx\n",
      "Brand: sula_vineyards\n",
      "Influencer: sahilsarin.xlsx\n",
      "Saved captions to /Users/viru/Documents/MP_I/data/captions_folders/beverages/sula_vineyards/sahilsarin_captions.xlsx\n",
      "Influencer: crystalfighters.xlsx\n",
      "Saved captions to /Users/viru/Documents/MP_I/data/captions_folders/beverages/sula_vineyards/crystalfighters_captions.xlsx\n",
      "Influencer: bislerizone.xlsx\n",
      "Saved captions to /Users/viru/Documents/MP_I/data/captions_folders/beverages/sula_vineyards/bislerizone_captions.xlsx\n",
      "Influencer: imriyathomas.xlsx\n",
      "Saved captions to /Users/viru/Documents/MP_I/data/captions_folders/beverages/sula_vineyards/imriyathomas_captions.xlsx\n",
      "Influencer: wendellrodricks.xlsx\n",
      "Saved captions to /Users/viru/Documents/MP_I/data/captions_folders/beverages/sula_vineyards/wendellrodricks_captions.xlsx\n",
      "Influencer: divyagursahani.xlsx\n",
      "Saved captions to /Users/viru/Documents/MP_I/data/captions_folders/beverages/sula_vineyards/divyagursahani_captions.xlsx\n",
      "Influencer: aj.naik.xlsx\n",
      "Saved captions to /Users/viru/Documents/MP_I/data/captions_folders/beverages/sula_vineyards/aj.naik_captions.xlsx\n",
      "Influencer: bombaybhukkad.xlsx\n",
      "Saved captions to /Users/viru/Documents/MP_I/data/captions_folders/beverages/sula_vineyards/bombaybhukkad_captions.xlsx\n",
      "Influencer: mumbaifilmfestival.xlsx\n",
      "Saved captions to /Users/viru/Documents/MP_I/data/captions_folders/beverages/sula_vineyards/mumbaifilmfestival_captions.xlsx\n",
      "Influencer: ashish.s.mhatre.xlsx\n",
      "Saved captions to /Users/viru/Documents/MP_I/data/captions_folders/beverages/sula_vineyards/ashish.s.mhatre_captions.xlsx\n",
      "Influencer: thebeat.xlsx\n",
      "Saved captions to /Users/viru/Documents/MP_I/data/captions_folders/beverages/sula_vineyards/thebeat_captions.xlsx\n",
      "Influencer: kanaknanda.xlsx\n",
      "Saved captions to /Users/viru/Documents/MP_I/data/captions_folders/beverages/sula_vineyards/kanaknanda_captions.xlsx\n",
      "Brand: chaayos\n",
      "Influencer: the.gourmet.duo.xlsx\n",
      "Saved captions to /Users/viru/Documents/MP_I/data/captions_folders/beverages/chaayos/the.gourmet.duo_captions.xlsx\n",
      "Influencer: bud_ticklers.xlsx\n",
      "Saved captions to /Users/viru/Documents/MP_I/data/captions_folders/beverages/chaayos/bud_ticklers_captions.xlsx\n",
      "Influencer: chabarofficial.xlsx\n",
      "Saved captions to /Users/viru/Documents/MP_I/data/captions_folders/beverages/chaayos/chabarofficial_captions.xlsx\n",
      "Influencer: sopune.xlsx\n",
      "Saved captions to /Users/viru/Documents/MP_I/data/captions_folders/beverages/chaayos/sopune_captions.xlsx\n",
      "Influencer: puneetwashere.xlsx\n",
      "Saved captions to /Users/viru/Documents/MP_I/data/captions_folders/beverages/chaayos/puneetwashere_captions.xlsx\n",
      "Influencer: foodology_mumbai.xlsx\n",
      "Saved captions to /Users/viru/Documents/MP_I/data/captions_folders/beverages/chaayos/foodology_mumbai_captions.xlsx\n",
      "Influencer: niiveditaroy.xlsx\n",
      "Saved captions to /Users/viru/Documents/MP_I/data/captions_folders/beverages/chaayos/niiveditaroy_captions.xlsx\n",
      "Influencer: themillionthfoodie.xlsx\n",
      "Saved captions to /Users/viru/Documents/MP_I/data/captions_folders/beverages/chaayos/themillionthfoodie_captions.xlsx\n",
      "Influencer: bawaribasanti.xlsx\n",
      "Saved captions to /Users/viru/Documents/MP_I/data/captions_folders/beverages/chaayos/bawaribasanti_captions.xlsx\n",
      "Influencer: pooja_onegirlonejourney.xlsx\n",
      "Saved captions to /Users/viru/Documents/MP_I/data/captions_folders/beverages/chaayos/pooja_onegirlonejourney_captions.xlsx\n",
      "Influencer: yatradotcom.xlsx\n",
      "Saved captions to /Users/viru/Documents/MP_I/data/captions_folders/beverages/chaayos/yatradotcom_captions.xlsx\n",
      "Influencer: vaibhavi_k0023.xlsx\n",
      "Saved captions to /Users/viru/Documents/MP_I/data/captions_folders/beverages/chaayos/vaibhavi_k0023_captions.xlsx\n",
      "Brand: dunkinindia\n",
      "Influencer: piyushpuri12.xlsx\n",
      "Saved captions to /Users/viru/Documents/MP_I/data/captions_folders/beverages/dunkinindia/piyushpuri12_captions.xlsx\n",
      "Influencer: insta_maharashtra.xlsx\n",
      "Saved captions to /Users/viru/Documents/MP_I/data/captions_folders/beverages/dunkinindia/insta_maharashtra_captions.xlsx\n",
      "Influencer: thatthickthighwanderer.xlsx\n",
      "Saved captions to /Users/viru/Documents/MP_I/data/captions_folders/beverages/dunkinindia/thatthickthighwanderer_captions.xlsx\n",
      "Influencer: srinidhi_hebbur.xlsx\n",
      "Saved captions to /Users/viru/Documents/MP_I/data/captions_folders/beverages/dunkinindia/srinidhi_hebbur_captions.xlsx\n",
      "Influencer: tiwaripreety.xlsx\n",
      "Saved captions to /Users/viru/Documents/MP_I/data/captions_folders/beverages/dunkinindia/tiwaripreety_captions.xlsx\n",
      "Influencer: beauty.and.her.feast.xlsx\n",
      "Saved captions to /Users/viru/Documents/MP_I/data/captions_folders/beverages/dunkinindia/beauty.and.her.feast_captions.xlsx\n",
      "Influencer: meenakshi_arora11.xlsx\n",
      "Saved captions to /Users/viru/Documents/MP_I/data/captions_folders/beverages/dunkinindia/meenakshi_arora11_captions.xlsx\n",
      "Influencer: naiefkhatri.xlsx\n",
      "Saved captions to /Users/viru/Documents/MP_I/data/captions_folders/beverages/dunkinindia/naiefkhatri_captions.xlsx\n",
      "Influencer: kristi_kikon.xlsx\n",
      "Saved captions to /Users/viru/Documents/MP_I/data/captions_folders/beverages/dunkinindia/kristi_kikon_captions.xlsx\n",
      "Influencer: pavitra5.xlsx\n",
      "Saved captions to /Users/viru/Documents/MP_I/data/captions_folders/beverages/dunkinindia/pavitra5_captions.xlsx\n",
      "Influencer: shivanitanejaofficial.xlsx\n",
      "Saved captions to /Users/viru/Documents/MP_I/data/captions_folders/beverages/dunkinindia/shivanitanejaofficial_captions.xlsx\n",
      "Influencer: vaishnavi_dhondiyal.xlsx\n",
      "Saved captions to /Users/viru/Documents/MP_I/data/captions_folders/beverages/dunkinindia/vaishnavi_dhondiyal_captions.xlsx\n",
      "Brand: bluetokaicoffee\n",
      "Influencer: copperandcloves.xlsx\n",
      "Saved captions to /Users/viru/Documents/MP_I/data/captions_folders/beverages/bluetokaicoffee/copperandcloves_captions.xlsx\n",
      "Influencer: karlkolah.xlsx\n",
      "Saved captions to /Users/viru/Documents/MP_I/data/captions_folders/beverages/bluetokaicoffee/karlkolah_captions.xlsx\n",
      "Influencer: koffee.and.kolours.xlsx\n",
      "Saved captions to /Users/viru/Documents/MP_I/data/captions_folders/beverages/bluetokaicoffee/koffee.and.kolours_captions.xlsx\n",
      "Influencer: therapize.india.xlsx\n",
      "Saved captions to /Users/viru/Documents/MP_I/data/captions_folders/beverages/bluetokaicoffee/therapize.india_captions.xlsx\n",
      "Influencer: coldloveicecream.xlsx\n",
      "Saved captions to /Users/viru/Documents/MP_I/data/captions_folders/beverages/bluetokaicoffee/coldloveicecream_captions.xlsx\n",
      "Influencer: thewickedsoul.xlsx\n",
      "Saved captions to /Users/viru/Documents/MP_I/data/captions_folders/beverages/bluetokaicoffee/thewickedsoul_captions.xlsx\n",
      "Influencer: therapize.india - Copy.xlsx\n",
      "Saved captions to /Users/viru/Documents/MP_I/data/captions_folders/beverages/bluetokaicoffee/therapize.india - Copy_captions.xlsx\n",
      "Influencer: aarohimehra.xlsx\n",
      "Saved captions to /Users/viru/Documents/MP_I/data/captions_folders/beverages/bluetokaicoffee/aarohimehra_captions.xlsx\n",
      "Influencer: sourhouse_india.xlsx\n",
      "Saved captions to /Users/viru/Documents/MP_I/data/captions_folders/beverages/bluetokaicoffee/sourhouse_india_captions.xlsx\n",
      "Influencer: capilanohoney.xlsx\n",
      "Saved captions to /Users/viru/Documents/MP_I/data/captions_folders/beverages/bluetokaicoffee/capilanohoney_captions.xlsx\n",
      "Influencer: atulpinheiro.xlsx\n",
      "Saved captions to /Users/viru/Documents/MP_I/data/captions_folders/beverages/bluetokaicoffee/atulpinheiro_captions.xlsx\n",
      "Influencer: nazariya_bysakshi.xlsx\n",
      "Saved captions to /Users/viru/Documents/MP_I/data/captions_folders/beverages/bluetokaicoffee/nazariya_bysakshi_captions.xlsx\n",
      "Influencer: makersasylum.xlsx\n",
      "Saved captions to /Users/viru/Documents/MP_I/data/captions_folders/beverages/bluetokaicoffee/makersasylum_captions.xlsx\n",
      "Brand: jimmyscocktails\n",
      "Influencer: notonlyletters.xlsx\n",
      "Saved captions to /Users/viru/Documents/MP_I/data/captions_folders/beverages/jimmyscocktails/notonlyletters_captions.xlsx\n",
      "Influencer: tanmayjayaswal.xlsx\n",
      "Saved captions to /Users/viru/Documents/MP_I/data/captions_folders/beverages/jimmyscocktails/tanmayjayaswal_captions.xlsx\n",
      "Influencer: cocktailweekindia.xlsx\n",
      "Saved captions to /Users/viru/Documents/MP_I/data/captions_folders/beverages/jimmyscocktails/cocktailweekindia_captions.xlsx\n",
      "Influencer: louisburgerofficial.xlsx\n",
      "Saved captions to /Users/viru/Documents/MP_I/data/captions_folders/beverages/jimmyscocktails/louisburgerofficial_captions.xlsx\n",
      "Influencer: dharal_shah.xlsx\n",
      "Saved captions to /Users/viru/Documents/MP_I/data/captions_folders/beverages/jimmyscocktails/dharal_shah_captions.xlsx\n",
      "Influencer: kyoorius.xlsx\n",
      "Saved captions to /Users/viru/Documents/MP_I/data/captions_folders/beverages/jimmyscocktails/kyoorius_captions.xlsx\n",
      "Influencer: puneetwashere.xlsx\n",
      "Saved captions to /Users/viru/Documents/MP_I/data/captions_folders/beverages/jimmyscocktails/puneetwashere_captions.xlsx\n",
      "Influencer: greaterthangin.xlsx\n",
      "Saved captions to /Users/viru/Documents/MP_I/data/captions_folders/beverages/jimmyscocktails/greaterthangin_captions.xlsx\n",
      "Influencer: looksunisexsalon.xlsx\n",
      "Saved captions to /Users/viru/Documents/MP_I/data/captions_folders/beverages/jimmyscocktails/looksunisexsalon_captions.xlsx\n",
      "Influencer: dhruvsushilbarman.xlsx\n",
      "Saved captions to /Users/viru/Documents/MP_I/data/captions_folders/beverages/jimmyscocktails/dhruvsushilbarman_captions.xlsx\n",
      "Influencer: foodiee_globetrotter.xlsx\n",
      "Saved captions to /Users/viru/Documents/MP_I/data/captions_folders/beverages/jimmyscocktails/foodiee_globetrotter_captions.xlsx\n",
      "Influencer: the_stirring_soul.xlsx\n",
      "Saved captions to /Users/viru/Documents/MP_I/data/captions_folders/beverages/jimmyscocktails/the_stirring_soul_captions.xlsx\n",
      "Brand: bira91beer\n",
      "Influencer: figandmapledelhi.xlsx\n",
      "Saved captions to /Users/viru/Documents/MP_I/data/captions_folders/beverages/bira91beer/figandmapledelhi_captions.xlsx\n",
      "Influencer: foodiesumit.xlsx\n",
      "Saved captions to /Users/viru/Documents/MP_I/data/captions_folders/beverages/bira91beer/foodiesumit_captions.xlsx\n",
      "Influencer: exodrinks.xlsx\n",
      "Saved captions to /Users/viru/Documents/MP_I/data/captions_folders/beverages/bira91beer/exodrinks_captions.xlsx\n",
      "Influencer: dj_journey.xlsx\n",
      "Saved captions to /Users/viru/Documents/MP_I/data/captions_folders/beverages/bira91beer/dj_journey_captions.xlsx\n",
      "Influencer: bigbadwolfdotin.xlsx\n",
      "Saved captions to /Users/viru/Documents/MP_I/data/captions_folders/beverages/bira91beer/bigbadwolfdotin_captions.xlsx\n",
      "Influencer: brunchboys.xlsx\n",
      "Saved captions to /Users/viru/Documents/MP_I/data/captions_folders/beverages/bira91beer/brunchboys_captions.xlsx\n",
      "Influencer: bira91taproom.xlsx\n",
      "Saved captions to /Users/viru/Documents/MP_I/data/captions_folders/beverages/bira91beer/bira91taproom_captions.xlsx\n",
      "Influencer: silvertraq.xlsx\n",
      "Saved captions to /Users/viru/Documents/MP_I/data/captions_folders/beverages/bira91beer/silvertraq_captions.xlsx\n",
      "Influencer: lizclayman.xlsx\n",
      "Saved captions to /Users/viru/Documents/MP_I/data/captions_folders/beverages/bira91beer/lizclayman_captions.xlsx\n",
      "Influencer: tcsw10k.xlsx\n",
      "Saved captions to /Users/viru/Documents/MP_I/data/captions_folders/beverages/bira91beer/tcsw10k_captions.xlsx\n",
      "Influencer: nurtureindia.in.xlsx\n",
      "Saved captions to /Users/viru/Documents/MP_I/data/captions_folders/beverages/bira91beer/nurtureindia.in_captions.xlsx\n",
      "Influencer: tresdelhi.xlsx\n",
      "Saved captions to /Users/viru/Documents/MP_I/data/captions_folders/beverages/bira91beer/tresdelhi_captions.xlsx\n",
      "Brand: svamidrinks\n",
      "Influencer: figandmapledelhi.xlsx\n",
      "Saved captions to /Users/viru/Documents/MP_I/data/captions_folders/beverages/svamidrinks/figandmapledelhi_captions.xlsx\n",
      "Influencer: naturesbasket.xlsx\n",
      "Saved captions to /Users/viru/Documents/MP_I/data/captions_folders/beverages/svamidrinks/naturesbasket_captions.xlsx\n",
      "Influencer: pandoodle.xlsx\n",
      "Saved captions to /Users/viru/Documents/MP_I/data/captions_folders/beverages/svamidrinks/pandoodle_captions.xlsx\n",
      "Influencer: citadellegin.xlsx\n",
      "Saved captions to /Users/viru/Documents/MP_I/data/captions_folders/beverages/svamidrinks/citadellegin_captions.xlsx\n",
      "Influencer: bira91taproom.xlsx\n",
      "Saved captions to /Users/viru/Documents/MP_I/data/captions_folders/beverages/svamidrinks/bira91taproom_captions.xlsx\n",
      "Influencer: nonchalantgourmand.xlsx\n",
      "Saved captions to /Users/viru/Documents/MP_I/data/captions_folders/beverages/svamidrinks/nonchalantgourmand_captions.xlsx\n",
      "Influencer: bili.hu.coffees.xlsx\n",
      "Saved captions to /Users/viru/Documents/MP_I/data/captions_folders/beverages/svamidrinks/bili.hu.coffees_captions.xlsx\n",
      "Influencer: nrai_india.xlsx\n",
      "Saved captions to /Users/viru/Documents/MP_I/data/captions_folders/beverages/svamidrinks/nrai_india_captions.xlsx\n",
      "Influencer: perchinbombay.xlsx\n",
      "Saved captions to /Users/viru/Documents/MP_I/data/captions_folders/beverages/svamidrinks/perchinbombay_captions.xlsx\n",
      "Influencer: oldmonkkarnataka.xlsx\n",
      "Saved captions to /Users/viru/Documents/MP_I/data/captions_folders/beverages/svamidrinks/oldmonkkarnataka_captions.xlsx\n",
      "Influencer: greaterthangin.xlsx\n",
      "Saved captions to /Users/viru/Documents/MP_I/data/captions_folders/beverages/svamidrinks/greaterthangin_captions.xlsx\n",
      "Influencer: little_chefb.xlsx\n",
      "Saved captions to /Users/viru/Documents/MP_I/data/captions_folders/beverages/svamidrinks/little_chefb_captions.xlsx\n",
      "Influencer: asparkofmadness.xlsx\n",
      "Saved captions to /Users/viru/Documents/MP_I/data/captions_folders/beverages/svamidrinks/asparkofmadness_captions.xlsx\n",
      "Brand: pauljohnwhisky\n",
      "Influencer: thescotchtress.xlsx\n",
      "Saved captions to /Users/viru/Documents/MP_I/data/captions_folders/beverages/pauljohnwhisky/thescotchtress_captions.xlsx\n",
      "Influencer: barismercan.xlsx\n",
      "Saved captions to /Users/viru/Documents/MP_I/data/captions_folders/beverages/pauljohnwhisky/barismercan_captions.xlsx\n",
      "Influencer: livemintlounge.xlsx\n",
      "Saved captions to /Users/viru/Documents/MP_I/data/captions_folders/beverages/pauljohnwhisky/livemintlounge_captions.xlsx\n",
      "Influencer: theoldfashionedmonk.xlsx\n",
      "Saved captions to /Users/viru/Documents/MP_I/data/captions_folders/beverages/pauljohnwhisky/theoldfashionedmonk_captions.xlsx\n",
      "Influencer: discoveryourwhiskey.xlsx\n",
      "Saved captions to /Users/viru/Documents/MP_I/data/captions_folders/beverages/pauljohnwhisky/discoveryourwhiskey_captions.xlsx\n",
      "Influencer: dramvoyager.xlsx\n",
      "Saved captions to /Users/viru/Documents/MP_I/data/captions_folders/beverages/pauljohnwhisky/dramvoyager_captions.xlsx\n",
      "Influencer: cocoaamore.xlsx\n",
      "Saved captions to /Users/viru/Documents/MP_I/data/captions_folders/beverages/pauljohnwhisky/cocoaamore_captions.xlsx\n",
      "Influencer: asa_abraham.xlsx\n",
      "Saved captions to /Users/viru/Documents/MP_I/data/captions_folders/beverages/pauljohnwhisky/asa_abraham_captions.xlsx\n",
      "Influencer: chilledmagazine.xlsx\n",
      "Saved captions to /Users/viru/Documents/MP_I/data/captions_folders/beverages/pauljohnwhisky/chilledmagazine_captions.xlsx\n",
      "Influencer: renhotelbengaluru.xlsx\n",
      "Saved captions to /Users/viru/Documents/MP_I/data/captions_folders/beverages/pauljohnwhisky/renhotelbengaluru_captions.xlsx\n",
      "Influencer: chefsujans.xlsx\n",
      "Saved captions to /Users/viru/Documents/MP_I/data/captions_folders/beverages/pauljohnwhisky/chefsujans_captions.xlsx\n",
      "Influencer: thewhiskyclub.com.au.xlsx\n",
      "Saved captions to /Users/viru/Documents/MP_I/data/captions_folders/beverages/pauljohnwhisky/thewhiskyclub.com.au_captions.xlsx\n",
      "Brand: hapusagin\n",
      "Influencer: sipawards.xlsx\n",
      "Saved captions to /Users/viru/Documents/MP_I/data/captions_folders/beverages/hapusagin/sipawards_captions.xlsx\n",
      "Influencer: ruchi.rupramka.xlsx\n",
      "Saved captions to /Users/viru/Documents/MP_I/data/captions_folders/beverages/hapusagin/ruchi.rupramka_captions.xlsx\n",
      "Influencer: biergartenbangalore.xlsx\n",
      "Saved captions to /Users/viru/Documents/MP_I/data/captions_folders/beverages/hapusagin/biergartenbangalore_captions.xlsx\n",
      "Influencer: evebarldn.xlsx\n",
      "Saved captions to /Users/viru/Documents/MP_I/data/captions_folders/beverages/hapusagin/evebarldn_captions.xlsx\n",
      "Influencer: jiggerandponysg.xlsx\n",
      "Saved captions to /Users/viru/Documents/MP_I/data/captions_folders/beverages/hapusagin/jiggerandponysg_captions.xlsx\n",
      "Influencer: maybe_sammy_sydney.xlsx\n",
      "Saved captions to /Users/viru/Documents/MP_I/data/captions_folders/beverages/hapusagin/maybe_sammy_sydney_captions.xlsx\n",
      "Influencer: artesianbarlondon.xlsx\n",
      "Saved captions to /Users/viru/Documents/MP_I/data/captions_folders/beverages/hapusagin/artesianbarlondon_captions.xlsx\n",
      "Influencer: atlasbarsg.xlsx\n",
      "Saved captions to /Users/viru/Documents/MP_I/data/captions_folders/beverages/hapusagin/atlasbarsg_captions.xlsx\n",
      "Influencer: perchinbombay.xlsx\n",
      "Saved captions to /Users/viru/Documents/MP_I/data/captions_folders/beverages/hapusagin/perchinbombay_captions.xlsx\n",
      "Influencer: mapcha.studio.xlsx\n",
      "Saved captions to /Users/viru/Documents/MP_I/data/captions_folders/beverages/hapusagin/mapcha.studio_captions.xlsx\n",
      "Influencer: greaterthangin.xlsx\n",
      "Saved captions to /Users/viru/Documents/MP_I/data/captions_folders/beverages/hapusagin/greaterthangin_captions.xlsx\n",
      "Influencer: junipalooza.xlsx\n",
      "Saved captions to /Users/viru/Documents/MP_I/data/captions_folders/beverages/hapusagin/junipalooza_captions.xlsx\n",
      "Brand: oldmonkkarnataka\n",
      "Influencer: tropicanaindia.xlsx\n",
      "Saved captions to /Users/viru/Documents/MP_I/data/captions_folders/beverages/oldmonkkarnataka/tropicanaindia_captions.xlsx\n",
      "Influencer: aslamgafoor.xlsx\n",
      "Saved captions to /Users/viru/Documents/MP_I/data/captions_folders/beverages/oldmonkkarnataka/aslamgafoor_captions.xlsx\n",
      "Influencer: the.pixel.plate.xlsx\n",
      "Saved captions to /Users/viru/Documents/MP_I/data/captions_folders/beverages/oldmonkkarnataka/the.pixel.plate_captions.xlsx\n",
      "Influencer: romandian_mixology.xlsx\n",
      "Saved captions to /Users/viru/Documents/MP_I/data/captions_folders/beverages/oldmonkkarnataka/romandian_mixology_captions.xlsx\n",
      "Influencer: itcmaurya.xlsx\n",
      "Saved captions to /Users/viru/Documents/MP_I/data/captions_folders/beverages/oldmonkkarnataka/itcmaurya_captions.xlsx\n",
      "Influencer: hyattcentricblr.xlsx\n",
      "Saved captions to /Users/viru/Documents/MP_I/data/captions_folders/beverages/oldmonkkarnataka/hyattcentricblr_captions.xlsx\n",
      "Influencer: bombaybrasserie_in.xlsx\n",
      "Saved captions to /Users/viru/Documents/MP_I/data/captions_folders/beverages/oldmonkkarnataka/bombaybrasserie_in_captions.xlsx\n",
      "Influencer: djjasmeet.xlsx\n",
      "Saved captions to /Users/viru/Documents/MP_I/data/captions_folders/beverages/oldmonkkarnataka/djjasmeet_captions.xlsx\n",
      "Influencer: royal_fables.xlsx\n",
      "Saved captions to /Users/viru/Documents/MP_I/data/captions_folders/beverages/oldmonkkarnataka/royal_fables_captions.xlsx\n",
      "Influencer: indigoxpblr.xlsx\n",
      "Saved captions to /Users/viru/Documents/MP_I/data/captions_folders/beverages/oldmonkkarnataka/indigoxpblr_captions.xlsx\n",
      "Influencer: ubcity.bangalore.xlsx\n",
      "Saved captions to /Users/viru/Documents/MP_I/data/captions_folders/beverages/oldmonkkarnataka/ubcity.bangalore_captions.xlsx\n",
      "Brand: rampursinglemalt\n",
      "Influencer: maison_du_whisky_singapore.xlsx\n",
      "Saved captions to /Users/viru/Documents/MP_I/data/captions_folders/beverages/rampursinglemalt/maison_du_whisky_singapore_captions.xlsx\n",
      "Influencer: caskworld.xlsx\n",
      "Saved captions to /Users/viru/Documents/MP_I/data/captions_folders/beverages/rampursinglemalt/caskworld_captions.xlsx\n",
      "Influencer: massadaeyewear.xlsx\n",
      "Saved captions to /Users/viru/Documents/MP_I/data/captions_folders/beverages/rampursinglemalt/massadaeyewear_captions.xlsx\n",
      "Influencer: souschefuk.xlsx\n",
      "Saved captions to /Users/viru/Documents/MP_I/data/captions_folders/beverages/rampursinglemalt/souschefuk_captions.xlsx\n",
      "Influencer: whiskywithaview.xlsx\n",
      "Saved captions to /Users/viru/Documents/MP_I/data/captions_folders/beverages/rampursinglemalt/whiskywithaview_captions.xlsx\n",
      "Influencer: musaaferhouston.xlsx\n",
      "Saved captions to /Users/viru/Documents/MP_I/data/captions_folders/beverages/rampursinglemalt/musaaferhouston_captions.xlsx\n",
      "Influencer: chilledmagazine.xlsx\n",
      "Saved captions to /Users/viru/Documents/MP_I/data/captions_folders/beverages/rampursinglemalt/chilledmagazine_captions.xlsx\n",
      "Influencer: barkeepersilverlake.xlsx\n",
      "Saved captions to /Users/viru/Documents/MP_I/data/captions_folders/beverages/rampursinglemalt/barkeepersilverlake_captions.xlsx\n",
      "Influencer: thewhiskyclub.com.au.xlsx\n",
      "Saved captions to /Users/viru/Documents/MP_I/data/captions_folders/beverages/rampursinglemalt/thewhiskyclub.com.au_captions.xlsx\n",
      "Influencer: kyandkey.xlsx\n",
      "Saved captions to /Users/viru/Documents/MP_I/data/captions_folders/beverages/rampursinglemalt/kyandkey_captions.xlsx\n",
      "Influencer: prowein_tradefair.xlsx\n",
      "Saved captions to /Users/viru/Documents/MP_I/data/captions_folders/beverages/rampursinglemalt/prowein_tradefair_captions.xlsx\n",
      "Influencer: theglenallachie_.xlsx\n",
      "Saved captions to /Users/viru/Documents/MP_I/data/captions_folders/beverages/rampursinglemalt/theglenallachie__captions.xlsx\n",
      "Brand: mountaundewin\n",
      "Influencer: deepa_paralympian.xlsx\n",
      "Saved captions to /Users/viru/Documents/MP_I/data/captions_folders/beverages/mountaundewin/deepa_paralympian_captions.xlsx\n",
      "Influencer: esl_india.xlsx\n",
      "Saved captions to /Users/viru/Documents/MP_I/data/captions_folders/beverages/mountaundewin/esl_india_captions.xlsx\n",
      "Influencer: travtasy.xlsx\n",
      "Saved captions to /Users/viru/Documents/MP_I/data/captions_folders/beverages/mountaundewin/travtasy_captions.xlsx\n",
      "Influencer: bennettuniv.xlsx\n",
      "Saved captions to /Users/viru/Documents/MP_I/data/captions_folders/beverages/mountaundewin/bennettuniv_captions.xlsx\n",
      "Influencer: harithnoah8.xlsx\n",
      "Saved captions to /Users/viru/Documents/MP_I/data/captions_folders/beverages/mountaundewin/harithnoah8_captions.xlsx\n",
      "Influencer: delhischoolofphotography.xlsx\n",
      "Saved captions to /Users/viru/Documents/MP_I/data/captions_folders/beverages/mountaundewin/delhischoolofphotography_captions.xlsx\n",
      "Influencer: gaerneofficial.xlsx\n",
      "Saved captions to /Users/viru/Documents/MP_I/data/captions_folders/beverages/mountaundewin/gaerneofficial_captions.xlsx\n",
      "Influencer: lynnienoquez.xlsx\n",
      "Saved captions to /Users/viru/Documents/MP_I/data/captions_folders/beverages/mountaundewin/lynnienoquez_captions.xlsx\n",
      "Influencer: vootaslifan.xlsx\n",
      "Saved captions to /Users/viru/Documents/MP_I/data/captions_folders/beverages/mountaundewin/vootaslifan_captions.xlsx\n",
      "Influencer: banniukfpv.xlsx\n",
      "Saved captions to /Users/viru/Documents/MP_I/data/captions_folders/beverages/mountaundewin/banniukfpv_captions.xlsx\n",
      "Influencer: gdgoenkauniversity.xlsx\n",
      "Saved captions to /Users/viru/Documents/MP_I/data/captions_folders/beverages/mountaundewin/gdgoenkauniversity_captions.xlsx\n",
      "Influencer: chitkarau.xlsx\n",
      "Saved captions to /Users/viru/Documents/MP_I/data/captions_folders/beverages/mountaundewin/chitkarau_captions.xlsx\n"
     ]
    }
   ],
   "source": [
    "import re\n",
    "\n",
    "new_base_path = '/Users/viru/Documents/MP_I/data/captions_folders'\n",
    "categories = ['automobile', 'beverages']\n",
    "excel_folders_path = '/Users/viru/Documents/MP_I/data/excel_folders/'\n",
    "\n",
    "def remove_hashtags_and_mentions(captions):\n",
    "    cleaned_captions = []\n",
    "    for caption in captions:\n",
    "        if isinstance(caption, str):\n",
    "            # Remove hashtags and mentions using regex\n",
    "            cleaned_caption = re.sub(r'[@#]\\w+', '', caption)\n",
    "            # Remove extra whitespace\n",
    "            cleaned_caption = ' '.join(cleaned_caption.split())\n",
    "            cleaned_captions.append(cleaned_caption)\n",
    "        else:\n",
    "            cleaned_captions.append('')\n",
    "    return cleaned_captions\n",
    "\n",
    "for category, brands in influencer_list.items():\n",
    "    print(f\"Category: {category}\")\n",
    "    curr_category_path = os.path.join(excel_folders_path, category)\n",
    "\n",
    "    for brand, influencers in brands.items():\n",
    "        print(f\"Brand: {brand}\")\n",
    "        curr_brand_path = os.path.join(curr_category_path, brand)\n",
    "\n",
    "        for influencer in influencers:\n",
    "            if influencer != \".DS_Store\":\n",
    "                print(f\"Influencer: {influencer}\")\n",
    "                cur_influencer_path = os.path.join(curr_brand_path, influencer)\n",
    "                df = pd.read_excel(cur_influencer_path)\n",
    "                captions = df['caption'].iloc[:50]\n",
    "                captions.fillna('', inplace=True)\n",
    "                \n",
    "                captions = remove_hashtags_and_mentions(list(captions))\n",
    "\n",
    "                cap_df = pd.DataFrame(captions)\n",
    "\n",
    "                new_influencer_name = influencer.split('.xlsx')[0]\n",
    "\n",
    "                # Create the new path preserving the directory structure\n",
    "                new_category_path = os.path.join(new_base_path, category)\n",
    "                new_brand_path = os.path.join(new_category_path, brand)\n",
    "                new_influencer_path = os.path.join(new_brand_path, influencer)\n",
    "\n",
    "                # Ensure the directory exists\n",
    "                os.makedirs(new_brand_path, exist_ok=True)\n",
    "\n",
    "                # Save the captions to a new file\n",
    "                captions_file_path = os.path.join(new_brand_path, f\"{new_influencer_name}_captions.xlsx\")\n",
    "                cap_df.to_excel(captions_file_path, index=False, header=['caption'])\n",
    "\n",
    "                print(f\"Saved captions to {captions_file_path}\")"
   ]
  },
  {
   "cell_type": "markdown",
   "metadata": {},
   "source": [
    "### **Extracting Basic Text Features**"
   ]
  },
  {
   "cell_type": "code",
   "execution_count": 10,
   "metadata": {},
   "outputs": [],
   "source": [
    "def preprocess_text(caption):\n",
    "    # Remove punctuation, numbers, and special characters, keeping only words\n",
    "    caption = re.sub(r'[^a-zA-Z\\s]', '', caption)\n",
    "    # Convert to lowercase\n",
    "    caption = caption.lower()\n",
    "    # Remove extra whitespace\n",
    "    caption = ' '.join(caption.split())\n",
    "    return caption\n",
    "\n",
    "def countWords(caption):\n",
    "    wordList = caption.split(' ')\n",
    "    return len(wordList)\n",
    "\n",
    "def characterCount(caption):\n",
    "    text = caption.replace(\" \", \"\")\n",
    "    characters = [char for char in text]\n",
    "    return len(characters)\n",
    "\n",
    "def sentenceCount(caption):\n",
    "    # Using regular expression to split the caption into sentences\n",
    "    sentences = re.split(r'[.!?]', caption)\n",
    "\n",
    "    sentences = [sentence for sentence in sentences if sentence.strip()]\n",
    "\n",
    "    return len(sentences)\n",
    "\n",
    "def calculateAvgWordLen(caption):\n",
    "    wordList = caption.split(' ')\n",
    "    totalLen = 0\n",
    "    for word in wordList:\n",
    "        totalLen += len(word)\n",
    "    \n",
    "    return totalLen/len(wordList)\n",
    "\n",
    "def calculateAvgSentLen(caption):\n",
    "    sentences = re.split(r'[.!?]', caption)\n",
    "    wps = 0\n",
    "    for sentence in sentences:\n",
    "        if sentence.strip():\n",
    "            words = sentence.split()\n",
    "            wps += len(words)\n",
    "    \n",
    "    return wps/len(sentences)"
   ]
  },
  {
   "cell_type": "markdown",
   "metadata": {},
   "source": [
    "### **Extracting Lingustic Features**"
   ]
  },
  {
   "cell_type": "code",
   "execution_count": 20,
   "metadata": {},
   "outputs": [],
   "source": [
    "import spacy\n",
    "\n",
    "# Load the spaCy English language model\n",
    "nlp = spacy.load(\"en_core_web_sm\")\n",
    "\n",
    "def extract_pos_tags(caption):\n",
    "    # Process the caption\n",
    "    doc = nlp(caption)\n",
    "\n",
    "    # Extract the POS tags\n",
    "    pos_tags = [(token.text, token.pos_) for token in doc]\n",
    "\n",
    "    return pos_tags\n",
    "\n",
    "def extract_named_entity(caption):\n",
    "    # Process the caption\n",
    "    doc = nlp(caption)\n",
    "\n",
    "    # Extract named entities\n",
    "    entities = [(ent.text, ent.label_) for ent in doc.ents]\n",
    "\n",
    "    return entities\n",
    "\n",
    "def rearrangePosTags(captions):\n",
    "    tags = {}\n",
    "    for caption in captions:\n",
    "        for word, pos_tag in caption:\n",
    "            if pos_tag in tags:\n",
    "                tags[pos_tag] += 1\n",
    "            else:\n",
    "                tags[pos_tag] = 1\n",
    "    \n",
    "    return tags\n",
    "\n",
    "def rearrangeNamedEntityTags(captions):\n",
    "    tags = {}\n",
    "    for caption in captions:\n",
    "        for name, entity in caption:\n",
    "            if entity in tags:\n",
    "                tags[entity] += 1\n",
    "            else:\n",
    "                tags[entity] = 1\n",
    "    \n",
    "    return tags"
   ]
  },
  {
   "cell_type": "markdown",
   "metadata": {},
   "source": [
    "### **Extracting Semantic Features**"
   ]
  },
  {
   "cell_type": "code",
   "execution_count": 30,
   "metadata": {},
   "outputs": [],
   "source": [
    "from textblob import TextBlob\n",
    "\n",
    "def calculate_subjectivity(caption):\n",
    "    blob = TextBlob(caption)\n",
    "    subjectivity_scores = blob.sentiment.subjectivity\n",
    "\n",
    "    return subjectivity_scores"
   ]
  },
  {
   "cell_type": "markdown",
   "metadata": {},
   "source": [
    "### **Main Code**"
   ]
  },
  {
   "cell_type": "code",
   "execution_count": 23,
   "metadata": {},
   "outputs": [
    {
     "name": "stdout",
     "output_type": "stream",
     "text": [
      "Category: automobile\n",
      "Brand: skodaindia\n",
      "Influencer: madhura__balaji.xlsx\n",
      "0     0.800000\n",
      "1     0.000000\n",
      "2     0.600000\n",
      "3     0.000000\n",
      "4     0.000000\n",
      "5     0.590625\n",
      "6     0.000000\n",
      "7     0.000000\n",
      "8     0.000000\n",
      "9     0.625000\n",
      "10    0.000000\n",
      "11    0.354242\n",
      "12    0.000000\n",
      "13    0.000000\n",
      "14    0.000000\n",
      "15    0.000000\n",
      "16    0.500000\n",
      "17    0.460000\n",
      "18    0.000000\n",
      "19    0.000000\n",
      "20    0.500000\n",
      "21    0.594444\n",
      "22    0.486111\n",
      "23    0.000000\n",
      "24    0.000000\n",
      "25    0.250000\n",
      "26    0.371717\n",
      "27    1.000000\n",
      "28    0.000000\n",
      "29    0.000000\n",
      "30    0.000000\n",
      "32    1.000000\n",
      "33    0.441667\n",
      "34    0.000000\n",
      "35    0.522857\n",
      "36    0.000000\n",
      "37    0.000000\n",
      "38    0.000000\n",
      "39    0.000000\n",
      "40    0.000000\n",
      "42    0.000000\n",
      "43    0.000000\n",
      "44    0.766667\n",
      "45    0.000000\n",
      "46    0.000000\n",
      "47    0.000000\n",
      "48    0.000000\n",
      "49    0.000000\n",
      "Name: caption, dtype: float64\n"
     ]
    }
   ],
   "source": [
    "import re\n",
    "import os\n",
    "import numpy as np\n",
    "\n",
    "new_base_path = '/Users/viru/Documents/MP_I/data/captions_folders'\n",
    "categories = ['automobile', 'beverages']\n",
    "\n",
    "basic_features = []\n",
    "\n",
    "for category, brands in influencer_list.items():\n",
    "    print(f\"Category: {category}\")\n",
    "    curr_category_path = os.path.join(new_base_path, category)\n",
    "\n",
    "    for brand, influencers in brands.items():\n",
    "        print(f\"Brand: {brand}\")\n",
    "        curr_brand_path = os.path.join(curr_category_path, brand)\n",
    "\n",
    "        for influencer in influencers:\n",
    "            if influencer != \".DS_Store\":\n",
    "                print(f\"Influencer: {influencer}\")\n",
    "                newname = influencer.split('.xlsx')[0] + '_captions.xlsx'\n",
    "                cur_influencer_path = os.path.join(curr_brand_path, newname)\n",
    "                df = pd.read_excel(cur_influencer_path)\n",
    "                df = df.dropna(subset=['caption'])\n",
    "                preprocessedCaptions = df['caption'].apply(preprocess_text)\n",
    "\n",
    "                # COUNT NUMBER OF WORDS IN CAPTIONS\n",
    "                captionsWords = preprocessedCaptions.apply(countWords)\n",
    "\n",
    "                # COUNT NUMBER OF CHARACTERS IN CAPTIONS\n",
    "                captionsChars = preprocessedCaptions.apply(characterCount)\n",
    "\n",
    "                # COUNT NUMBER OF SENTENCES IN CAPTIONS\n",
    "                sentCount =  df['caption'].apply(sentenceCount)\n",
    "\n",
    "                # COUNT AVERAGE WORD LENGTHS\n",
    "                averageWordLen = preprocessedCaptions.apply(calculateAvgWordLen)\n",
    "\n",
    "                # COUNT AVERAGE SENTENCE LENGTH --> NUMBER OF WORD PER SENTENCE\n",
    "                averageSentLen = df['caption'].apply(calculateAvgSentLen)\n",
    "\n",
    "                # EXTRACT THE POS TAGS\n",
    "                pos_tags = df['caption'].apply(extract_pos_tags)\n",
    "\n",
    "                # EXTRACT NAME-ENTITY\n",
    "                named_entity_tags = preprocessedCaptions.apply(extract_named_entity)\n",
    "\n",
    "                top_50_cap_pos_tags = rearrangePosTags(pos_tags)\n",
    "                top_50_cap_named_entity_tags = rearrangeNamedEntityTags(named_entity_tags)\n",
    "\n",
    "                subjectivity_score = df['caption'].apply(calculate_subjectivity)\n",
    "\n",
    "                avgCapWords = captionsWords.mean()\n",
    "                avgCapChar = captionsChars.mean()\n",
    "                avgCapSentCount = sentCount.mean()\n",
    "                avgCapAvgWordLen = averageWordLen.mean()\n",
    "                avgCapAvgSentLen = averageSentLen.mean()\n",
    "                avgCapSubjScore = subjectivity_score.mean()\n",
    "\n",
    "                curr = {\n",
    "                    'Average Words': avgCapWords,\n",
    "                    'Average Characters': avgCapChar,\n",
    "                    'Average Sentence Count': sentCount,\n",
    "                    'Average Word Length': averageWordLen,\n",
    "                    'Average Sentence Length': averageSentLen,\n",
    "                    'Top 50 Captions Pos Tags': top_50_cap_pos_tags,\n",
    "                    'Top 50 Captions Named Entity Tags': top_50_cap_named_entity_tags,\n",
    "                    'Average Subjectivity Score': avgCapSubjScore\n",
    "                }\n",
    "\n",
    "                basic_features.append(curr)\n",
    "                \n",
    "            break\n",
    "        break\n",
    "    break"
   ]
  },
  {
   "cell_type": "code",
   "execution_count": 31,
   "metadata": {},
   "outputs": [
    {
     "name": "stdout",
     "output_type": "stream",
     "text": [
      "Category: automobile\n",
      "Brand: skodaindia\n",
      "Influencer: madhura__balaji.xlsx\n",
      "0                                             []\n",
      "1                                             []\n",
      "2                                 [(days, DATE)]\n",
      "3                                             []\n",
      "4                               [(suno, PERSON)]\n",
      "5                   [(munjane manjalli, PERSON)]\n",
      "6                        [(katchi sera, PERSON)]\n",
      "7                                             []\n",
      "8                                             []\n",
      "9                              [(one, CARDINAL)]\n",
      "10                                            []\n",
      "11                                            []\n",
      "12                   [(neeya pesiyadhu, PERSON)]\n",
      "13                                            []\n",
      "14                                            []\n",
      "15                                            []\n",
      "16                                            []\n",
      "17                                            []\n",
      "18               [(poi solla koodaadhu, PERSON)]\n",
      "19                                            []\n",
      "20                                            []\n",
      "21                                            []\n",
      "22                                            []\n",
      "23                                            []\n",
      "24                                            []\n",
      "25      [(one, CARDINAL), (as many weeks, DATE)]\n",
      "26               [(yaen, GPE), (pirindhai, GPE)]\n",
      "27                                            []\n",
      "28                                            []\n",
      "29                                            []\n",
      "30                                 [(mona, GPE)]\n",
      "32                                [(nokia, ORG)]\n",
      "33                                            []\n",
      "34    [(nenjam, PERSON), (ellam kadhal, PERSON)]\n",
      "35        [(mahadevan, PERSON), (october, DATE)]\n",
      "36                                            []\n",
      "37                             [(one, CARDINAL)]\n",
      "38                                            []\n",
      "39                                            []\n",
      "40                                            []\n",
      "42                                            []\n",
      "43                                            []\n",
      "44                                            []\n",
      "45                                            []\n",
      "46                               [(vandha, ORG)]\n",
      "47                       [(naan pizhai, PERSON)]\n",
      "48                             [(pilla, PERSON)]\n",
      "49                            [(railin, PERSON)]\n",
      "Name: caption, dtype: object\n"
     ]
    }
   ],
   "source": [
    "import re\n",
    "import os\n",
    "import numpy as np\n",
    "\n",
    "new_base_path = '/Users/viru/Documents/MP_I/data/captions_folders'\n",
    "categories = ['automobile', 'beverages']\n",
    "\n",
    "for category, brands in influencer_list.items():\n",
    "    print(f\"Category: {category}\")\n",
    "    curr_category_path = os.path.join(new_base_path, category)\n",
    "\n",
    "    for brand, influencers in brands.items():\n",
    "        print(f\"Brand: {brand}\")\n",
    "        curr_brand_path = os.path.join(curr_category_path, brand)\n",
    "\n",
    "        for influencer in influencers:\n",
    "            if influencer != \".DS_Store\":\n",
    "                print(f\"Influencer: {influencer}\")\n",
    "                newname = influencer.split('.xlsx')[0] + '_captions.xlsx'\n",
    "                cur_influencer_path = os.path.join(curr_brand_path, newname)\n",
    "                df = pd.read_excel(cur_influencer_path)\n",
    "                df = df.dropna(subset=['caption'])\n",
    "                preprocessedCaptions = df['caption'].apply(preprocess_text)\n",
    "\n",
    "                pos_tags = df['caption'].apply(extract_pos_tags)\n",
    "\n",
    "                named_entity_tags = preprocessedCaptions.apply(extract_named_entity)\n",
    "\n",
    "                \n",
    "            break\n",
    "        break\n",
    "    break"
   ]
  },
  {
   "cell_type": "code",
   "execution_count": null,
   "metadata": {},
   "outputs": [],
   "source": []
  }
 ],
 "metadata": {
  "kernelspec": {
   "display_name": "Python 3",
   "language": "python",
   "name": "python3"
  },
  "language_info": {
   "codemirror_mode": {
    "name": "ipython",
    "version": 3
   },
   "file_extension": ".py",
   "mimetype": "text/x-python",
   "name": "python",
   "nbconvert_exporter": "python",
   "pygments_lexer": "ipython3",
   "version": "3.11.8"
  }
 },
 "nbformat": 4,
 "nbformat_minor": 2
}
